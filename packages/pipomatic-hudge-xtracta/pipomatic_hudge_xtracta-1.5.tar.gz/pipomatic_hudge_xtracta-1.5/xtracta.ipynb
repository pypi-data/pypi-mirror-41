{
 "cells": [
  {
   "cell_type": "code",
   "execution_count": 1,
   "metadata": {},
   "outputs": [],
   "source": [
    "import json\n",
    "import os\n",
    "import re\n",
    "from pathlib import Path\n",
    "from typing import Any, Dict, List, Union  # From mypy library\n",
    "\n",
    "import numpy as np\n",
    "import pandas as pd\n",
    "import requests\n",
    "import xmltodict  # type: ignore\n",
    "from dotenv import find_dotenv, load_dotenv\n",
    "from jinja2 import Template\n",
    "from PIL import Image, ImageSequence  # type: ignore\n",
    "\n",
    "from pandas.api.types import is_datetime64_any_dtype, is_numeric_dtype, is_integer_dtype, is_object_dtype, is_string_dtype"
   ]
  },
  {
   "cell_type": "markdown",
   "metadata": {},
   "source": [
    "## Set up test environment"
   ]
  },
  {
   "cell_type": "code",
   "execution_count": 2,
   "metadata": {},
   "outputs": [],
   "source": [
    "number_of_rows = 100\n",
    "\n",
    "load_dotenv(find_dotenv())\n",
    "\n",
    "api_key = os.getenv('XTRACTA_API_KEY')\n",
    "database_id = os.getenv('XTRACTA_DATABASE_ID')\n",
    "header_workflow = os.getenv('XTRACTA_HEADER_ID')\n",
    "line_workflow = os.getenv('XTRACTA_LINE_ID')\n",
    "\n",
    "def delete_files(folder):\n",
    "    file_generator = folder.glob('**/*')\n",
    "    file_list = list(file_generator)\n",
    "    for file in file_list:\n",
    "        file.unlink()\n",
    "    return list(file_list)\n",
    "\n",
    "def move_files(samples_folder, file_to_copy, destination_folder):\n",
    "    (destination_folder / file_to_copy).write_bytes((samples_folder / file_to_copy).read_bytes())\n",
    "    return file_to_copy\n",
    "\n",
    "def convert_to_numeric_and_date(df, dayfirst=True):\n",
    "    for column in df.columns:\n",
    "        if is_object_dtype(df[column]) or is_string_dtype(df[column]):\n",
    "            try:\n",
    "                df[column] = pd.to_numeric(df[column], downcast='integer')\n",
    "            except:\n",
    "                try:\n",
    "                    df[column] = df[column].str.replace('$', '')\n",
    "                    df[column] = df[column].str.replace(',', '')\n",
    "                    df[column] = pd.to_numeric(df[column])\n",
    "                except:\n",
    "                    try:\n",
    "                        df[column] = pd.to_datetime(df[column], dayfirst=dayfirst)\n",
    "                    except:\n",
    "                        pass\n",
    "    return df\n",
    "\n",
    "\n",
    "def random_dates(start, end, seed=1, replace=True, number_of_rows=100):\n",
    "    dates = pd.date_range(start, end).to_series()\n",
    "    return dates.sample(number_of_rows, replace=replace, random_state=seed).index\n",
    "    \n",
    "    \n",
    "def dataframe_obfuscator(df, number_of_rows=100):\n",
    "    for column in df.columns:\n",
    "        if is_datetime64_any_dtype(df[column]):\n",
    "            df[column] = random_dates(min(df[column]),max(df[column]), seed=1)\n",
    "        elif is_integer_dtype(df[column]):\n",
    "            df[column] = df[column].fillna(0)\n",
    "            if min(df[column]) < max(df[column]):\n",
    "                df[column] = np.random.randint(min(df[column]),max(df[column]),size=(number_of_rows))\n",
    "            else:\n",
    "                df[column] = min(df[column])\n",
    "        elif is_numeric_dtype(df[column]):\n",
    "            df[column] = df[column].fillna(0)\n",
    "            df[column] = np.random.uniform(min(df[column]),max(df[column]),size=(number_of_rows))\n",
    "        else:\n",
    "            df[column] = 'random text'\n",
    "    return df\n",
    "\n",
    "\n",
    "def obfuscate_csv(data_file, dayfirst=True, number_of_rows=100):\n",
    "    df = pd.read_csv(data_file, nrows=number_of_rows)\n",
    "    df = convert_to_numeric_and_date(df)\n",
    "    df = dataframe_obfuscator(df)\n",
    "    df.to_csv(data_file, header=True, index=False)\n",
    "    return df\n",
    "\n",
    "\n",
    "def obfuscate_excel(data_file, dayfirst=True, number_of_rows=100):\n",
    "    df = pd.read_excel(data_file, nrows=number_of_rows)\n",
    "    display(df.head())\n",
    "    df = convert_to_numeric_and_date(df)\n",
    "    df = dataframe_obfuscator(df)\n",
    "    df.to_excel(data_file, header=True, index=False)\n",
    "    return df"
   ]
  },
  {
   "cell_type": "code",
   "execution_count": 3,
   "metadata": {
    "tags": [
     "build"
    ]
   },
   "outputs": [],
   "source": [
    "test_p = Path.cwd()\n",
    "test_dp = test_p / 'data'\n",
    "test_sp = test_p / 'test_samples'\n",
    "test_ip = test_p / 'input'\n",
    "test_op = test_p / 'output'\n",
    "test_jp = test_p / 'junk'\n",
    "test_lp = test_p / 'lines'"
   ]
  },
  {
   "cell_type": "code",
   "execution_count": 4,
   "metadata": {
    "tags": [
     "build"
    ]
   },
   "outputs": [
    {
     "data": {
      "text/plain": [
       "'20190131_invoice.pdf'"
      ]
     },
     "execution_count": 4,
     "metadata": {},
     "output_type": "execute_result"
    }
   ],
   "source": [
    "test_file = '20190131_invoice.pdf'\n",
    "\n",
    "delete_files(test_ip)\n",
    "delete_files(test_op)\n",
    "delete_files(test_lp)\n",
    "move_files(test_sp, test_file, test_ip)"
   ]
  },
  {
   "cell_type": "code",
   "execution_count": 5,
   "metadata": {
    "tags": [
     "build"
    ]
   },
   "outputs": [
    {
     "data": {
      "text/html": [
       "<div>\n",
       "<style scoped>\n",
       "    .dataframe tbody tr th:only-of-type {\n",
       "        vertical-align: middle;\n",
       "    }\n",
       "\n",
       "    .dataframe tbody tr th {\n",
       "        vertical-align: top;\n",
       "    }\n",
       "\n",
       "    .dataframe thead th {\n",
       "        text-align: right;\n",
       "    }\n",
       "</style>\n",
       "<table border=\"1\" class=\"dataframe\">\n",
       "  <thead>\n",
       "    <tr style=\"text-align: right;\">\n",
       "      <th></th>\n",
       "      <th>District Code</th>\n",
       "      <th>Purchase Order Number</th>\n",
       "      <th>Purchase Order Item Number</th>\n",
       "      <th>Warehouse ID</th>\n",
       "      <th>Item Description Detail</th>\n",
       "      <th>Date of Purchase Order</th>\n",
       "      <th>Current Due Date</th>\n",
       "      <th>Original QTY UOI</th>\n",
       "      <th>Current QTY UOI</th>\n",
       "      <th>Original Net Price UOI</th>\n",
       "      <th>...</th>\n",
       "      <th>Purchase Officer Name</th>\n",
       "      <th>Requested By ID</th>\n",
       "      <th>Requested By Name</th>\n",
       "      <th>Authorised By ID</th>\n",
       "      <th>Authorised By Name</th>\n",
       "      <th>Request by Pos</th>\n",
       "      <th>New  Requested</th>\n",
       "      <th>New Requested By</th>\n",
       "      <th>Unnamed: 35</th>\n",
       "      <th>Waiver Indicator</th>\n",
       "    </tr>\n",
       "  </thead>\n",
       "  <tbody>\n",
       "    <tr>\n",
       "      <th>0</th>\n",
       "      <td>random text</td>\n",
       "      <td>random text</td>\n",
       "      <td>1</td>\n",
       "      <td>random text</td>\n",
       "      <td>random text</td>\n",
       "      <td>2004-03-10</td>\n",
       "      <td>2018-03-11</td>\n",
       "      <td>0</td>\n",
       "      <td>0</td>\n",
       "      <td>6.491104e+06</td>\n",
       "      <td>...</td>\n",
       "      <td>random text</td>\n",
       "      <td>78202</td>\n",
       "      <td>random text</td>\n",
       "      <td>77024</td>\n",
       "      <td>random text</td>\n",
       "      <td>3589</td>\n",
       "      <td>74736.519189</td>\n",
       "      <td>random text</td>\n",
       "      <td>0</td>\n",
       "      <td>random text</td>\n",
       "    </tr>\n",
       "    <tr>\n",
       "      <th>1</th>\n",
       "      <td>random text</td>\n",
       "      <td>random text</td>\n",
       "      <td>1</td>\n",
       "      <td>random text</td>\n",
       "      <td>random text</td>\n",
       "      <td>2014-06-11</td>\n",
       "      <td>2004-09-18</td>\n",
       "      <td>0</td>\n",
       "      <td>0</td>\n",
       "      <td>8.679200e+06</td>\n",
       "      <td>...</td>\n",
       "      <td>random text</td>\n",
       "      <td>68862</td>\n",
       "      <td>random text</td>\n",
       "      <td>70172</td>\n",
       "      <td>random text</td>\n",
       "      <td>4188</td>\n",
       "      <td>51843.832059</td>\n",
       "      <td>random text</td>\n",
       "      <td>0</td>\n",
       "      <td>random text</td>\n",
       "    </tr>\n",
       "    <tr>\n",
       "      <th>2</th>\n",
       "      <td>random text</td>\n",
       "      <td>random text</td>\n",
       "      <td>1</td>\n",
       "      <td>random text</td>\n",
       "      <td>random text</td>\n",
       "      <td>2006-01-09</td>\n",
       "      <td>2014-12-20</td>\n",
       "      <td>0</td>\n",
       "      <td>0</td>\n",
       "      <td>4.842345e+06</td>\n",
       "      <td>...</td>\n",
       "      <td>random text</td>\n",
       "      <td>74320</td>\n",
       "      <td>random text</td>\n",
       "      <td>72947</td>\n",
       "      <td>random text</td>\n",
       "      <td>1698</td>\n",
       "      <td>76984.528703</td>\n",
       "      <td>random text</td>\n",
       "      <td>0</td>\n",
       "      <td>random text</td>\n",
       "    </tr>\n",
       "    <tr>\n",
       "      <th>3</th>\n",
       "      <td>random text</td>\n",
       "      <td>random text</td>\n",
       "      <td>1</td>\n",
       "      <td>random text</td>\n",
       "      <td>random text</td>\n",
       "      <td>2011-02-10</td>\n",
       "      <td>2018-04-15</td>\n",
       "      <td>0</td>\n",
       "      <td>0</td>\n",
       "      <td>1.710717e+06</td>\n",
       "      <td>...</td>\n",
       "      <td>random text</td>\n",
       "      <td>67547</td>\n",
       "      <td>random text</td>\n",
       "      <td>79324</td>\n",
       "      <td>random text</td>\n",
       "      <td>1818</td>\n",
       "      <td>51094.667632</td>\n",
       "      <td>random text</td>\n",
       "      <td>0</td>\n",
       "      <td>random text</td>\n",
       "    </tr>\n",
       "    <tr>\n",
       "      <th>4</th>\n",
       "      <td>random text</td>\n",
       "      <td>random text</td>\n",
       "      <td>1</td>\n",
       "      <td>random text</td>\n",
       "      <td>random text</td>\n",
       "      <td>2011-06-22</td>\n",
       "      <td>2006-07-20</td>\n",
       "      <td>0</td>\n",
       "      <td>0</td>\n",
       "      <td>6.859257e+06</td>\n",
       "      <td>...</td>\n",
       "      <td>random text</td>\n",
       "      <td>77710</td>\n",
       "      <td>random text</td>\n",
       "      <td>78016</td>\n",
       "      <td>random text</td>\n",
       "      <td>3595</td>\n",
       "      <td>77868.014697</td>\n",
       "      <td>random text</td>\n",
       "      <td>0</td>\n",
       "      <td>random text</td>\n",
       "    </tr>\n",
       "  </tbody>\n",
       "</table>\n",
       "<p>5 rows × 37 columns</p>\n",
       "</div>"
      ],
      "text/plain": [
       "  District Code Purchase Order Number  Purchase Order Item Number  \\\n",
       "0   random text           random text                           1   \n",
       "1   random text           random text                           1   \n",
       "2   random text           random text                           1   \n",
       "3   random text           random text                           1   \n",
       "4   random text           random text                           1   \n",
       "\n",
       "  Warehouse ID Item Description Detail Date of Purchase Order  \\\n",
       "0  random text             random text             2004-03-10   \n",
       "1  random text             random text             2014-06-11   \n",
       "2  random text             random text             2006-01-09   \n",
       "3  random text             random text             2011-02-10   \n",
       "4  random text             random text             2011-06-22   \n",
       "\n",
       "  Current Due Date  Original QTY UOI  Current QTY UOI  Original Net Price UOI  \\\n",
       "0       2018-03-11                 0                0            6.491104e+06   \n",
       "1       2004-09-18                 0                0            8.679200e+06   \n",
       "2       2014-12-20                 0                0            4.842345e+06   \n",
       "3       2018-04-15                 0                0            1.710717e+06   \n",
       "4       2006-07-20                 0                0            6.859257e+06   \n",
       "\n",
       "         ...         Purchase Officer Name  Requested By ID  \\\n",
       "0        ...                   random text            78202   \n",
       "1        ...                   random text            68862   \n",
       "2        ...                   random text            74320   \n",
       "3        ...                   random text            67547   \n",
       "4        ...                   random text            77710   \n",
       "\n",
       "   Requested By Name Authorised By ID Authorised By Name Request by Pos  \\\n",
       "0        random text            77024        random text           3589   \n",
       "1        random text            70172        random text           4188   \n",
       "2        random text            72947        random text           1698   \n",
       "3        random text            79324        random text           1818   \n",
       "4        random text            78016        random text           3595   \n",
       "\n",
       "  New  Requested  New Requested By  Unnamed: 35  Waiver Indicator  \n",
       "0   74736.519189       random text            0       random text  \n",
       "1   51843.832059       random text            0       random text  \n",
       "2   76984.528703       random text            0       random text  \n",
       "3   51094.667632       random text            0       random text  \n",
       "4   77868.014697       random text            0       random text  \n",
       "\n",
       "[5 rows x 37 columns]"
      ]
     },
     "metadata": {},
     "output_type": "display_data"
    },
    {
     "data": {
      "text/html": [
       "<div>\n",
       "<style scoped>\n",
       "    .dataframe tbody tr th:only-of-type {\n",
       "        vertical-align: middle;\n",
       "    }\n",
       "\n",
       "    .dataframe tbody tr th {\n",
       "        vertical-align: top;\n",
       "    }\n",
       "\n",
       "    .dataframe thead th {\n",
       "        text-align: right;\n",
       "    }\n",
       "</style>\n",
       "<table border=\"1\" class=\"dataframe\">\n",
       "  <thead>\n",
       "    <tr style=\"text-align: right;\">\n",
       "      <th></th>\n",
       "      <th>District Code</th>\n",
       "      <th>Purchase Order Number</th>\n",
       "      <th>Purchase Order Item Number</th>\n",
       "      <th>Warehouse ID</th>\n",
       "      <th>Item Description Detail</th>\n",
       "      <th>Date of Purchase Order</th>\n",
       "      <th>Current Due Date</th>\n",
       "      <th>Original QTY UOI</th>\n",
       "      <th>Current QTY UOI</th>\n",
       "      <th>Original Net Price UOI</th>\n",
       "      <th>...</th>\n",
       "      <th>Purchase Officer Name</th>\n",
       "      <th>Requested By ID</th>\n",
       "      <th>Requested By Name</th>\n",
       "      <th>Authorised By ID</th>\n",
       "      <th>Authorised By Name</th>\n",
       "      <th>Request by Pos</th>\n",
       "      <th>New  Requested</th>\n",
       "      <th>New Requested By</th>\n",
       "      <th>Unnamed: 35</th>\n",
       "      <th>Waiver Indicator</th>\n",
       "    </tr>\n",
       "  </thead>\n",
       "  <tbody>\n",
       "    <tr>\n",
       "      <th>0</th>\n",
       "      <td>random text</td>\n",
       "      <td>random text</td>\n",
       "      <td>1</td>\n",
       "      <td>random text</td>\n",
       "      <td>random text</td>\n",
       "      <td>2004-03-25</td>\n",
       "      <td>2018-03-26</td>\n",
       "      <td>0</td>\n",
       "      <td>0</td>\n",
       "      <td>4.376045e+06</td>\n",
       "      <td>...</td>\n",
       "      <td>random text</td>\n",
       "      <td>75376</td>\n",
       "      <td>random text</td>\n",
       "      <td>82468</td>\n",
       "      <td>random text</td>\n",
       "      <td>1341</td>\n",
       "      <td>74987.962448</td>\n",
       "      <td>random text</td>\n",
       "      <td>0</td>\n",
       "      <td>random text</td>\n",
       "    </tr>\n",
       "    <tr>\n",
       "      <th>1</th>\n",
       "      <td>random text</td>\n",
       "      <td>random text</td>\n",
       "      <td>1</td>\n",
       "      <td>random text</td>\n",
       "      <td>random text</td>\n",
       "      <td>2014-06-26</td>\n",
       "      <td>2004-10-03</td>\n",
       "      <td>0</td>\n",
       "      <td>0</td>\n",
       "      <td>2.052403e+06</td>\n",
       "      <td>...</td>\n",
       "      <td>random text</td>\n",
       "      <td>76744</td>\n",
       "      <td>random text</td>\n",
       "      <td>69648</td>\n",
       "      <td>random text</td>\n",
       "      <td>2367</td>\n",
       "      <td>30940.485275</td>\n",
       "      <td>random text</td>\n",
       "      <td>0</td>\n",
       "      <td>random text</td>\n",
       "    </tr>\n",
       "    <tr>\n",
       "      <th>2</th>\n",
       "      <td>random text</td>\n",
       "      <td>random text</td>\n",
       "      <td>1</td>\n",
       "      <td>random text</td>\n",
       "      <td>random text</td>\n",
       "      <td>2006-01-24</td>\n",
       "      <td>2015-01-04</td>\n",
       "      <td>0</td>\n",
       "      <td>0</td>\n",
       "      <td>9.667424e+06</td>\n",
       "      <td>...</td>\n",
       "      <td>random text</td>\n",
       "      <td>67138</td>\n",
       "      <td>random text</td>\n",
       "      <td>79816</td>\n",
       "      <td>random text</td>\n",
       "      <td>2036</td>\n",
       "      <td>12913.147772</td>\n",
       "      <td>random text</td>\n",
       "      <td>0</td>\n",
       "      <td>random text</td>\n",
       "    </tr>\n",
       "    <tr>\n",
       "      <th>3</th>\n",
       "      <td>random text</td>\n",
       "      <td>random text</td>\n",
       "      <td>1</td>\n",
       "      <td>random text</td>\n",
       "      <td>random text</td>\n",
       "      <td>2011-02-25</td>\n",
       "      <td>2018-04-30</td>\n",
       "      <td>0</td>\n",
       "      <td>0</td>\n",
       "      <td>1.010550e+07</td>\n",
       "      <td>...</td>\n",
       "      <td>random text</td>\n",
       "      <td>67674</td>\n",
       "      <td>random text</td>\n",
       "      <td>75500</td>\n",
       "      <td>random text</td>\n",
       "      <td>2243</td>\n",
       "      <td>46888.062599</td>\n",
       "      <td>random text</td>\n",
       "      <td>0</td>\n",
       "      <td>random text</td>\n",
       "    </tr>\n",
       "    <tr>\n",
       "      <th>4</th>\n",
       "      <td>random text</td>\n",
       "      <td>random text</td>\n",
       "      <td>1</td>\n",
       "      <td>random text</td>\n",
       "      <td>random text</td>\n",
       "      <td>2011-07-07</td>\n",
       "      <td>2006-08-04</td>\n",
       "      <td>0</td>\n",
       "      <td>0</td>\n",
       "      <td>9.234465e+06</td>\n",
       "      <td>...</td>\n",
       "      <td>random text</td>\n",
       "      <td>79500</td>\n",
       "      <td>random text</td>\n",
       "      <td>74527</td>\n",
       "      <td>random text</td>\n",
       "      <td>1262</td>\n",
       "      <td>56789.165260</td>\n",
       "      <td>random text</td>\n",
       "      <td>0</td>\n",
       "      <td>random text</td>\n",
       "    </tr>\n",
       "  </tbody>\n",
       "</table>\n",
       "<p>5 rows × 37 columns</p>\n",
       "</div>"
      ],
      "text/plain": [
       "  District Code Purchase Order Number  Purchase Order Item Number  \\\n",
       "0   random text           random text                           1   \n",
       "1   random text           random text                           1   \n",
       "2   random text           random text                           1   \n",
       "3   random text           random text                           1   \n",
       "4   random text           random text                           1   \n",
       "\n",
       "  Warehouse ID Item Description Detail Date of Purchase Order  \\\n",
       "0  random text             random text             2004-03-25   \n",
       "1  random text             random text             2014-06-26   \n",
       "2  random text             random text             2006-01-24   \n",
       "3  random text             random text             2011-02-25   \n",
       "4  random text             random text             2011-07-07   \n",
       "\n",
       "  Current Due Date  Original QTY UOI  Current QTY UOI  Original Net Price UOI  \\\n",
       "0       2018-03-26                 0                0            4.376045e+06   \n",
       "1       2004-10-03                 0                0            2.052403e+06   \n",
       "2       2015-01-04                 0                0            9.667424e+06   \n",
       "3       2018-04-30                 0                0            1.010550e+07   \n",
       "4       2006-08-04                 0                0            9.234465e+06   \n",
       "\n",
       "         ...         Purchase Officer Name  Requested By ID  \\\n",
       "0        ...                   random text            75376   \n",
       "1        ...                   random text            76744   \n",
       "2        ...                   random text            67138   \n",
       "3        ...                   random text            67674   \n",
       "4        ...                   random text            79500   \n",
       "\n",
       "   Requested By Name Authorised By ID Authorised By Name Request by Pos  \\\n",
       "0        random text            82468        random text           1341   \n",
       "1        random text            69648        random text           2367   \n",
       "2        random text            79816        random text           2036   \n",
       "3        random text            75500        random text           2243   \n",
       "4        random text            74527        random text           1262   \n",
       "\n",
       "  New  Requested  New Requested By  Unnamed: 35  Waiver Indicator  \n",
       "0   74987.962448       random text            0       random text  \n",
       "1   30940.485275       random text            0       random text  \n",
       "2   12913.147772       random text            0       random text  \n",
       "3   46888.062599       random text            0       random text  \n",
       "4   56789.165260       random text            0       random text  \n",
       "\n",
       "[5 rows x 37 columns]"
      ]
     },
     "execution_count": 5,
     "metadata": {},
     "output_type": "execute_result"
    }
   ],
   "source": [
    "df = obfuscate_excel(test_dp / 'Purchase Order Master Data' / 'SP004.xls')\n",
    "df.head(5)"
   ]
  },
  {
   "cell_type": "code",
   "execution_count": 6,
   "metadata": {
    "scrolled": true,
    "tags": [
     "build"
    ]
   },
   "outputs": [
    {
     "data": {
      "text/html": [
       "<div>\n",
       "<style scoped>\n",
       "    .dataframe tbody tr th:only-of-type {\n",
       "        vertical-align: middle;\n",
       "    }\n",
       "\n",
       "    .dataframe tbody tr th {\n",
       "        vertical-align: top;\n",
       "    }\n",
       "\n",
       "    .dataframe thead th {\n",
       "        text-align: right;\n",
       "    }\n",
       "</style>\n",
       "<table border=\"1\" class=\"dataframe\">\n",
       "  <thead>\n",
       "    <tr style=\"text-align: right;\">\n",
       "      <th></th>\n",
       "      <th>Purchase_Order_Number_Combined</th>\n",
       "      <th>District_Code</th>\n",
       "      <th>Warehouse_Identification</th>\n",
       "      <th>FPA_Group</th>\n",
       "      <th>FPA_Agreement_Number</th>\n",
       "      <th>FPA_Item_Number</th>\n",
       "      <th>Supplier_Price_Code1</th>\n",
       "      <th>UOI_Original_Quantity</th>\n",
       "      <th>UOI_Original_Net_Price1</th>\n",
       "      <th>UOI_Current_Quantity1</th>\n",
       "      <th>...</th>\n",
       "      <th>Total</th>\n",
       "      <th>Stock_Code</th>\n",
       "      <th>Item_Name_line</th>\n",
       "      <th>Stock_Description</th>\n",
       "      <th>Employee_Identification</th>\n",
       "      <th>FullName</th>\n",
       "      <th>Purchase_Order_Date</th>\n",
       "      <th>Supplier_Number</th>\n",
       "      <th>Supplier_Name</th>\n",
       "      <th>Item_Status_Code</th>\n",
       "    </tr>\n",
       "  </thead>\n",
       "  <tbody>\n",
       "    <tr>\n",
       "      <th>0</th>\n",
       "      <td>random text</td>\n",
       "      <td>random text</td>\n",
       "      <td>random text</td>\n",
       "      <td>random text</td>\n",
       "      <td>0.592755</td>\n",
       "      <td>258</td>\n",
       "      <td>random text</td>\n",
       "      <td>162.545474</td>\n",
       "      <td>2.719909e+06</td>\n",
       "      <td>411.342288</td>\n",
       "      <td>...</td>\n",
       "      <td>1863.071059</td>\n",
       "      <td>1.307289e+06</td>\n",
       "      <td>random text</td>\n",
       "      <td>random text</td>\n",
       "      <td>random text</td>\n",
       "      <td>random text</td>\n",
       "      <td>2014-10-26</td>\n",
       "      <td>random text</td>\n",
       "      <td>random text</td>\n",
       "      <td>1</td>\n",
       "    </tr>\n",
       "    <tr>\n",
       "      <th>1</th>\n",
       "      <td>random text</td>\n",
       "      <td>random text</td>\n",
       "      <td>random text</td>\n",
       "      <td>random text</td>\n",
       "      <td>0.880898</td>\n",
       "      <td>133</td>\n",
       "      <td>random text</td>\n",
       "      <td>331.093679</td>\n",
       "      <td>2.958159e+06</td>\n",
       "      <td>206.001962</td>\n",
       "      <td>...</td>\n",
       "      <td>1199.869461</td>\n",
       "      <td>4.799842e+05</td>\n",
       "      <td>random text</td>\n",
       "      <td>random text</td>\n",
       "      <td>random text</td>\n",
       "      <td>random text</td>\n",
       "      <td>2001-05-05</td>\n",
       "      <td>random text</td>\n",
       "      <td>random text</td>\n",
       "      <td>1</td>\n",
       "    </tr>\n",
       "    <tr>\n",
       "      <th>2</th>\n",
       "      <td>random text</td>\n",
       "      <td>random text</td>\n",
       "      <td>random text</td>\n",
       "      <td>random text</td>\n",
       "      <td>0.206622</td>\n",
       "      <td>119</td>\n",
       "      <td>random text</td>\n",
       "      <td>300.072629</td>\n",
       "      <td>6.052685e+06</td>\n",
       "      <td>284.818319</td>\n",
       "      <td>...</td>\n",
       "      <td>2696.810080</td>\n",
       "      <td>2.034239e+06</td>\n",
       "      <td>random text</td>\n",
       "      <td>random text</td>\n",
       "      <td>random text</td>\n",
       "      <td>random text</td>\n",
       "      <td>2011-08-06</td>\n",
       "      <td>random text</td>\n",
       "      <td>random text</td>\n",
       "      <td>1</td>\n",
       "    </tr>\n",
       "    <tr>\n",
       "      <th>3</th>\n",
       "      <td>random text</td>\n",
       "      <td>random text</td>\n",
       "      <td>random text</td>\n",
       "      <td>random text</td>\n",
       "      <td>0.693971</td>\n",
       "      <td>182</td>\n",
       "      <td>random text</td>\n",
       "      <td>410.838163</td>\n",
       "      <td>2.313641e+06</td>\n",
       "      <td>323.669329</td>\n",
       "      <td>...</td>\n",
       "      <td>3304.503022</td>\n",
       "      <td>1.009348e+06</td>\n",
       "      <td>random text</td>\n",
       "      <td>random text</td>\n",
       "      <td>random text</td>\n",
       "      <td>random text</td>\n",
       "      <td>2003-03-06</td>\n",
       "      <td>random text</td>\n",
       "      <td>random text</td>\n",
       "      <td>1</td>\n",
       "    </tr>\n",
       "    <tr>\n",
       "      <th>4</th>\n",
       "      <td>random text</td>\n",
       "      <td>random text</td>\n",
       "      <td>random text</td>\n",
       "      <td>random text</td>\n",
       "      <td>0.859946</td>\n",
       "      <td>40</td>\n",
       "      <td>random text</td>\n",
       "      <td>97.827652</td>\n",
       "      <td>1.256672e+06</td>\n",
       "      <td>372.690342</td>\n",
       "      <td>...</td>\n",
       "      <td>987.823371</td>\n",
       "      <td>2.702589e+06</td>\n",
       "      <td>random text</td>\n",
       "      <td>random text</td>\n",
       "      <td>random text</td>\n",
       "      <td>random text</td>\n",
       "      <td>2008-04-06</td>\n",
       "      <td>random text</td>\n",
       "      <td>random text</td>\n",
       "      <td>1</td>\n",
       "    </tr>\n",
       "  </tbody>\n",
       "</table>\n",
       "<p>5 rows × 21 columns</p>\n",
       "</div>"
      ],
      "text/plain": [
       "  Purchase_Order_Number_Combined District_Code Warehouse_Identification  \\\n",
       "0                    random text   random text              random text   \n",
       "1                    random text   random text              random text   \n",
       "2                    random text   random text              random text   \n",
       "3                    random text   random text              random text   \n",
       "4                    random text   random text              random text   \n",
       "\n",
       "     FPA_Group  FPA_Agreement_Number  FPA_Item_Number Supplier_Price_Code1  \\\n",
       "0  random text              0.592755              258          random text   \n",
       "1  random text              0.880898              133          random text   \n",
       "2  random text              0.206622              119          random text   \n",
       "3  random text              0.693971              182          random text   \n",
       "4  random text              0.859946               40          random text   \n",
       "\n",
       "   UOI_Original_Quantity  UOI_Original_Net_Price1  UOI_Current_Quantity1  \\\n",
       "0             162.545474             2.719909e+06             411.342288   \n",
       "1             331.093679             2.958159e+06             206.001962   \n",
       "2             300.072629             6.052685e+06             284.818319   \n",
       "3             410.838163             2.313641e+06             323.669329   \n",
       "4              97.827652             1.256672e+06             372.690342   \n",
       "\n",
       "        ...               Total    Stock_Code  Item_Name_line  \\\n",
       "0       ...         1863.071059  1.307289e+06     random text   \n",
       "1       ...         1199.869461  4.799842e+05     random text   \n",
       "2       ...         2696.810080  2.034239e+06     random text   \n",
       "3       ...         3304.503022  1.009348e+06     random text   \n",
       "4       ...          987.823371  2.702589e+06     random text   \n",
       "\n",
       "  Stock_Description Employee_Identification     FullName Purchase_Order_Date  \\\n",
       "0       random text             random text  random text          2014-10-26   \n",
       "1       random text             random text  random text          2001-05-05   \n",
       "2       random text             random text  random text          2011-08-06   \n",
       "3       random text             random text  random text          2003-03-06   \n",
       "4       random text             random text  random text          2008-04-06   \n",
       "\n",
       "  Supplier_Number Supplier_Name Item_Status_Code  \n",
       "0     random text   random text                1  \n",
       "1     random text   random text                1  \n",
       "2     random text   random text                1  \n",
       "3     random text   random text                1  \n",
       "4     random text   random text                1  \n",
       "\n",
       "[5 rows x 21 columns]"
      ]
     },
     "execution_count": 6,
     "metadata": {},
     "output_type": "execute_result"
    }
   ],
   "source": [
    "df = obfuscate_csv(test_dp / 'Stock PO Master Data' / 'SP005.csv')\n",
    "df.head()"
   ]
  },
  {
   "cell_type": "code",
   "execution_count": 7,
   "metadata": {
    "tags": [
     "build"
    ]
   },
   "outputs": [
    {
     "data": {
      "text/html": [
       "<div>\n",
       "<style scoped>\n",
       "    .dataframe tbody tr th:only-of-type {\n",
       "        vertical-align: middle;\n",
       "    }\n",
       "\n",
       "    .dataframe tbody tr th {\n",
       "        vertical-align: top;\n",
       "    }\n",
       "\n",
       "    .dataframe thead th {\n",
       "        text-align: right;\n",
       "    }\n",
       "</style>\n",
       "<table border=\"1\" class=\"dataframe\">\n",
       "  <thead>\n",
       "    <tr style=\"text-align: right;\">\n",
       "      <th></th>\n",
       "      <th>Supplier Number</th>\n",
       "      <th>Supplier Company Name</th>\n",
       "      <th>Address For Orders</th>\n",
       "      <th>Address For Invoices</th>\n",
       "      <th>Bank Account Name</th>\n",
       "      <th>ABN Number</th>\n",
       "      <th>Unnamed: 6</th>\n",
       "      <th>Unnamed: 7</th>\n",
       "      <th>Bank Account Number</th>\n",
       "      <th>Unnamed: 9</th>\n",
       "      <th>Branch Code</th>\n",
       "    </tr>\n",
       "  </thead>\n",
       "  <tbody>\n",
       "    <tr>\n",
       "      <th>0</th>\n",
       "      <td>11243</td>\n",
       "      <td>random text</td>\n",
       "      <td>random text</td>\n",
       "      <td>random text</td>\n",
       "      <td>random text</td>\n",
       "      <td>random text</td>\n",
       "      <td>0</td>\n",
       "      <td>0</td>\n",
       "      <td>4.287669e+08</td>\n",
       "      <td>0</td>\n",
       "      <td>random text</td>\n",
       "    </tr>\n",
       "    <tr>\n",
       "      <th>1</th>\n",
       "      <td>13485</td>\n",
       "      <td>random text</td>\n",
       "      <td>random text</td>\n",
       "      <td>random text</td>\n",
       "      <td>random text</td>\n",
       "      <td>random text</td>\n",
       "      <td>0</td>\n",
       "      <td>0</td>\n",
       "      <td>2.033458e+08</td>\n",
       "      <td>0</td>\n",
       "      <td>random text</td>\n",
       "    </tr>\n",
       "    <tr>\n",
       "      <th>2</th>\n",
       "      <td>8468</td>\n",
       "      <td>random text</td>\n",
       "      <td>random text</td>\n",
       "      <td>random text</td>\n",
       "      <td>random text</td>\n",
       "      <td>random text</td>\n",
       "      <td>0</td>\n",
       "      <td>0</td>\n",
       "      <td>3.790387e+08</td>\n",
       "      <td>0</td>\n",
       "      <td>random text</td>\n",
       "    </tr>\n",
       "    <tr>\n",
       "      <th>3</th>\n",
       "      <td>6298</td>\n",
       "      <td>random text</td>\n",
       "      <td>random text</td>\n",
       "      <td>random text</td>\n",
       "      <td>random text</td>\n",
       "      <td>random text</td>\n",
       "      <td>0</td>\n",
       "      <td>0</td>\n",
       "      <td>6.514757e+08</td>\n",
       "      <td>0</td>\n",
       "      <td>random text</td>\n",
       "    </tr>\n",
       "    <tr>\n",
       "      <th>4</th>\n",
       "      <td>2717</td>\n",
       "      <td>random text</td>\n",
       "      <td>random text</td>\n",
       "      <td>random text</td>\n",
       "      <td>random text</td>\n",
       "      <td>random text</td>\n",
       "      <td>0</td>\n",
       "      <td>0</td>\n",
       "      <td>2.767142e+08</td>\n",
       "      <td>0</td>\n",
       "      <td>random text</td>\n",
       "    </tr>\n",
       "  </tbody>\n",
       "</table>\n",
       "</div>"
      ],
      "text/plain": [
       "   Supplier Number Supplier Company Name Address For Orders  \\\n",
       "0            11243           random text        random text   \n",
       "1            13485           random text        random text   \n",
       "2             8468           random text        random text   \n",
       "3             6298           random text        random text   \n",
       "4             2717           random text        random text   \n",
       "\n",
       "  Address For Invoices Bank Account Name   ABN Number  Unnamed: 6  Unnamed: 7  \\\n",
       "0          random text       random text  random text           0           0   \n",
       "1          random text       random text  random text           0           0   \n",
       "2          random text       random text  random text           0           0   \n",
       "3          random text       random text  random text           0           0   \n",
       "4          random text       random text  random text           0           0   \n",
       "\n",
       "   Bank Account Number  Unnamed: 9  Branch Code  \n",
       "0         4.287669e+08           0  random text  \n",
       "1         2.033458e+08           0  random text  \n",
       "2         3.790387e+08           0  random text  \n",
       "3         6.514757e+08           0  random text  \n",
       "4         2.767142e+08           0  random text  "
      ]
     },
     "metadata": {},
     "output_type": "display_data"
    },
    {
     "data": {
      "text/html": [
       "<div>\n",
       "<style scoped>\n",
       "    .dataframe tbody tr th:only-of-type {\n",
       "        vertical-align: middle;\n",
       "    }\n",
       "\n",
       "    .dataframe tbody tr th {\n",
       "        vertical-align: top;\n",
       "    }\n",
       "\n",
       "    .dataframe thead th {\n",
       "        text-align: right;\n",
       "    }\n",
       "</style>\n",
       "<table border=\"1\" class=\"dataframe\">\n",
       "  <thead>\n",
       "    <tr style=\"text-align: right;\">\n",
       "      <th></th>\n",
       "      <th>Supplier Number</th>\n",
       "      <th>Supplier Company Name</th>\n",
       "      <th>Address For Orders</th>\n",
       "      <th>Address For Invoices</th>\n",
       "      <th>Bank Account Name</th>\n",
       "      <th>ABN Number</th>\n",
       "      <th>Unnamed: 6</th>\n",
       "      <th>Unnamed: 7</th>\n",
       "      <th>Bank Account Number</th>\n",
       "      <th>Unnamed: 9</th>\n",
       "      <th>Branch Code</th>\n",
       "    </tr>\n",
       "  </thead>\n",
       "  <tbody>\n",
       "    <tr>\n",
       "      <th>0</th>\n",
       "      <td>9122</td>\n",
       "      <td>random text</td>\n",
       "      <td>random text</td>\n",
       "      <td>random text</td>\n",
       "      <td>random text</td>\n",
       "      <td>random text</td>\n",
       "      <td>0</td>\n",
       "      <td>0</td>\n",
       "      <td>5.188683e+08</td>\n",
       "      <td>0</td>\n",
       "      <td>random text</td>\n",
       "    </tr>\n",
       "    <tr>\n",
       "      <th>1</th>\n",
       "      <td>3912</td>\n",
       "      <td>random text</td>\n",
       "      <td>random text</td>\n",
       "      <td>random text</td>\n",
       "      <td>random text</td>\n",
       "      <td>random text</td>\n",
       "      <td>0</td>\n",
       "      <td>0</td>\n",
       "      <td>4.871164e+08</td>\n",
       "      <td>0</td>\n",
       "      <td>random text</td>\n",
       "    </tr>\n",
       "    <tr>\n",
       "      <th>2</th>\n",
       "      <td>9589</td>\n",
       "      <td>random text</td>\n",
       "      <td>random text</td>\n",
       "      <td>random text</td>\n",
       "      <td>random text</td>\n",
       "      <td>random text</td>\n",
       "      <td>0</td>\n",
       "      <td>0</td>\n",
       "      <td>1.004975e+08</td>\n",
       "      <td>0</td>\n",
       "      <td>random text</td>\n",
       "    </tr>\n",
       "    <tr>\n",
       "      <th>3</th>\n",
       "      <td>4960</td>\n",
       "      <td>random text</td>\n",
       "      <td>random text</td>\n",
       "      <td>random text</td>\n",
       "      <td>random text</td>\n",
       "      <td>random text</td>\n",
       "      <td>0</td>\n",
       "      <td>0</td>\n",
       "      <td>5.884282e+08</td>\n",
       "      <td>0</td>\n",
       "      <td>random text</td>\n",
       "    </tr>\n",
       "    <tr>\n",
       "      <th>4</th>\n",
       "      <td>5666</td>\n",
       "      <td>random text</td>\n",
       "      <td>random text</td>\n",
       "      <td>random text</td>\n",
       "      <td>random text</td>\n",
       "      <td>random text</td>\n",
       "      <td>0</td>\n",
       "      <td>0</td>\n",
       "      <td>1.805070e+08</td>\n",
       "      <td>0</td>\n",
       "      <td>random text</td>\n",
       "    </tr>\n",
       "  </tbody>\n",
       "</table>\n",
       "</div>"
      ],
      "text/plain": [
       "   Supplier Number Supplier Company Name Address For Orders  \\\n",
       "0             9122           random text        random text   \n",
       "1             3912           random text        random text   \n",
       "2             9589           random text        random text   \n",
       "3             4960           random text        random text   \n",
       "4             5666           random text        random text   \n",
       "\n",
       "  Address For Invoices Bank Account Name   ABN Number  Unnamed: 6  Unnamed: 7  \\\n",
       "0          random text       random text  random text           0           0   \n",
       "1          random text       random text  random text           0           0   \n",
       "2          random text       random text  random text           0           0   \n",
       "3          random text       random text  random text           0           0   \n",
       "4          random text       random text  random text           0           0   \n",
       "\n",
       "   Bank Account Number  Unnamed: 9  Branch Code  \n",
       "0         5.188683e+08           0  random text  \n",
       "1         4.871164e+08           0  random text  \n",
       "2         1.004975e+08           0  random text  \n",
       "3         5.884282e+08           0  random text  \n",
       "4         1.805070e+08           0  random text  "
      ]
     },
     "execution_count": 7,
     "metadata": {},
     "output_type": "execute_result"
    }
   ],
   "source": [
    "df = obfuscate_excel(test_dp / 'Supplier Master Data' / 'SP001.xls')\n",
    "df.head(5)"
   ]
  },
  {
   "cell_type": "markdown",
   "metadata": {},
   "source": [
    "## Functions for interacting with Xtracta's API"
   ]
  },
  {
   "cell_type": "markdown",
   "metadata": {},
   "source": [
    "### Upload file\n",
    "\n",
    "Uploads a PDf or image file for extraction. The classifier field is used if you want to assign a specific classifier to the document rather than letting Xtracta make its own classification decision"
   ]
  },
  {
   "cell_type": "code",
   "execution_count": 8,
   "metadata": {},
   "outputs": [],
   "source": [
    "def upload_file(api_key, workflow_id, filename, classifier=\"\"):\n",
    "    classifier_xml = (\n",
    "        f'<field_data><field name=\"Classifier\">{classifier}</field></field_data>'\n",
    "    )\n",
    "    upload_url = \"https://api-app.xtracta.com/v1/documents/upload\"\n",
    "    file = {\"userfile\": open(filename, mode=\"rb\")}\n",
    "    data = {\n",
    "        \"api_key\": api_key,\n",
    "        \"workflow_id\": workflow_id,\n",
    "        \"field_data\": classifier_xml,\n",
    "    }\n",
    "    r = requests.post(upload_url, data=data, files=file)\n",
    "    if r.status_code != 200:\n",
    "        print(r.status_code)\n",
    "        return t.text\n",
    "    else:\n",
    "        response = xmltodict.parse(r.text)\n",
    "        return response[\"xml\"][\"document_id\"]"
   ]
  },
  {
   "cell_type": "code",
   "execution_count": 9,
   "metadata": {
    "tags": [
     "build"
    ]
   },
   "outputs": [
    {
     "data": {
      "text/plain": [
       "'99606933'"
      ]
     },
     "execution_count": 9,
     "metadata": {},
     "output_type": "execute_result"
    }
   ],
   "source": [
    "test_document_id = upload_file(api_key, header_workflow, test_ip / test_file)\n",
    "test_document_id"
   ]
  },
  {
   "cell_type": "code",
   "execution_count": 10,
   "metadata": {},
   "outputs": [],
   "source": [
    "def get_document(api_key: str, document_id: str):\n",
    "    \n",
    "    \"\"\"retrieves the full xml document from Xtracta and converts it to a dict\"\"\"\n",
    "    \n",
    "    documents_url = \"https://api-app.xtracta.com/v1/documents\"\n",
    "    data = {\"api_key\": api_key, \"document_id\": document_id}\n",
    "    try:\n",
    "        r = requests.post(documents_url, data=data)\n",
    "        response = xmltodict.parse(r.text)\n",
    "        return response\n",
    "    except Exception as e:\n",
    "        return e.args"
   ]
  },
  {
   "cell_type": "code",
   "execution_count": 11,
   "metadata": {
    "tags": [
     "build"
    ]
   },
   "outputs": [
    {
     "data": {
      "text/plain": [
       "OrderedDict([('documents_response',\n",
       "              OrderedDict([('status', '200'),\n",
       "                           ('message',\n",
       "                            'The request has been successfully processed'),\n",
       "                           ('document',\n",
       "                            OrderedDict([('@revision', '1'),\n",
       "                                         ('document_id', '99606933'),\n",
       "                                         ('document_status', 'pre-processing'),\n",
       "                                         ('api_download_status', 'active'),\n",
       "                                         ('free_form', None),\n",
       "                                         ('classification', None),\n",
       "                                         ('classification_class', None),\n",
       "                                         ('classification_design', None),\n",
       "                                         ('document_url',\n",
       "                                          'https://web1-akl.xtracta.com/akl_northcote_storage2_datasource4/1/93/19/iq204587316-jB5yJehe.pdf'),\n",
       "                                         ('field_data',\n",
       "                                          OrderedDict([('field',\n",
       "                                                        [OrderedDict([('field_id',\n",
       "                                                                       '38414885'),\n",
       "                                                                      ('field_name',\n",
       "                                                                       'supplier_abn'),\n",
       "                                                                      ('field_value',\n",
       "                                                                       None),\n",
       "                                                                      ('field_value_location',\n",
       "                                                                       None)]),\n",
       "                                                         OrderedDict([('field_id',\n",
       "                                                                       '38414886'),\n",
       "                                                                      ('field_name',\n",
       "                                                                       'supplier'),\n",
       "                                                                      ('field_value',\n",
       "                                                                       None),\n",
       "                                                                      ('field_value_location',\n",
       "                                                                       None)]),\n",
       "                                                         OrderedDict([('field_id',\n",
       "                                                                       '38414896'),\n",
       "                                                                      ('field_name',\n",
       "                                                                       'supplier_id'),\n",
       "                                                                      ('field_value',\n",
       "                                                                       None),\n",
       "                                                                      ('field_value_location',\n",
       "                                                                       None)]),\n",
       "                                                         OrderedDict([('field_id',\n",
       "                                                                       '38414878'),\n",
       "                                                                      ('field_name',\n",
       "                                                                       'invoice_number'),\n",
       "                                                                      ('field_value',\n",
       "                                                                       None),\n",
       "                                                                      ('field_value_location',\n",
       "                                                                       None)]),\n",
       "                                                         OrderedDict([('field_id',\n",
       "                                                                       '38414887'),\n",
       "                                                                      ('field_name',\n",
       "                                                                       'po_number'),\n",
       "                                                                      ('field_value',\n",
       "                                                                       None),\n",
       "                                                                      ('field_value_location',\n",
       "                                                                       None)]),\n",
       "                                                         OrderedDict([('field_id',\n",
       "                                                                       '38414907'),\n",
       "                                                                      ('field_name',\n",
       "                                                                       'line_count'),\n",
       "                                                                      ('field_value',\n",
       "                                                                       None),\n",
       "                                                                      ('field_value_location',\n",
       "                                                                       None)]),\n",
       "                                                         OrderedDict([('field_id',\n",
       "                                                                       '38414884'),\n",
       "                                                                      ('field_name',\n",
       "                                                                       'account_number'),\n",
       "                                                                      ('field_value',\n",
       "                                                                       None),\n",
       "                                                                      ('field_value_location',\n",
       "                                                                       None)]),\n",
       "                                                         OrderedDict([('field_id',\n",
       "                                                                       '38414879'),\n",
       "                                                                      ('field_name',\n",
       "                                                                       'invoice_date'),\n",
       "                                                                      ('field_value',\n",
       "                                                                       None),\n",
       "                                                                      ('field_value_location',\n",
       "                                                                       None)]),\n",
       "                                                         OrderedDict([('field_id',\n",
       "                                                                       '38414880'),\n",
       "                                                                      ('field_name',\n",
       "                                                                       'net_total'),\n",
       "                                                                      ('field_value',\n",
       "                                                                       '0.00'),\n",
       "                                                                      ('field_value_location',\n",
       "                                                                       None)]),\n",
       "                                                         OrderedDict([('field_id',\n",
       "                                                                       '38414881'),\n",
       "                                                                      ('field_name',\n",
       "                                                                       'gst_total'),\n",
       "                                                                      ('field_value',\n",
       "                                                                       None),\n",
       "                                                                      ('field_value_location',\n",
       "                                                                       None)]),\n",
       "                                                         OrderedDict([('field_id',\n",
       "                                                                       '38414882'),\n",
       "                                                                      ('field_name',\n",
       "                                                                       'gross_total'),\n",
       "                                                                      ('field_value',\n",
       "                                                                       None),\n",
       "                                                                      ('field_value_location',\n",
       "                                                                       None)]),\n",
       "                                                         OrderedDict([('field_id',\n",
       "                                                                       '38414897'),\n",
       "                                                                      ('field_name',\n",
       "                                                                       'freight'),\n",
       "                                                                      ('field_value',\n",
       "                                                                       '0.00'),\n",
       "                                                                      ('field_value_location',\n",
       "                                                                       None)]),\n",
       "                                                         OrderedDict([('field_id',\n",
       "                                                                       '38414888'),\n",
       "                                                                      ('field_name',\n",
       "                                                                       'bsb_number'),\n",
       "                                                                      ('field_value',\n",
       "                                                                       None),\n",
       "                                                                      ('field_value_location',\n",
       "                                                                       None)]),\n",
       "                                                         OrderedDict([('field_id',\n",
       "                                                                       '38414889'),\n",
       "                                                                      ('field_name',\n",
       "                                                                       'bank_account_number'),\n",
       "                                                                      ('field_value',\n",
       "                                                                       None),\n",
       "                                                                      ('field_value_location',\n",
       "                                                                       None)]),\n",
       "                                                         OrderedDict([('field_id',\n",
       "                                                                       '38414902'),\n",
       "                                                                      ('field_name',\n",
       "                                                                       'ok_to_process'),\n",
       "                                                                      ('field_value',\n",
       "                                                                       None),\n",
       "                                                                      ('field_value_location',\n",
       "                                                                       None)]),\n",
       "                                                         OrderedDict([('field_id',\n",
       "                                                                       '38414890'),\n",
       "                                                                      ('field_name',\n",
       "                                                                       'period_start_date'),\n",
       "                                                                      ('field_value',\n",
       "                                                                       None),\n",
       "                                                                      ('field_value_location',\n",
       "                                                                       None)]),\n",
       "                                                         OrderedDict([('field_id',\n",
       "                                                                       '38414891'),\n",
       "                                                                      ('field_name',\n",
       "                                                                       'period_end_date'),\n",
       "                                                                      ('field_value',\n",
       "                                                                       None),\n",
       "                                                                      ('field_value_location',\n",
       "                                                                       None)]),\n",
       "                                                         OrderedDict([('field_id',\n",
       "                                                                       '38414904'),\n",
       "                                                                      ('field_name',\n",
       "                                                                       'abn_from_db_by_po'),\n",
       "                                                                      ('field_value',\n",
       "                                                                       None),\n",
       "                                                                      ('field_value_location',\n",
       "                                                                       None)]),\n",
       "                                                         OrderedDict([('field_id',\n",
       "                                                                       '38414906'),\n",
       "                                                                      ('field_name',\n",
       "                                                                       'filename'),\n",
       "                                                                      ('field_value',\n",
       "                                                                       '20190131_invoice.pdf'),\n",
       "                                                                      ('field_value_location',\n",
       "                                                                       None)])])]))]))]))])"
      ]
     },
     "execution_count": 11,
     "metadata": {},
     "output_type": "execute_result"
    }
   ],
   "source": [
    "test_document = get_document(api_key, test_document_id)\n",
    "test_document"
   ]
  },
  {
   "cell_type": "code",
   "execution_count": 12,
   "metadata": {},
   "outputs": [],
   "source": [
    "def get_xtracta_status(\n",
    "    api_key: str,\n",
    "    workflow_id: str,\n",
    "    status: str,\n",
    "    api_download_status: str = \"active\",\n",
    "    detailed: int = 0,\n",
    "    documents_order: str = \"asc\",\n",
    ") -> list:\n",
    "    \"\"\"Returns a list of all Xtracta documents with a particular status\"\"\"\n",
    "    documents_url = \"https://api-app.xtracta.com/v1/documents\"\n",
    "    data = {\n",
    "        \"api_key\": api_key,\n",
    "        \"workflow_id\": workflow_id,\n",
    "        \"document_status\": status,\n",
    "        \"api_download_status\": api_download_status,\n",
    "        \"items_per_page\": 1000,\n",
    "        \"detailed\": detailed,\n",
    "        \"documents_order\": documents_order,\n",
    "    }\n",
    "    try:\n",
    "        r = requests.post(documents_url, data=data)\n",
    "        response = xmltodict.parse(r.text)\n",
    "    except Exception as e:\n",
    "        return [e.__str__]\n",
    "\n",
    "    try:\n",
    "        response_content = response[\"documents_response\"][\"document\"]\n",
    "        if type(response_content) == list:\n",
    "            return response_content\n",
    "        else:\n",
    "            return [response_content]\n",
    "    except Exception as e:\n",
    "        if type(e).__name__ == \"KeyError\":\n",
    "            return [f\"No {status} documents in queue\"]\n",
    "        else:\n",
    "            return [e]"
   ]
  },
  {
   "cell_type": "code",
   "execution_count": 13,
   "metadata": {
    "tags": [
     "build"
    ]
   },
   "outputs": [
    {
     "data": {
      "text/plain": [
       "[OrderedDict([('@revision', '2'),\n",
       "              ('document_id', '99585648'),\n",
       "              ('document_status', 'reject'),\n",
       "              ('number_of_pages', '1'),\n",
       "              ('api_download_status', 'active'),\n",
       "              ('free_form', None),\n",
       "              ('classification', 'full'),\n",
       "              ('classification_class', '1049514'),\n",
       "              ('classification_design', '0'),\n",
       "              ('rejection',\n",
       "               OrderedDict([('reason',\n",
       "                             [OrderedDict([('message',\n",
       "                                            'Value is not present in \"db_po_number\" column of the \"POs\" database'),\n",
       "                                           ('validation_rule',\n",
       "                                            OrderedDict([('type',\n",
       "                                                          'DATABASE_LIST')])),\n",
       "                                           ('linked_field',\n",
       "                                            OrderedDict([('field_id',\n",
       "                                                          '38414887')]))]),\n",
       "                              OrderedDict([('message',\n",
       "                                            'Invoice not marked as OK to Process'),\n",
       "                                           ('validation_rule',\n",
       "                                            OrderedDict([('type',\n",
       "                                                          'MATHS_CHECK')])),\n",
       "                                           ('linked_field',\n",
       "                                            OrderedDict([('field_id',\n",
       "                                                          '38414902')]))]),\n",
       "                              OrderedDict([('message',\n",
       "                                            'This field is required'),\n",
       "                                           ('validation_rule',\n",
       "                                            OrderedDict([('type',\n",
       "                                                          'REGEX_VALIDATION')])),\n",
       "                                           ('linked_field',\n",
       "                                            OrderedDict([('field_id',\n",
       "                                                          '38414885')]))]),\n",
       "                              OrderedDict([('message',\n",
       "                                            'This field is required'),\n",
       "                                           ('validation_rule',\n",
       "                                            OrderedDict([('type',\n",
       "                                                          'REGEX_VALIDATION')])),\n",
       "                                           ('linked_field',\n",
       "                                            OrderedDict([('field_id',\n",
       "                                                          '38414896')]))]),\n",
       "                              OrderedDict([('message',\n",
       "                                            'This field is required'),\n",
       "                                           ('validation_rule',\n",
       "                                            OrderedDict([('type',\n",
       "                                                          'REGEX_VALIDATION')])),\n",
       "                                           ('linked_field',\n",
       "                                            OrderedDict([('field_id',\n",
       "                                                          '38414904')]))])])]))])]"
      ]
     },
     "execution_count": 13,
     "metadata": {},
     "output_type": "execute_result"
    }
   ],
   "source": [
    "test_reject_list = get_xtracta_status(api_key, header_workflow, 'reject')\n",
    "test_reject_list"
   ]
  },
  {
   "cell_type": "code",
   "execution_count": 14,
   "metadata": {},
   "outputs": [],
   "source": [
    "def find_documents_to_skip(api_key, header_workflow):\n",
    "    \n",
    "    \"\"\"You only want to process documents that have data in the document body. \n",
    "    This function finds documents that are not in this state\"\"\"\n",
    "    \n",
    "    status_to_skip = ['reject', 'preprocessing', 'output-in-progress']\n",
    "    items_to_skip = []\n",
    "    for status in status_to_skip:\n",
    "        queue = get_xtracta_status(api_key, header_workflow, status)\n",
    "        for item in queue:\n",
    "            if item != f'No {status} documents in queue':\n",
    "                items_to_skip.append(item['document_id'])\n",
    "    return items_to_skip      "
   ]
  },
  {
   "cell_type": "code",
   "execution_count": 15,
   "metadata": {
    "tags": [
     "build"
    ]
   },
   "outputs": [
    {
     "data": {
      "text/plain": [
       "['99585648']"
      ]
     },
     "execution_count": 15,
     "metadata": {},
     "output_type": "execute_result"
    }
   ],
   "source": [
    "find_documents_to_skip(api_key, header_workflow)"
   ]
  },
  {
   "cell_type": "markdown",
   "metadata": {},
   "source": [
    "## Build the output dictionary from Xtracta data"
   ]
  },
  {
   "cell_type": "code",
   "execution_count": 16,
   "metadata": {},
   "outputs": [],
   "source": [
    "def create_output(document: Dict[Any, Any]) -> Dict[Any, Any]:\n",
    "    \"\"\"Returns a dictionary with document_id, status and version as top level values \n",
    "    and remaining fields as key value pairs in a header section\"\"\"\n",
    "    output = {}\n",
    "    header_dict = document[\"documents_response\"][\"document\"][\"field_data\"][\"field\"]\n",
    "    header = transform_dict(header_dict)\n",
    "    output[\"document_id\"] = document[\"documents_response\"][\"document\"][\"document_id\"]\n",
    "    output[\"status\"] = document[\"documents_response\"][\"document\"][\"document_status\"]\n",
    "    output[\"version\"] = document[\"documents_response\"][\"document\"][\"@revision\"]\n",
    "    output[\"header\"] = header\n",
    "    return output\n",
    "\n",
    "\n",
    "def transform_dict(start_dict):\n",
    "    end_dict = {}\n",
    "    for item in start_dict:\n",
    "        end_dict[item[\"field_name\"]] = item[\"field_value\"]\n",
    "    return end_dict"
   ]
  },
  {
   "cell_type": "code",
   "execution_count": 17,
   "metadata": {
    "tags": [
     "build"
    ]
   },
   "outputs": [
    {
     "data": {
      "text/plain": [
       "{'document_id': '99606933',\n",
       " 'status': 'pre-processing',\n",
       " 'version': '1',\n",
       " 'header': {'supplier_abn': None,\n",
       "  'supplier': None,\n",
       "  'supplier_id': None,\n",
       "  'invoice_number': None,\n",
       "  'po_number': None,\n",
       "  'line_count': None,\n",
       "  'account_number': None,\n",
       "  'invoice_date': None,\n",
       "  'net_total': '0.00',\n",
       "  'gst_total': None,\n",
       "  'gross_total': None,\n",
       "  'freight': '0.00',\n",
       "  'bsb_number': None,\n",
       "  'bank_account_number': None,\n",
       "  'ok_to_process': None,\n",
       "  'period_start_date': None,\n",
       "  'period_end_date': None,\n",
       "  'abn_from_db_by_po': None,\n",
       "  'filename': '20190131_invoice.pdf'}}"
      ]
     },
     "execution_count": 17,
     "metadata": {},
     "output_type": "execute_result"
    }
   ],
   "source": [
    "test_document = get_document(api_key, test_document_id)\n",
    "test_output = create_output(test_document)\n",
    "test_output"
   ]
  },
  {
   "cell_type": "code",
   "execution_count": 18,
   "metadata": {},
   "outputs": [],
   "source": [
    "def get_documents_wo_json(folder):\n",
    "    json_files = []\n",
    "    pdfs = []\n",
    "    json_list = list(folder.glob(\"*.json\"))\n",
    "    pdf_list = list(folder.glob(\"*.pdf\"))\n",
    "    for file in json_list:\n",
    "        json_files.append(file.stem)\n",
    "    for pdf in pdf_list:\n",
    "        pdfs.append(pdf.stem)\n",
    "    new_documents = list(set(pdfs) - set(json_files))\n",
    "    return new_documents"
   ]
  },
  {
   "cell_type": "code",
   "execution_count": 19,
   "metadata": {
    "tags": [
     "build"
    ]
   },
   "outputs": [
    {
     "data": {
      "text/plain": [
       "['20190131_invoice']"
      ]
     },
     "execution_count": 19,
     "metadata": {},
     "output_type": "execute_result"
    }
   ],
   "source": [
    "get_documents_wo_json(test_ip)"
   ]
  },
  {
   "cell_type": "code",
   "execution_count": 20,
   "metadata": {},
   "outputs": [],
   "source": [
    "def open_document_ui(api_key: str, document_id: str) -> str:\n",
    "    \"\"\"Opens the Xtracta UI to fix and train documents\"\"\"\n",
    "    documents_url = \"https://api-app.xtracta.com/v1/documents/ui\"\n",
    "    data = {\n",
    "        \"api_key\": api_key,\n",
    "        \"document_id\": int(document_id),\n",
    "        \"buttons\": \"output,archive\",\n",
    "        \"no_lockout\": 1,\n",
    "        \"expire\": 86400,\n",
    "    }\n",
    "    r = requests.post(documents_url, data=data)\n",
    "    response = xmltodict.parse(r.text)\n",
    "    return response[\"documents_response\"][\"url\"]"
   ]
  },
  {
   "cell_type": "code",
   "execution_count": 21,
   "metadata": {
    "tags": [
     "build"
    ]
   },
   "outputs": [
    {
     "data": {
      "text/plain": [
       "{'document_id': '99606933',\n",
       " 'status': 'pre-processing',\n",
       " 'version': '1',\n",
       " 'header': {'supplier_abn': None,\n",
       "  'supplier': None,\n",
       "  'supplier_id': None,\n",
       "  'invoice_number': None,\n",
       "  'po_number': None,\n",
       "  'line_count': None,\n",
       "  'account_number': None,\n",
       "  'invoice_date': None,\n",
       "  'net_total': '0.00',\n",
       "  'gst_total': None,\n",
       "  'gross_total': None,\n",
       "  'freight': '0.00',\n",
       "  'bsb_number': None,\n",
       "  'bank_account_number': None,\n",
       "  'ok_to_process': None,\n",
       "  'period_start_date': None,\n",
       "  'period_end_date': None,\n",
       "  'abn_from_db_by_po': None,\n",
       "  'filename': '20190131_invoice.pdf'}}"
      ]
     },
     "metadata": {},
     "output_type": "display_data"
    }
   ],
   "source": [
    "test_document = get_document(api_key, test_document_id)\n",
    "test_output = create_output(test_document)\n",
    "display(test_output)\n",
    "if test_output['status'] in ['reject', 'output']:\n",
    "    display(open_document_ui(api_key, test_document_id))"
   ]
  },
  {
   "cell_type": "code",
   "execution_count": 22,
   "metadata": {},
   "outputs": [],
   "source": [
    "def update_document(\n",
    "    api_key: str, document_id: str, delete: int = 0, api_download_status: str = \"active\"\n",
    ") -> Dict[str, str]:\n",
    "    \"\"\"Updates document on Xtracta\"\"\"\n",
    "    documents_url = \"https://api-app.xtracta.com/v1/documents/update\"\n",
    "    data = {\n",
    "        \"api_key\": api_key,\n",
    "        \"document_id\": int(document_id),\n",
    "        \"delete\": delete,\n",
    "        \"api_download_status\": api_download_status,\n",
    "    }\n",
    "    r = requests.post(documents_url, data=data)\n",
    "    response = xmltodict.parse(r.text)\n",
    "    return response[\"documents_response\"]"
   ]
  },
  {
   "cell_type": "code",
   "execution_count": 23,
   "metadata": {
    "tags": [
     "build"
    ]
   },
   "outputs": [
    {
     "data": {
      "text/plain": [
       "OrderedDict([('status', '200'),\n",
       "             ('message', 'The request has been successfully processed')])"
      ]
     },
     "execution_count": 23,
     "metadata": {},
     "output_type": "execute_result"
    }
   ],
   "source": [
    "update_document(api_key, test_document_id, api_download_status='active')"
   ]
  },
  {
   "cell_type": "code",
   "execution_count": 24,
   "metadata": {},
   "outputs": [],
   "source": [
    "def get_lines(document):\n",
    "    lines_dict = document['documents_response']['document']['field_data']['field_set']['row']\n",
    "    lines = []\n",
    "    if len(lines_dict) > 1:\n",
    "        for line_dict in lines_dict:\n",
    "            line = transform_dict(line_dict['field'])\n",
    "            lines.append(line)\n",
    "    else:\n",
    "        line = transform_dict(lines_dict['field'])\n",
    "        lines.append(line)\n",
    "    return lines"
   ]
  },
  {
   "cell_type": "code",
   "execution_count": 25,
   "metadata": {
    "tags": [
     "build"
    ]
   },
   "outputs": [
    {
     "data": {
      "text/plain": [
       "[{'po_item': None, 'description': None, 'qty': None, 'total': None}]"
      ]
     },
     "execution_count": 25,
     "metadata": {},
     "output_type": "execute_result"
    }
   ],
   "source": [
    "test_line_document_id = upload_file(api_key, line_workflow, test_ip / test_file)\n",
    "test_line_document = get_document(api_key, test_line_document_id)\n",
    "test_lines = get_lines(test_line_document)\n",
    "test_lines"
   ]
  },
  {
   "cell_type": "markdown",
   "metadata": {},
   "source": [
    "## Build output once in output status"
   ]
  },
  {
   "cell_type": "code",
   "execution_count": 26,
   "metadata": {},
   "outputs": [],
   "source": [
    "def build_out_output(document, output):\n",
    "    output['stem'] = output['header']['filename'].split('.')[0]\n",
    "    output['new_filename'] = f\"{output['header']['supplier_id']}-{output['header']['invoice_number']}\"\n",
    "    output['header']['emaildate'] = get_email_date(output['stem'])\n",
    "    output['document_url'] = document['documents_response']['document']['document_url']\n",
    "    output['image_urls'] = get_image_urls(document['documents_response']['document']['image_url'])\n",
    "    return output\n",
    "\n",
    "def get_email_date(stem):\n",
    "    year = stem[:4]\n",
    "    month = stem[4:6]\n",
    "    day = stem[6:8]\n",
    "    return f\"{year}-{month}-{day}\"\n",
    "\n",
    "def get_image_urls(image_urls):\n",
    "    if type(image_urls) != list:\n",
    "        image_urls = [image_urls]\n",
    "    return image_urls"
   ]
  },
  {
   "cell_type": "code",
   "execution_count": 45,
   "metadata": {
    "tags": [
     "build"
    ]
   },
   "outputs": [
    {
     "data": {
      "text/plain": [
       "{'document_id': '99606933',\n",
       " 'status': 'reject',\n",
       " 'version': '2',\n",
       " 'header': {'supplier_abn': None,\n",
       "  'supplier': None,\n",
       "  'supplier_id': None,\n",
       "  'invoice_number': 'INV-3337',\n",
       "  'po_number': '12345',\n",
       "  'line_count': None,\n",
       "  'account_number': None,\n",
       "  'invoice_date': '2016-01-25',\n",
       "  'net_total': '85.00',\n",
       "  'gst_total': '8.50',\n",
       "  'gross_total': '93.50',\n",
       "  'freight': '0.00',\n",
       "  'bsb_number': '4321432',\n",
       "  'bank_account_number': '12341234',\n",
       "  'ok_to_process': '0',\n",
       "  'period_start_date': None,\n",
       "  'period_end_date': None,\n",
       "  'abn_from_db_by_po': None,\n",
       "  'filename': '20190131_invoice.pdf',\n",
       "  'emaildate': '2019-01-31'},\n",
       " 'stem': '20190131_invoice',\n",
       " 'new_filename': 'None-INV-3337',\n",
       " 'document_url': 'https://web1-akl.xtracta.com/akl_northcote_storage2_datasource4/1/93/19/iq204587316-jB5yJehe.pdf',\n",
       " 'image_urls': ['https://web1-akl.xtracta.com/akl_northcote_storage2_datasource4/1/24/e5/ds99606933-iq204587316-jB5yJehe7808-1-800.jpg']}"
      ]
     },
     "execution_count": 45,
     "metadata": {},
     "output_type": "execute_result"
    }
   ],
   "source": [
    "test_document = get_document(api_key, test_document_id)\n",
    "test_output = create_output(test_document)\n",
    "full_test_output = build_out_output(test_document, test_output)\n",
    "full_test_output"
   ]
  },
  {
   "cell_type": "markdown",
   "metadata": {},
   "source": [
    "## Pull company name and location from filename"
   ]
  },
  {
   "cell_type": "code",
   "execution_count": 46,
   "metadata": {},
   "outputs": [],
   "source": [
    "def add_company_location(output):\n",
    "    company_extract = re.compile(r'.*\\[<<(.*)>>\\].*')\n",
    "    company_location = company_extract.match(output['header']['email_subject'])[1]\n",
    "    try:\n",
    "        output['company'], output['location'] = company_location.split('-')\n",
    "    except:\n",
    "        output['company'] = company_location\n",
    "        output['location'] = 'NA'\n",
    "    return output"
   ]
  },
  {
   "cell_type": "code",
   "execution_count": 47,
   "metadata": {
    "tags": [
     "build"
    ]
   },
   "outputs": [
    {
     "data": {
      "text/plain": [
       "{'document_id': '99606933',\n",
       " 'status': 'reject',\n",
       " 'version': '2',\n",
       " 'header': {'supplier_abn': None,\n",
       "  'supplier': None,\n",
       "  'supplier_id': None,\n",
       "  'invoice_number': 'INV-3337',\n",
       "  'po_number': '12345',\n",
       "  'line_count': None,\n",
       "  'account_number': None,\n",
       "  'invoice_date': '2016-01-25',\n",
       "  'net_total': '85.00',\n",
       "  'gst_total': '8.50',\n",
       "  'gross_total': '93.50',\n",
       "  'freight': '0.00',\n",
       "  'bsb_number': '4321432',\n",
       "  'bank_account_number': '12341234',\n",
       "  'ok_to_process': '0',\n",
       "  'period_start_date': None,\n",
       "  'period_end_date': None,\n",
       "  'abn_from_db_by_po': None,\n",
       "  'filename': '20190131_invoice.pdf',\n",
       "  'emaildate': '2019-01-31',\n",
       "  'email_subject': '234 [<<ABC-123>>] Here is a subject'},\n",
       " 'stem': '20190131_invoice',\n",
       " 'new_filename': 'None-INV-3337',\n",
       " 'document_url': 'https://web1-akl.xtracta.com/akl_northcote_storage2_datasource4/1/93/19/iq204587316-jB5yJehe.pdf',\n",
       " 'image_urls': ['https://web1-akl.xtracta.com/akl_northcote_storage2_datasource4/1/24/e5/ds99606933-iq204587316-jB5yJehe7808-1-800.jpg'],\n",
       " 'company': 'ABC',\n",
       " 'location': '123'}"
      ]
     },
     "execution_count": 47,
     "metadata": {},
     "output_type": "execute_result"
    }
   ],
   "source": [
    "full_test_output['header']['email_subject'] = '234 [<<ABC-123>>] Here is a subject'\n",
    "full_test_output = add_company_location(full_test_output)\n",
    "full_test_output"
   ]
  },
  {
   "cell_type": "markdown",
   "metadata": {},
   "source": [
    "## Write JSON files, create TIFs and move PDFs"
   ]
  },
  {
   "cell_type": "code",
   "execution_count": 48,
   "metadata": {},
   "outputs": [],
   "source": [
    "def write_json_simple(filename, output):\n",
    "    filename = filename.with_suffix('.json')\n",
    "    with open(f\"{filename}\", \"w\") as f:\n",
    "        f.write(json.dumps(output, indent=4))\n",
    "    return filename"
   ]
  },
  {
   "cell_type": "code",
   "execution_count": 49,
   "metadata": {
    "tags": [
     "build"
    ]
   },
   "outputs": [
    {
     "data": {
      "text/plain": [
       "WindowsPath('C:/Users/hudge/Desktop/2019_projects/pipomatic/hudge/xtracta/input/20190131_invoice.json')"
      ]
     },
     "execution_count": 49,
     "metadata": {},
     "output_type": "execute_result"
    }
   ],
   "source": [
    "test_json_file = write_json_simple(test_ip / test_output['header']['filename'], test_output)\n",
    "test_json_file"
   ]
  },
  {
   "cell_type": "code",
   "execution_count": 64,
   "metadata": {},
   "outputs": [],
   "source": [
    "def move_from_input(api_key, document, ip, lp, op, jp):\n",
    "    output = create_output(document)\n",
    "    json_source = (ip / output['header']['filename']).with_suffix('.json')\n",
    "    pdf_source = (ip / output['header']['filename']).with_suffix('.pdf')\n",
    "    if document['documents_response']['document']['document_status'] == 'output':\n",
    "        output = build_out_output(document, output)\n",
    "        json_destination = json_destination = (op / output['new_filename']).with_suffix('.json')\n",
    "        if not output['header']['line_count']:\n",
    "            output['header']['line_count'] = 1\n",
    "        if float(output['header']['line_count']) > 1:\n",
    "            json_destination = (lp / output['new_filename']).with_suffix('.json')\n",
    "            pdf_destination = (lp / output['new_filename']).with_suffix('.pdf')\n",
    "            if pdf_source.exists():\n",
    "                pdf_destination.write_bytes(pdf_source.read_bytes())\n",
    "        with open(f\"{json_destination}\", \"w\") as f:\n",
    "            f.write(json.dumps(output, indent=4))\n",
    "        save_tif(output, op)\n",
    "        if json_destination.exists() and json_source.exists():\n",
    "            json_source.unlink()\n",
    "            if pdf_source.exists():\n",
    "                pdf_source.unlink()\n",
    "        return 'File moved to output / lines'\n",
    "    elif document['documents_response']['document']['document_status'] == 'qa':\n",
    "        json_destination = (jp / output['header']['filename']).with_suffix('.json')\n",
    "        json_source.replace(json_destination)\n",
    "        if json_destination.exists():\n",
    "            json_source.unlink()\n",
    "            if pdf_source.exists():\n",
    "                pdf_source.unlink()\n",
    "            return 'File moved to junk'\n",
    "    else:\n",
    "        return 'File not moved'\n",
    "    \n",
    "        \n",
    "def create_tif_image(image_urls):\n",
    "    images = []\n",
    "    for i, url in enumerate(image_urls):\n",
    "        r = requests.get(url, stream=True)\n",
    "        if i == 0:\n",
    "            im = Image.open(r.raw)\n",
    "        else:\n",
    "            images.append(Image.open(r.raw))\n",
    "    return im, images\n",
    "\n",
    "def save_tif(output, op):\n",
    "    new_name = (op / output['new_filename']).with_suffix('.tif')\n",
    "    im, images = create_tif_image(output['image_urls'])\n",
    "    im.save(f'{new_name}', save_all=True, append_images=images)\n",
    "    return im, images\n",
    "    "
   ]
  },
  {
   "cell_type": "code",
   "execution_count": 66,
   "metadata": {
    "tags": [
     "build"
    ]
   },
   "outputs": [
    {
     "data": {
      "text/plain": [
       "'File not moved'"
      ]
     },
     "execution_count": 66,
     "metadata": {},
     "output_type": "execute_result"
    }
   ],
   "source": [
    "move_files(test_sp, test_file, test_ip)\n",
    "write_json_simple(test_ip / test_output['header']['filename'], test_output)\n",
    "move_from_input(api_key, test_document, test_ip, test_lp, test_op, test_jp)"
   ]
  },
  {
   "cell_type": "markdown",
   "metadata": {},
   "source": [
    "## Moving files in the file system"
   ]
  },
  {
   "cell_type": "code",
   "execution_count": 52,
   "metadata": {
    "tags": [
     "build"
    ]
   },
   "outputs": [],
   "source": [
    "def clean_input_folder(ip):\n",
    "    json_files = ip.glob('*.json')\n",
    "    pdf_files = ip.glob('*.pdf')\n",
    "    files = list(json_files)\n",
    "    files.extend(list(pdf_files))\n",
    "    all_files = ip.glob('*.*')\n",
    "    for file in all_files:\n",
    "        if file not in files:\n",
    "            file.unlink()\n",
    "    return True"
   ]
  },
  {
   "cell_type": "code",
   "execution_count": 53,
   "metadata": {
    "tags": [
     "build"
    ]
   },
   "outputs": [
    {
     "data": {
      "text/plain": [
       "True"
      ]
     },
     "execution_count": 53,
     "metadata": {},
     "output_type": "execute_result"
    }
   ],
   "source": [
    "move_files(test_sp, test_file, test_ip)\n",
    "(test_ip / 'test.png').open('w').write('some text')\n",
    "write_json_simple(test_ip / test_output['header']['filename'], test_output)\n",
    "clean_input_folder(test_ip)"
   ]
  },
  {
   "cell_type": "markdown",
   "metadata": {},
   "source": [
    "## Formatting XML for upload into Xtracta's database\n",
    "\n",
    "Take a list of dicts and format it for uploading to Xtracta's database API"
   ]
  },
  {
   "cell_type": "code",
   "execution_count": 54,
   "metadata": {},
   "outputs": [],
   "source": [
    "def update_database_data(api_key, database_id, out, refresh):\n",
    "    documents_url = 'https://api-app.xtracta.com/v1/databases/data_add'\n",
    "    data = {'api_key': api_key, 'database_id': int(database_id), 'data': out, 'refresh': refresh}\n",
    "    r = requests.post(documents_url, data=data)\n",
    "    response = xmltodict.parse(r.text)\n",
    "    return response"
   ]
  },
  {
   "cell_type": "code",
   "execution_count": 55,
   "metadata": {},
   "outputs": [],
   "source": [
    "def build_xml_data(supplier_data_dict):\n",
    "    xml_rows = []\n",
    "    for row in supplier_data_dict:\n",
    "        po = {'column': [{'@id': '55261', '#text': f\"{row['po_number']}\"}, \n",
    "                         {'@id': '55264', '#text': f\"{row['supplier_number']}\"},\n",
    "                         {'@id': '60223', '#text': f\"{row['line_number']}\"},\n",
    "                         {'@id': '58133', '#text': f\"{row['abn']}\"},\n",
    "                         {'@id': '58134', '#text': f\"{row['bsb']}\"},\n",
    "                         {'@id': '58135', '#text': f\"{row['bank_account']}\"},\n",
    "                         {'@id': '58242', '#text': f\"{row['supplier_name']}\"}]}\n",
    "        xml_rows.append(po)\n",
    "    xml_data = {'xml': {'row': xml_rows}}\n",
    "    return xmltodict.unparse(xml_data, pretty=True)"
   ]
  },
  {
   "cell_type": "markdown",
   "metadata": {},
   "source": [
    "## Build HTML file for handling rejections"
   ]
  },
  {
   "cell_type": "code",
   "execution_count": 56,
   "metadata": {},
   "outputs": [],
   "source": [
    "def create_html_section(data, html_template):\n",
    "    template = Template(html_template)\n",
    "    html = template.render(data=data)\n",
    "    return html\n",
    "\n",
    "\n",
    "reject_queue_html_template = \"\"\"\n",
    "    <div class=\"column is-full\">\n",
    "        <p><strong>Total number of rejects in queue: {{data.reject_count}}</strong></p>\n",
    "    </div>\n",
    "    <div class=\"column is-full\">  \n",
    "        <h2><strong>{{data.output.header.supplier}}</strong></h2>\n",
    "        <p><strong>Invoice number:</strong> {{data.output.header.invoice_number}}</p>\n",
    "    </div>\n",
    "    <div class=\"column is-two-fifths\">\n",
    "    <section class=\"section has-text-right\">\n",
    "        <p><strong>Net:</strong> {{\"$%.2f\"|format(data.output.header.net_total|float)}}</p>\n",
    "        <p><strong>GST:</strong> {{\"$%.2f\"|format(data.output.header.gst_total|float)}}</p>\n",
    "        <p><strong>Total:</strong> {{\"$%.2f\"|format(data.output.header.gross_total|float)}}</p>\n",
    "    </section>\n",
    "    <section class=\"section\">\n",
    "        <table class=\"table\">\n",
    "        <thead><tr><th>Field</th><th>Message</th></tr></thead>\n",
    "        <tbody>\n",
    "        {% for message in data.messages %}\n",
    "        <tr>\n",
    "            <th>{{message.field}}</th>\n",
    "            <td>{{message.message}}</td>\n",
    "        </tr>\n",
    "        {% endfor %}\n",
    "        </tbody>\n",
    "        </table>\n",
    "    </section>\n",
    "    </div>\n",
    "    <div class=\"column is-three-fifths has-text-centered\">\n",
    "        <p><a href=\"{{data.review_link}}\" target=\"_blank\">Review invoice</a></p>\n",
    "        <p><img src=\"{{data.invoice_image}}\" alt=\"Invoice Image\" width=\"250\"></p>\n",
    "    </div>\n",
    "\"\"\"\n",
    "\n",
    "\n",
    "def get_reject_html(api_key, workflow_id, status, html_template):\n",
    "    queue = get_xtracta_status(api_key, workflow_id, status)\n",
    "    reject_count = len(queue)\n",
    "    document_id = queue[0][\"document_id\"]\n",
    "    reasons = queue[0][\"rejection\"][\"reason\"]\n",
    "    messages = get_reject_info(api_key, document_id, reasons)\n",
    "    document = get_document(api_key, document_id)\n",
    "    image_url = document[\"documents_response\"][\"document\"][\"image_url\"][0]\n",
    "    output = create_output(document)\n",
    "    review_link = open_document_ui(api_key, document_id)\n",
    "    data = {\n",
    "        \"output\": output,\n",
    "        \"reject_count\": reject_count,\n",
    "        \"review_link\": review_link,\n",
    "        \"invoice_image\": image_url,\n",
    "        \"messages\": messages,\n",
    "    }\n",
    "    html = create_html_section(data=data, html_template=html_template)\n",
    "    return html\n"
   ]
  },
  {
   "cell_type": "code",
   "execution_count": 57,
   "metadata": {},
   "outputs": [],
   "source": [
    "def get_reject_info(api_key, document_id, reasons):\n",
    "    messages = []\n",
    "    document = get_document(api_key, document_id)\n",
    "    field_ids = get_field_ids(document)\n",
    "    if type(reasons) != list:\n",
    "        field_id = reasons[\"linked_field\"][\"field_id\"]\n",
    "        message = reasons[\"message\"]\n",
    "        messages.append({\"field\": field_ids[field_id], \"message\": message})\n",
    "    else:\n",
    "        for sub_item in reasons:\n",
    "            field_id = sub_item[\"linked_field\"][\"field_id\"]\n",
    "            message = sub_item[\"message\"]\n",
    "            messages.append({\"field\": field_ids[field_id], \"message\": message})\n",
    "    return messages\n",
    "\n",
    "\n",
    "def get_field_ids(document):\n",
    "    field_ids = {}\n",
    "    fields = document[\"documents_response\"][\"document\"][\"field_data\"][\"field\"]\n",
    "    for field in fields:\n",
    "        field_ids[field[\"field_id\"]] = field[\"field_name\"]\n",
    "    return field_ids"
   ]
  },
  {
   "cell_type": "markdown",
   "metadata": {},
   "source": [
    "## Build code\n",
    "\n",
    "The remaining cells load the code to PIP"
   ]
  },
  {
   "cell_type": "code",
   "execution_count": 74,
   "metadata": {
    "tags": [
     "build"
    ]
   },
   "outputs": [
    {
     "name": "stderr",
     "output_type": "stream",
     "text": [
      "[NbConvertApp] Converting notebook xtracta.ipynb to python\n",
      "[NbConvertApp] Writing 17438 bytes to xtracta.py\n"
     ]
    },
    {
     "data": {
      "text/plain": [
       "'pipomatic_hudge_xtracta.py'"
      ]
     },
     "execution_count": 74,
     "metadata": {},
     "output_type": "execute_result"
    }
   ],
   "source": [
    "!jupyter nbconvert \\\n",
    "    --TagRemovePreprocessor.enabled=True \\\n",
    "    --TagRemovePreprocessor.remove_cell_tags=\"['build']\" \\\n",
    "    --TemplateExporter.exclude_output=True \\\n",
    "    --to python \"xtracta.ipynb\"\n",
    "\n",
    "first_line = \"\"\"'Xtracta package'\n",
    "\n",
    "__version__ = '1.5'\n",
    "\n",
    "\"\"\"\n",
    "script_file = Path.cwd() / 'xtracta.py'\n",
    "script = script_file.read_text()\n",
    "script_file.write_text(first_line + script)\n",
    "username = script_file.parent.parent.name\n",
    "system_name = script_file.parent.name\n",
    "standardised_script_name = f'pipomatic_{username}_{system_name}.py'\n",
    "script_file.replace(script_file.parent / standardised_script_name)\n",
    "standardised_script_name\n",
    "# \n",
    "#"
   ]
  },
  {
   "cell_type": "code",
   "execution_count": 75,
   "metadata": {
    "tags": [
     "build"
    ]
   },
   "outputs": [
    {
     "name": "stderr",
     "output_type": "stream",
     "text": [
      "reformatted pipomatic_hudge_xtracta.py\n",
      "All done! \\u2728 \\U0001f370 \\u2728\n",
      "1 file reformatted.\n"
     ]
    }
   ],
   "source": [
    "!black \"pipomatic_hudge_xtracta.py\""
   ]
  },
  {
   "cell_type": "code",
   "execution_count": 42,
   "metadata": {
    "tags": [
     "build"
    ]
   },
   "outputs": [],
   "source": [
    "# !flit publish"
   ]
  },
  {
   "cell_type": "code",
   "execution_count": null,
   "metadata": {},
   "outputs": [],
   "source": []
  }
 ],
 "metadata": {
  "celltoolbar": "Tags",
  "kernelspec": {
   "display_name": "Python 3",
   "language": "python",
   "name": "python3"
  },
  "language_info": {
   "codemirror_mode": {
    "name": "ipython",
    "version": 3
   },
   "file_extension": ".py",
   "mimetype": "text/x-python",
   "name": "python",
   "nbconvert_exporter": "python",
   "pygments_lexer": "ipython3",
   "version": "3.7.1"
  }
 },
 "nbformat": 4,
 "nbformat_minor": 2
}
