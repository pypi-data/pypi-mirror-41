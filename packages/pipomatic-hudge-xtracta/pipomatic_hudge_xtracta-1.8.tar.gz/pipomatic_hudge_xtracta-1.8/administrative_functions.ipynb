{
 "cells": [
  {
   "cell_type": "code",
   "execution_count": 43,
   "metadata": {},
   "outputs": [],
   "source": [
    "import json\n",
    "import os\n",
    "import re\n",
    "from pathlib import Path\n",
    "import pandas as pd\n",
    "import requests\n",
    "import xmltodict  # type: ignore\n",
    "from dotenv import find_dotenv, load_dotenv\n",
    "\n",
    "load_dotenv(find_dotenv())\n",
    "\n",
    "api_key = os.getenv('XTRACTA_API_KEY')\n",
    "database_id = os.getenv('XTRACTA_DATABASE_ID')\n",
    "header_workflow = os.getenv('XTRACTA_HEADER_ID')\n",
    "test_header_workflow = os.getenv('XTRACTA_HEADER_TEST_ID')\n",
    "line_workflow = os.getenv('XTRACTA_LINE_ID')"
   ]
  },
  {
   "cell_type": "code",
   "execution_count": 49,
   "metadata": {},
   "outputs": [
    {
     "data": {
      "text/plain": [
       "135"
      ]
     },
     "execution_count": 49,
     "metadata": {},
     "output_type": "execute_result"
    }
   ],
   "source": [
    "status = 'qa'\n",
    "doc_list = x.get_xtracta_status(api_key, header_workflow, status, \n",
    "                                api_download_status = \"active\", \n",
    "                                detailed = 0, documents_order = \"asc\")\n",
    "len(doc_list)"
   ]
  },
  {
   "cell_type": "code",
   "execution_count": 51,
   "metadata": {},
   "outputs": [
    {
     "name": "stdout",
     "output_type": "stream",
     "text": [
      "qa 90006878\n",
      "qa 90007202\n",
      "qa 90304628\n",
      "qa 90304664\n",
      "qa 91446427\n",
      "qa 91446501\n",
      "qa 91464108\n",
      "qa 92153134\n",
      "qa 92153158\n",
      "qa 92153188\n",
      "qa 92153214\n",
      "qa 92166051\n",
      "qa 92166083\n",
      "qa 92168214\n",
      "qa 92347901\n",
      "qa 92347973\n",
      "qa 92348002\n",
      "qa 92348014\n",
      "qa 92348020\n",
      "qa 92348046\n",
      "qa 92348063\n",
      "qa 92348075\n",
      "qa 92348085\n",
      "qa 92348108\n",
      "qa 92361220\n",
      "qa 92361228\n",
      "qa 92361247\n",
      "qa 92361282\n",
      "qa 92361361\n",
      "qa 92369461\n",
      "qa 92369474\n",
      "qa 92369492\n",
      "qa 92369499\n",
      "qa 92369510\n",
      "qa 92369514\n",
      "qa 92369518\n",
      "qa 92369522\n",
      "qa 92369533\n",
      "qa 92369546\n",
      "qa 92369552\n",
      "qa 92369559\n",
      "qa 92369578\n",
      "qa 92375589\n",
      "qa 92375593\n",
      "qa 92375600\n",
      "qa 92375611\n",
      "qa 92375621\n",
      "qa 92375629\n",
      "qa 92375637\n",
      "qa 92375643\n",
      "qa 92375646\n",
      "qa 92375655\n",
      "qa 92375661\n",
      "qa 92375665\n",
      "qa 92379383\n",
      "qa 92379387\n",
      "qa 92379392\n",
      "qa 92508321\n",
      "qa 92617185\n",
      "qa 93085467\n",
      "qa 93432292\n",
      "qa 93432317\n",
      "qa 93432329\n",
      "qa 93432795\n",
      "qa 93435623\n",
      "qa 93435632\n",
      "qa 93437314\n",
      "qa 93613035\n",
      "qa 93616061\n",
      "qa 94308577\n",
      "qa 94308590\n",
      "qa 94308929\n",
      "qa 94309166\n",
      "qa 94313137\n",
      "qa 94313145\n",
      "qa 94314085\n",
      "qa 94314544\n",
      "qa 95085765\n",
      "qa 95085984\n",
      "qa 95086329\n",
      "qa 95086333\n",
      "qa 95086340\n",
      "qa 95086351\n",
      "qa 95086358\n",
      "qa 95086403\n",
      "qa 95293911\n",
      "qa 95293922\n",
      "qa 95293948\n",
      "qa 95294776\n",
      "qa 95294833\n",
      "qa 95294911\n",
      "qa 95294943\n",
      "qa 95295174\n",
      "qa 95295214\n",
      "qa 95295217\n",
      "qa 95295222\n",
      "qa 95295380\n",
      "qa 95295399\n",
      "qa 95295468\n",
      "qa 95295480\n",
      "qa 95295495\n",
      "qa 95295584\n",
      "qa 95295632\n",
      "qa 95295651\n",
      "qa 95295691\n",
      "qa 95295829\n",
      "qa 95295884\n",
      "qa 95295895\n",
      "qa 95296097\n",
      "qa 95296130\n",
      "qa 95296186\n",
      "qa 95296844\n",
      "qa 95297068\n",
      "qa 95426923\n",
      "qa 95583732\n",
      "qa 95583736\n",
      "qa 95583737\n",
      "qa 95583746\n",
      "qa 95583762\n",
      "qa 95583763\n",
      "qa 95583769\n",
      "qa 95583777\n",
      "qa 95583791\n",
      "qa 97353887\n",
      "qa 97353892\n",
      "qa 97353898\n",
      "qa 97353907\n",
      "qa 97353917\n",
      "qa 97353931\n",
      "qa 97353938\n",
      "qa 97353952\n",
      "qa 98961382\n",
      "qa 98961418\n",
      "qa 98961434\n",
      "qa 98961452\n"
     ]
    }
   ],
   "source": [
    "for doc in doc_list:\n",
    "    print(doc['document_status'], doc['document_id'])\n",
    "    x.update_document(api_key, doc['document_id'], delete=1, api_download_status='archived')"
   ]
  },
  {
   "cell_type": "code",
   "execution_count": 45,
   "metadata": {},
   "outputs": [
    {
     "data": {
      "text/plain": [
       "[OrderedDict([('@revision', '3'),\n",
       "              ('document_id', '99585648'),\n",
       "              ('document_status', 'indexing'),\n",
       "              ('number_of_pages', '1'),\n",
       "              ('api_download_status', 'active'),\n",
       "              ('free_form', None),\n",
       "              ('classification', 'full'),\n",
       "              ('classification_class', '1049514'),\n",
       "              ('classification_design', '0')])]"
      ]
     },
     "execution_count": 45,
     "metadata": {},
     "output_type": "execute_result"
    }
   ],
   "source": [
    "doc_list"
   ]
  },
  {
   "cell_type": "code",
   "execution_count": null,
   "metadata": {},
   "outputs": [],
   "source": []
  }
 ],
 "metadata": {
  "kernelspec": {
   "display_name": "Python 3",
   "language": "python",
   "name": "python3"
  },
  "language_info": {
   "codemirror_mode": {
    "name": "ipython",
    "version": 3
   },
   "file_extension": ".py",
   "mimetype": "text/x-python",
   "name": "python",
   "nbconvert_exporter": "python",
   "pygments_lexer": "ipython3",
   "version": "3.7.1"
  }
 },
 "nbformat": 4,
 "nbformat_minor": 2
}
