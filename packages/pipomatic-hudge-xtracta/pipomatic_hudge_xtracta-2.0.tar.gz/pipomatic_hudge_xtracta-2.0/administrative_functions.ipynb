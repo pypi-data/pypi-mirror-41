{
 "cells": [
  {
   "cell_type": "code",
   "execution_count": 43,
   "metadata": {},
   "outputs": [],
   "source": [
    "import json\n",
    "import os\n",
    "import re\n",
    "from pathlib import Path\n",
    "import pandas as pd\n",
    "import requests\n",
    "import xmltodict  # type: ignore\n",
    "from dotenv import find_dotenv, load_dotenv\n",
    "\n",
    "load_dotenv(find_dotenv())\n",
    "\n",
    "api_key = os.getenv('XTRACTA_API_KEY')\n",
    "database_id = os.getenv('XTRACTA_DATABASE_ID')\n",
    "header_workflow = os.getenv('XTRACTA_HEADER_ID')\n",
    "test_header_workflow = os.getenv('XTRACTA_HEADER_TEST_ID')\n",
    "line_workflow = os.getenv('XTRACTA_LINE_ID')"
   ]
  },
  {
   "cell_type": "code",
   "execution_count": 68,
   "metadata": {},
   "outputs": [
    {
     "data": {
      "text/plain": [
       "1"
      ]
     },
     "execution_count": 68,
     "metadata": {},
     "output_type": "execute_result"
    }
   ],
   "source": [
    "status = 'output'\n",
    "doc_list = x.get_xtracta_status(api_key, line_workflow, status, \n",
    "                                api_download_status = \"active\", \n",
    "                                detailed = 0, documents_order = \"asc\")\n",
    "len(doc_list)"
   ]
  },
  {
   "cell_type": "code",
   "execution_count": 67,
   "metadata": {},
   "outputs": [
    {
     "name": "stdout",
     "output_type": "stream",
     "text": [
      "output 97827102\n",
      "output 97828638\n",
      "output 97830024\n",
      "output 98961446\n",
      "output 98994681\n",
      "output 99007279\n",
      "output 99007494\n",
      "output 99009643\n",
      "output 99009802\n",
      "output 99010202\n",
      "output 99010514\n",
      "output 99010694\n",
      "output 99011167\n",
      "output 99013963\n",
      "output 99014277\n",
      "output 99014313\n",
      "output 99014388\n",
      "output 99014817\n",
      "output 99014854\n",
      "output 99049996\n",
      "output 99794984\n"
     ]
    }
   ],
   "source": [
    "for doc in doc_list:\n",
    "    print(doc['document_status'], doc['document_id'])\n",
    "    x.update_document(api_key, doc['document_id'], delete=0, api_download_status='active')"
   ]
  },
  {
   "cell_type": "code",
   "execution_count": 60,
   "metadata": {},
   "outputs": [
    {
     "data": {
      "text/plain": [
       "21"
      ]
     },
     "execution_count": 60,
     "metadata": {},
     "output_type": "execute_result"
    }
   ],
   "source": [
    "doc_list2 = doc_list[:-1]\n",
    "len(doc_list2)"
   ]
  },
  {
   "cell_type": "code",
   "execution_count": null,
   "metadata": {},
   "outputs": [],
   "source": []
  }
 ],
 "metadata": {
  "kernelspec": {
   "display_name": "Python 3",
   "language": "python",
   "name": "python3"
  },
  "language_info": {
   "codemirror_mode": {
    "name": "ipython",
    "version": 3
   },
   "file_extension": ".py",
   "mimetype": "text/x-python",
   "name": "python",
   "nbconvert_exporter": "python",
   "pygments_lexer": "ipython3",
   "version": "3.7.1"
  }
 },
 "nbformat": 4,
 "nbformat_minor": 2
}
