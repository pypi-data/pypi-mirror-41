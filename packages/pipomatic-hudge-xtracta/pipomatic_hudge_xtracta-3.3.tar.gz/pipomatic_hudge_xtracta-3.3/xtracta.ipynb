{
 "cells": [
  {
   "cell_type": "code",
   "execution_count": 1,
   "metadata": {},
   "outputs": [],
   "source": [
    "import json\n",
    "import os\n",
    "import re\n",
    "from pathlib import Path\n",
    "from typing import Any, Dict, List, Union  # From mypy library\n",
    "import datetime\n",
    "\n",
    "import numpy as np\n",
    "import pandas as pd\n",
    "import requests\n",
    "import xmltodict  # type: ignore\n",
    "from dotenv import find_dotenv, load_dotenv\n",
    "from jinja2 import Template\n",
    "from PIL import Image, ImageSequence  # type: ignore\n",
    "from fuzzywuzzy import fuzz\n",
    "\n",
    "from pandas.api.types import is_datetime64_any_dtype, is_numeric_dtype, is_integer_dtype, is_object_dtype, is_string_dtype"
   ]
  },
  {
   "cell_type": "markdown",
   "metadata": {},
   "source": [
    "## Set up test environment"
   ]
  },
  {
   "cell_type": "code",
   "execution_count": 3,
   "metadata": {},
   "outputs": [],
   "source": [
    "load_dotenv(find_dotenv())\n",
    "\n",
    "api_key = os.getenv('XTRACTA_API_KEY')\n",
    "database_id = os.getenv('XTRACTA_DATABASE_ID')\n",
    "header_workflow = os.getenv('XTRACTA_HEADER_ID')\n",
    "line_workflow = os.getenv('XTRACTA_LINE_ID')\n"
   ]
  },
  {
   "cell_type": "markdown",
   "metadata": {},
   "source": [
    "## Functions for interacting with Xtracta's API"
   ]
  },
  {
   "cell_type": "markdown",
   "metadata": {},
   "source": [
    "### Upload file\n",
    "\n",
    "Uploads a PDf or image file for extraction. The classifier field is used if you want to assign a specific classifier to the document rather than letting Xtracta make its own classification decision"
   ]
  },
  {
   "cell_type": "code",
   "execution_count": 33,
   "metadata": {},
   "outputs": [],
   "source": [
    "def upload_file(api_key, workflow_id, filename, field_data=\"\"):\n",
    "    upload_url = \"https://api-app.xtracta.com/v1/documents/upload\"\n",
    "    file = {\"userfile\": open(filename, mode=\"rb\")}\n",
    "    data = {\n",
    "        \"api_key\": api_key,\n",
    "        \"workflow_id\": workflow_id,\n",
    "        \"field_data\": field_data,\n",
    "    }\n",
    "    r = requests.post(upload_url, data=data, files=file)\n",
    "    if r.status_code != 200:\n",
    "        print(r.status_code)\n",
    "        return r.text\n",
    "    else:\n",
    "        response = xmltodict.parse(r.text)\n",
    "        return response[\"xml\"][\"document_id\"]"
   ]
  },
  {
   "cell_type": "code",
   "execution_count": 9,
   "metadata": {
    "tags": [
     "test"
    ]
   },
   "outputs": [],
   "source": [
    "# test_document_id = upload_file(api_key, header_workflow, test_ip / test_file)\n",
    "test_document_id = 100705962\n"
   ]
  },
  {
   "cell_type": "code",
   "execution_count": 5,
   "metadata": {},
   "outputs": [],
   "source": [
    "def get_document(api_key: str, document_id: str):\n",
    "    \n",
    "    \"\"\"retrieves the full xml document from Xtracta and converts it to a dict\"\"\"\n",
    "    \n",
    "    documents_url = \"https://api-app.xtracta.com/v1/documents\"\n",
    "    data = {\"api_key\": api_key, \"document_id\": document_id}\n",
    "    try:\n",
    "        r = requests.post(documents_url, data=data)\n",
    "        response = xmltodict.parse(r.text)\n",
    "        return response\n",
    "    except Exception as e:\n",
    "        return e.args"
   ]
  },
  {
   "cell_type": "code",
   "execution_count": 86,
   "metadata": {
    "tags": [
     "test"
    ]
   },
   "outputs": [
    {
     "data": {
      "text/plain": [
       "'100705962'"
      ]
     },
     "execution_count": 86,
     "metadata": {},
     "output_type": "execute_result"
    }
   ],
   "source": [
    "test_document = get_document(api_key, test_document_id)\n",
    "test_document[\"documents_response\"][\"document\"]['document_id']"
   ]
  },
  {
   "cell_type": "code",
   "execution_count": 12,
   "metadata": {},
   "outputs": [],
   "source": [
    "def get_xtracta_status(\n",
    "    api_key: str,\n",
    "    workflow_id: str,\n",
    "    status: str,\n",
    "    api_download_status: str = \"active\",\n",
    "    detailed: int = 0,\n",
    "    documents_order: str = \"asc\",\n",
    ") -> list:\n",
    "    \"\"\"Returns a list of all Xtracta documents with a particular status\"\"\"\n",
    "    documents_url = \"https://api-app.xtracta.com/v1/documents\"\n",
    "    data = {\n",
    "        \"api_key\": api_key,\n",
    "        \"workflow_id\": workflow_id,\n",
    "        \"document_status\": status,\n",
    "        \"api_download_status\": api_download_status,\n",
    "        \"items_per_page\": 1000,\n",
    "        \"detailed\": detailed,\n",
    "        \"documents_order\": documents_order,\n",
    "    }\n",
    "    try:\n",
    "        r = requests.post(documents_url, data=data)\n",
    "        response = xmltodict.parse(r.text)\n",
    "    except Exception as e:\n",
    "        return [e.__str__]\n",
    "\n",
    "    try:\n",
    "        response_content = response[\"documents_response\"][\"document\"]\n",
    "        if type(response_content) == list:\n",
    "            return response_content\n",
    "        else:\n",
    "            return [response_content]\n",
    "    except Exception as e:\n",
    "        if type(e).__name__ == \"KeyError\":\n",
    "            return [f\"No {status} documents in queue\"]\n",
    "        else:\n",
    "            return [e]"
   ]
  },
  {
   "cell_type": "code",
   "execution_count": 88,
   "metadata": {
    "tags": [
     "test"
    ]
   },
   "outputs": [
    {
     "data": {
      "text/plain": [
       "OrderedDict([('@revision', '3'),\n",
       "             ('document_id', '100767031'),\n",
       "             ('document_status', 'output'),\n",
       "             ('number_of_pages', '3'),\n",
       "             ('api_download_status', 'active'),\n",
       "             ('free_form', None),\n",
       "             ('classification', None),\n",
       "             ('classification_class', 'awaiting classification'),\n",
       "             ('classification_design', 'undetected')])"
      ]
     },
     "execution_count": 88,
     "metadata": {},
     "output_type": "execute_result"
    }
   ],
   "source": [
    "test_output_list = get_xtracta_status(api_key, header_workflow, 'output')\n",
    "test_output_list[0]"
   ]
  },
  {
   "cell_type": "markdown",
   "metadata": {},
   "source": [
    "## Build the output dictionary from Xtracta data"
   ]
  },
  {
   "cell_type": "code",
   "execution_count": 51,
   "metadata": {},
   "outputs": [],
   "source": [
    "def create_output(document: Dict[Any, Any]) -> Dict[Any, Any]:\n",
    "    \"\"\"Returns a dictionary with document_id, status and version as top level values \n",
    "    and remaining fields as key value pairs in a header section\"\"\"\n",
    "    output = {}\n",
    "    header_dict = document[\"documents_response\"][\"document\"][\"field_data\"][\"field\"]\n",
    "    header = transform_dict(header_dict)\n",
    "    output[\"document_id\"] = document[\"documents_response\"][\"document\"][\"document_id\"]\n",
    "    output[\"status\"] = document[\"documents_response\"][\"document\"][\"document_status\"]\n",
    "    output[\"version\"] = document[\"documents_response\"][\"document\"][\"@revision\"]\n",
    "    output[\"header\"] = header\n",
    "    if output['status'] in ['qa', 'reject', 'output']:\n",
    "        output = build_out_output(document, output)\n",
    "    return output\n",
    "\n",
    "\n",
    "def transform_dict(start_dict):\n",
    "    end_dict = {}\n",
    "    for item in start_dict:\n",
    "        end_dict[item[\"field_name\"]] = item[\"field_value\"]\n",
    "    return end_dict\n",
    "\n",
    "def build_out_output(document, output):\n",
    "    try:\n",
    "        output['stem'] = output['header']['filename'].split('.')[0]\n",
    "    except:\n",
    "        output['stem'] = output['header']['filename']\n",
    "    output['new_filename'] = f\"{output['header']['supplier_id']}-{output['header']['invoice_number']}\"\n",
    "    try:\n",
    "        output['header']['email_date']\n",
    "    except:\n",
    "        current_date = datetime.datetime.today().strftime('%Y-%m-%d')\n",
    "        output['header']['email_date'] = current_date\n",
    "    output['document_url'] = document['documents_response']['document']['document_url']\n",
    "    output['image_urls'] = get_image_urls(document['documents_response']['document']['image_url'])\n",
    "    return output\n",
    "\n",
    "def get_image_urls(image_urls):\n",
    "    if type(image_urls) != list:\n",
    "        image_urls = [image_urls]\n",
    "    return image_urls"
   ]
  },
  {
   "cell_type": "code",
   "execution_count": 52,
   "metadata": {
    "tags": [
     "test"
    ]
   },
   "outputs": [
    {
     "data": {
      "text/plain": [
       "{'document_id': '100705962',\n",
       " 'status': 'output',\n",
       " 'version': '3',\n",
       " 'header': {'supplier_abn': '76052484483',\n",
       "  'abn_from_db_by_po': '76052484483',\n",
       "  'supplier': 'RELAY MONITORING SYSTEMS PTY LTD',\n",
       "  'supplier_id': '009098',\n",
       "  'invoice_date': '2019-01-09',\n",
       "  'invoice_number': '42504',\n",
       "  'po_number': 'T81293',\n",
       "  'net_total': '14820.00',\n",
       "  'gst_total': '1482.00',\n",
       "  'gross_total': '16302.00',\n",
       "  'freight': '50.00',\n",
       "  'bsb_number': '063159',\n",
       "  'bank_account_number': '10006635',\n",
       "  'line_count': '3',\n",
       "  'filename': '20190124RelayMonitoring',\n",
       "  'account_number': None,\n",
       "  'period_start_date': None,\n",
       "  'period_end_date': None,\n",
       "  'email_date': '2019-02-01'},\n",
       " 'stem': '20190124RelayMonitoring',\n",
       " 'new_filename': '009098-42504',\n",
       " 'document_url': 'https://web1-akl.xtracta.com/akl_northcote_storage2_datasource4/1/fe/92/iq205042603-6WMH3CAqF.pdf',\n",
       " 'image_urls': ['https://web1-akl.xtracta.com/akl_northcote_storage2_datasource4/1/15/c9/ds100705962-iq205042603-6WMH3CAqF4900-1-800.jpg']}"
      ]
     },
     "execution_count": 52,
     "metadata": {},
     "output_type": "execute_result"
    }
   ],
   "source": [
    "test_document = get_document(api_key, test_document_id)\n",
    "test_output = create_output(test_document)\n",
    "test_output"
   ]
  },
  {
   "cell_type": "code",
   "execution_count": 20,
   "metadata": {},
   "outputs": [],
   "source": [
    "def open_document_ui(api_key: str, document_id: str) -> str:\n",
    "    \"\"\"Opens the Xtracta UI to fix and train documents\"\"\"\n",
    "    documents_url = \"https://api-app.xtracta.com/v1/documents/ui\"\n",
    "    data = {\n",
    "        \"api_key\": api_key,\n",
    "        \"document_id\": int(document_id),\n",
    "        \"buttons\": \"output,archive\",\n",
    "        \"no_lockout\": 1,\n",
    "        \"expire\": 86400,\n",
    "    }\n",
    "    r = requests.post(documents_url, data=data)\n",
    "    response = xmltodict.parse(r.text)\n",
    "    return response[\"documents_response\"][\"url\"]"
   ]
  },
  {
   "cell_type": "code",
   "execution_count": 21,
   "metadata": {
    "tags": [
     "test"
    ]
   },
   "outputs": [
    {
     "data": {
      "text/plain": [
       "{'document_id': '100705962',\n",
       " 'status': 'output',\n",
       " 'version': '3',\n",
       " 'header': {'supplier_abn': '76052484483',\n",
       "  'abn_from_db_by_po': '76052484483',\n",
       "  'supplier': 'RELAY MONITORING SYSTEMS PTY LTD',\n",
       "  'supplier_id': '009098',\n",
       "  'invoice_date': '2019-01-09',\n",
       "  'invoice_number': '42504',\n",
       "  'po_number': 'T81293',\n",
       "  'net_total': '14820.00',\n",
       "  'gst_total': '1482.00',\n",
       "  'gross_total': '16302.00',\n",
       "  'freight': '50.00',\n",
       "  'bsb_number': '063159',\n",
       "  'bank_account_number': '10006635',\n",
       "  'line_count': '3',\n",
       "  'filename': '20190124RelayMonitoring',\n",
       "  'account_number': None,\n",
       "  'period_start_date': None,\n",
       "  'period_end_date': None}}"
      ]
     },
     "metadata": {},
     "output_type": "display_data"
    },
    {
     "data": {
      "text/plain": [
       "'https://app.mybusinessautomated.net/main/an_entry/index/d/H9j9r_rBSStOZ.n45pDHCHNZ.KiLlSuA7tHYaLSoGcmMYhVYBU0aYbwXQc0vkrRVJuG1TZDbJMr7va29hDN9Xg--'"
      ]
     },
     "metadata": {},
     "output_type": "display_data"
    }
   ],
   "source": [
    "test_document = get_document(api_key, test_document_id)\n",
    "test_output = create_output(test_document)\n",
    "display(test_output)\n",
    "if test_output['status'] in ['reject', 'output']:\n",
    "    display(open_document_ui(api_key, test_document_id))"
   ]
  },
  {
   "cell_type": "code",
   "execution_count": 24,
   "metadata": {},
   "outputs": [],
   "source": [
    "def open_dashboard_ui(api_key: str, workflow_id: str) -> str:\n",
    "    \"\"\"Opens the Xtracta UI to fix and train documents\"\"\"\n",
    "    documents_url = \"https://app.mybusinessautomated.net/v1/documents/ui\"\n",
    "    data = {\n",
    "        \"api_key\": api_key,\n",
    "        \"workflow_id\": int(line_workflow),\n",
    "        \"buttons\": \"output,archive\",\n",
    "        \"no_lockout\": 1,\n",
    "        \"expire\": 86400,\n",
    "    }\n",
    "    r = requests.post(documents_url, data=data)\n",
    "    response = xmltodict.parse(r.text)\n",
    "    return response[\"documents_response\"][\"url\"]"
   ]
  },
  {
   "cell_type": "code",
   "execution_count": 25,
   "metadata": {
    "tags": [
     "test"
    ]
   },
   "outputs": [
    {
     "ename": "KeyError",
     "evalue": "'url'",
     "output_type": "error",
     "traceback": [
      "\u001b[1;31m---------------------------------------------------------------------------\u001b[0m",
      "\u001b[1;31mKeyError\u001b[0m                                  Traceback (most recent call last)",
      "\u001b[1;32m<ipython-input-25-684aa3df00e2>\u001b[0m in \u001b[0;36m<module>\u001b[1;34m\u001b[0m\n\u001b[1;32m----> 1\u001b[1;33m \u001b[0mopen_dashboard_ui\u001b[0m\u001b[1;33m(\u001b[0m\u001b[0mapi_key\u001b[0m\u001b[1;33m,\u001b[0m \u001b[0mheader_workflow\u001b[0m\u001b[1;33m)\u001b[0m\u001b[1;33m\u001b[0m\u001b[1;33m\u001b[0m\u001b[0m\n\u001b[0m",
      "\u001b[1;32m<ipython-input-24-84069209ef0b>\u001b[0m in \u001b[0;36mopen_dashboard_ui\u001b[1;34m(api_key, workflow_id)\u001b[0m\n\u001b[0;32m     11\u001b[0m     \u001b[0mr\u001b[0m \u001b[1;33m=\u001b[0m \u001b[0mrequests\u001b[0m\u001b[1;33m.\u001b[0m\u001b[0mpost\u001b[0m\u001b[1;33m(\u001b[0m\u001b[0mdocuments_url\u001b[0m\u001b[1;33m,\u001b[0m \u001b[0mdata\u001b[0m\u001b[1;33m=\u001b[0m\u001b[0mdata\u001b[0m\u001b[1;33m)\u001b[0m\u001b[1;33m\u001b[0m\u001b[1;33m\u001b[0m\u001b[0m\n\u001b[0;32m     12\u001b[0m     \u001b[0mresponse\u001b[0m \u001b[1;33m=\u001b[0m \u001b[0mxmltodict\u001b[0m\u001b[1;33m.\u001b[0m\u001b[0mparse\u001b[0m\u001b[1;33m(\u001b[0m\u001b[0mr\u001b[0m\u001b[1;33m.\u001b[0m\u001b[0mtext\u001b[0m\u001b[1;33m)\u001b[0m\u001b[1;33m\u001b[0m\u001b[1;33m\u001b[0m\u001b[0m\n\u001b[1;32m---> 13\u001b[1;33m     \u001b[1;32mreturn\u001b[0m \u001b[0mresponse\u001b[0m\u001b[1;33m[\u001b[0m\u001b[1;34m\"documents_response\"\u001b[0m\u001b[1;33m]\u001b[0m\u001b[1;33m[\u001b[0m\u001b[1;34m\"url\"\u001b[0m\u001b[1;33m]\u001b[0m\u001b[1;33m\u001b[0m\u001b[1;33m\u001b[0m\u001b[0m\n\u001b[0m",
      "\u001b[1;31mKeyError\u001b[0m: 'url'"
     ]
    }
   ],
   "source": [
    "open_dashboard_ui(api_key, header_workflow)"
   ]
  },
  {
   "cell_type": "code",
   "execution_count": 27,
   "metadata": {},
   "outputs": [],
   "source": [
    "def update_document(\n",
    "    api_key: str, document_id: str, delete: int = 0, api_download_status: str = \"active\"\n",
    ") -> Dict[str, str]:\n",
    "    \"\"\"Updates document on Xtracta\"\"\"\n",
    "    documents_url = \"https://api-app.xtracta.com/v1/documents/update\"\n",
    "    data = {\n",
    "        \"api_key\": api_key,\n",
    "        \"document_id\": int(document_id),\n",
    "        \"delete\": delete,\n",
    "        \"api_download_status\": api_download_status,\n",
    "    }\n",
    "    r = requests.post(documents_url, data=data)\n",
    "    response = xmltodict.parse(r.text)\n",
    "    return response[\"documents_response\"]"
   ]
  },
  {
   "cell_type": "code",
   "execution_count": 28,
   "metadata": {
    "tags": [
     "test"
    ]
   },
   "outputs": [
    {
     "data": {
      "text/plain": [
       "OrderedDict([('status', '200'),\n",
       "             ('message', 'The request has been successfully processed')])"
      ]
     },
     "execution_count": 28,
     "metadata": {},
     "output_type": "execute_result"
    }
   ],
   "source": [
    "update_document(api_key, test_document_id, api_download_status='active')"
   ]
  },
  {
   "cell_type": "code",
   "execution_count": 58,
   "metadata": {},
   "outputs": [],
   "source": [
    "def get_lines(document):\n",
    "    try:\n",
    "        lines_dict = document['documents_response']['document']['field_data']['field_set']['row']\n",
    "    except:\n",
    "        lines_dict = document['documents_response']['document']['field_data']['field']\n",
    "    lines = []\n",
    "    for line_dict in lines_dict:\n",
    "        line = transform_dict(line_dict['field'])\n",
    "        if line['line_net']:\n",
    "            lines.append(line)\n",
    "    return lines"
   ]
  },
  {
   "cell_type": "code",
   "execution_count": 59,
   "metadata": {
    "tags": [
     "test"
    ]
   },
   "outputs": [
    {
     "data": {
      "text/plain": [
       "[{'po_item': '3602406',\n",
       "  'description': 'DC-DC CONVERTER PRIMARY SWITCHED 48-60V-VP DC 24V-0/P DC 1A',\n",
       "  'qty': '1',\n",
       "  'line_net': '211.41',\n",
       "  'po_line_number': None}]"
      ]
     },
     "execution_count": 59,
     "metadata": {},
     "output_type": "execute_result"
    }
   ],
   "source": [
    "# test_line_document_id = upload_file(api_key, line_workflow, test_ip / test_file)\n",
    "test_line_document_id = 100199853\n",
    "test_line_document = get_document(api_key, test_line_document_id)\n",
    "# print(test_line_document['documents_response']['document']['field_data']['field'][0])\n",
    "test_lines = get_lines(test_line_document)\n",
    "test_lines"
   ]
  },
  {
   "cell_type": "markdown",
   "metadata": {},
   "source": [
    "## Build output once in output status"
   ]
  },
  {
   "cell_type": "code",
   "execution_count": 34,
   "metadata": {},
   "outputs": [],
   "source": []
  },
  {
   "cell_type": "code",
   "execution_count": 35,
   "metadata": {
    "tags": [
     "test"
    ]
   },
   "outputs": [
    {
     "data": {
      "text/plain": [
       "{'document_id': '100705962',\n",
       " 'status': 'output',\n",
       " 'version': '3',\n",
       " 'header': {'supplier_abn': '76052484483',\n",
       "  'abn_from_db_by_po': '76052484483',\n",
       "  'supplier': 'RELAY MONITORING SYSTEMS PTY LTD',\n",
       "  'supplier_id': '009098',\n",
       "  'invoice_date': '2019-01-09',\n",
       "  'invoice_number': '42504',\n",
       "  'po_number': 'T81293',\n",
       "  'net_total': '14820.00',\n",
       "  'gst_total': '1482.00',\n",
       "  'gross_total': '16302.00',\n",
       "  'freight': '50.00',\n",
       "  'bsb_number': '063159',\n",
       "  'bank_account_number': '10006635',\n",
       "  'line_count': '3',\n",
       "  'filename': '20190124RelayMonitoring',\n",
       "  'account_number': None,\n",
       "  'period_start_date': None,\n",
       "  'period_end_date': None,\n",
       "  'emaildate': '2019-01-24'},\n",
       " 'stem': '20190124RelayMonitoring',\n",
       " 'new_filename': '009098-42504',\n",
       " 'document_url': 'https://web1-akl.xtracta.com/akl_northcote_storage2_datasource4/1/fe/92/iq205042603-6WMH3CAqF.pdf',\n",
       " 'image_urls': ['https://web1-akl.xtracta.com/akl_northcote_storage2_datasource4/1/15/c9/ds100705962-iq205042603-6WMH3CAqF4900-1-800.jpg']}"
      ]
     },
     "execution_count": 35,
     "metadata": {},
     "output_type": "execute_result"
    }
   ],
   "source": [
    "test_document = get_document(api_key, test_document_id)\n",
    "test_output = create_output(test_document)\n",
    "full_test_output = build_out_output(test_document, test_output)\n",
    "full_test_output"
   ]
  },
  {
   "cell_type": "markdown",
   "metadata": {},
   "source": [
    "## Pull company name and location from filename"
   ]
  },
  {
   "cell_type": "code",
   "execution_count": 36,
   "metadata": {},
   "outputs": [],
   "source": [
    "def add_company_location(output):\n",
    "    company_extract = re.compile(r'.*\\[<<(.*)>>\\].*')\n",
    "    company_location = company_extract.match(output['header']['email_subject'])[1]\n",
    "    try:\n",
    "        output['company'], output['location'] = company_location.split('-')\n",
    "    except:\n",
    "        output['company'] = company_location\n",
    "        output['location'] = 'NA'\n",
    "    return output"
   ]
  },
  {
   "cell_type": "code",
   "execution_count": 37,
   "metadata": {
    "tags": [
     "test"
    ]
   },
   "outputs": [
    {
     "data": {
      "text/plain": [
       "{'document_id': '100705962',\n",
       " 'status': 'output',\n",
       " 'version': '3',\n",
       " 'header': {'supplier_abn': '76052484483',\n",
       "  'abn_from_db_by_po': '76052484483',\n",
       "  'supplier': 'RELAY MONITORING SYSTEMS PTY LTD',\n",
       "  'supplier_id': '009098',\n",
       "  'invoice_date': '2019-01-09',\n",
       "  'invoice_number': '42504',\n",
       "  'po_number': 'T81293',\n",
       "  'net_total': '14820.00',\n",
       "  'gst_total': '1482.00',\n",
       "  'gross_total': '16302.00',\n",
       "  'freight': '50.00',\n",
       "  'bsb_number': '063159',\n",
       "  'bank_account_number': '10006635',\n",
       "  'line_count': '3',\n",
       "  'filename': '20190124RelayMonitoring',\n",
       "  'account_number': None,\n",
       "  'period_start_date': None,\n",
       "  'period_end_date': None,\n",
       "  'emaildate': '2019-01-24',\n",
       "  'email_subject': '234 [<<ABC-123>>] Here is a subject'},\n",
       " 'stem': '20190124RelayMonitoring',\n",
       " 'new_filename': '009098-42504',\n",
       " 'document_url': 'https://web1-akl.xtracta.com/akl_northcote_storage2_datasource4/1/fe/92/iq205042603-6WMH3CAqF.pdf',\n",
       " 'image_urls': ['https://web1-akl.xtracta.com/akl_northcote_storage2_datasource4/1/15/c9/ds100705962-iq205042603-6WMH3CAqF4900-1-800.jpg'],\n",
       " 'company': 'ABC',\n",
       " 'location': '123'}"
      ]
     },
     "execution_count": 37,
     "metadata": {},
     "output_type": "execute_result"
    }
   ],
   "source": [
    "full_test_output['header']['email_subject'] = '234 [<<ABC-123>>] Here is a subject'\n",
    "full_test_output = add_company_location(full_test_output)\n",
    "full_test_output"
   ]
  },
  {
   "cell_type": "markdown",
   "metadata": {},
   "source": [
    "## Prepare email text for upload into Xtracta"
   ]
  },
  {
   "cell_type": "code",
   "execution_count": 76,
   "metadata": {},
   "outputs": [],
   "source": [
    "def email_to_dict(filename):\n",
    "    email_json = json.loads(filename.read_text())\n",
    "    email_json['BodyText'] = email_json['BodyText'].replace('-', ' ')\n",
    "    email_json['BodyText'].replace(' \\n', '\\n')\n",
    "    email_json['Subject'] = email_json['Subject'].replace('-', ' ')\n",
    "    return email_json\n",
    "\n",
    "\n",
    "def get_email_xml(email_dict):\n",
    "    fields = {'field': \n",
    "              [\n",
    "               {'@name': 'email_date',\n",
    "                '#text': email_dict['Date']\n",
    "               },\n",
    "               {'@name': 'email_from',\n",
    "                '#text': email_dict['From']\n",
    "               },\n",
    "               {'@name': 'email_subject',\n",
    "                '#text': email_dict['Subject']\n",
    "               },\n",
    "               {'@name': 'email_body',\n",
    "                '#text': email_dict['BodyText']\n",
    "               }\n",
    "             ]}\n",
    "    field_data = {'field_data': fields}\n",
    "    field_xml = xmltodict.unparse(field_data, pretty=True)\n",
    "    rows = field_xml.split('\\n')\n",
    "    modified_xml = ('\\n').join(rows[1:])\n",
    "    return modified_xml"
   ]
  },
  {
   "cell_type": "code",
   "execution_count": 77,
   "metadata": {
    "tags": [
     "test"
    ]
   },
   "outputs": [
    {
     "data": {
      "text/plain": [
       "'<field_data>\\n\\t<field name=\"email_date\">2019-01-27</field>\\n\\t<field name=\"email_from\">priority.credit@blah.com</field>\\n\\t<field name=\"email_subject\">20190125.290857.P29126671 Invoice .Company.</field>\\n\\t<field name=\"email_body\">Please find attached Invoice P29126671 dated 25 Jan 2019..All account enquiries should be emailed to priority.credit.blah.com.</field>\\n</field_data>'"
      ]
     },
     "execution_count": 77,
     "metadata": {},
     "output_type": "execute_result"
    }
   ],
   "source": [
    "p = Path.cwd()\n",
    "\n",
    "filename = p / 'input' / '20190131_invoice.json'\n",
    "email_dict = email_to_dict(filename)\n",
    "get_email_xml(email_dict)"
   ]
  },
  {
   "cell_type": "markdown",
   "metadata": {},
   "source": [
    "## Write JSON files, create TIFs and move PDFs"
   ]
  },
  {
   "cell_type": "code",
   "execution_count": 38,
   "metadata": {},
   "outputs": [],
   "source": [
    "def write_json_simple(filename, output):\n",
    "    filename = filename.with_suffix('.json')\n",
    "    with open(f\"{filename}\", \"w\") as f:\n",
    "        f.write(json.dumps(output, indent=4))\n",
    "    return filename"
   ]
  },
  {
   "cell_type": "code",
   "execution_count": 39,
   "metadata": {
    "tags": [
     "test"
    ]
   },
   "outputs": [
    {
     "data": {
      "text/plain": [
       "WindowsPath('C:/Users/hudge/Desktop/2019_projects/pipomatic/hudge/xtracta/input/20190124RelayMonitoring.json')"
      ]
     },
     "execution_count": 39,
     "metadata": {},
     "output_type": "execute_result"
    }
   ],
   "source": [
    "test_json_file = write_json_simple(test_ip / test_output['header']['filename'], test_output)\n",
    "test_json_file"
   ]
  },
  {
   "cell_type": "code",
   "execution_count": 40,
   "metadata": {},
   "outputs": [],
   "source": [
    "def move_from_input(api_key, document, ip, lp, op, jp):\n",
    "    output = create_output(document)\n",
    "    json_source = (ip / output['header']['filename']).with_suffix('.json')\n",
    "    pdf_source = (ip / output['header']['filename']).with_suffix('.pdf')\n",
    "    if document['documents_response']['document']['document_status'] == 'output':\n",
    "        output = build_out_output(document, output)\n",
    "        json_destination = json_destination = (op / output['new_filename']).with_suffix('.json')\n",
    "        if not output['header']['line_count']:\n",
    "            output['header']['line_count'] = 1\n",
    "        if float(output['header']['line_count']) > 1:\n",
    "            json_destination = (lp / output['new_filename']).with_suffix('.json')\n",
    "            pdf_destination = (lp / output['new_filename']).with_suffix('.pdf')\n",
    "            if pdf_source.exists():\n",
    "                pdf_destination.write_bytes(pdf_source.read_bytes())\n",
    "        with open(f\"{json_destination}\", \"w\") as f:\n",
    "            f.write(json.dumps(output, indent=4))\n",
    "        save_tif(output, op)\n",
    "        if json_destination.exists() and json_source.exists():\n",
    "            json_source.unlink()\n",
    "            if pdf_source.exists():\n",
    "                pdf_source.unlink()\n",
    "        return 'File moved to output / lines'\n",
    "    elif document['documents_response']['document']['document_status'] == 'qa':\n",
    "        json_destination = (jp / output['header']['filename']).with_suffix('.json')\n",
    "        json_source.replace(json_destination)\n",
    "        if json_destination.exists() and json_source.exists():\n",
    "            json_source.unlink()\n",
    "            if pdf_source.exists():\n",
    "                pdf_source.unlink()\n",
    "            return 'File moved to junk'\n",
    "    else:\n",
    "        return 'File not moved'\n",
    "    \n",
    "        \n",
    "def create_tif_image(image_urls):\n",
    "    images = []\n",
    "    for i, url in enumerate(image_urls):\n",
    "        r = requests.get(url, stream=True)\n",
    "        if i == 0:\n",
    "            im = Image.open(r.raw)\n",
    "        else:\n",
    "            images.append(Image.open(r.raw))\n",
    "    return im, images\n",
    "\n",
    "def save_tif(output, op):\n",
    "    new_name = (op / output['new_filename']).with_suffix('.tif')\n",
    "    im, images = create_tif_image(output['image_urls'])\n",
    "    im.save(f'{new_name}', save_all=True, append_images=images)\n",
    "    return im, images\n",
    "    "
   ]
  },
  {
   "cell_type": "code",
   "execution_count": 41,
   "metadata": {
    "tags": [
     "test"
    ]
   },
   "outputs": [
    {
     "ename": "NameError",
     "evalue": "name 'move_files' is not defined",
     "output_type": "error",
     "traceback": [
      "\u001b[1;31m---------------------------------------------------------------------------\u001b[0m",
      "\u001b[1;31mNameError\u001b[0m                                 Traceback (most recent call last)",
      "\u001b[1;32m<ipython-input-41-00b5a65a4e2a>\u001b[0m in \u001b[0;36m<module>\u001b[1;34m\u001b[0m\n\u001b[1;32m----> 1\u001b[1;33m \u001b[0mmove_files\u001b[0m\u001b[1;33m(\u001b[0m\u001b[0mtest_sp\u001b[0m\u001b[1;33m,\u001b[0m \u001b[0mtest_file\u001b[0m\u001b[1;33m,\u001b[0m \u001b[0mtest_ip\u001b[0m\u001b[1;33m)\u001b[0m\u001b[1;33m\u001b[0m\u001b[1;33m\u001b[0m\u001b[0m\n\u001b[0m\u001b[0;32m      2\u001b[0m \u001b[0mwrite_json_simple\u001b[0m\u001b[1;33m(\u001b[0m\u001b[0mtest_ip\u001b[0m \u001b[1;33m/\u001b[0m \u001b[0mtest_output\u001b[0m\u001b[1;33m[\u001b[0m\u001b[1;34m'header'\u001b[0m\u001b[1;33m]\u001b[0m\u001b[1;33m[\u001b[0m\u001b[1;34m'filename'\u001b[0m\u001b[1;33m]\u001b[0m\u001b[1;33m,\u001b[0m \u001b[0mtest_output\u001b[0m\u001b[1;33m)\u001b[0m\u001b[1;33m\u001b[0m\u001b[1;33m\u001b[0m\u001b[0m\n\u001b[0;32m      3\u001b[0m \u001b[0mmove_from_input\u001b[0m\u001b[1;33m(\u001b[0m\u001b[0mapi_key\u001b[0m\u001b[1;33m,\u001b[0m \u001b[0mtest_document\u001b[0m\u001b[1;33m,\u001b[0m \u001b[0mtest_ip\u001b[0m\u001b[1;33m,\u001b[0m \u001b[0mtest_lp\u001b[0m\u001b[1;33m,\u001b[0m \u001b[0mtest_op\u001b[0m\u001b[1;33m,\u001b[0m \u001b[0mtest_jp\u001b[0m\u001b[1;33m)\u001b[0m\u001b[1;33m\u001b[0m\u001b[1;33m\u001b[0m\u001b[0m\n",
      "\u001b[1;31mNameError\u001b[0m: name 'move_files' is not defined"
     ]
    }
   ],
   "source": [
    "move_files(test_sp, test_file, test_ip)\n",
    "write_json_simple(test_ip / test_output['header']['filename'], test_output)\n",
    "move_from_input(api_key, test_document, test_ip, test_lp, test_op, test_jp)"
   ]
  },
  {
   "cell_type": "markdown",
   "metadata": {},
   "source": [
    "## Formatting XML for upload into Xtracta's database\n",
    "\n",
    "Take a list of dicts and format it for uploading to Xtracta's database API"
   ]
  },
  {
   "cell_type": "code",
   "execution_count": 44,
   "metadata": {},
   "outputs": [],
   "source": [
    "def update_database_data(api_key, database_id, out, refresh):\n",
    "    documents_url = 'https://api-app.xtracta.com/v1/databases/data_add'\n",
    "    data = {'api_key': api_key, 'database_id': int(database_id), 'data': out, 'refresh': refresh}\n",
    "    r = requests.post(documents_url, data=data)\n",
    "    response = xmltodict.parse(r.text)\n",
    "    return response"
   ]
  },
  {
   "cell_type": "code",
   "execution_count": 45,
   "metadata": {},
   "outputs": [],
   "source": [
    "def build_xml_data(supplier_data_dict):\n",
    "    xml_rows = []\n",
    "    for row in supplier_data_dict:\n",
    "        po = {'column': [{'@id': '55261', '#text': f\"{row['po_number']}\"}, \n",
    "                         {'@id': '55264', '#text': f\"{row['supplier_number']}\"},\n",
    "                         {'@id': '60223', '#text': f\"{row['line_number']}\"},\n",
    "                         {'@id': '58133', '#text': f\"{row['abn']}\"},\n",
    "                         {'@id': '58134', '#text': f\"{row['bsb']}\"},\n",
    "                         {'@id': '58135', '#text': f\"{row['bank_account']}\"},\n",
    "                         {'@id': '58242', '#text': f\"{row['supplier_name']}\"}]}\n",
    "        xml_rows.append(po)\n",
    "    xml_data = {'xml': {'row': xml_rows}}\n",
    "    return xmltodict.unparse(xml_data, pretty=True)"
   ]
  },
  {
   "cell_type": "markdown",
   "metadata": {},
   "source": [
    "## Put PO line numbers in lines"
   ]
  },
  {
   "cell_type": "code",
   "execution_count": 64,
   "metadata": {},
   "outputs": [],
   "source": [
    "def get_best_match(output, po_lines):\n",
    "    \"\"\"\n",
    "    Matches each line in an invoice with the closest match from a PO. The match is first attempted by stock_code.\n",
    "    If that fails, it attempts a fuzzy match against description.\n",
    "    \n",
    "    Parameters\n",
    "    ----------\n",
    "    \n",
    "    output: dict\n",
    "        The output is a dict of the invoice. It contains a lines element that holds lines. Each line has a po_item \n",
    "        that matches the stock_code column in the po_lines dataframe. \n",
    "        \n",
    "    po_lines: dataframe\n",
    "        po_lines is a dataframe that lists the po_lines from the PO linked to the invoice. The dataframe has a stock_code\n",
    "        column and a stock_description column that is used to match to the po_item and desciption elements in the lines\n",
    "        element of the output dictionary.\n",
    "        \n",
    "    returns\n",
    "    -------\n",
    "    \n",
    "    Returns the output dictionary with the po_line_number element filled in.\n",
    "    \n",
    "    \"\"\"\n",
    "    is_po = po_lines['po_number'] == output['header']['po_number']\n",
    "    filtered_pos = po_lines[is_po]\n",
    "    filtered_pos = filtered_pos[['stock_code', 'stock_description', 'qty', 'line_number']]\n",
    "    filtered_pos_list = filtered_pos.to_dict(orient='records')\n",
    "    filtered_pos = filtered_pos.set_index('stock_code')\n",
    "    display(filtered_pos.head())\n",
    "    filtered_pos_dict = filtered_pos.to_dict(orient='index')\n",
    "    matches = []\n",
    "    for i, line in enumerate(output['lines']):\n",
    "        best_match_line_number = 0\n",
    "        best_match_result = 0\n",
    "        if filtered_pos_dict.get(line['po_item'], '') != '': # remove +'y' for production\n",
    "            output['lines'][i]['po_line_number'] = filtered_pos_dict[line['po_item']]['line_number']\n",
    "        else:\n",
    "#             print(line['description'])\n",
    "            best_match_line_number = ''\n",
    "            for j, po_line in enumerate(filtered_pos_list):\n",
    "                match_result = fuzz.partial_ratio(line['description'], po_line['stock_description'])\n",
    "                try: \n",
    "                    if float(line['qty']) == float(po_line['qty']):\n",
    "                        match_result += 10\n",
    "                except:\n",
    "                    pass\n",
    "#                 print(float(line['qty']), float(po_line['qty']), match_result)            \n",
    "                if match_result > best_match_result and match_result not in matches:\n",
    "                    best_match_result = match_result\n",
    "                    best_match_line_number = j+1\n",
    "#                 print(' --', match_result, po_line['stock_description'])\n",
    "#             print(best_match_result, best_match_line_number)\n",
    "#             print()\n",
    "            output['lines'][i]['po_line_number'] = best_match_line_number\n",
    "            matches.append(best_match_line_number)\n",
    "#     print(matches)\n",
    "    return output"
   ]
  },
  {
   "cell_type": "code",
   "execution_count": 65,
   "metadata": {
    "tags": [
     "test"
    ]
   },
   "outputs": [
    {
     "data": {
      "text/html": [
       "<div>\n",
       "<style scoped>\n",
       "    .dataframe tbody tr th:only-of-type {\n",
       "        vertical-align: middle;\n",
       "    }\n",
       "\n",
       "    .dataframe tbody tr th {\n",
       "        vertical-align: top;\n",
       "    }\n",
       "\n",
       "    .dataframe thead th {\n",
       "        text-align: right;\n",
       "    }\n",
       "</style>\n",
       "<table border=\"1\" class=\"dataframe\">\n",
       "  <thead>\n",
       "    <tr style=\"text-align: right;\">\n",
       "      <th></th>\n",
       "      <th>Unnamed: 0</th>\n",
       "      <th>po_number</th>\n",
       "      <th>line_number</th>\n",
       "      <th>po_date</th>\n",
       "      <th>supplier_number</th>\n",
       "      <th>supplier_name</th>\n",
       "      <th>stock_code</th>\n",
       "      <th>qty</th>\n",
       "      <th>item_name_line</th>\n",
       "      <th>stock_description</th>\n",
       "    </tr>\n",
       "  </thead>\n",
       "  <tbody>\n",
       "    <tr>\n",
       "      <th>0</th>\n",
       "      <td>107787</td>\n",
       "      <td>T81768</td>\n",
       "      <td>1</td>\n",
       "      <td>2019-01-11</td>\n",
       "      <td>030056</td>\n",
       "      <td>L &amp; H GROUP T/A AUSLEC</td>\n",
       "      <td>1055722</td>\n",
       "      <td>20.00</td>\n",
       "      <td>WHEEL, ABRASIVE:</td>\n",
       "      <td>100 MM X 2.5 MM X 16 MM, REINFORCED CUTTING OF...</td>\n",
       "    </tr>\n",
       "    <tr>\n",
       "      <th>1</th>\n",
       "      <td>107788</td>\n",
       "      <td>T81768</td>\n",
       "      <td>2</td>\n",
       "      <td>2019-01-11</td>\n",
       "      <td>030056</td>\n",
       "      <td>L &amp; H GROUP T/A AUSLEC</td>\n",
       "      <td>360553</td>\n",
       "      <td>1.00</td>\n",
       "      <td>BOOTS, SAFETY:</td>\n",
       "      <td>SIZE 9 1/2, HI LEG, ZIP SIDED, LACE UP BOOT, N...</td>\n",
       "    </tr>\n",
       "    <tr>\n",
       "      <th>2</th>\n",
       "      <td>107789</td>\n",
       "      <td>T81768</td>\n",
       "      <td>3</td>\n",
       "      <td>2019-01-11</td>\n",
       "      <td>030056</td>\n",
       "      <td>L &amp; H GROUP T/A AUSLEC</td>\n",
       "      <td>359955</td>\n",
       "      <td>5.00</td>\n",
       "      <td>SHIRT, UTILITY:</td>\n",
       "      <td>SIZE-L,TWO TONE(OPEN) WITH REFLECTIVE TAPE,YEL...</td>\n",
       "    </tr>\n",
       "    <tr>\n",
       "      <th>3</th>\n",
       "      <td>107790</td>\n",
       "      <td>T81768</td>\n",
       "      <td>4</td>\n",
       "      <td>2019-01-11</td>\n",
       "      <td>030056</td>\n",
       "      <td>L &amp; H GROUP T/A AUSLEC</td>\n",
       "      <td>3006624</td>\n",
       "      <td>240.00</td>\n",
       "      <td>TISSUE, FACIAL:</td>\n",
       "      <td>2 PLY,210 MM X 205 MM, 100 TISSUES PER BOX.</td>\n",
       "    </tr>\n",
       "    <tr>\n",
       "      <th>4</th>\n",
       "      <td>107791</td>\n",
       "      <td>T81768</td>\n",
       "      <td>5</td>\n",
       "      <td>2019-01-11</td>\n",
       "      <td>030056</td>\n",
       "      <td>L &amp; H GROUP T/A AUSLEC</td>\n",
       "      <td>3584513</td>\n",
       "      <td>6.00</td>\n",
       "      <td>SHIRT, UTILITY:</td>\n",
       "      <td>SIZE-2XL(46CM NECK)TWOTONE(CLOSED)FRONT YELLOW...</td>\n",
       "    </tr>\n",
       "  </tbody>\n",
       "</table>\n",
       "</div>"
      ],
      "text/plain": [
       "   Unnamed: 0 po_number  line_number     po_date supplier_number  \\\n",
       "0      107787    T81768            1  2019-01-11          030056   \n",
       "1      107788    T81768            2  2019-01-11          030056   \n",
       "2      107789    T81768            3  2019-01-11          030056   \n",
       "3      107790    T81768            4  2019-01-11          030056   \n",
       "4      107791    T81768            5  2019-01-11          030056   \n",
       "\n",
       "            supplier_name stock_code     qty    item_name_line  \\\n",
       "0  L & H GROUP T/A AUSLEC    1055722   20.00  WHEEL, ABRASIVE:   \n",
       "1  L & H GROUP T/A AUSLEC     360553    1.00    BOOTS, SAFETY:   \n",
       "2  L & H GROUP T/A AUSLEC     359955    5.00   SHIRT, UTILITY:   \n",
       "3  L & H GROUP T/A AUSLEC    3006624  240.00   TISSUE, FACIAL:   \n",
       "4  L & H GROUP T/A AUSLEC    3584513    6.00   SHIRT, UTILITY:   \n",
       "\n",
       "                                   stock_description  \n",
       "0  100 MM X 2.5 MM X 16 MM, REINFORCED CUTTING OF...  \n",
       "1  SIZE 9 1/2, HI LEG, ZIP SIDED, LACE UP BOOT, N...  \n",
       "2  SIZE-L,TWO TONE(OPEN) WITH REFLECTIVE TAPE,YEL...  \n",
       "3        2 PLY,210 MM X 205 MM, 100 TISSUES PER BOX.  \n",
       "4  SIZE-2XL(46CM NECK)TWOTONE(CLOSED)FRONT YELLOW...  "
      ]
     },
     "execution_count": 65,
     "metadata": {},
     "output_type": "execute_result"
    }
   ],
   "source": [
    "test_od = Path('C:/Users/hudge/Desktop/2019_projects/transgrid_ap/other_data')\n",
    "po_lines = pd.read_csv(test_od / 'po_line_data.csv')\n",
    "po_lines.stock_code = po_lines.stock_code.apply(lambda x: '{0:.2f}'.format(x).rstrip('0').rstrip('.'))\n",
    "po_lines.stock_code = po_lines.stock_code.astype('str')\n",
    "po_lines.head()"
   ]
  },
  {
   "cell_type": "code",
   "execution_count": 66,
   "metadata": {
    "tags": [
     "test"
    ]
   },
   "outputs": [
    {
     "data": {
      "text/plain": [
       "{'document_id': '100705962',\n",
       " 'status': 'output',\n",
       " 'version': '3',\n",
       " 'header': {'supplier_abn': '76052484483',\n",
       "  'abn_from_db_by_po': '76052484483',\n",
       "  'supplier': 'RELAY MONITORING SYSTEMS PTY LTD',\n",
       "  'supplier_id': '009098',\n",
       "  'invoice_date': '2019-01-09',\n",
       "  'invoice_number': '42504',\n",
       "  'po_number': 'T81293',\n",
       "  'net_total': '14820.00',\n",
       "  'gst_total': '1482.00',\n",
       "  'gross_total': '16302.00',\n",
       "  'freight': '50.00',\n",
       "  'bsb_number': '063159',\n",
       "  'bank_account_number': '10006635',\n",
       "  'line_count': '3',\n",
       "  'filename': '20190124RelayMonitoring',\n",
       "  'account_number': None,\n",
       "  'period_start_date': None,\n",
       "  'period_end_date': None,\n",
       "  'email_date': '2019-02-01'},\n",
       " 'stem': '20190124RelayMonitoring',\n",
       " 'new_filename': '009098-42504',\n",
       " 'document_url': 'https://web1-akl.xtracta.com/akl_northcote_storage2_datasource4/1/fe/92/iq205042603-6WMH3CAqF.pdf',\n",
       " 'image_urls': ['https://web1-akl.xtracta.com/akl_northcote_storage2_datasource4/1/15/c9/ds100705962-iq205042603-6WMH3CAqF4900-1-800.jpg'],\n",
       " 'lines': [{'po_item': None,\n",
       "   'description': '2H5M518D2-E-14M02B-4M5651- 6R MATRIX Trip Relay - Size D - H/ER Flag (SM76114 / 2HS/L14 - 2HS518K02) 2HS518K02',\n",
       "   'qty': '6.0',\n",
       "   'line_net': '10,488.00',\n",
       "   'po_line_number': None},\n",
       "  {'po_item': '3550258',\n",
       "   'description': '2V73-AAA- High Impedance Differential Relay (3550258 - 2V73K1)',\n",
       "   'qty': '1.0',\n",
       "   'line_net': '810.00',\n",
       "   'po_line_number': None},\n",
       "  {'po_item': None,\n",
       "   'description': '2V75-A-S27-ABBB- Metrosil / Resistor Module',\n",
       "   'qty': '2.0',\n",
       "   'line_net': '3,472.00',\n",
       "   'po_line_number': None}]}"
      ]
     },
     "execution_count": 66,
     "metadata": {},
     "output_type": "execute_result"
    }
   ],
   "source": [
    "document = get_document(api_key, 100705962)\n",
    "output = create_output(document)\n",
    "output['lines'] = get_lines(document)\n",
    "output"
   ]
  },
  {
   "cell_type": "code",
   "execution_count": 67,
   "metadata": {
    "tags": [
     "test"
    ]
   },
   "outputs": [
    {
     "data": {
      "text/html": [
       "<div>\n",
       "<style scoped>\n",
       "    .dataframe tbody tr th:only-of-type {\n",
       "        vertical-align: middle;\n",
       "    }\n",
       "\n",
       "    .dataframe tbody tr th {\n",
       "        vertical-align: top;\n",
       "    }\n",
       "\n",
       "    .dataframe thead th {\n",
       "        text-align: right;\n",
       "    }\n",
       "</style>\n",
       "<table border=\"1\" class=\"dataframe\">\n",
       "  <thead>\n",
       "    <tr style=\"text-align: right;\">\n",
       "      <th></th>\n",
       "      <th>stock_description</th>\n",
       "      <th>qty</th>\n",
       "      <th>line_number</th>\n",
       "    </tr>\n",
       "    <tr>\n",
       "      <th>stock_code</th>\n",
       "      <th></th>\n",
       "      <th></th>\n",
       "      <th></th>\n",
       "    </tr>\n",
       "  </thead>\n",
       "  <tbody>\n",
       "    <tr>\n",
       "      <th>3550233</th>\n",
       "      <td>PROTECTION RELAY,2HS/L14, RMS LATCHING MULTITR...</td>\n",
       "      <td>6.00</td>\n",
       "      <td>1</td>\n",
       "    </tr>\n",
       "    <tr>\n",
       "      <th>3550258</th>\n",
       "      <td>PROTECTION RELAY,RMS HIGH IMPEDANCE DIFFERENTI...</td>\n",
       "      <td>1.00</td>\n",
       "      <td>2</td>\n",
       "    </tr>\n",
       "    <tr>\n",
       "      <th>362386</th>\n",
       "      <td>METROSIL C/W STABILISING RESISTOR 4K OHMS 100W...</td>\n",
       "      <td>2.00</td>\n",
       "      <td>3</td>\n",
       "    </tr>\n",
       "  </tbody>\n",
       "</table>\n",
       "</div>"
      ],
      "text/plain": [
       "                                            stock_description   qty  \\\n",
       "stock_code                                                            \n",
       "3550233     PROTECTION RELAY,2HS/L14, RMS LATCHING MULTITR...  6.00   \n",
       "3550258     PROTECTION RELAY,RMS HIGH IMPEDANCE DIFFERENTI...  1.00   \n",
       "362386      METROSIL C/W STABILISING RESISTOR 4K OHMS 100W...  2.00   \n",
       "\n",
       "            line_number  \n",
       "stock_code               \n",
       "3550233               1  \n",
       "3550258               2  \n",
       "362386                3  "
      ]
     },
     "metadata": {},
     "output_type": "display_data"
    },
    {
     "data": {
      "text/plain": [
       "{'document_id': '100705962',\n",
       " 'status': 'output',\n",
       " 'version': '3',\n",
       " 'header': {'supplier_abn': '76052484483',\n",
       "  'abn_from_db_by_po': '76052484483',\n",
       "  'supplier': 'RELAY MONITORING SYSTEMS PTY LTD',\n",
       "  'supplier_id': '009098',\n",
       "  'invoice_date': '2019-01-09',\n",
       "  'invoice_number': '42504',\n",
       "  'po_number': 'T81293',\n",
       "  'net_total': '14820.00',\n",
       "  'gst_total': '1482.00',\n",
       "  'gross_total': '16302.00',\n",
       "  'freight': '50.00',\n",
       "  'bsb_number': '063159',\n",
       "  'bank_account_number': '10006635',\n",
       "  'line_count': '3',\n",
       "  'filename': '20190124RelayMonitoring',\n",
       "  'account_number': None,\n",
       "  'period_start_date': None,\n",
       "  'period_end_date': None,\n",
       "  'email_date': '2019-02-01'},\n",
       " 'stem': '20190124RelayMonitoring',\n",
       " 'new_filename': '009098-42504',\n",
       " 'document_url': 'https://web1-akl.xtracta.com/akl_northcote_storage2_datasource4/1/fe/92/iq205042603-6WMH3CAqF.pdf',\n",
       " 'image_urls': ['https://web1-akl.xtracta.com/akl_northcote_storage2_datasource4/1/15/c9/ds100705962-iq205042603-6WMH3CAqF4900-1-800.jpg'],\n",
       " 'lines': [{'po_item': None,\n",
       "   'description': '2H5M518D2-E-14M02B-4M5651- 6R MATRIX Trip Relay - Size D - H/ER Flag (SM76114 / 2HS/L14 - 2HS518K02) 2HS518K02',\n",
       "   'qty': '6.0',\n",
       "   'line_net': '10,488.00',\n",
       "   'po_line_number': 1},\n",
       "  {'po_item': '3550258',\n",
       "   'description': '2V73-AAA- High Impedance Differential Relay (3550258 - 2V73K1)',\n",
       "   'qty': '1.0',\n",
       "   'line_net': '810.00',\n",
       "   'po_line_number': 2},\n",
       "  {'po_item': None,\n",
       "   'description': '2V75-A-S27-ABBB- Metrosil / Resistor Module',\n",
       "   'qty': '2.0',\n",
       "   'line_net': '3,472.00',\n",
       "   'po_line_number': 3}]}"
      ]
     },
     "execution_count": 67,
     "metadata": {},
     "output_type": "execute_result"
    }
   ],
   "source": [
    "get_best_match(output, po_lines)"
   ]
  },
  {
   "cell_type": "markdown",
   "metadata": {},
   "source": [
    "## Build HTML file for handling rejections"
   ]
  },
  {
   "cell_type": "code",
   "execution_count": null,
   "metadata": {},
   "outputs": [],
   "source": [
    "def create_html_section(data, html_template):\n",
    "    template = Template(html_template)\n",
    "    html = template.render(data=data)\n",
    "    return html\n",
    "\n",
    "\n",
    "reject_queue_html_template = \"\"\"\n",
    "    <div class=\"column is-full\">\n",
    "        <p><strong>Total number of rejects in queue: {{data.reject_count}}</strong></p>\n",
    "    </div>\n",
    "    <div class=\"column is-full\">  \n",
    "        <h2><strong>{{data.output.header.supplier}}</strong></h2>\n",
    "        <p><strong>Invoice number:</strong> {{data.output.header.invoice_number}}</p>\n",
    "    </div>\n",
    "    <div class=\"column is-two-fifths\">\n",
    "    <section class=\"section has-text-right\">\n",
    "        <p><strong>Net:</strong> {{\"$%.2f\"|format(data.output.header.net_total|float)}}</p>\n",
    "        <p><strong>GST:</strong> {{\"$%.2f\"|format(data.output.header.gst_total|float)}}</p>\n",
    "        <p><strong>Total:</strong> {{\"$%.2f\"|format(data.output.header.gross_total|float)}}</p>\n",
    "    </section>\n",
    "    <section class=\"section\">\n",
    "        <table class=\"table\">\n",
    "        <thead><tr><th>Field</th><th>Message</th></tr></thead>\n",
    "        <tbody>\n",
    "        {% for message in data.messages %}\n",
    "        <tr>\n",
    "            <th>{{message.field}}</th>\n",
    "            <td>{{message.message}}</td>\n",
    "        </tr>\n",
    "        {% endfor %}\n",
    "        </tbody>\n",
    "        </table>\n",
    "    </section>\n",
    "    </div>\n",
    "    <div class=\"column is-three-fifths has-text-centered\">\n",
    "        <p><a href=\"{{data.review_link}}\" target=\"_blank\">Review invoice</a></p>\n",
    "        <p><img src=\"{{data.invoice_image}}\" alt=\"Invoice Image\" width=\"250\"></p>\n",
    "    </div>\n",
    "\"\"\"\n",
    "\n",
    "\n",
    "def get_reject_html(api_key, workflow_id, status, html_template):\n",
    "    queue = get_xtracta_status(api_key, workflow_id, status)\n",
    "    reject_count = len(queue)\n",
    "    document_id = queue[0][\"document_id\"]\n",
    "    reasons = queue[0][\"rejection\"][\"reason\"]\n",
    "    messages = get_reject_info(api_key, document_id, reasons)\n",
    "    document = get_document(api_key, document_id)\n",
    "    image_url = document[\"documents_response\"][\"document\"][\"image_url\"][0]\n",
    "    output = create_output(document)\n",
    "    review_link = open_document_ui(api_key, document_id)\n",
    "    data = {\n",
    "        \"output\": output,\n",
    "        \"reject_count\": reject_count,\n",
    "        \"review_link\": review_link,\n",
    "        \"invoice_image\": image_url,\n",
    "        \"messages\": messages,\n",
    "    }\n",
    "    html = create_html_section(data=data, html_template=html_template)\n",
    "    return html\n"
   ]
  },
  {
   "cell_type": "code",
   "execution_count": null,
   "metadata": {},
   "outputs": [],
   "source": [
    "def get_reject_info(api_key, document_id, reasons):\n",
    "    messages = []\n",
    "    document = get_document(api_key, document_id)\n",
    "    field_ids = get_field_ids(document)\n",
    "    if type(reasons) != list:\n",
    "        field_id = reasons[\"linked_field\"][\"field_id\"]\n",
    "        message = reasons[\"message\"]\n",
    "        messages.append({\"field\": field_ids[field_id], \"message\": message})\n",
    "    else:\n",
    "        for sub_item in reasons:\n",
    "            field_id = sub_item[\"linked_field\"][\"field_id\"]\n",
    "            message = sub_item[\"message\"]\n",
    "            messages.append({\"field\": field_ids[field_id], \"message\": message})\n",
    "    return messages\n",
    "\n",
    "\n",
    "def get_field_ids(document):\n",
    "    field_ids = {}\n",
    "    fields = document[\"documents_response\"][\"document\"][\"field_data\"][\"field\"]\n",
    "    for field in fields:\n",
    "        field_ids[field[\"field_id\"]] = field[\"field_name\"]\n",
    "    return field_ids"
   ]
  },
  {
   "cell_type": "markdown",
   "metadata": {},
   "source": [
    "## Build code\n",
    "\n",
    "The remaining cells load the code to PIP"
   ]
  },
  {
   "cell_type": "code",
   "execution_count": 4,
   "metadata": {
    "tags": [
     "build"
    ]
   },
   "outputs": [
    {
     "name": "stderr",
     "output_type": "stream",
     "text": [
      "[NbConvertApp] Converting notebook xtracta.ipynb to python\n",
      "[NbConvertApp] Writing 18289 bytes to xtracta.py\n"
     ]
    },
    {
     "data": {
      "text/plain": [
       "'pipomatic_hudge_xtracta.py'"
      ]
     },
     "execution_count": 4,
     "metadata": {},
     "output_type": "execute_result"
    }
   ],
   "source": [
    "!jupyter nbconvert \\\n",
    "    --TagRemovePreprocessor.enabled=True \\\n",
    "    --TagRemovePreprocessor.remove_cell_tags=\"['build', 'test']\" \\\n",
    "    --TemplateExporter.exclude_output=True \\\n",
    "    --to python \"xtracta.ipynb\"\n",
    "\n",
    "first_line = \"\"\"'Xtracta package'\n",
    "\n",
    "__version__ = '3.3'\n",
    "\n",
    "\"\"\"\n",
    "script_file = Path.cwd() / 'xtracta.py'\n",
    "script = script_file.read_text()\n",
    "script_file.write_text(first_line + script)\n",
    "username = script_file.parent.parent.name\n",
    "system_name = script_file.parent.name\n",
    "standardised_script_name = f'pipomatic_{username}_{system_name}.py'\n",
    "script_file.replace(script_file.parent / standardised_script_name)\n",
    "standardised_script_name"
   ]
  },
  {
   "cell_type": "code",
   "execution_count": 5,
   "metadata": {
    "tags": [
     "build"
    ]
   },
   "outputs": [
    {
     "name": "stderr",
     "output_type": "stream",
     "text": [
      "reformatted pipomatic_hudge_xtracta.py\n",
      "All done! \\u2728 \\U0001f370 \\u2728\n",
      "1 file reformatted.\n"
     ]
    }
   ],
   "source": [
    "!black \"pipomatic_hudge_xtracta.py\""
   ]
  },
  {
   "cell_type": "code",
   "execution_count": null,
   "metadata": {
    "tags": [
     "build"
    ]
   },
   "outputs": [],
   "source": [
    "# !flit publish"
   ]
  },
  {
   "cell_type": "code",
   "execution_count": null,
   "metadata": {},
   "outputs": [],
   "source": []
  }
 ],
 "metadata": {
  "celltoolbar": "Tags",
  "kernelspec": {
   "display_name": "Python 3",
   "language": "python",
   "name": "python3"
  },
  "language_info": {
   "codemirror_mode": {
    "name": "ipython",
    "version": 3
   },
   "file_extension": ".py",
   "mimetype": "text/x-python",
   "name": "python",
   "nbconvert_exporter": "python",
   "pygments_lexer": "ipython3",
   "version": "3.7.1"
  }
 },
 "nbformat": 4,
 "nbformat_minor": 2
}
