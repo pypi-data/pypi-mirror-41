{
 "cells": [
  {
   "cell_type": "markdown",
   "metadata": {},
   "source": [
    "# Explaining Lag/Lead Operations and Feature Origin Times"
   ]
  },
  {
   "cell_type": "markdown",
   "metadata": {},
   "source": [
    "## Introduction\n",
    "This notebook illustrates a couple concepts that usually only make sense within a time series forecasting scenario:\n",
    "1. lag/lead operations\n",
    "1. `origin_time` for features\n",
    "\n",
    "We start by loading all the necessary components from the AML Package for Forecasting (AMLPF)."
   ]
  },
  {
   "cell_type": "code",
   "execution_count": 1,
   "metadata": {},
   "outputs": [
    {
     "name": "stderr",
     "output_type": "stream",
     "text": [
      "C:\\Users\\kogoly\\AppData\\Local\\amlworkbench\\Python\\envs\\azuremlftk_mar2018\\lib\\site-packages\\statsmodels\\compat\\pandas.py:56: FutureWarning: The pandas.core.datetools module is deprecated and will be removed in a future version. Please use the pandas.tseries module instead.\n",
      "  from pandas.core import datetools\n"
     ]
    },
    {
     "name": "stdout",
     "output_type": "stream",
     "text": [
      "import done\n"
     ]
    }
   ],
   "source": [
    "import pandas as pd\n",
    "import numpy as np\n",
    "from ftk import TimeSeriesDataFrame\n",
    "from ftk.transforms import LagLeadOperator\n",
    "print('import done')"
   ]
  },
  {
   "cell_type": "markdown",
   "metadata": {},
   "source": [
    "We will make a tiny data frame and convert it into a `TimeSeriesDataFrame` to enable AMLPF operations."
   ]
  },
  {
   "cell_type": "code",
   "execution_count": 2,
   "metadata": {},
   "outputs": [
    {
     "data": {
      "text/html": [
       "<div>\n",
       "<style>\n",
       "    .dataframe thead tr:only-child th {\n",
       "        text-align: right;\n",
       "    }\n",
       "\n",
       "    .dataframe thead th {\n",
       "        text-align: left;\n",
       "    }\n",
       "\n",
       "    .dataframe tbody tr th {\n",
       "        vertical-align: top;\n",
       "    }\n",
       "</style>\n",
       "<table border=\"1\" class=\"dataframe\">\n",
       "  <thead>\n",
       "    <tr style=\"text-align: right;\">\n",
       "      <th></th>\n",
       "      <th></th>\n",
       "      <th>sales</th>\n",
       "    </tr>\n",
       "    <tr>\n",
       "      <th>date</th>\n",
       "      <th>brand</th>\n",
       "      <th></th>\n",
       "    </tr>\n",
       "  </thead>\n",
       "  <tbody>\n",
       "    <tr>\n",
       "      <th>2018-01-01</th>\n",
       "      <th>A</th>\n",
       "      <td>1.00</td>\n",
       "    </tr>\n",
       "    <tr>\n",
       "      <th>2018-01-02</th>\n",
       "      <th>A</th>\n",
       "      <td>2.00</td>\n",
       "    </tr>\n",
       "    <tr>\n",
       "      <th>2018-01-03</th>\n",
       "      <th>A</th>\n",
       "      <td>3.00</td>\n",
       "    </tr>\n",
       "  </tbody>\n",
       "</table>\n",
       "</div>"
      ],
      "text/plain": [
       "                  sales\n",
       "date       brand       \n",
       "2018-01-01 A       1.00\n",
       "2018-01-02 A       2.00\n",
       "2018-01-03 A       3.00"
      ]
     },
     "execution_count": 2,
     "metadata": {},
     "output_type": "execute_result"
    }
   ],
   "source": [
    "small_df = pd.DataFrame({\n",
    "    'date': pd.to_datetime(['2018-01-01', '2018-01-02', '2018-01-03'])\n",
    "    , 'brand': ['A'] * 3 \n",
    "    , 'sales' : [1.0, 2.0, 3.0]\n",
    "})\n",
    "tsdf = TimeSeriesDataFrame(small_df, time_colname='date', grain_colnames='brand', ts_value_colname='sales')\n",
    "tsdf"
   ]
  },
  {
   "cell_type": "markdown",
   "metadata": {},
   "source": [
    "## How Lags Work\n",
    "In time series, you use the information about the past to predict the future. Lags are previous values of a time series that are often highly predictive of what will happen in the future. \n",
    "\n",
    "In AMLPF we use the following definition of `Lag1`:\n",
    "* For a time series `x`, the value of `x_lag1` is the most recent value of `x` that is known to us at the time of constructing the forecast.\n",
    "\n",
    "Mathematically, $L(x_t) = x_{t-1}$ for a time series $x_t$."
   ]
  },
  {
   "cell_type": "markdown",
   "metadata": {},
   "source": [
    "Let's work through an example. It implictly assumes we are interested in a one-step-ahead forecast, an assumption we will relax in a bit.\n",
    "1. Consider forecasting `sales` on `2018-01-01`. In a one-step-ahead scenario, the forecast would have to be constructed on `2017-12-31`. The most recent value of `sales` available on that date is not known to us - lag features almost always have this \"initial condition\" problem. Hence the value of `sales_lag1` for `2018-01-01` should be `NaN`.\n",
    "1. Next, consider forecasting `sales` on `2018-01-02`. In a one-step-ahead scenario, the forecast would have to be constructed on `2018-01-01`. The most recent value of `sales` available on that date is valu of `sales` from `2018-01-01`, which is `1.0`, hence the value of `sales_lag1` for `2018-01-02` should be `1.0`.\n",
    "1. By the same line of reasoning, the value of `sales_lag1` for `2018-01-03` should be `2.0`."
   ]
  },
  {
   "cell_type": "markdown",
   "metadata": {},
   "source": [
    "Closely related to the concept of lags is another concept of \"leads\". Simply put, lead operator is the inverse of the lag operator, so $F(x_t)=x_{t+1}$ for a time series $x_t$. As one would imagine, $F(L(x_t))=x_t$. \n",
    "\n",
    "With a clear understanding of `Lag1`, understanding all other lags and leads is straightforward:\n",
    "* Lag 2 would be the previous value to that of Lag 1.\n",
    "* Lead 0 would be the next value that follows after the Lag 1 value.\n",
    "* All other lags and leads will work similarly with the corresponding offset.\n",
    "\n",
    "Let's now demonstrate this calculation using the `LagLeadOperator()` from the AMLPF. \n",
    "* Notice that AMLPF uses \"lead\" to signal that the feature uses values that are generally not known at the time of forecast creation. \n",
    "* Most of the time we would not use such features, but sometimes we may. \n",
    "  * An example would be using future prices to forecast sales of products for which we have the ability to set prices in advance."
   ]
  },
  {
   "cell_type": "code",
   "execution_count": 3,
   "metadata": {},
   "outputs": [
    {
     "data": {
      "text/html": [
       "<div>\n",
       "<style>\n",
       "    .dataframe thead tr:only-child th {\n",
       "        text-align: right;\n",
       "    }\n",
       "\n",
       "    .dataframe thead th {\n",
       "        text-align: left;\n",
       "    }\n",
       "\n",
       "    .dataframe tbody tr th {\n",
       "        vertical-align: top;\n",
       "    }\n",
       "</style>\n",
       "<table border=\"1\" class=\"dataframe\">\n",
       "  <thead>\n",
       "    <tr style=\"text-align: right;\">\n",
       "      <th></th>\n",
       "      <th></th>\n",
       "      <th></th>\n",
       "      <th>sales</th>\n",
       "      <th>sales_lead0</th>\n",
       "      <th>sales_lag1</th>\n",
       "      <th>sales_lag2</th>\n",
       "    </tr>\n",
       "    <tr>\n",
       "      <th>date</th>\n",
       "      <th>brand</th>\n",
       "      <th>origin</th>\n",
       "      <th></th>\n",
       "      <th></th>\n",
       "      <th></th>\n",
       "      <th></th>\n",
       "    </tr>\n",
       "  </thead>\n",
       "  <tbody>\n",
       "    <tr>\n",
       "      <th>2018-01-01</th>\n",
       "      <th>A</th>\n",
       "      <th>2017-12-31</th>\n",
       "      <td>1.00</td>\n",
       "      <td>1.00</td>\n",
       "      <td>nan</td>\n",
       "      <td>nan</td>\n",
       "    </tr>\n",
       "    <tr>\n",
       "      <th>2018-01-02</th>\n",
       "      <th>A</th>\n",
       "      <th>2018-01-01</th>\n",
       "      <td>2.00</td>\n",
       "      <td>2.00</td>\n",
       "      <td>1.00</td>\n",
       "      <td>nan</td>\n",
       "    </tr>\n",
       "    <tr>\n",
       "      <th>2018-01-03</th>\n",
       "      <th>A</th>\n",
       "      <th>2018-01-02</th>\n",
       "      <td>3.00</td>\n",
       "      <td>3.00</td>\n",
       "      <td>2.00</td>\n",
       "      <td>1.00</td>\n",
       "    </tr>\n",
       "  </tbody>\n",
       "</table>\n",
       "</div>"
      ],
      "text/plain": [
       "                             sales  sales_lead0  sales_lag1  sales_lag2\n",
       "date       brand origin                                                \n",
       "2018-01-01 A     2017-12-31   1.00         1.00         nan         nan\n",
       "2018-01-02 A     2018-01-01   2.00         2.00        1.00         nan\n",
       "2018-01-03 A     2018-01-02   3.00         3.00        2.00        1.00"
      ]
     },
     "execution_count": 3,
     "metadata": {},
     "output_type": "execute_result"
    }
   ],
   "source": [
    "lags_dict = {'sales': list(range(0,3))}\n",
    "lag_transform = LagLeadOperator(lags_to_construct=lags_dict)\n",
    "lag_transform.fit(tsdf)\n",
    "lag_transform.transform(tsdf)"
   ]
  },
  {
   "cell_type": "markdown",
   "metadata": {},
   "source": [
    "## Explaining `origin_time`\n",
    "The above output creates a new index column in the `TimeSeriesDataFrame` - `origin`. This column is added by the `LagLeadOperator` to capture the concept of `origin_time`, which is an important forecasting concept that does not get articulated well enough sometimes. \n",
    "Here is the definition used in AMLPF:\n",
    "* `origin_time` represents the latest date from which actual values of all features are assumed to be known with certainty.\n"
   ]
  },
  {
   "cell_type": "markdown",
   "metadata": {},
   "source": [
    "In the first output from `LagLeadOperator()`, we saw the `origin` column added automatically. It uniformly lags the `date` index column by one day. The temporal frequency of the data had been automatically inferred by the `LagLeadOperator()`, and the shift by one is done because the default value of the `max_horizon` input argument is `1`. \n",
    "* When the same date is forecasted from more than one origin, you can construct the difference between origins and dates and use it as a feature. It is commonly referred to as `horizon`, and the `GrainIndexFeaturizer()` module in AMLPF can be used to construct it automatically.\n",
    "\n",
    "We will now illustrate what happens when we are interested in the multi-step forecast. We will first rerun the above code with the `max_horizon` set to `2` and then discuss the results."
   ]
  },
  {
   "cell_type": "code",
   "execution_count": 4,
   "metadata": {},
   "outputs": [
    {
     "data": {
      "text/html": [
       "<div>\n",
       "<style>\n",
       "    .dataframe thead tr:only-child th {\n",
       "        text-align: right;\n",
       "    }\n",
       "\n",
       "    .dataframe thead th {\n",
       "        text-align: left;\n",
       "    }\n",
       "\n",
       "    .dataframe tbody tr th {\n",
       "        vertical-align: top;\n",
       "    }\n",
       "</style>\n",
       "<table border=\"1\" class=\"dataframe\">\n",
       "  <thead>\n",
       "    <tr style=\"text-align: right;\">\n",
       "      <th></th>\n",
       "      <th></th>\n",
       "      <th></th>\n",
       "      <th>sales</th>\n",
       "      <th>sales_lead0</th>\n",
       "      <th>sales_lag1</th>\n",
       "      <th>sales_lag2</th>\n",
       "    </tr>\n",
       "    <tr>\n",
       "      <th>date</th>\n",
       "      <th>brand</th>\n",
       "      <th>origin</th>\n",
       "      <th></th>\n",
       "      <th></th>\n",
       "      <th></th>\n",
       "      <th></th>\n",
       "    </tr>\n",
       "  </thead>\n",
       "  <tbody>\n",
       "    <tr>\n",
       "      <th rowspan=\"2\" valign=\"top\">2018-01-01</th>\n",
       "      <th rowspan=\"2\" valign=\"top\">A</th>\n",
       "      <th>2017-12-30</th>\n",
       "      <td>1.00</td>\n",
       "      <td>nan</td>\n",
       "      <td>nan</td>\n",
       "      <td>nan</td>\n",
       "    </tr>\n",
       "    <tr>\n",
       "      <th>2017-12-31</th>\n",
       "      <td>1.00</td>\n",
       "      <td>1.00</td>\n",
       "      <td>nan</td>\n",
       "      <td>nan</td>\n",
       "    </tr>\n",
       "    <tr>\n",
       "      <th rowspan=\"2\" valign=\"top\">2018-01-02</th>\n",
       "      <th rowspan=\"2\" valign=\"top\">A</th>\n",
       "      <th>2017-12-31</th>\n",
       "      <td>2.00</td>\n",
       "      <td>1.00</td>\n",
       "      <td>nan</td>\n",
       "      <td>nan</td>\n",
       "    </tr>\n",
       "    <tr>\n",
       "      <th>2018-01-01</th>\n",
       "      <td>2.00</td>\n",
       "      <td>2.00</td>\n",
       "      <td>1.00</td>\n",
       "      <td>nan</td>\n",
       "    </tr>\n",
       "    <tr>\n",
       "      <th rowspan=\"2\" valign=\"top\">2018-01-03</th>\n",
       "      <th rowspan=\"2\" valign=\"top\">A</th>\n",
       "      <th>2018-01-01</th>\n",
       "      <td>3.00</td>\n",
       "      <td>2.00</td>\n",
       "      <td>1.00</td>\n",
       "      <td>nan</td>\n",
       "    </tr>\n",
       "    <tr>\n",
       "      <th>2018-01-02</th>\n",
       "      <td>3.00</td>\n",
       "      <td>3.00</td>\n",
       "      <td>2.00</td>\n",
       "      <td>1.00</td>\n",
       "    </tr>\n",
       "  </tbody>\n",
       "</table>\n",
       "</div>"
      ],
      "text/plain": [
       "                             sales  sales_lead0  sales_lag1  sales_lag2\n",
       "date       brand origin                                                \n",
       "2018-01-01 A     2017-12-30   1.00          nan         nan         nan\n",
       "                 2017-12-31   1.00         1.00         nan         nan\n",
       "2018-01-02 A     2017-12-31   2.00         1.00         nan         nan\n",
       "                 2018-01-01   2.00         2.00        1.00         nan\n",
       "2018-01-03 A     2018-01-01   3.00         2.00        1.00         nan\n",
       "                 2018-01-02   3.00         3.00        2.00        1.00"
      ]
     },
     "execution_count": 4,
     "metadata": {},
     "output_type": "execute_result"
    }
   ],
   "source": [
    "lag_transform_horizon2 = LagLeadOperator(lags_to_construct=lags_dict, max_horizon=2)\n",
    "lag_transform_horizon2.fit(tsdf)\n",
    "lag_transform_horizon2.transform(tsdf)"
   ]
  },
  {
   "cell_type": "markdown",
   "metadata": {},
   "source": [
    "Now the `transform()` call returns two rows per each `date`, because we set `max_horizon=2`. Each date in the `origin` column is either `1` or `2` days behind the corresponding `date` value. \n",
    "Notice how value of `sales_lag1` is different for the same `date` depending on `origin`. Consider making forecasts for `2018-01-02` and examine the values of `sales_lag1`:\n",
    "1. When forecast is made on `2017-12-31`, i.e. a two-steps-ahead forecast, value of `sales_lag1` is not available, because `sales` are not known to us in `2017`.\n",
    "1. But when forecast is made on `2018-01-01`, i.e. a one-step-ahead forecast, value of `sales_lag1` _is_ available, because `sales` on `2018-01-01` are known, and are equal to `1.0`. \n",
    "The same exact logic applies to lags of higher order, and to leads. \n",
    "  * Notice, for example, that `sales_lead0` values are only equal to `sales` values in a one-step-ahead subset of the data. In a two-steps-ahead subset, values differ. \n",
    "1. Pay particular attention to row 5, where the `date` is `2018-01-03` and `origin` is `2018-01-01`. This row illustrates how AMLPF's defition of `Lag1` handles multi-step forecasts: \n",
    "  * A naive application of the lag operation would suggest that the value of `sales_lag1` for that row should be value of `sales` from `2018-01-02` - this is, after all, the value from one day prior to the date being forecasted.\n",
    "  * The above naive interpretation would make us use `NaN` value instead of `1`, because on `2018-01-01` value of sales on `2018-01-02` is not yet known.\n",
    "  * Instead, we fall back to our definition: _the value of `lag1` is the most recent value that is known to us at the time of constructing the forecast_. The most recent value of `sales` known on `2018-01-01` is `1`, which is what we use."
   ]
  },
  {
   "cell_type": "markdown",
   "metadata": {},
   "source": [
    "## Caching example with train/test split\n",
    "In a typical data science scenario, the training-testing data split happens randomly, because all records are interchangeable. In time series, this is a recipe for overfitting, and splits have to be done by time, with older data being in the training set, and newer data in the test set.\n",
    "This creates a subtle issue with featurizers such as lags: you need to use some values from the training data to \"patch the holes\" in the testing data. AMLPF handles this automatically for you.\n",
    "The following example illustrates the problem:\n"
   ]
  },
  {
   "cell_type": "code",
   "execution_count": 5,
   "metadata": {},
   "outputs": [
    {
     "data": {
      "text/html": [
       "<div>\n",
       "<style>\n",
       "    .dataframe thead tr:only-child th {\n",
       "        text-align: right;\n",
       "    }\n",
       "\n",
       "    .dataframe thead th {\n",
       "        text-align: left;\n",
       "    }\n",
       "\n",
       "    .dataframe tbody tr th {\n",
       "        vertical-align: top;\n",
       "    }\n",
       "</style>\n",
       "<table border=\"1\" class=\"dataframe\">\n",
       "  <thead>\n",
       "    <tr style=\"text-align: right;\">\n",
       "      <th></th>\n",
       "      <th></th>\n",
       "      <th>sales</th>\n",
       "    </tr>\n",
       "    <tr>\n",
       "      <th>date</th>\n",
       "      <th>brand</th>\n",
       "      <th></th>\n",
       "    </tr>\n",
       "  </thead>\n",
       "  <tbody>\n",
       "    <tr>\n",
       "      <th>2018-01-01</th>\n",
       "      <th>A</th>\n",
       "      <td>1.00</td>\n",
       "    </tr>\n",
       "    <tr>\n",
       "      <th>2018-01-02</th>\n",
       "      <th>A</th>\n",
       "      <td>2.00</td>\n",
       "    </tr>\n",
       "  </tbody>\n",
       "</table>\n",
       "</div>"
      ],
      "text/plain": [
       "                  sales\n",
       "date       brand       \n",
       "2018-01-01 A       1.00\n",
       "2018-01-02 A       2.00"
      ]
     },
     "execution_count": 5,
     "metadata": {},
     "output_type": "execute_result"
    }
   ],
   "source": [
    "train_tsdf = tsdf.iloc[0:2, :]\n",
    "train_tsdf"
   ]
  },
  {
   "cell_type": "code",
   "execution_count": 6,
   "metadata": {},
   "outputs": [
    {
     "data": {
      "text/html": [
       "<div>\n",
       "<style>\n",
       "    .dataframe thead tr:only-child th {\n",
       "        text-align: right;\n",
       "    }\n",
       "\n",
       "    .dataframe thead th {\n",
       "        text-align: left;\n",
       "    }\n",
       "\n",
       "    .dataframe tbody tr th {\n",
       "        vertical-align: top;\n",
       "    }\n",
       "</style>\n",
       "<table border=\"1\" class=\"dataframe\">\n",
       "  <thead>\n",
       "    <tr style=\"text-align: right;\">\n",
       "      <th></th>\n",
       "      <th></th>\n",
       "      <th>sales</th>\n",
       "    </tr>\n",
       "    <tr>\n",
       "      <th>date</th>\n",
       "      <th>brand</th>\n",
       "      <th></th>\n",
       "    </tr>\n",
       "  </thead>\n",
       "  <tbody>\n",
       "    <tr>\n",
       "      <th>2018-01-03</th>\n",
       "      <th>A</th>\n",
       "      <td>3.00</td>\n",
       "    </tr>\n",
       "  </tbody>\n",
       "</table>\n",
       "</div>"
      ],
      "text/plain": [
       "                  sales\n",
       "date       brand       \n",
       "2018-01-03 A       3.00"
      ]
     },
     "execution_count": 6,
     "metadata": {},
     "output_type": "execute_result"
    }
   ],
   "source": [
    "test_tsdf  = tsdf.iloc[2:3, :]\n",
    "test_tsdf"
   ]
  },
  {
   "cell_type": "markdown",
   "metadata": {},
   "source": [
    "We will compute `sales_lag1` via built-in `pandas` method `shift()` first:"
   ]
  },
  {
   "cell_type": "code",
   "execution_count": 7,
   "metadata": {},
   "outputs": [
    {
     "data": {
      "text/html": [
       "<div>\n",
       "<style>\n",
       "    .dataframe thead tr:only-child th {\n",
       "        text-align: right;\n",
       "    }\n",
       "\n",
       "    .dataframe thead th {\n",
       "        text-align: left;\n",
       "    }\n",
       "\n",
       "    .dataframe tbody tr th {\n",
       "        vertical-align: top;\n",
       "    }\n",
       "</style>\n",
       "<table border=\"1\" class=\"dataframe\">\n",
       "  <thead>\n",
       "    <tr style=\"text-align: right;\">\n",
       "      <th></th>\n",
       "      <th></th>\n",
       "      <th>sales_lag1</th>\n",
       "    </tr>\n",
       "    <tr>\n",
       "      <th>date</th>\n",
       "      <th>brand</th>\n",
       "      <th></th>\n",
       "    </tr>\n",
       "  </thead>\n",
       "  <tbody>\n",
       "    <tr>\n",
       "      <th>2018-01-01</th>\n",
       "      <th>A</th>\n",
       "      <td>nan</td>\n",
       "    </tr>\n",
       "    <tr>\n",
       "      <th>2018-01-02</th>\n",
       "      <th>A</th>\n",
       "      <td>1.00</td>\n",
       "    </tr>\n",
       "  </tbody>\n",
       "</table>\n",
       "</div>"
      ],
      "text/plain": [
       "                  sales_lag1\n",
       "date       brand            \n",
       "2018-01-01 A             nan\n",
       "2018-01-02 A            1.00"
      ]
     },
     "execution_count": 7,
     "metadata": {},
     "output_type": "execute_result"
    }
   ],
   "source": [
    "naive_lag_train = train_tsdf.shift(1)\n",
    "naive_lag_train.columns = ['sales_lag1']\n",
    "naive_lag_train"
   ]
  },
  {
   "cell_type": "code",
   "execution_count": 8,
   "metadata": {},
   "outputs": [
    {
     "data": {
      "text/html": [
       "<div>\n",
       "<style>\n",
       "    .dataframe thead tr:only-child th {\n",
       "        text-align: right;\n",
       "    }\n",
       "\n",
       "    .dataframe thead th {\n",
       "        text-align: left;\n",
       "    }\n",
       "\n",
       "    .dataframe tbody tr th {\n",
       "        vertical-align: top;\n",
       "    }\n",
       "</style>\n",
       "<table border=\"1\" class=\"dataframe\">\n",
       "  <thead>\n",
       "    <tr style=\"text-align: right;\">\n",
       "      <th></th>\n",
       "      <th></th>\n",
       "      <th>sales_lag1</th>\n",
       "    </tr>\n",
       "    <tr>\n",
       "      <th>date</th>\n",
       "      <th>brand</th>\n",
       "      <th></th>\n",
       "    </tr>\n",
       "  </thead>\n",
       "  <tbody>\n",
       "    <tr>\n",
       "      <th>2018-01-03</th>\n",
       "      <th>A</th>\n",
       "      <td>nan</td>\n",
       "    </tr>\n",
       "  </tbody>\n",
       "</table>\n",
       "</div>"
      ],
      "text/plain": [
       "                  sales_lag1\n",
       "date       brand            \n",
       "2018-01-03 A             nan"
      ]
     },
     "execution_count": 8,
     "metadata": {},
     "output_type": "execute_result"
    }
   ],
   "source": [
    "naive_lag_test = test_tsdf.shift(1)\n",
    "naive_lag_test.columns = ['sales_lag1']\n",
    "naive_lag_test"
   ]
  },
  {
   "cell_type": "markdown",
   "metadata": {},
   "source": [
    "This is not what we wanted, but `pandas` did exactly what we asked it to do. Operations on the test data frame have no knowledge of the training data and the holes cannot be \"patched\". \n",
    "Now let us do the same thing with `LagLeadOperator()`."
   ]
  },
  {
   "cell_type": "code",
   "execution_count": 9,
   "metadata": {},
   "outputs": [
    {
     "data": {
      "text/html": [
       "<div>\n",
       "<style>\n",
       "    .dataframe thead tr:only-child th {\n",
       "        text-align: right;\n",
       "    }\n",
       "\n",
       "    .dataframe thead th {\n",
       "        text-align: left;\n",
       "    }\n",
       "\n",
       "    .dataframe tbody tr th {\n",
       "        vertical-align: top;\n",
       "    }\n",
       "</style>\n",
       "<table border=\"1\" class=\"dataframe\">\n",
       "  <thead>\n",
       "    <tr style=\"text-align: right;\">\n",
       "      <th></th>\n",
       "      <th></th>\n",
       "      <th></th>\n",
       "      <th>sales</th>\n",
       "      <th>sales_lag1</th>\n",
       "    </tr>\n",
       "    <tr>\n",
       "      <th>date</th>\n",
       "      <th>brand</th>\n",
       "      <th>origin</th>\n",
       "      <th></th>\n",
       "      <th></th>\n",
       "    </tr>\n",
       "  </thead>\n",
       "  <tbody>\n",
       "    <tr>\n",
       "      <th>2018-01-01</th>\n",
       "      <th>A</th>\n",
       "      <th>2017-12-31</th>\n",
       "      <td>1.00</td>\n",
       "      <td>nan</td>\n",
       "    </tr>\n",
       "    <tr>\n",
       "      <th>2018-01-02</th>\n",
       "      <th>A</th>\n",
       "      <th>2018-01-01</th>\n",
       "      <td>2.00</td>\n",
       "      <td>1.00</td>\n",
       "    </tr>\n",
       "  </tbody>\n",
       "</table>\n",
       "</div>"
      ],
      "text/plain": [
       "                             sales  sales_lag1\n",
       "date       brand origin                       \n",
       "2018-01-01 A     2017-12-31   1.00         nan\n",
       "2018-01-02 A     2018-01-01   2.00        1.00"
      ]
     },
     "execution_count": 9,
     "metadata": {},
     "output_type": "execute_result"
    }
   ],
   "source": [
    "lag_with_split = LagLeadOperator(lags_to_construct={'sales': 1})\n",
    "lag_with_split.fit(train_tsdf)\n",
    "lag_with_split.transform(train_tsdf)"
   ]
  },
  {
   "cell_type": "code",
   "execution_count": 10,
   "metadata": {},
   "outputs": [
    {
     "data": {
      "text/html": [
       "<div>\n",
       "<style>\n",
       "    .dataframe thead tr:only-child th {\n",
       "        text-align: right;\n",
       "    }\n",
       "\n",
       "    .dataframe thead th {\n",
       "        text-align: left;\n",
       "    }\n",
       "\n",
       "    .dataframe tbody tr th {\n",
       "        vertical-align: top;\n",
       "    }\n",
       "</style>\n",
       "<table border=\"1\" class=\"dataframe\">\n",
       "  <thead>\n",
       "    <tr style=\"text-align: right;\">\n",
       "      <th></th>\n",
       "      <th></th>\n",
       "      <th></th>\n",
       "      <th>sales</th>\n",
       "      <th>sales_lag1</th>\n",
       "    </tr>\n",
       "    <tr>\n",
       "      <th>date</th>\n",
       "      <th>brand</th>\n",
       "      <th>origin</th>\n",
       "      <th></th>\n",
       "      <th></th>\n",
       "    </tr>\n",
       "  </thead>\n",
       "  <tbody>\n",
       "    <tr>\n",
       "      <th>2018-01-03</th>\n",
       "      <th>A</th>\n",
       "      <th>2018-01-02</th>\n",
       "      <td>3.00</td>\n",
       "      <td>2.00</td>\n",
       "    </tr>\n",
       "  </tbody>\n",
       "</table>\n",
       "</div>"
      ],
      "text/plain": [
       "                             sales  sales_lag1\n",
       "date       brand origin                       \n",
       "2018-01-03 A     2018-01-02   3.00        2.00"
      ]
     },
     "execution_count": 10,
     "metadata": {},
     "output_type": "execute_result"
    }
   ],
   "source": [
    "lag_with_split.transform(test_tsdf)"
   ]
  },
  {
   "cell_type": "markdown",
   "metadata": {},
   "source": [
    "Now this is the result we wanted! And the training data frame was also handled correctly!"
   ]
  }
 ],
 "metadata": {
  "kernelspec": {
   "display_name": "Python 3",
   "language": "python",
   "name": "python3"
  },
  "language_info": {
   "codemirror_mode": {
    "name": "ipython",
    "version": 3
   },
   "file_extension": ".py",
   "mimetype": "text/x-python",
   "name": "python",
   "nbconvert_exporter": "python",
   "pygments_lexer": "ipython3",
   "version": "3.5.2"
  }
 },
 "nbformat": 4,
 "nbformat_minor": 2
}
