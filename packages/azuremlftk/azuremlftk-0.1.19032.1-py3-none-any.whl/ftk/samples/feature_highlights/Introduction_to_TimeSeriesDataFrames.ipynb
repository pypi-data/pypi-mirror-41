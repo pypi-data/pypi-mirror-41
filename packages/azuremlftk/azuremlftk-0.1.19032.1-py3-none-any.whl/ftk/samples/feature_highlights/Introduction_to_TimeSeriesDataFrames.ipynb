{
 "cells": [
  {
   "cell_type": "markdown",
   "metadata": {},
   "source": [
    "# Introduction To TimeSeriesDataFrames\n",
    "\n",
    "The core data structure of the Azure ML Package for Forecasting is the `TimeSeriesDataFrame`.  In this notebook, you will learn about this class and it's children the `ForecastDataFrame` and the `MultiForecastDataFrame`.  However, we expect that if you are using this notebook you are already familiar with the `TimeSeriesDataFrame`'s parent class, the `pandas.DataFrame`.  If you are not already familiar with `pandas.DataFrame`s and in particular `pandas.DataFrame`s with a `MultiIndex`, please check out our notebook titled '*Data wrangling with \"Azure ML Package for Forecasting\" data structures*'.\n",
    "\n",
    "Let's start by importing our data structures. And then we can go over each class and see how they build on eachother."
   ]
  },
  {
   "cell_type": "code",
   "execution_count": 1,
   "metadata": {},
   "outputs": [],
   "source": [
    "import warnings\n",
    "# Suppress warnings\n",
    "warnings.filterwarnings(\"ignore\") \n",
    "import pandas as pd\n",
    "import matplotlib.pyplot as plt\n",
    "from ftk import TimeSeriesDataFrame, ForecastDataFrame, MultiForecastDataFrame\n",
    "from ftk.data import load_dominicks_oj_dataset\n",
    "from ftk.models import Naive, SeasonalNaive, ForecasterUnion"
   ]
  },
  {
   "cell_type": "markdown",
   "metadata": {},
   "source": [
    "## `TimeSeriesDataFrame`\n",
    "\n",
    "The `TimeSeriesDataFrame` is a `pandas.DataFrame` with additional metadata, properties, and functions to provide time series specific functionality. It uses [hierarchical indexing through MultiIndexes](https://pandas.pydata.org/pandas-docs/stable/advanced.html) where more than one one column can be used as an index to provide some of this functionality.  For this notebook we will be working with a dataset of orange juice sales from a number of stores in the greater Chicago area.  We will begin by reading it in."
   ]
  },
  {
   "cell_type": "code",
   "execution_count": 2,
   "metadata": {},
   "outputs": [
    {
     "data": {
      "text/html": [
       "<div>\n",
       "<style>\n",
       "    .dataframe thead tr:only-child th {\n",
       "        text-align: right;\n",
       "    }\n",
       "\n",
       "    .dataframe thead th {\n",
       "        text-align: left;\n",
       "    }\n",
       "\n",
       "    .dataframe tbody tr th {\n",
       "        vertical-align: top;\n",
       "    }\n",
       "</style>\n",
       "<table border=\"1\" class=\"dataframe\">\n",
       "  <thead>\n",
       "    <tr style=\"text-align: right;\">\n",
       "      <th></th>\n",
       "      <th></th>\n",
       "      <th></th>\n",
       "      <th>week</th>\n",
       "      <th>logmove</th>\n",
       "      <th>feat</th>\n",
       "      <th>price</th>\n",
       "      <th>AGE60</th>\n",
       "      <th>EDUC</th>\n",
       "      <th>ETHNIC</th>\n",
       "      <th>INCOME</th>\n",
       "      <th>HHLARGE</th>\n",
       "      <th>WORKWOM</th>\n",
       "      <th>HVAL150</th>\n",
       "      <th>SSTRDIST</th>\n",
       "      <th>SSTRVOL</th>\n",
       "      <th>CPDIST5</th>\n",
       "      <th>CPWVOL5</th>\n",
       "      <th>Quantity</th>\n",
       "      <th>WeekFirstDay</th>\n",
       "    </tr>\n",
       "    <tr>\n",
       "      <th>WeekLastDay</th>\n",
       "      <th>store</th>\n",
       "      <th>brand</th>\n",
       "      <th></th>\n",
       "      <th></th>\n",
       "      <th></th>\n",
       "      <th></th>\n",
       "      <th></th>\n",
       "      <th></th>\n",
       "      <th></th>\n",
       "      <th></th>\n",
       "      <th></th>\n",
       "      <th></th>\n",
       "      <th></th>\n",
       "      <th></th>\n",
       "      <th></th>\n",
       "      <th></th>\n",
       "      <th></th>\n",
       "      <th></th>\n",
       "      <th></th>\n",
       "    </tr>\n",
       "  </thead>\n",
       "  <tbody>\n",
       "    <tr>\n",
       "      <th>1990-06-20 23:59:59</th>\n",
       "      <th>2</th>\n",
       "      <th>dominicks</th>\n",
       "      <td>40</td>\n",
       "      <td>9.26</td>\n",
       "      <td>1</td>\n",
       "      <td>1.59</td>\n",
       "      <td>0.23</td>\n",
       "      <td>0.25</td>\n",
       "      <td>0.11</td>\n",
       "      <td>10.55</td>\n",
       "      <td>0.10</td>\n",
       "      <td>0.30</td>\n",
       "      <td>0.46</td>\n",
       "      <td>2.11</td>\n",
       "      <td>1.14</td>\n",
       "      <td>1.93</td>\n",
       "      <td>0.38</td>\n",
       "      <td>10560</td>\n",
       "      <td>1990-06-14</td>\n",
       "    </tr>\n",
       "    <tr>\n",
       "      <th>1990-08-01 23:59:59</th>\n",
       "      <th>2</th>\n",
       "      <th>dominicks</th>\n",
       "      <td>46</td>\n",
       "      <td>8.99</td>\n",
       "      <td>0</td>\n",
       "      <td>2.69</td>\n",
       "      <td>0.23</td>\n",
       "      <td>0.25</td>\n",
       "      <td>0.11</td>\n",
       "      <td>10.55</td>\n",
       "      <td>0.10</td>\n",
       "      <td>0.30</td>\n",
       "      <td>0.46</td>\n",
       "      <td>2.11</td>\n",
       "      <td>1.14</td>\n",
       "      <td>1.93</td>\n",
       "      <td>0.38</td>\n",
       "      <td>8000</td>\n",
       "      <td>1990-07-26</td>\n",
       "    </tr>\n",
       "    <tr>\n",
       "      <th>1990-08-08 23:59:59</th>\n",
       "      <th>2</th>\n",
       "      <th>dominicks</th>\n",
       "      <td>47</td>\n",
       "      <td>8.83</td>\n",
       "      <td>1</td>\n",
       "      <td>2.09</td>\n",
       "      <td>0.23</td>\n",
       "      <td>0.25</td>\n",
       "      <td>0.11</td>\n",
       "      <td>10.55</td>\n",
       "      <td>0.10</td>\n",
       "      <td>0.30</td>\n",
       "      <td>0.46</td>\n",
       "      <td>2.11</td>\n",
       "      <td>1.14</td>\n",
       "      <td>1.93</td>\n",
       "      <td>0.38</td>\n",
       "      <td>6848</td>\n",
       "      <td>1990-08-02</td>\n",
       "    </tr>\n",
       "    <tr>\n",
       "      <th>1990-08-15 23:59:59</th>\n",
       "      <th>2</th>\n",
       "      <th>dominicks</th>\n",
       "      <td>48</td>\n",
       "      <td>7.97</td>\n",
       "      <td>0</td>\n",
       "      <td>2.09</td>\n",
       "      <td>0.23</td>\n",
       "      <td>0.25</td>\n",
       "      <td>0.11</td>\n",
       "      <td>10.55</td>\n",
       "      <td>0.10</td>\n",
       "      <td>0.30</td>\n",
       "      <td>0.46</td>\n",
       "      <td>2.11</td>\n",
       "      <td>1.14</td>\n",
       "      <td>1.93</td>\n",
       "      <td>0.38</td>\n",
       "      <td>2880</td>\n",
       "      <td>1990-08-09</td>\n",
       "    </tr>\n",
       "    <tr>\n",
       "      <th>1990-08-29 23:59:59</th>\n",
       "      <th>2</th>\n",
       "      <th>dominicks</th>\n",
       "      <td>50</td>\n",
       "      <td>7.38</td>\n",
       "      <td>0</td>\n",
       "      <td>2.09</td>\n",
       "      <td>0.23</td>\n",
       "      <td>0.25</td>\n",
       "      <td>0.11</td>\n",
       "      <td>10.55</td>\n",
       "      <td>0.10</td>\n",
       "      <td>0.30</td>\n",
       "      <td>0.46</td>\n",
       "      <td>2.11</td>\n",
       "      <td>1.14</td>\n",
       "      <td>1.93</td>\n",
       "      <td>0.38</td>\n",
       "      <td>1600</td>\n",
       "      <td>1990-08-23</td>\n",
       "    </tr>\n",
       "  </tbody>\n",
       "</table>\n",
       "</div>"
      ],
      "text/plain": [
       "                                     week  logmove  feat  price  AGE60  EDUC  \\\n",
       "WeekLastDay         store brand                                                \n",
       "1990-06-20 23:59:59 2     dominicks    40     9.26     1   1.59   0.23  0.25   \n",
       "1990-08-01 23:59:59 2     dominicks    46     8.99     0   2.69   0.23  0.25   \n",
       "1990-08-08 23:59:59 2     dominicks    47     8.83     1   2.09   0.23  0.25   \n",
       "1990-08-15 23:59:59 2     dominicks    48     7.97     0   2.09   0.23  0.25   \n",
       "1990-08-29 23:59:59 2     dominicks    50     7.38     0   2.09   0.23  0.25   \n",
       "\n",
       "                                     ETHNIC  INCOME  HHLARGE  WORKWOM  \\\n",
       "WeekLastDay         store brand                                         \n",
       "1990-06-20 23:59:59 2     dominicks    0.11   10.55     0.10     0.30   \n",
       "1990-08-01 23:59:59 2     dominicks    0.11   10.55     0.10     0.30   \n",
       "1990-08-08 23:59:59 2     dominicks    0.11   10.55     0.10     0.30   \n",
       "1990-08-15 23:59:59 2     dominicks    0.11   10.55     0.10     0.30   \n",
       "1990-08-29 23:59:59 2     dominicks    0.11   10.55     0.10     0.30   \n",
       "\n",
       "                                     HVAL150  SSTRDIST  SSTRVOL  CPDIST5  \\\n",
       "WeekLastDay         store brand                                            \n",
       "1990-06-20 23:59:59 2     dominicks     0.46      2.11     1.14     1.93   \n",
       "1990-08-01 23:59:59 2     dominicks     0.46      2.11     1.14     1.93   \n",
       "1990-08-08 23:59:59 2     dominicks     0.46      2.11     1.14     1.93   \n",
       "1990-08-15 23:59:59 2     dominicks     0.46      2.11     1.14     1.93   \n",
       "1990-08-29 23:59:59 2     dominicks     0.46      2.11     1.14     1.93   \n",
       "\n",
       "                                     CPWVOL5  Quantity WeekFirstDay  \n",
       "WeekLastDay         store brand                                      \n",
       "1990-06-20 23:59:59 2     dominicks     0.38     10560   1990-06-14  \n",
       "1990-08-01 23:59:59 2     dominicks     0.38      8000   1990-07-26  \n",
       "1990-08-08 23:59:59 2     dominicks     0.38      6848   1990-08-02  \n",
       "1990-08-15 23:59:59 2     dominicks     0.38      2880   1990-08-09  \n",
       "1990-08-29 23:59:59 2     dominicks     0.38      1600   1990-08-23  "
      ]
     },
     "execution_count": 2,
     "metadata": {},
     "output_type": "execute_result"
    }
   ],
   "source": [
    "oj_data, oj_test = load_dominicks_oj_dataset()\n",
    "oj_data.head()"
   ]
  },
  {
   "cell_type": "markdown",
   "metadata": {},
   "source": [
    "### Metadata\n",
    "\n",
    "Lets start by looking at our orange juice dataset and see what metadata fields it has."
   ]
  },
  {
   "cell_type": "code",
   "execution_count": 3,
   "metadata": {},
   "outputs": [
    {
     "name": "stdout",
     "output_type": "stream",
     "text": [
      "{\n",
      "    grain_colnames: ['store', 'brand']\n",
      "    time_colname: WeekLastDay\n",
      "    ts_value_colname: Quantity\n",
      "    group_colnames: ['store', 'brand']\n",
      "    origin_time_colname: None\n",
      "}\n"
     ]
    }
   ],
   "source": [
    "print(\"{\")\n",
    "for m in oj_data._metadata:\n",
    "    print(\"    {0}: {1}\".format(m, getattr(oj_data, m)))\n",
    "print(\"}\")"
   ]
  },
  {
   "cell_type": "markdown",
   "metadata": {},
   "source": [
    "We see our `TimeSeriesDataFrame` has 5 metadata fields:\n",
    "* time_colname\n",
    "* ts_value_colname\n",
    "* grain_colnames\n",
    "* group_colnames\n",
    "* origin_time_colname\n",
    "\n",
    "### `time_colname`\n",
    "\n",
    "Since the definition of a time series is \"a series of values of a quantity obtained at successive times\" it seems reasonable that the first metadata field we need to look at is the `time_colname`.  This is the only required metadata field, you can't have a time series without time after all.\n",
    "\n",
    "* `time_colname`: The name of the column storing the time point for the row of data.  The values stored in this column should be of a datetime type.\n",
    "\n",
    "Let's try an example.  We will make a set of 4 months starting in January of 2017 create a value of our time series starting at 0 and increasing by one each month.  We will compare the results of turning the data into a `pandas.DataFrame` and a `TimeSeriesDataFrame`."
   ]
  },
  {
   "cell_type": "code",
   "execution_count": 4,
   "metadata": {},
   "outputs": [
    {
     "data": {
      "text/html": [
       "<div>\n",
       "<style>\n",
       "    .dataframe thead tr:only-child th {\n",
       "        text-align: right;\n",
       "    }\n",
       "\n",
       "    .dataframe thead th {\n",
       "        text-align: left;\n",
       "    }\n",
       "\n",
       "    .dataframe tbody tr th {\n",
       "        vertical-align: top;\n",
       "    }\n",
       "</style>\n",
       "<table border=\"1\" class=\"dataframe\">\n",
       "  <thead>\n",
       "    <tr style=\"text-align: right;\">\n",
       "      <th></th>\n",
       "      <th>date</th>\n",
       "      <th>value</th>\n",
       "    </tr>\n",
       "  </thead>\n",
       "  <tbody>\n",
       "    <tr>\n",
       "      <th>0</th>\n",
       "      <td>2017-01-01</td>\n",
       "      <td>0</td>\n",
       "    </tr>\n",
       "    <tr>\n",
       "      <th>1</th>\n",
       "      <td>2017-02-01</td>\n",
       "      <td>1</td>\n",
       "    </tr>\n",
       "    <tr>\n",
       "      <th>2</th>\n",
       "      <td>2017-03-01</td>\n",
       "      <td>2</td>\n",
       "    </tr>\n",
       "    <tr>\n",
       "      <th>3</th>\n",
       "      <td>2017-04-01</td>\n",
       "      <td>3</td>\n",
       "    </tr>\n",
       "  </tbody>\n",
       "</table>\n",
       "</div>"
      ],
      "text/plain": [
       "        date  value\n",
       "0 2017-01-01      0\n",
       "1 2017-02-01      1\n",
       "2 2017-03-01      2\n",
       "3 2017-04-01      3"
      ]
     },
     "execution_count": 4,
     "metadata": {},
     "output_type": "execute_result"
    }
   ],
   "source": [
    "# Make example data\n",
    "my_data = {'date': pd.date_range('2017-01-01', periods=4, freq = 'MS'),\n",
    "           'value': list(range(0,4))}\n",
    "# Create pandas.DataFrame\n",
    "my_pddf = pd.DataFrame(my_data)\n",
    "my_pddf"
   ]
  },
  {
   "cell_type": "code",
   "execution_count": 5,
   "metadata": {},
   "outputs": [
    {
     "data": {
      "text/html": [
       "<div>\n",
       "<style>\n",
       "    .dataframe thead tr:only-child th {\n",
       "        text-align: right;\n",
       "    }\n",
       "\n",
       "    .dataframe thead th {\n",
       "        text-align: left;\n",
       "    }\n",
       "\n",
       "    .dataframe tbody tr th {\n",
       "        vertical-align: top;\n",
       "    }\n",
       "</style>\n",
       "<table border=\"1\" class=\"dataframe\">\n",
       "  <thead>\n",
       "    <tr style=\"text-align: right;\">\n",
       "      <th></th>\n",
       "      <th>value</th>\n",
       "    </tr>\n",
       "    <tr>\n",
       "      <th>date</th>\n",
       "      <th></th>\n",
       "    </tr>\n",
       "  </thead>\n",
       "  <tbody>\n",
       "    <tr>\n",
       "      <th>2017-01-01</th>\n",
       "      <td>0</td>\n",
       "    </tr>\n",
       "    <tr>\n",
       "      <th>2017-02-01</th>\n",
       "      <td>1</td>\n",
       "    </tr>\n",
       "    <tr>\n",
       "      <th>2017-03-01</th>\n",
       "      <td>2</td>\n",
       "    </tr>\n",
       "    <tr>\n",
       "      <th>2017-04-01</th>\n",
       "      <td>3</td>\n",
       "    </tr>\n",
       "  </tbody>\n",
       "</table>\n",
       "</div>"
      ],
      "text/plain": [
       "            value\n",
       "date             \n",
       "2017-01-01      0\n",
       "2017-02-01      1\n",
       "2017-03-01      2\n",
       "2017-04-01      3"
      ]
     },
     "execution_count": 5,
     "metadata": {},
     "output_type": "execute_result"
    }
   ],
   "source": [
    "# Create TimeSeriesDataFrame\n",
    "my_tsdf = TimeSeriesDataFrame(my_data, time_colname='date')\n",
    "my_tsdf"
   ]
  },
  {
   "cell_type": "markdown",
   "metadata": {},
   "source": [
    "We see that the `TimeSeriesDataFrame` moved the `time_colname` to the index.  This provided a lot of [time related functionality](https://pandas.pydata.org/pandas-docs/stable/timeseries.html) available in `pandas` such as getting windows of your data.\n",
    "\n",
    "`TimeSeriesDataFrame`s have additional checks to ensure that the time series data are properly formatted, such as making sure that each time point only occurs once in the data.\n",
    "\n",
    "**Exercise**:  Compare the results of creating a data frame with a duplicated time index value in `pandas` vs in `ftk`.  Why would this check be important when making time series?"
   ]
  },
  {
   "cell_type": "code",
   "execution_count": 6,
   "metadata": {},
   "outputs": [
    {
     "data": {
      "text/html": [
       "<div>\n",
       "<style>\n",
       "    .dataframe thead tr:only-child th {\n",
       "        text-align: right;\n",
       "    }\n",
       "\n",
       "    .dataframe thead th {\n",
       "        text-align: left;\n",
       "    }\n",
       "\n",
       "    .dataframe tbody tr th {\n",
       "        vertical-align: top;\n",
       "    }\n",
       "</style>\n",
       "<table border=\"1\" class=\"dataframe\">\n",
       "  <thead>\n",
       "    <tr style=\"text-align: right;\">\n",
       "      <th></th>\n",
       "      <th>value</th>\n",
       "    </tr>\n",
       "  </thead>\n",
       "  <tbody>\n",
       "    <tr>\n",
       "      <th>2017-01-01</th>\n",
       "      <td>0</td>\n",
       "    </tr>\n",
       "    <tr>\n",
       "      <th>2017-01-01</th>\n",
       "      <td>1</td>\n",
       "    </tr>\n",
       "    <tr>\n",
       "      <th>2017-01-01</th>\n",
       "      <td>2</td>\n",
       "    </tr>\n",
       "    <tr>\n",
       "      <th>2017-01-01</th>\n",
       "      <td>3</td>\n",
       "    </tr>\n",
       "  </tbody>\n",
       "</table>\n",
       "</div>"
      ],
      "text/plain": [
       "            value\n",
       "2017-01-01      0\n",
       "2017-01-01      1\n",
       "2017-01-01      2\n",
       "2017-01-01      3"
      ]
     },
     "execution_count": 6,
     "metadata": {},
     "output_type": "execute_result"
    }
   ],
   "source": [
    "dup_data = {'date': [pd.to_datetime('2017-01-01')]*4,\n",
    "           'value': list(range(0,4))}\n",
    "pd.DataFrame({'value':dup_data['value']}, index = dup_data['date'])\n",
    "### Uncomment below to run ##\n",
    "# TimeSeriesDataFrame(dup_data, time_colname='date')"
   ]
  },
  {
   "cell_type": "markdown",
   "metadata": {},
   "source": [
    "### `ts_value_colname`\n",
    "\n",
    "The next field we will look at is the `ts_value_colname`.  \n",
    "\n",
    "* `ts_value_colname`: Name of the column containing the data we want to forecast, kind of like our target in machine learning.  \n",
    "\n",
    "This is important because in data like the orange juice dataset we may have many additional columns that help provide features for the forecast and we need to be able to distinguish our target column from these features.  Once we have designated a `ts_value_colname` we can start fitting models.  Let's make `value` our `ts_value_colname` and fit a simple `Naive` model."
   ]
  },
  {
   "cell_type": "code",
   "execution_count": 7,
   "metadata": {},
   "outputs": [
    {
     "data": {
      "text/plain": [
       "SeasonalNaive(freq='MS', seasonality={'__identity_grain': 1})"
      ]
     },
     "execution_count": 7,
     "metadata": {},
     "output_type": "execute_result"
    }
   ],
   "source": [
    "my_tsdf_value = TimeSeriesDataFrame(my_data, time_colname='date', ts_value_colname='value')\n",
    "snaive_model = SeasonalNaive(freq = 'MS', seasonality=7)\n",
    "snaive_model.fit(my_tsdf_value)"
   ]
  },
  {
   "cell_type": "markdown",
   "metadata": {},
   "source": [
    "**Exercise**: Try running the cell above with `my_tsdf` instead of `my_tsdf_value`. Try the same thing with `oj_data`.  Which column of `oj_data` did it build the `Naive` model to forecast?\n",
    "\n",
    "### `grain_colnames`\n",
    "\n",
    "Our next metadata field is the `grain_colnames`.  This is the first meta data field we will look at where you can specify more than one column for the metadata field.\n",
    "\n",
    "* `grain_colnames`: Name of the column or columns that specify unique time series.\n",
    "\n",
    "A `TimeSeriesDataFrame` can hold more than one time series at a time, so for example, `oj_data` contains 249 different time series; 83 different stores and each store has 3 different brands of orange juice.\n",
    "\n",
    "Lets try building our own `TimeSeriesDataFrame` with grains."
   ]
  },
  {
   "cell_type": "code",
   "execution_count": 8,
   "metadata": {},
   "outputs": [
    {
     "data": {
      "text/html": [
       "<div>\n",
       "<style>\n",
       "    .dataframe thead tr:only-child th {\n",
       "        text-align: right;\n",
       "    }\n",
       "\n",
       "    .dataframe thead th {\n",
       "        text-align: left;\n",
       "    }\n",
       "\n",
       "    .dataframe tbody tr th {\n",
       "        vertical-align: top;\n",
       "    }\n",
       "</style>\n",
       "<table border=\"1\" class=\"dataframe\">\n",
       "  <thead>\n",
       "    <tr style=\"text-align: right;\">\n",
       "      <th></th>\n",
       "      <th></th>\n",
       "      <th>value</th>\n",
       "    </tr>\n",
       "    <tr>\n",
       "      <th>date</th>\n",
       "      <th>grain</th>\n",
       "      <th></th>\n",
       "    </tr>\n",
       "  </thead>\n",
       "  <tbody>\n",
       "    <tr>\n",
       "      <th>2017-01-01</th>\n",
       "      <th>A</th>\n",
       "      <td>0</td>\n",
       "    </tr>\n",
       "    <tr>\n",
       "      <th>2017-02-01</th>\n",
       "      <th>A</th>\n",
       "      <td>1</td>\n",
       "    </tr>\n",
       "    <tr>\n",
       "      <th>2017-03-01</th>\n",
       "      <th>A</th>\n",
       "      <td>2</td>\n",
       "    </tr>\n",
       "    <tr>\n",
       "      <th>2017-04-01</th>\n",
       "      <th>A</th>\n",
       "      <td>3</td>\n",
       "    </tr>\n",
       "    <tr>\n",
       "      <th>2017-01-01</th>\n",
       "      <th>B</th>\n",
       "      <td>4</td>\n",
       "    </tr>\n",
       "    <tr>\n",
       "      <th>2017-02-01</th>\n",
       "      <th>B</th>\n",
       "      <td>5</td>\n",
       "    </tr>\n",
       "    <tr>\n",
       "      <th>2017-03-01</th>\n",
       "      <th>B</th>\n",
       "      <td>6</td>\n",
       "    </tr>\n",
       "    <tr>\n",
       "      <th>2017-04-01</th>\n",
       "      <th>B</th>\n",
       "      <td>7</td>\n",
       "    </tr>\n",
       "  </tbody>\n",
       "</table>\n",
       "</div>"
      ],
      "text/plain": [
       "                  value\n",
       "date       grain       \n",
       "2017-01-01 A          0\n",
       "2017-02-01 A          1\n",
       "2017-03-01 A          2\n",
       "2017-04-01 A          3\n",
       "2017-01-01 B          4\n",
       "2017-02-01 B          5\n",
       "2017-03-01 B          6\n",
       "2017-04-01 B          7"
      ]
     },
     "execution_count": 8,
     "metadata": {},
     "output_type": "execute_result"
    }
   ],
   "source": [
    "grain_data = {'date': list(pd.date_range('2017-01-01', periods=4, freq = 'MS'))*2,\n",
    "              'grain': ['A']*4 + ['B']*4,\n",
    "              'value': list(range(0,8))}\n",
    "my_tsdf_grain = TimeSeriesDataFrame(grain_data, time_colname='date', \n",
    "                                    ts_value_colname='value', grain_colnames = 'grain')\n",
    "my_tsdf_grain"
   ]
  },
  {
   "cell_type": "markdown",
   "metadata": {},
   "source": [
    "Like the `time_colname`, the `grain_colname` gets moved to the index so it can help identify rows of our time series.\n",
    "\n",
    "**Exercise**:  What happens in the cell above if we don't specify the `grain_colnames` parameter?  Why?  For a hint, try looking at the excercise for `time_colname`.\n",
    "\n",
    "### `group_colnames`\n",
    "\n",
    "`group_colnames` are similar to the idea of grain, but are related to modeling rather than identifying a single time series.\n",
    "\n",
    "* `group_colnames`: designate columns whose unique values specify rows of the data that would benifit from being modeled together.  `RegressionForecaster` will create one model for each unique `group`.\n",
    "\n",
    "By default `group_colnames` is the same as `grain_colnames`.\n",
    "\n",
    "**Excercise**: Make it so all the grains of our `grain_data` will be modeled together by setting `group_colnames` to `None`."
   ]
  },
  {
   "cell_type": "code",
   "execution_count": 9,
   "metadata": {},
   "outputs": [
    {
     "name": "stdout",
     "output_type": "stream",
     "text": [
      "['grain']\n",
      "['grain']\n"
     ]
    }
   ],
   "source": [
    "print(my_tsdf_grain.group_colnames)\n",
    "my_tsdf_no_group = TimeSeriesDataFrame(grain_data, time_colname='date', \n",
    "                                       ts_value_colname='value', \n",
    "                                       # group_colnames = ???,\n",
    "                                       grain_colnames = 'grain')\n",
    "print(my_tsdf_no_group.group_colnames)"
   ]
  },
  {
   "cell_type": "markdown",
   "metadata": {},
   "source": [
    "**Exercise**: `oj_data` has the default setting currently where `grain` and `group` are the same.  Overwrite `group` to just be `brand`."
   ]
  },
  {
   "cell_type": "code",
   "execution_count": 10,
   "metadata": {},
   "outputs": [
    {
     "name": "stdout",
     "output_type": "stream",
     "text": [
      "oj_group_brand.grain_colnames = ['store', 'brand']\n",
      "oj_group_brand.group_colnames = ['store', 'brand']\n",
      "oj_group_brand.grain_colnames = ['store', 'brand']\n",
      "oj_group_brand.group_colnames = ['store', 'brand']\n"
     ]
    }
   ],
   "source": [
    "oj_group_brand = oj_data.copy()\n",
    "print('oj_group_brand.grain_colnames = {0}'.format(oj_group_brand.grain_colnames))\n",
    "print('oj_group_brand.group_colnames = {0}'.format(oj_group_brand.group_colnames))\n",
    "# oj_group_brand.group.colnames = ???\n",
    "print('oj_group_brand.grain_colnames = {0}'.format(oj_group_brand.grain_colnames))\n",
    "print('oj_group_brand.group_colnames = {0}'.format(oj_group_brand.group_colnames))"
   ]
  },
  {
   "cell_type": "markdown",
   "metadata": {},
   "source": [
    "### origin_time_colname\n",
    "\n",
    "You can sucessfully use `ftk` from start to finish without ever directly interacting with the conceptually dense field of `origin_time`.  In the majority of cases, the users will not specify this column, instead it will be created for them by one of the featurizers.  A full discussion of `origin_time` will be left for the notebook '*Constructing Lags and Explaining Origin Times*'.  In brief, `origin_time` accounts for the fact that we have different knowledge and expectations of a forecast based on when that forecast is made, giving us different features and different forecasts. For example, when checking the weather forecast you probably have a higher expectation for the accuracy of tomorrow's forecast compared to if you got the forecast from 10 days earlier.  That is because meterologists know more about the climitological conditions the closer we get to the time we are forecasting.  If you have features that your are inputting into the `TimeSeriesDataFrame` constructor that you learn more about the closer you get to the time you are forecasting, then you will need to specify an `origin_time_colname`.  Otherwise, sit back and let the `ftk` featurizers worry about it for you.\n",
    "\n",
    "* `origin_time_colname`:  The name of the column that tells you when you *collected* the features on that row of data.  In other words if this row is for a 10 day forecast, the `origin_time` will be 10 days before the `time_index`.\n",
    "\n",
    "There is one special aspect of `origin_time` we should mention; the `ts_value` has to be the same across all `origin_time`s.  In other words, if we are making a 10 day forecast vs a 1 day forecast for a particular date, the features we use to make that forecast may change, but the actual value of the series (our target) will be the same.  The true temperature on June 23rd will not change just because we are trying to make the forecast on June 13th instead of June 22nd."
   ]
  },
  {
   "cell_type": "code",
   "execution_count": 11,
   "metadata": {},
   "outputs": [
    {
     "data": {
      "text/html": [
       "<div>\n",
       "<style>\n",
       "    .dataframe thead tr:only-child th {\n",
       "        text-align: right;\n",
       "    }\n",
       "\n",
       "    .dataframe thead th {\n",
       "        text-align: left;\n",
       "    }\n",
       "\n",
       "    .dataframe tbody tr th {\n",
       "        vertical-align: top;\n",
       "    }\n",
       "</style>\n",
       "<table border=\"1\" class=\"dataframe\">\n",
       "  <thead>\n",
       "    <tr style=\"text-align: right;\">\n",
       "      <th></th>\n",
       "      <th></th>\n",
       "      <th>value</th>\n",
       "    </tr>\n",
       "    <tr>\n",
       "      <th>date</th>\n",
       "      <th>origin</th>\n",
       "      <th></th>\n",
       "    </tr>\n",
       "  </thead>\n",
       "  <tbody>\n",
       "    <tr>\n",
       "      <th>2017-03-01</th>\n",
       "      <th>2017-01-01</th>\n",
       "      <td>0</td>\n",
       "    </tr>\n",
       "    <tr>\n",
       "      <th>2017-04-01</th>\n",
       "      <th>2017-01-01</th>\n",
       "      <td>1</td>\n",
       "    </tr>\n",
       "    <tr>\n",
       "      <th>2017-05-01</th>\n",
       "      <th>2017-01-01</th>\n",
       "      <td>2</td>\n",
       "    </tr>\n",
       "    <tr>\n",
       "      <th>2017-06-01</th>\n",
       "      <th>2017-01-01</th>\n",
       "      <td>3</td>\n",
       "    </tr>\n",
       "    <tr>\n",
       "      <th>2017-03-01</th>\n",
       "      <th>2017-02-01</th>\n",
       "      <td>0</td>\n",
       "    </tr>\n",
       "    <tr>\n",
       "      <th>2017-04-01</th>\n",
       "      <th>2017-02-01</th>\n",
       "      <td>1</td>\n",
       "    </tr>\n",
       "    <tr>\n",
       "      <th>2017-05-01</th>\n",
       "      <th>2017-02-01</th>\n",
       "      <td>2</td>\n",
       "    </tr>\n",
       "    <tr>\n",
       "      <th>2017-06-01</th>\n",
       "      <th>2017-02-01</th>\n",
       "      <td>3</td>\n",
       "    </tr>\n",
       "  </tbody>\n",
       "</table>\n",
       "</div>"
      ],
      "text/plain": [
       "                       value\n",
       "date       origin           \n",
       "2017-03-01 2017-01-01      0\n",
       "2017-04-01 2017-01-01      1\n",
       "2017-05-01 2017-01-01      2\n",
       "2017-06-01 2017-01-01      3\n",
       "2017-03-01 2017-02-01      0\n",
       "2017-04-01 2017-02-01      1\n",
       "2017-05-01 2017-02-01      2\n",
       "2017-06-01 2017-02-01      3"
      ]
     },
     "execution_count": 11,
     "metadata": {},
     "output_type": "execute_result"
    }
   ],
   "source": [
    "origin_data = {'date': list(pd.date_range('2017-03-01', periods=4, freq = 'MS'))*2,\n",
    "               'origin': [pd.to_datetime('2017-01-01')]*4 + [pd.to_datetime('2017-02-01')]*4 ,\n",
    "               'value': list(range(0,4))*2}\n",
    "my_tsdf_origin = TimeSeriesDataFrame(origin_data, time_colname='date', \n",
    "                                     ts_value_colname='value', \n",
    "                                     origin_time_colname = 'origin')\n",
    "my_tsdf_origin"
   ]
  },
  {
   "cell_type": "markdown",
   "metadata": {},
   "source": [
    "Like `time_index` and `grain_colnames`, `origin_time` is part of the index for the dataset.\n",
    "\n",
    "**Excercise**: What happens if we made the `value` column of `origin_data` `list(range(0,8))` instead?  Why does this happen?\n",
    "\n",
    "`TimeSeriesDataFrame`s have an additional property `horizon` which tell you the time difference between the `time_index` and the `origin_time` for each row of data.  We can access the `horizon` as follows:"
   ]
  },
  {
   "cell_type": "code",
   "execution_count": 12,
   "metadata": {},
   "outputs": [
    {
     "data": {
      "text/plain": [
       "TimedeltaIndex([ '59 days',  '90 days', '120 days', '151 days',  '28 days',\n",
       "                 '59 days',  '89 days', '120 days'],\n",
       "               dtype='timedelta64[ns]', name='horizon', freq=None)"
      ]
     },
     "execution_count": 12,
     "metadata": {},
     "output_type": "execute_result"
    }
   ],
   "source": [
    "my_tsdf_origin.horizon"
   ]
  },
  {
   "cell_type": "markdown",
   "metadata": {},
   "source": [
    "## `ForecastDataFrame`\n",
    "\n",
    "While `TimeSeriesDataFrames` store the inputs to forecasting models, `ForecastDataFrames` hold the outputs.  To get an example of a `ForecastDataFrame` lets make a `SeasonalNaive` model and forecast our `oj_data`."
   ]
  },
  {
   "cell_type": "code",
   "execution_count": 13,
   "metadata": {},
   "outputs": [
    {
     "data": {
      "text/html": [
       "<div>\n",
       "<style>\n",
       "    .dataframe thead tr:only-child th {\n",
       "        text-align: right;\n",
       "    }\n",
       "\n",
       "    .dataframe thead th {\n",
       "        text-align: left;\n",
       "    }\n",
       "\n",
       "    .dataframe tbody tr th {\n",
       "        vertical-align: top;\n",
       "    }\n",
       "</style>\n",
       "<table border=\"1\" class=\"dataframe\">\n",
       "  <thead>\n",
       "    <tr style=\"text-align: right;\">\n",
       "      <th></th>\n",
       "      <th></th>\n",
       "      <th></th>\n",
       "      <th></th>\n",
       "      <th>week</th>\n",
       "      <th>logmove</th>\n",
       "      <th>feat</th>\n",
       "      <th>price</th>\n",
       "      <th>AGE60</th>\n",
       "      <th>EDUC</th>\n",
       "      <th>ETHNIC</th>\n",
       "      <th>INCOME</th>\n",
       "      <th>HHLARGE</th>\n",
       "      <th>WORKWOM</th>\n",
       "      <th>HVAL150</th>\n",
       "      <th>SSTRDIST</th>\n",
       "      <th>SSTRVOL</th>\n",
       "      <th>CPDIST5</th>\n",
       "      <th>CPWVOL5</th>\n",
       "      <th>Quantity</th>\n",
       "      <th>WeekFirstDay</th>\n",
       "      <th>DistributionForecastSeasonalNaive</th>\n",
       "      <th>PointForecastSeasonalNaive</th>\n",
       "    </tr>\n",
       "    <tr>\n",
       "      <th>WeekLastDay</th>\n",
       "      <th>store</th>\n",
       "      <th>brand</th>\n",
       "      <th>ForecastOriginDate</th>\n",
       "      <th></th>\n",
       "      <th></th>\n",
       "      <th></th>\n",
       "      <th></th>\n",
       "      <th></th>\n",
       "      <th></th>\n",
       "      <th></th>\n",
       "      <th></th>\n",
       "      <th></th>\n",
       "      <th></th>\n",
       "      <th></th>\n",
       "      <th></th>\n",
       "      <th></th>\n",
       "      <th></th>\n",
       "      <th></th>\n",
       "      <th></th>\n",
       "      <th></th>\n",
       "      <th></th>\n",
       "      <th></th>\n",
       "    </tr>\n",
       "  </thead>\n",
       "  <tbody>\n",
       "    <tr>\n",
       "      <th>1992-01-08 23:59:59</th>\n",
       "      <th>2</th>\n",
       "      <th>dominicks</th>\n",
       "      <th>1992-01-01 23:59:59</th>\n",
       "      <td>121</td>\n",
       "      <td>9.37</td>\n",
       "      <td>0</td>\n",
       "      <td>1.69</td>\n",
       "      <td>0.23</td>\n",
       "      <td>0.25</td>\n",
       "      <td>0.11</td>\n",
       "      <td>10.55</td>\n",
       "      <td>0.10</td>\n",
       "      <td>0.30</td>\n",
       "      <td>0.46</td>\n",
       "      <td>2.11</td>\n",
       "      <td>1.14</td>\n",
       "      <td>1.93</td>\n",
       "      <td>0.38</td>\n",
       "      <td>11712</td>\n",
       "      <td>1992-01-02</td>\n",
       "      <td>&lt;scipy.stats._distn_infrastructure.rv_frozen o...</td>\n",
       "      <td>6208.00</td>\n",
       "    </tr>\n",
       "    <tr>\n",
       "      <th>1992-01-15 23:59:59</th>\n",
       "      <th>2</th>\n",
       "      <th>dominicks</th>\n",
       "      <th>1992-01-01 23:59:59</th>\n",
       "      <td>122</td>\n",
       "      <td>8.30</td>\n",
       "      <td>0</td>\n",
       "      <td>1.76</td>\n",
       "      <td>0.23</td>\n",
       "      <td>0.25</td>\n",
       "      <td>0.11</td>\n",
       "      <td>10.55</td>\n",
       "      <td>0.10</td>\n",
       "      <td>0.30</td>\n",
       "      <td>0.46</td>\n",
       "      <td>2.11</td>\n",
       "      <td>1.14</td>\n",
       "      <td>1.93</td>\n",
       "      <td>0.38</td>\n",
       "      <td>4032</td>\n",
       "      <td>1992-01-09</td>\n",
       "      <td>&lt;scipy.stats._distn_infrastructure.rv_frozen o...</td>\n",
       "      <td>3008.00</td>\n",
       "    </tr>\n",
       "    <tr>\n",
       "      <th>1992-01-22 23:59:59</th>\n",
       "      <th>2</th>\n",
       "      <th>dominicks</th>\n",
       "      <th>1992-01-01 23:59:59</th>\n",
       "      <td>123</td>\n",
       "      <td>8.75</td>\n",
       "      <td>0</td>\n",
       "      <td>1.82</td>\n",
       "      <td>0.23</td>\n",
       "      <td>0.25</td>\n",
       "      <td>0.11</td>\n",
       "      <td>10.55</td>\n",
       "      <td>0.10</td>\n",
       "      <td>0.30</td>\n",
       "      <td>0.46</td>\n",
       "      <td>2.11</td>\n",
       "      <td>1.14</td>\n",
       "      <td>1.93</td>\n",
       "      <td>0.38</td>\n",
       "      <td>6336</td>\n",
       "      <td>1992-01-16</td>\n",
       "      <td>&lt;scipy.stats._distn_infrastructure.rv_frozen o...</td>\n",
       "      <td>19456.00</td>\n",
       "    </tr>\n",
       "    <tr>\n",
       "      <th>1992-01-29 23:59:59</th>\n",
       "      <th>2</th>\n",
       "      <th>dominicks</th>\n",
       "      <th>1992-01-01 23:59:59</th>\n",
       "      <td>124</td>\n",
       "      <td>9.52</td>\n",
       "      <td>0</td>\n",
       "      <td>1.47</td>\n",
       "      <td>0.23</td>\n",
       "      <td>0.25</td>\n",
       "      <td>0.11</td>\n",
       "      <td>10.55</td>\n",
       "      <td>0.10</td>\n",
       "      <td>0.30</td>\n",
       "      <td>0.46</td>\n",
       "      <td>2.11</td>\n",
       "      <td>1.14</td>\n",
       "      <td>1.93</td>\n",
       "      <td>0.38</td>\n",
       "      <td>13632</td>\n",
       "      <td>1992-01-23</td>\n",
       "      <td>&lt;scipy.stats._distn_infrastructure.rv_frozen o...</td>\n",
       "      <td>16768.00</td>\n",
       "    </tr>\n",
       "    <tr>\n",
       "      <th>1992-02-05 23:59:59</th>\n",
       "      <th>2</th>\n",
       "      <th>dominicks</th>\n",
       "      <th>1992-01-01 23:59:59</th>\n",
       "      <td>125</td>\n",
       "      <td>10.72</td>\n",
       "      <td>0</td>\n",
       "      <td>1.29</td>\n",
       "      <td>0.23</td>\n",
       "      <td>0.25</td>\n",
       "      <td>0.11</td>\n",
       "      <td>10.55</td>\n",
       "      <td>0.10</td>\n",
       "      <td>0.30</td>\n",
       "      <td>0.46</td>\n",
       "      <td>2.11</td>\n",
       "      <td>1.14</td>\n",
       "      <td>1.93</td>\n",
       "      <td>0.38</td>\n",
       "      <td>45120</td>\n",
       "      <td>1992-01-30</td>\n",
       "      <td>&lt;scipy.stats._distn_infrastructure.rv_frozen o...</td>\n",
       "      <td>13568.00</td>\n",
       "    </tr>\n",
       "  </tbody>\n",
       "</table>\n",
       "</div>"
      ],
      "text/plain": [
       "                                                         week  logmove  feat  \\\n",
       "WeekLastDay         store brand     ForecastOriginDate                         \n",
       "1992-01-08 23:59:59 2     dominicks 1992-01-01 23:59:59   121     9.37     0   \n",
       "1992-01-15 23:59:59 2     dominicks 1992-01-01 23:59:59   122     8.30     0   \n",
       "1992-01-22 23:59:59 2     dominicks 1992-01-01 23:59:59   123     8.75     0   \n",
       "1992-01-29 23:59:59 2     dominicks 1992-01-01 23:59:59   124     9.52     0   \n",
       "1992-02-05 23:59:59 2     dominicks 1992-01-01 23:59:59   125    10.72     0   \n",
       "\n",
       "                                                         price  AGE60  EDUC  \\\n",
       "WeekLastDay         store brand     ForecastOriginDate                        \n",
       "1992-01-08 23:59:59 2     dominicks 1992-01-01 23:59:59   1.69   0.23  0.25   \n",
       "1992-01-15 23:59:59 2     dominicks 1992-01-01 23:59:59   1.76   0.23  0.25   \n",
       "1992-01-22 23:59:59 2     dominicks 1992-01-01 23:59:59   1.82   0.23  0.25   \n",
       "1992-01-29 23:59:59 2     dominicks 1992-01-01 23:59:59   1.47   0.23  0.25   \n",
       "1992-02-05 23:59:59 2     dominicks 1992-01-01 23:59:59   1.29   0.23  0.25   \n",
       "\n",
       "                                                         ETHNIC  INCOME  \\\n",
       "WeekLastDay         store brand     ForecastOriginDate                    \n",
       "1992-01-08 23:59:59 2     dominicks 1992-01-01 23:59:59    0.11   10.55   \n",
       "1992-01-15 23:59:59 2     dominicks 1992-01-01 23:59:59    0.11   10.55   \n",
       "1992-01-22 23:59:59 2     dominicks 1992-01-01 23:59:59    0.11   10.55   \n",
       "1992-01-29 23:59:59 2     dominicks 1992-01-01 23:59:59    0.11   10.55   \n",
       "1992-02-05 23:59:59 2     dominicks 1992-01-01 23:59:59    0.11   10.55   \n",
       "\n",
       "                                                         HHLARGE  WORKWOM  \\\n",
       "WeekLastDay         store brand     ForecastOriginDate                      \n",
       "1992-01-08 23:59:59 2     dominicks 1992-01-01 23:59:59     0.10     0.30   \n",
       "1992-01-15 23:59:59 2     dominicks 1992-01-01 23:59:59     0.10     0.30   \n",
       "1992-01-22 23:59:59 2     dominicks 1992-01-01 23:59:59     0.10     0.30   \n",
       "1992-01-29 23:59:59 2     dominicks 1992-01-01 23:59:59     0.10     0.30   \n",
       "1992-02-05 23:59:59 2     dominicks 1992-01-01 23:59:59     0.10     0.30   \n",
       "\n",
       "                                                         HVAL150  SSTRDIST  \\\n",
       "WeekLastDay         store brand     ForecastOriginDate                       \n",
       "1992-01-08 23:59:59 2     dominicks 1992-01-01 23:59:59     0.46      2.11   \n",
       "1992-01-15 23:59:59 2     dominicks 1992-01-01 23:59:59     0.46      2.11   \n",
       "1992-01-22 23:59:59 2     dominicks 1992-01-01 23:59:59     0.46      2.11   \n",
       "1992-01-29 23:59:59 2     dominicks 1992-01-01 23:59:59     0.46      2.11   \n",
       "1992-02-05 23:59:59 2     dominicks 1992-01-01 23:59:59     0.46      2.11   \n",
       "\n",
       "                                                         SSTRVOL  CPDIST5  \\\n",
       "WeekLastDay         store brand     ForecastOriginDate                      \n",
       "1992-01-08 23:59:59 2     dominicks 1992-01-01 23:59:59     1.14     1.93   \n",
       "1992-01-15 23:59:59 2     dominicks 1992-01-01 23:59:59     1.14     1.93   \n",
       "1992-01-22 23:59:59 2     dominicks 1992-01-01 23:59:59     1.14     1.93   \n",
       "1992-01-29 23:59:59 2     dominicks 1992-01-01 23:59:59     1.14     1.93   \n",
       "1992-02-05 23:59:59 2     dominicks 1992-01-01 23:59:59     1.14     1.93   \n",
       "\n",
       "                                                         CPWVOL5  Quantity  \\\n",
       "WeekLastDay         store brand     ForecastOriginDate                       \n",
       "1992-01-08 23:59:59 2     dominicks 1992-01-01 23:59:59     0.38     11712   \n",
       "1992-01-15 23:59:59 2     dominicks 1992-01-01 23:59:59     0.38      4032   \n",
       "1992-01-22 23:59:59 2     dominicks 1992-01-01 23:59:59     0.38      6336   \n",
       "1992-01-29 23:59:59 2     dominicks 1992-01-01 23:59:59     0.38     13632   \n",
       "1992-02-05 23:59:59 2     dominicks 1992-01-01 23:59:59     0.38     45120   \n",
       "\n",
       "                                                        WeekFirstDay  \\\n",
       "WeekLastDay         store brand     ForecastOriginDate                 \n",
       "1992-01-08 23:59:59 2     dominicks 1992-01-01 23:59:59   1992-01-02   \n",
       "1992-01-15 23:59:59 2     dominicks 1992-01-01 23:59:59   1992-01-09   \n",
       "1992-01-22 23:59:59 2     dominicks 1992-01-01 23:59:59   1992-01-16   \n",
       "1992-01-29 23:59:59 2     dominicks 1992-01-01 23:59:59   1992-01-23   \n",
       "1992-02-05 23:59:59 2     dominicks 1992-01-01 23:59:59   1992-01-30   \n",
       "\n",
       "                                                                         DistributionForecastSeasonalNaive  \\\n",
       "WeekLastDay         store brand     ForecastOriginDate                                                       \n",
       "1992-01-08 23:59:59 2     dominicks 1992-01-01 23:59:59  <scipy.stats._distn_infrastructure.rv_frozen o...   \n",
       "1992-01-15 23:59:59 2     dominicks 1992-01-01 23:59:59  <scipy.stats._distn_infrastructure.rv_frozen o...   \n",
       "1992-01-22 23:59:59 2     dominicks 1992-01-01 23:59:59  <scipy.stats._distn_infrastructure.rv_frozen o...   \n",
       "1992-01-29 23:59:59 2     dominicks 1992-01-01 23:59:59  <scipy.stats._distn_infrastructure.rv_frozen o...   \n",
       "1992-02-05 23:59:59 2     dominicks 1992-01-01 23:59:59  <scipy.stats._distn_infrastructure.rv_frozen o...   \n",
       "\n",
       "                                                         PointForecastSeasonalNaive  \n",
       "WeekLastDay         store brand     ForecastOriginDate                               \n",
       "1992-01-08 23:59:59 2     dominicks 1992-01-01 23:59:59                     6208.00  \n",
       "1992-01-15 23:59:59 2     dominicks 1992-01-01 23:59:59                     3008.00  \n",
       "1992-01-22 23:59:59 2     dominicks 1992-01-01 23:59:59                    19456.00  \n",
       "1992-01-29 23:59:59 2     dominicks 1992-01-01 23:59:59                    16768.00  \n",
       "1992-02-05 23:59:59 2     dominicks 1992-01-01 23:59:59                    13568.00  "
      ]
     },
     "execution_count": 13,
     "metadata": {},
     "output_type": "execute_result"
    }
   ],
   "source": [
    "snaive_model = SeasonalNaive(freq = oj_data.infer_freq(), seasonality=7)\n",
    "snaive_model.fit(oj_data)\n",
    "oj_fcast = snaive_model.predict(oj_test)\n",
    "oj_fcast.head()"
   ]
  },
  {
   "cell_type": "markdown",
   "metadata": {},
   "source": [
    "As we did with our `TimeSeriesDataFrame` lets take a look at our `ForecastDataFrame` and see what new metadata it has."
   ]
  },
  {
   "cell_type": "code",
   "execution_count": 14,
   "metadata": {},
   "outputs": [
    {
     "name": "stdout",
     "output_type": "stream",
     "text": [
      "{\n",
      "    grain_colnames: ['store', 'brand']\n",
      "    time_colname: WeekLastDay\n",
      "    group_colnames: ['store', 'brand']\n",
      "    origin_time_colname: ForecastOriginDate\n",
      "    actual: Quantity\n",
      "    pred_point: PointForecastSeasonalNaive\n",
      "    pred_dist: DistributionForecastSeasonalNaive\n",
      "}\n"
     ]
    }
   ],
   "source": [
    "print(\"{\")\n",
    "for m in oj_fcast._metadata:\n",
    "    print(\"    {0}: {1}\".format(m, getattr(oj_fcast, m)))\n",
    "print(\"}\")"
   ]
  },
  {
   "cell_type": "markdown",
   "metadata": {},
   "source": [
    "The first thing we note that even though `oj_data` didn't have an `origin_time_colname` specified, the `ForecastDataFrame` does.  This is because forecasts are always relative to when you are making them.  If when you made a forecast did not affect the value of the forecast, then you could think if it as just a standard regression.  Next we notice we have three new fields:\n",
    "\n",
    "* `actual`\n",
    "* `pred_point`\n",
    "* `pred_dist`\n",
    "\n",
    "Let's go through each of them.\n",
    "\n",
    "### `actual`\n",
    "\n",
    "`actual` is the `ForecastDataFrame`'s version of `ts_value_colname`.\n",
    "\n",
    "* `actual`: the true value of the time series.\n",
    "\n",
    "When making forecast into the future, the value of `actual` will be `None`, but when we are testing our models we can provide this column so we can compute errors.  For example, if we want to compute the Mean Absolute Percent Error (MAPE) for our models we can do the following:"
   ]
  },
  {
   "cell_type": "code",
   "execution_count": 15,
   "metadata": {},
   "outputs": [
    {
     "data": {
      "text/plain": [
       "118.15278704612007"
      ]
     },
     "execution_count": 15,
     "metadata": {},
     "output_type": "execute_result"
    }
   ],
   "source": [
    "oj_fcast.calc_error('MAPE')"
   ]
  },
  {
   "cell_type": "markdown",
   "metadata": {},
   "source": [
    "**Excercise**: In the box above what would you change to calculate the Mean Absolute Saled Error (MASE) instead?\n",
    "\n",
    "### `pred_point`\n",
    "\n",
    "This is the defining property of the `ForecastDataFrame`.\n",
    "\n",
    "* `pred_point`: The point forecast value for the series.\n",
    "\n",
    "In a package like `scikit-learn` calling `predict` on a model would return just the values in this column.\n",
    "\n",
    "### `pred_dist`\n",
    "\n",
    "One difference between many machine learning applications and forecasting models is that it is often possible to get prediction distributions as well as point predictions.\n",
    "\n",
    "* `pred_dist`: The distribution forecast for the series.\n",
    "\n",
    "These prediction distributions can be used to generate prediction intervals, for example to get the 95% prediction interval for our first forecast data point we can use:"
   ]
  },
  {
   "cell_type": "code",
   "execution_count": 16,
   "metadata": {},
   "outputs": [
    {
     "data": {
      "text/plain": [
       "(-55775.06055509462, 68191.06055509462)"
      ]
     },
     "execution_count": 16,
     "metadata": {},
     "output_type": "execute_result"
    }
   ],
   "source": [
    "oj_fcast[oj_fcast.pred_dist][0].interval(0.95)"
   ]
  },
  {
   "cell_type": "markdown",
   "metadata": {},
   "source": [
    "**Exercise**: What would you change in the box above to get the 90% prediction interval instead of the 95%?\n",
    "\n",
    "We can also evaluate how our actual values compare to our predicted distributions using the `cdf` function for the `pred_dist`.  For example:"
   ]
  },
  {
   "cell_type": "code",
   "execution_count": 17,
   "metadata": {},
   "outputs": [
    {
     "data": {
      "text/plain": [
       "Text(0.5,0,'Prediction Distribution Quantile')"
      ]
     },
     "execution_count": 17,
     "metadata": {},
     "output_type": "execute_result"
    },
    {
     "data": {
      "image/png": "[encoded data removed]",
      "text/plain": [
       "<matplotlib.figure.Figure at 0x1ae45baf080>"
      ]
     },
     "metadata": {},
     "output_type": "display_data"
    }
   ],
   "source": [
    "p_values = [d.cdf(a) for d, a in zip(oj_fcast[oj_fcast.pred_dist], oj_fcast[oj_fcast.actual])]\n",
    "plt.hist(p_values, normed=True, histtype='stepfilled', bins= 50)\n",
    "plt.ylabel('Probability')\n",
    "plt.xlabel('Prediction Distribution Quantile')"
   ]
  },
  {
   "cell_type": "markdown",
   "metadata": {},
   "source": [
    "From this experiment it looks like the prediction intervals may be too narrow on this particular dataset.  That can happen some times for data with a lot of zeros in it."
   ]
  },
  {
   "cell_type": "markdown",
   "metadata": {},
   "source": [
    "## `MultiForecastDataFrame`\n",
    "\n",
    "The `MultiForecastDataFrame` is a sub class of the `ForecastDataFrame` that can hold the outputs of more than one model.  One easy way to get a `MultiForecastDataFrame` is to use the `ForecasterUnion` function to evaluate many different forecasting models at once.  Here we will compare the results of a `Naive` model and our `SeasonalNaive` model from before."
   ]
  },
  {
   "cell_type": "code",
   "execution_count": 18,
   "metadata": {},
   "outputs": [
    {
     "data": {
      "text/html": [
       "<div>\n",
       "<style>\n",
       "    .dataframe thead tr:only-child th {\n",
       "        text-align: right;\n",
       "    }\n",
       "\n",
       "    .dataframe thead th {\n",
       "        text-align: left;\n",
       "    }\n",
       "\n",
       "    .dataframe tbody tr th {\n",
       "        vertical-align: top;\n",
       "    }\n",
       "</style>\n",
       "<table border=\"1\" class=\"dataframe\">\n",
       "  <thead>\n",
       "    <tr style=\"text-align: right;\">\n",
       "      <th></th>\n",
       "      <th></th>\n",
       "      <th></th>\n",
       "      <th></th>\n",
       "      <th></th>\n",
       "      <th>PointForecast</th>\n",
       "      <th>DistributionForecast</th>\n",
       "      <th>Quantity</th>\n",
       "    </tr>\n",
       "    <tr>\n",
       "      <th>WeekLastDay</th>\n",
       "      <th>store</th>\n",
       "      <th>brand</th>\n",
       "      <th>ForecastOriginTime</th>\n",
       "      <th>ModelName</th>\n",
       "      <th></th>\n",
       "      <th></th>\n",
       "      <th></th>\n",
       "    </tr>\n",
       "  </thead>\n",
       "  <tbody>\n",
       "    <tr>\n",
       "      <th rowspan=\"5\" valign=\"top\">1991-11-06 23:59:59</th>\n",
       "      <th rowspan=\"5\" valign=\"top\">83</th>\n",
       "      <th rowspan=\"2\" valign=\"top\">dominicks</th>\n",
       "      <th rowspan=\"2\" valign=\"top\">1991-10-30 23:59:59</th>\n",
       "      <th>naive</th>\n",
       "      <td>11008.00</td>\n",
       "      <td>&lt;scipy.stats._distn_infrastructure.rv_frozen o...</td>\n",
       "      <td>4480</td>\n",
       "    </tr>\n",
       "    <tr>\n",
       "      <th>seasonal_naive</th>\n",
       "      <td>10944.00</td>\n",
       "      <td>&lt;scipy.stats._distn_infrastructure.rv_frozen o...</td>\n",
       "      <td>4480</td>\n",
       "    </tr>\n",
       "    <tr>\n",
       "      <th rowspan=\"2\" valign=\"top\">minute.maid</th>\n",
       "      <th rowspan=\"2\" valign=\"top\">1991-10-30 23:59:59</th>\n",
       "      <th>naive</th>\n",
       "      <td>16640.00</td>\n",
       "      <td>&lt;scipy.stats._distn_infrastructure.rv_frozen o...</td>\n",
       "      <td>63808</td>\n",
       "    </tr>\n",
       "    <tr>\n",
       "      <th>seasonal_naive</th>\n",
       "      <td>9344.00</td>\n",
       "      <td>&lt;scipy.stats._distn_infrastructure.rv_frozen o...</td>\n",
       "      <td>63808</td>\n",
       "    </tr>\n",
       "    <tr>\n",
       "      <th>tropicana</th>\n",
       "      <th>1991-10-30 23:59:59</th>\n",
       "      <th>naive</th>\n",
       "      <td>8000.00</td>\n",
       "      <td>&lt;scipy.stats._distn_infrastructure.rv_frozen o...</td>\n",
       "      <td>5184</td>\n",
       "    </tr>\n",
       "  </tbody>\n",
       "</table>\n",
       "</div>"
      ],
      "text/plain": [
       "                                                                          PointForecast  \\\n",
       "WeekLastDay         store brand       ForecastOriginTime  ModelName                       \n",
       "1991-11-06 23:59:59 83    dominicks   1991-10-30 23:59:59 naive                11008.00   \n",
       "                                                          seasonal_naive       10944.00   \n",
       "                          minute.maid 1991-10-30 23:59:59 naive                16640.00   \n",
       "                                                          seasonal_naive        9344.00   \n",
       "                          tropicana   1991-10-30 23:59:59 naive                 8000.00   \n",
       "\n",
       "                                                                                                       DistributionForecast  \\\n",
       "WeekLastDay         store brand       ForecastOriginTime  ModelName                                                           \n",
       "1991-11-06 23:59:59 83    dominicks   1991-10-30 23:59:59 naive           <scipy.stats._distn_infrastructure.rv_frozen o...   \n",
       "                                                          seasonal_naive  <scipy.stats._distn_infrastructure.rv_frozen o...   \n",
       "                          minute.maid 1991-10-30 23:59:59 naive           <scipy.stats._distn_infrastructure.rv_frozen o...   \n",
       "                                                          seasonal_naive  <scipy.stats._distn_infrastructure.rv_frozen o...   \n",
       "                          tropicana   1991-10-30 23:59:59 naive           <scipy.stats._distn_infrastructure.rv_frozen o...   \n",
       "\n",
       "                                                                          Quantity  \n",
       "WeekLastDay         store brand       ForecastOriginTime  ModelName                 \n",
       "1991-11-06 23:59:59 83    dominicks   1991-10-30 23:59:59 naive               4480  \n",
       "                                                          seasonal_naive      4480  \n",
       "                          minute.maid 1991-10-30 23:59:59 naive              63808  \n",
       "                                                          seasonal_naive     63808  \n",
       "                          tropicana   1991-10-30 23:59:59 naive               5184  "
      ]
     },
     "execution_count": 18,
     "metadata": {},
     "output_type": "execute_result"
    }
   ],
   "source": [
    "naive_model = Naive(freq = oj_data.infer_freq())\n",
    "forecaster_union = ForecasterUnion(\n",
    "    forecaster_list=[('naive', naive_model), \n",
    "                     ('seasonal_naive', snaive_model)])\n",
    "forecaster_union.fit(oj_data)\n",
    "oj_multifcast = forecaster_union.predict(oj_test)\n",
    "oj_multifcast.head()"
   ]
  },
  {
   "cell_type": "markdown",
   "metadata": {},
   "source": [
    "Once again, lets take a look at out new metadata."
   ]
  },
  {
   "cell_type": "code",
   "execution_count": 19,
   "metadata": {},
   "outputs": [
    {
     "name": "stdout",
     "output_type": "stream",
     "text": [
      "{\n",
      "    grain_colnames: ['store', 'brand']\n",
      "    time_colname: WeekLastDay\n",
      "    group_colnames: ['store', 'brand']\n",
      "    origin_time_colname: ForecastOriginTime\n",
      "    actual: Quantity\n",
      "    pred_point: PointForecast\n",
      "    pred_dist: DistributionForecast\n",
      "    model_colnames: {'model_class': 'ModelName'}\n",
      "}\n"
     ]
    }
   ],
   "source": [
    "print(\"{\")\n",
    "for m in oj_multifcast._metadata:\n",
    "    print(\"    {0}: {1}\".format(m, getattr(oj_multifcast, m)))\n",
    "print(\"}\")"
   ]
  },
  {
   "cell_type": "markdown",
   "metadata": {},
   "source": [
    "There is just one new field this time.\n",
    "\n",
    "### `model_colnames`\n",
    "\n",
    "`model_colnames` is our first metadata field to contain a `dict` rather than a string or list.\n",
    "\n",
    "* `model_colnames`: A standardized dictionary with at least one of two keys, `model_class` and `param_values`.\n",
    "    * `model_class`: A string specifying the column name which contains the name of the forecasting model used to create the forecasts.\n",
    "    * `param_values`: A string specifying the column name which contains the parameters of the model used to create the forecast.\n",
    "    \n",
    "By specifying these two columns we can compare results from the same model or from the same model with different parameters or both.  Below we show an example of how we would compare the MAPE of our two models."
   ]
  },
  {
   "cell_type": "code",
   "execution_count": 20,
   "metadata": {},
   "outputs": [
    {
     "data": {
      "text/html": [
       "<div>\n",
       "<style>\n",
       "    .dataframe thead tr:only-child th {\n",
       "        text-align: right;\n",
       "    }\n",
       "\n",
       "    .dataframe thead th {\n",
       "        text-align: left;\n",
       "    }\n",
       "\n",
       "    .dataframe tbody tr th {\n",
       "        vertical-align: top;\n",
       "    }\n",
       "</style>\n",
       "<table border=\"1\" class=\"dataframe\">\n",
       "  <thead>\n",
       "    <tr style=\"text-align: right;\">\n",
       "      <th></th>\n",
       "      <th>ModelName</th>\n",
       "      <th>MAPE</th>\n",
       "    </tr>\n",
       "  </thead>\n",
       "  <tbody>\n",
       "    <tr>\n",
       "      <th>0</th>\n",
       "      <td>naive</td>\n",
       "      <td>103.57</td>\n",
       "    </tr>\n",
       "    <tr>\n",
       "      <th>1</th>\n",
       "      <td>seasonal_naive</td>\n",
       "      <td>118.15</td>\n",
       "    </tr>\n",
       "  </tbody>\n",
       "</table>\n",
       "</div>"
      ],
      "text/plain": [
       "        ModelName   MAPE\n",
       "0           naive 103.57\n",
       "1  seasonal_naive 118.15"
      ]
     },
     "execution_count": 20,
     "metadata": {},
     "output_type": "execute_result"
    }
   ],
   "source": [
    "oj_multifcast.calc_error('MAPE', by=oj_multifcast.model_colnames['model_class'])"
   ]
  }
 ],
 "metadata": {
  "kernelspec": {
   "display_name": "Python 3",
   "language": "python",
   "name": "python3"
  },
  "language_info": {
   "codemirror_mode": {
    "name": "ipython",
    "version": 3
   },
   "file_extension": ".py",
   "mimetype": "text/x-python",
   "name": "python",
   "nbconvert_exporter": "python",
   "pygments_lexer": "ipython3",
   "version": "3.5.2"
  }
 },
 "nbformat": 4,
 "nbformat_minor": 2
}
