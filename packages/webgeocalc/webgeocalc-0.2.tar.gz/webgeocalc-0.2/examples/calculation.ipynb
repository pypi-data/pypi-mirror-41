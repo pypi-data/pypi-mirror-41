{
 "cells": [
  {
   "cell_type": "markdown",
   "metadata": {},
   "source": [
    "**Previous:** Use [WebGeoCalc API](api.ipynb)\n",
    "\n",
    "---\n",
    "\n",
    "# Make a calculation"
   ]
  },
  {
   "cell_type": "code",
   "execution_count": 1,
   "metadata": {},
   "outputs": [],
   "source": [
    "from webgeocalc import Calculation"
   ]
  },
  {
   "cell_type": "markdown",
   "metadata": {},
   "source": [
    "### Set parameters\n",
    "\n",
    "`Calculation` default parameters:\n",
    "- `time_system`:`UTC`\n",
    "- `time_format`:`CALENDAR`"
   ]
  },
  {
   "cell_type": "code",
   "execution_count": 2,
   "metadata": {},
   "outputs": [
    {
     "data": {
      "text/plain": [
       "{'kernels': [{'type': 'KERNEL_SET', 'id': 5}],\n",
       " 'times': ['2012-10-19T08:24:00.000'],\n",
       " 'calculationType': 'STATE_VECTOR',\n",
       " 'target': 'CASSINI',\n",
       " 'observer': 'SATURN',\n",
       " 'referenceFrame': 'IAU_SATURN',\n",
       " 'aberrationCorrection': 'NONE',\n",
       " 'stateRepresentation': 'PLANETOGRAPHIC',\n",
       " 'timeSystem': 'UTC',\n",
       " 'timeFormat': 'CALENDAR'}"
      ]
     },
     "execution_count": 2,
     "metadata": {},
     "output_type": "execute_result"
    }
   ],
   "source": [
    "Calculation(\n",
    "    kernels = 5,\n",
    "    times = '2012-10-19T08:24:00.000',\n",
    "    calculation_type = 'STATE_VECTOR',\n",
    "    target = 'CASSINI',\n",
    "    observer = 'SATURN',\n",
    "    reference_frame = 'IAU_SATURN',\n",
    "    aberration_correction = 'NONE',\n",
    "    state_representation = 'PLANETOGRAPHIC',\n",
    ").payload"
   ]
  },
  {
   "cell_type": "markdown",
   "metadata": {},
   "source": [
    "## State Vecror"
   ]
  },
  {
   "cell_type": "code",
   "execution_count": 3,
   "metadata": {},
   "outputs": [],
   "source": [
    "from webgeocalc import StateVector"
   ]
  },
  {
   "cell_type": "markdown",
   "metadata": {},
   "source": [
    "### Set parameters\n",
    "\n",
    "`StateVector` default parameters:\n",
    "- `aberration_correction`:`CN`\n",
    "- `state_representation`:`RECTANGULAR`"
   ]
  },
  {
   "cell_type": "code",
   "execution_count": 4,
   "metadata": {},
   "outputs": [
    {
     "data": {
      "text/plain": [
       "{'kernels': [{'type': 'KERNEL_SET', 'id': 5}],\n",
       " 'times': ['2012-10-19T09:00:00'],\n",
       " 'target': 'CASSINI',\n",
       " 'observer': 'SATURN',\n",
       " 'referenceFrame': 'IAU_SATURN',\n",
       " 'calculationType': 'STATE_VECTOR',\n",
       " 'aberrationCorrection': 'CN',\n",
       " 'stateRepresentation': 'RECTANGULAR',\n",
       " 'timeSystem': 'UTC',\n",
       " 'timeFormat': 'CALENDAR'}"
      ]
     },
     "execution_count": 4,
     "metadata": {},
     "output_type": "execute_result"
    }
   ],
   "source": [
    "StateVector(\n",
    "    kernels=5,\n",
    "    times = '2012-10-19T09:00:00',\n",
    "    target = 'CASSINI',\n",
    "    observer = 'SATURN',\n",
    "    reference_frame = 'IAU_SATURN',\n",
    ").payload"
   ]
  },
  {
   "cell_type": "markdown",
   "metadata": {},
   "source": [
    "#### Set multiple `kernels` by _name_, multiple `times` and `target`-`observer`-`frame` by _id_:"
   ]
  },
  {
   "cell_type": "code",
   "execution_count": 5,
   "metadata": {},
   "outputs": [
    {
     "data": {
      "text/plain": [
       "{'kernels': [{'type': 'KERNEL_SET', 'id': 1}, {'type': 'KERNEL_SET', 'id': 5}],\n",
       " 'times': ['2012-10-19T07:00:00', '2012-10-19T09:00:00'],\n",
       " 'target': -82,\n",
       " 'observer': 699,\n",
       " 'referenceFrame': 10016,\n",
       " 'calculationType': 'STATE_VECTOR',\n",
       " 'aberrationCorrection': 'NONE',\n",
       " 'stateRepresentation': 'RECTANGULAR',\n",
       " 'timeSystem': 'UTC',\n",
       " 'timeFormat': 'CALENDAR'}"
      ]
     },
     "execution_count": 5,
     "metadata": {},
     "output_type": "execute_result"
    }
   ],
   "source": [
    "StateVector(\n",
    "    kernels = ['Solar System Kernels', 'Cassini Huygens'],\n",
    "    times = ['2012-10-19T07:00:00', '2012-10-19T09:00:00'],\n",
    "    target = -82, # CASSINI\n",
    "    observer = 699, # SATURN\n",
    "    reference_frame = 10016, # IAU_SATURN\n",
    "    aberration_correction = 'NONE',\n",
    "    stateRepresentation = 'PLANETOGRAPHIC',\n",
    ").payload"
   ]
  },
  {
   "cell_type": "markdown",
   "metadata": {},
   "source": [
    "#### Add individual `kernel path` from on a remote server and multiple `intervals`"
   ]
  },
  {
   "cell_type": "code",
   "execution_count": 6,
   "metadata": {},
   "outputs": [
    {
     "data": {
      "text/plain": [
       "{'kernels': [{'type': 'KERNEL', 'path': 'https://path.to.server/kernel'}],\n",
       " 'intervals': [{'startTime': '2000-01-01', 'endTime': '2000-01-03'},\n",
       "  {'startTime': '2000-02-01', 'endTime': '2000-02-03'}],\n",
       " 'timeStep': 1,\n",
       " 'timeStepUnit': 'DAYS',\n",
       " 'target': 'CASSINI',\n",
       " 'observer': 'SATURN',\n",
       " 'referenceFrame': 'IAU_SATURN',\n",
       " 'calculationType': 'STATE_VECTOR',\n",
       " 'aberrationCorrection': 'CN',\n",
       " 'stateRepresentation': 'RECTANGULAR',\n",
       " 'timeSystem': 'UTC',\n",
       " 'timeFormat': 'CALENDAR'}"
      ]
     },
     "execution_count": 6,
     "metadata": {},
     "output_type": "execute_result"
    }
   ],
   "source": [
    "StateVector(\n",
    "    kernel_paths = 'https://path.to.server/kernel',\n",
    "    intervals = [['2000-01-01', '2000-01-03'], ['2000-02-01', '2000-02-03']],\n",
    "    time_step = 1,\n",
    "    time_step_units = 'DAYS',\n",
    "    target = 'CASSINI',\n",
    "    observer = 'SATURN',\n",
    "    reference_frame = 'IAU_SATURN',\n",
    ").payload"
   ]
  },
  {
   "cell_type": "markdown",
   "metadata": {},
   "source": [
    "## Run the calculation"
   ]
  },
  {
   "cell_type": "code",
   "execution_count": 7,
   "metadata": {},
   "outputs": [
    {
     "name": "stdout",
     "output_type": "stream",
     "text": [
      "[Calculation submitted] Status: COMPLETE (id: 55a5aa53-73fa-4b1f-b23a-6fdff46664eb)\n"
     ]
    }
   ],
   "source": [
    "calc = StateVector(\n",
    "    kernels=5,\n",
    "    times = '2012-10-19T09:00:00',\n",
    "    target = 'CASSINI',\n",
    "    observer = 'SATURN',\n",
    "    reference_frame = 'IAU_SATURN',\n",
    ")\n",
    "calc.submit()"
   ]
  },
  {
   "cell_type": "markdown",
   "metadata": {},
   "source": [
    "#### Update status calculation:"
   ]
  },
  {
   "cell_type": "code",
   "execution_count": 8,
   "metadata": {},
   "outputs": [
    {
     "name": "stdout",
     "output_type": "stream",
     "text": [
      "[Calculation update] Status: COMPLETE (id: 55a5aa53-73fa-4b1f-b23a-6fdff46664eb)\n"
     ]
    }
   ],
   "source": [
    "calc.update()"
   ]
  },
  {
   "cell_type": "code",
   "execution_count": 9,
   "metadata": {},
   "outputs": [
    {
     "data": {
      "text/plain": [
       "{'DATE': '2012-10-19 09:00:00.000000 UTC',\n",
       " 'DISTANCE': 764142.63776247,\n",
       " 'SPEED': 111.54765899,\n",
       " 'X': 298292.85744169,\n",
       " 'Y': -651606.58468976,\n",
       " 'Z': 265224.81187627,\n",
       " 'D_X_DT': -98.8032491,\n",
       " 'D_Y_DT': -51.73211296,\n",
       " 'D_Z_DT': -2.1416539,\n",
       " 'TIME_AT_TARGET': '2012-10-19 08:59:57.451094 UTC',\n",
       " 'LIGHT_TIME': 2.54890548}"
      ]
     },
     "execution_count": 9,
     "metadata": {},
     "output_type": "execute_result"
    }
   ],
   "source": [
    "calc.results"
   ]
  },
  {
   "cell_type": "markdown",
   "metadata": {},
   "source": [
    "#### Submit and get results"
   ]
  },
  {
   "cell_type": "code",
   "execution_count": 10,
   "metadata": {},
   "outputs": [
    {
     "data": {
      "text/plain": [
       "{'DATE': '2012-10-19 09:00:00.000000 UTC',\n",
       " 'DISTANCE': 764142.63776247,\n",
       " 'SPEED': 111.54765899,\n",
       " 'X': 298292.85744169,\n",
       " 'Y': -651606.58468976,\n",
       " 'Z': 265224.81187627,\n",
       " 'D_X_DT': -98.8032491,\n",
       " 'D_Y_DT': -51.73211296,\n",
       " 'D_Z_DT': -2.1416539,\n",
       " 'TIME_AT_TARGET': '2012-10-19 08:59:57.451094 UTC',\n",
       " 'LIGHT_TIME': 2.54890548}"
      ]
     },
     "execution_count": 10,
     "metadata": {},
     "output_type": "execute_result"
    }
   ],
   "source": [
    "calc.run()"
   ]
  }
 ],
 "metadata": {
  "kernelspec": {
   "display_name": "Python 3",
   "language": "python",
   "name": "python3"
  },
  "language_info": {
   "codemirror_mode": {
    "name": "ipython",
    "version": 3
   },
   "file_extension": ".py",
   "mimetype": "text/x-python",
   "name": "python",
   "nbconvert_exporter": "python",
   "pygments_lexer": "ipython3",
   "version": "3.6.6"
  }
 },
 "nbformat": 4,
 "nbformat_minor": 2
}
