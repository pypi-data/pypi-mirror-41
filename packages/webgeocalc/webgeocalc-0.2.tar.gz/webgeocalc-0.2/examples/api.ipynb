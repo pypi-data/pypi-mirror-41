{
 "cells": [
  {
   "cell_type": "markdown",
   "metadata": {},
   "source": [
    "Python package for NAIF WebGeoCalc API\n",
    "======================================\n",
    "\n",
    "In december 2018, [JPL/NAIF](https://naif.jpl.nasa.gov/naif/webgeocalc.html)\n",
    "announced an **experimental**\n",
    "[API RESTful interface](https://naif.jpl.nasa.gov/naif/WebGeocalc_announcement.pdf)\n",
    "for their new \n",
    "[WebGeocalc server](https://wgc2.jpl.nasa.gov:8443/webgeocalc)\n",
    "(which make online SPICE calculations).\n",
    "[Documentation](https://wgc2.jpl.nasa.gov:8443/webgeocalc/documents/api-info.html)\n",
    "and [JavaScript examples](https://wgc2.jpl.nasa.gov:8443/webgeocalc/example/perform-calculation.html)\n",
    "are already available.\n",
    "\n",
    "This package is an **early attempt** to provide a Python interface to\n",
    "make SPICE calculation through this API.\n",
    "\n",
    "\n",
    "Disclaimer\n",
    "----------\n",
    "This project is not supported or endorsed by either JPL, NAIF or NASA.\n",
    "The code is provided *\"as is\"*, use at your own risk."
   ]
  },
  {
   "cell_type": "markdown",
   "metadata": {},
   "source": [
    "# Use WebGeoCalc API"
   ]
  },
  {
   "cell_type": "code",
   "execution_count": 1,
   "metadata": {},
   "outputs": [
    {
     "data": {
      "text/plain": [
       "'https://wgc2.jpl.nasa.gov:8443/webgeocalc/api'"
      ]
     },
     "execution_count": 1,
     "metadata": {},
     "output_type": "execute_result"
    }
   ],
   "source": [
    "from webgeocalc import API\n",
    "\n",
    "API.url"
   ]
  },
  {
   "cell_type": "markdown",
   "metadata": {},
   "source": [
    "## Get kernel sets"
   ]
  },
  {
   "cell_type": "code",
   "execution_count": 2,
   "metadata": {
    "scrolled": true
   },
   "outputs": [
    {
     "data": {
      "text/plain": [
       "[<KernelSetDetails> Solar System Kernels (id: 1),\n",
       " <KernelSetDetails> Latest Leapseconds Kernel (id: 2),\n",
       " <KernelSetDetails> Latest Planetary Constants Kernel (id: 3),\n",
       " <KernelSetDetails> Ground Stations Kernels (id: 4),\n",
       " <KernelSetDetails> Cassini Huygens (id: 5),\n",
       " <KernelSetDetails> Clementine (id: 6),\n",
       " <KernelSetDetails> Dawn (id: 7),\n",
       " <KernelSetDetails> Deep Impact (Primary mission) (id: 8),\n",
       " <KernelSetDetails> Deep Impact (EPOXI mission) (id: 9),\n",
       " <KernelSetDetails> Deep Space 1 (id: 10),\n",
       " <KernelSetDetails> GRAIL (id: 11),\n",
       " <KernelSetDetails> Hayabusa (id: 12),\n",
       " <KernelSetDetails> JUNO (id: 13),\n",
       " <KernelSetDetails> Lunar Reconnaissance Orbiter (id: 14),\n",
       " <KernelSetDetails> MAVEN (id: 15),\n",
       " <KernelSetDetails> MER1 Rover (Opportunity) (id: 16),\n",
       " <KernelSetDetails> MER2 Rover (Spirit) (id: 17),\n",
       " <KernelSetDetails> MESSENGER (id: 18),\n",
       " <KernelSetDetails> Mars Express (id: 19),\n",
       " <KernelSetDetails> Mars Global Surveyor (id: 20),\n",
       " <KernelSetDetails> Mars Odyssey (id: 21),\n",
       " <KernelSetDetails> Mars Reconnaissance Orbiter (id: 22),\n",
       " <KernelSetDetails> MSL Rover (Curiosity) (id: 23),\n",
       " <KernelSetDetails> NEAR (id: 24),\n",
       " <KernelSetDetails> New Horizons (id: 25),\n",
       " <KernelSetDetails> OSIRIS-REx (id: 26),\n",
       " <KernelSetDetails> Rosetta (id: 27),\n",
       " <KernelSetDetails> Stardust (id: 28),\n",
       " <KernelSetDetails> Venus Climate Orbiter (id: 29),\n",
       " <KernelSetDetails> Venus Express (id: 30),\n",
       " <KernelSetDetails> Viking Orbiters (id: 31),\n",
       " <KernelSetDetails> LADEE (id: 32),\n",
       " <KernelSetDetails> SPICE Class -- CASSINI Remote Sensing Lesson Kernels (id: 33),\n",
       " <KernelSetDetails> SPICE Class -- ExoMars 2016 Remote Sensing Lesson Kernels (id: 34),\n",
       " <KernelSetDetails> SPICE Class -- In-situ Sensing Lesson Kernels (id: 35),\n",
       " <KernelSetDetails> SPICE Class -- Mars Express Geometric Event Finding Lesson Kernels (id: 36),\n",
       " <KernelSetDetails> SPICE Class -- ExoMars 2016 Geometric Event Finding Lesson Kernels (id: 37),\n",
       " <KernelSetDetails> SPICE Class -- Binary PCK Lesson Kernels (Moon) (id: 38),\n",
       " <KernelSetDetails> SPICE Class -- Binary PCK Lesson Kernels (Earth) (id: 39)]"
      ]
     },
     "execution_count": 2,
     "metadata": {},
     "output_type": "execute_result"
    }
   ],
   "source": [
    "kernel_sets = API.kernel_sets() # /kernel-sets\n",
    "kernel_sets"
   ]
  },
  {
   "cell_type": "markdown",
   "metadata": {},
   "source": [
    "### Kernel set object"
   ]
  },
  {
   "cell_type": "code",
   "execution_count": 3,
   "metadata": {},
   "outputs": [
    {
     "data": {
      "text/plain": [
       "1"
      ]
     },
     "execution_count": 3,
     "metadata": {},
     "output_type": "execute_result"
    }
   ],
   "source": [
    "kernel_set = kernel_sets[0]\n",
    "int(kernel_set) # kernelSetId"
   ]
  },
  {
   "cell_type": "code",
   "execution_count": 4,
   "metadata": {},
   "outputs": [
    {
     "data": {
      "text/plain": [
       "'Solar System Kernels'"
      ]
     },
     "execution_count": 4,
     "metadata": {},
     "output_type": "execute_result"
    }
   ],
   "source": [
    "str(kernel_set) # Caption"
   ]
  },
  {
   "cell_type": "code",
   "execution_count": 5,
   "metadata": {},
   "outputs": [
    {
     "data": {
      "text/plain": [
       "'Generic kernels for planets, satellites, and some asteroids covering from 1950-01-01 to 2050-01-01.'"
      ]
     },
     "execution_count": 5,
     "metadata": {},
     "output_type": "execute_result"
    }
   ],
   "source": [
    "kernel_set.description # Get kernel attribute"
   ]
  },
  {
   "cell_type": "code",
   "execution_count": 6,
   "metadata": {},
   "outputs": [
    {
     "data": {
      "text/plain": [
       "dict_keys(['caption', 'sclkId', 'description', 'kernelSetId', 'missionId'])"
      ]
     },
     "execution_count": 6,
     "metadata": {},
     "output_type": "execute_result"
    }
   ],
   "source": [
    "kernel_set.keys()"
   ]
  },
  {
   "cell_type": "code",
   "execution_count": 7,
   "metadata": {},
   "outputs": [
    {
     "data": {
      "text/plain": [
       "dict_values(['Solar System Kernels', '0', 'Generic kernels for planets, satellites, and some asteroids covering from 1950-01-01 to 2050-01-01.', '1', 'gen'])"
      ]
     },
     "execution_count": 7,
     "metadata": {},
     "output_type": "execute_result"
    }
   ],
   "source": [
    "kernel_set.values()"
   ]
  },
  {
   "cell_type": "code",
   "execution_count": 8,
   "metadata": {},
   "outputs": [
    {
     "data": {
      "text/plain": [
       "{'caption': 'Solar System Kernels',\n",
       " 'sclkId': '0',\n",
       " 'description': 'Generic kernels for planets, satellites, and some asteroids covering from 1950-01-01 to 2050-01-01.',\n",
       " 'kernelSetId': '1',\n",
       " 'missionId': 'gen'}"
      ]
     },
     "execution_count": 8,
     "metadata": {},
     "output_type": "execute_result"
    }
   ],
   "source": [
    "dict(kernel_set.items())"
   ]
  },
  {
   "cell_type": "markdown",
   "metadata": {},
   "source": [
    "### Get a kernel set by it's `id` or `caption name`:"
   ]
  },
  {
   "cell_type": "code",
   "execution_count": 9,
   "metadata": {},
   "outputs": [
    {
     "data": {
      "text/plain": [
       "<KernelSetDetails> Solar System Kernels (id: 1)"
      ]
     },
     "execution_count": 9,
     "metadata": {},
     "output_type": "execute_result"
    }
   ],
   "source": [
    "# By ID\n",
    "API.kernel_set(1)"
   ]
  },
  {
   "cell_type": "code",
   "execution_count": 10,
   "metadata": {},
   "outputs": [
    {
     "data": {
      "text/plain": [
       "<KernelSetDetails> Solar System Kernels (id: 1)"
      ]
     },
     "execution_count": 10,
     "metadata": {},
     "output_type": "execute_result"
    }
   ],
   "source": [
    "# By full caption name\n",
    "API.kernel_set('Solar System Kernels')"
   ]
  },
  {
   "cell_type": "code",
   "execution_count": 11,
   "metadata": {},
   "outputs": [
    {
     "data": {
      "text/plain": [
       "<KernelSetDetails> Solar System Kernels (id: 1)"
      ]
     },
     "execution_count": 11,
     "metadata": {},
     "output_type": "execute_result"
    }
   ],
   "source": [
    "# Not case sensitive\n",
    "API.kernel_set('solar system kernels')"
   ]
  },
  {
   "cell_type": "code",
   "execution_count": 12,
   "metadata": {},
   "outputs": [
    {
     "data": {
      "text/plain": [
       "<KernelSetDetails> Solar System Kernels (id: 1)"
      ]
     },
     "execution_count": 12,
     "metadata": {},
     "output_type": "execute_result"
    }
   ],
   "source": [
    "# Search by partial name\n",
    "API.kernel_set('Solar')"
   ]
  },
  {
   "cell_type": "markdown",
   "metadata": {},
   "source": [
    "#### Handling errors:"
   ]
  },
  {
   "cell_type": "code",
   "execution_count": 13,
   "metadata": {},
   "outputs": [
    {
     "name": "stdout",
     "output_type": "stream",
     "text": [
      "Too many kernel sets contains 'Cassini' in their names:\n",
      " - Cassini Huygens\n",
      " - SPICE Class -- CASSINI Remote Sensing Lesson Kernels\n"
     ]
    }
   ],
   "source": [
    "from webgeocalc.errors import TooManyKernelSets, KernelSetNotFound\n",
    "\n",
    "# More than one kernel found\n",
    "try:\n",
    "    API.kernel_set('Cassini')\n",
    "except TooManyKernelSets as err:\n",
    "    print(err)"
   ]
  },
  {
   "cell_type": "code",
   "execution_count": 14,
   "metadata": {},
   "outputs": [
    {
     "name": "stdout",
     "output_type": "stream",
     "text": [
      "Kernel set 'Missing kernel' not found\n"
     ]
    }
   ],
   "source": [
    "# Kernel not found\n",
    "try:\n",
    "    API.kernel_set('Missing kernel')\n",
    "except KernelSetNotFound as err:\n",
    "    print(err)"
   ]
  },
  {
   "cell_type": "markdown",
   "metadata": {},
   "source": [
    "## Get bodies"
   ]
  },
  {
   "cell_type": "code",
   "execution_count": 15,
   "metadata": {
    "scrolled": true
   },
   "outputs": [
    {
     "data": {
      "text/plain": [
       "[<BodyData> CASSINI (id: -82),\n",
       " <BodyData> CAS (id: -82),\n",
       " <BodyData> MERCURY BARYCENTER (id: 1),\n",
       " <BodyData> VENUS BARYCENTER (id: 2),\n",
       " <BodyData> EARTH BARYCENTER (id: 3),\n",
       " <BodyData> EMB (id: 3),\n",
       " <BodyData> EARTH MOON BARYCENTER (id: 3),\n",
       " <BodyData> EARTH-MOON BARYCENTER (id: 3),\n",
       " <BodyData> MARS BARYCENTER (id: 4),\n",
       " <BodyData> JUPITER BARYCENTER (id: 5),\n",
       " <BodyData> SATURN BARYCENTER (id: 6),\n",
       " <BodyData> URANUS BARYCENTER (id: 7),\n",
       " <BodyData> NEPTUNE BARYCENTER (id: 8),\n",
       " <BodyData> PLUTO BARYCENTER (id: 9),\n",
       " <BodyData> SUN (id: 10),\n",
       " <BodyData> MERCURY (id: 199),\n",
       " <BodyData> VENUS (id: 299),\n",
       " <BodyData> MOON (id: 301),\n",
       " <BodyData> EARTH (id: 399),\n",
       " <BodyData> MARS (id: 499),\n",
       " <BodyData> IO (id: 501),\n",
       " <BodyData> EUROPA (id: 502),\n",
       " <BodyData> GANYMEDE (id: 503),\n",
       " <BodyData> CALLISTO (id: 504),\n",
       " <BodyData> AMALTHEA (id: 505),\n",
       " <BodyData> THEBE (id: 514),\n",
       " <BodyData> ADRASTEA (id: 515),\n",
       " <BodyData> METIS (id: 516),\n",
       " <BodyData> JUPITER (id: 599),\n",
       " <BodyData> MIMAS (id: 601),\n",
       " <BodyData> ENCELADUS (id: 602),\n",
       " <BodyData> TETHYS (id: 603),\n",
       " <BodyData> DIONE (id: 604),\n",
       " <BodyData> RHEA (id: 605),\n",
       " <BodyData> TITAN (id: 606),\n",
       " <BodyData> HYPERION (id: 607),\n",
       " <BodyData> IAPETUS (id: 608),\n",
       " <BodyData> PHOEBE (id: 609),\n",
       " <BodyData> JANUS (id: 610),\n",
       " <BodyData> EPIMETHEUS (id: 611),\n",
       " <BodyData> HELENE (id: 612),\n",
       " <BodyData> TELESTO (id: 613),\n",
       " <BodyData> CALYPSO (id: 614),\n",
       " <BodyData> ATLAS (id: 615),\n",
       " <BodyData> PROMETHEUS (id: 616),\n",
       " <BodyData> PANDORA (id: 617),\n",
       " <BodyData> PAN (id: 618),\n",
       " <BodyData> YMIR (id: 619),\n",
       " <BodyData> PAALIAQ (id: 620),\n",
       " <BodyData> TARVOS (id: 621),\n",
       " <BodyData> IJIRAQ (id: 622),\n",
       " <BodyData> SUTTUNGR (id: 623),\n",
       " <BodyData> KIVIUQ (id: 624),\n",
       " <BodyData> MUNDILFARI (id: 625),\n",
       " <BodyData> ALBIORIX (id: 626),\n",
       " <BodyData> SKATHI (id: 627),\n",
       " <BodyData> ERRIAPUS (id: 628),\n",
       " <BodyData> SIARNAQ (id: 629),\n",
       " <BodyData> THRYMR (id: 630),\n",
       " <BodyData> NARVI (id: 631),\n",
       " <BodyData> METHONE (id: 632),\n",
       " <BodyData> PALLENE (id: 633),\n",
       " <BodyData> POLYDEUCES (id: 634),\n",
       " <BodyData> DAPHNIS (id: 635),\n",
       " <BodyData> AEGIR (id: 636),\n",
       " <BodyData> BEBHIONN (id: 637),\n",
       " <BodyData> BERGELMIR (id: 638),\n",
       " <BodyData> BESTLA (id: 639),\n",
       " <BodyData> FARBAUTI (id: 640),\n",
       " <BodyData> FENRIR (id: 641),\n",
       " <BodyData> FORNJOT (id: 642),\n",
       " <BodyData> HATI (id: 643),\n",
       " <BodyData> HYRROKKIN (id: 644),\n",
       " <BodyData> HYROKKIN (id: 644),\n",
       " <BodyData> KARI (id: 645),\n",
       " <BodyData> LOGE (id: 646),\n",
       " <BodyData> SKOLL (id: 647),\n",
       " <BodyData> SURTUR (id: 648),\n",
       " <BodyData> ANTHE (id: 649),\n",
       " <BodyData> JARNSAXA (id: 650),\n",
       " <BodyData> GREIP (id: 651),\n",
       " <BodyData> TARQEQ (id: 652),\n",
       " <BodyData> AEGAEON (id: 653),\n",
       " <BodyData> SATURN (id: 699),\n",
       " <BodyData> 65035 (id: 65035),\n",
       " <BodyData> 65040 (id: 65040),\n",
       " <BodyData> 65041 (id: 65041),\n",
       " <BodyData> 65045 (id: 65045),\n",
       " <BodyData> 65048 (id: 65048),\n",
       " <BodyData> 65050 (id: 65050),\n",
       " <BodyData> 65055 (id: 65055),\n",
       " <BodyData> 65056 (id: 65056),\n",
       " <BodyData> HIMALIA (id: 506),\n",
       " <BodyData> ELARA (id: 507),\n",
       " <BodyData> PASIPHAE (id: 508),\n",
       " <BodyData> SINOPE (id: 509),\n",
       " <BodyData> LYSITHEA (id: 510),\n",
       " <BodyData> CARME (id: 511),\n",
       " <BodyData> ANANKE (id: 512),\n",
       " <BodyData> LEDA (id: 513),\n",
       " <BodyData> CASP (id: -150),\n",
       " <BodyData> CASSINI PROBE (id: -150),\n",
       " <BodyData> HUYGENS PROBE (id: -150),\n",
       " <BodyData> SSB (id: 0),\n",
       " <BodyData> SOLAR SYSTEM BARYCENTER (id: 0)]"
      ]
     },
     "execution_count": 15,
     "metadata": {},
     "output_type": "execute_result"
    }
   ],
   "source": [
    "bodies = API.bodies(5) # /kernel-set/{kernelSetId}/bodies\n",
    "# or\n",
    "API.bodies('Cassini Huygens')"
   ]
  },
  {
   "cell_type": "code",
   "execution_count": 16,
   "metadata": {},
   "outputs": [
    {
     "name": "stdout",
     "output_type": "stream",
     "text": [
      "Body `id`: -82 and `name`: CASSINI\n"
     ]
    }
   ],
   "source": [
    "body = bodies[0]\n",
    "print(f\"Body `id`: {int(body)} and `name`: {str(body)}\")"
   ]
  },
  {
   "cell_type": "markdown",
   "metadata": {},
   "source": [
    "## Get frames"
   ]
  },
  {
   "cell_type": "code",
   "execution_count": 17,
   "metadata": {},
   "outputs": [
    {
     "data": {
      "text/plain": [
       "[<FrameData> CASSINI_SATURN_SKR4N_LOCK (id: -82982),\n",
       " <FrameData> CASSINI_SATURN_SKR4S_LOCK (id: -82981),\n",
       " <FrameData> CASSINI_SATURN_SKR3_LOCK (id: -82980),\n",
       " <FrameData> CASSINI_MIMI_MAG_KRTP (id: -82979),\n",
       " <FrameData> CASSINI_MIMI_MAG_RTN (id: -82978),\n",
       " <FrameData> CASSINI_JUPITER_EQU_SOLAR (id: -82976),\n",
       " <FrameData> CASSINI_SKR_SLSM_NORTH (id: -82973),\n",
       " <FrameData> CASSINI_SKR_SLSM_SOUTH (id: -82972),\n",
       " <FrameData> CASSINI_SKR_SLS4_NORTH (id: -82971),\n",
       " <FrameData> CASSINI_SKR_SLS4_SOUTH (id: -82970),\n",
       " <FrameData> CASSINI_SC2SAT_SPIN_PLN (id: -82967),\n",
       " <FrameData> CASSINI_SZS_XY_PLANE (id: -82966),\n",
       " <FrameData> CASSINI_ISMF_X (id: -82965),\n",
       " <FrameData> CASSINI_ISMF (id: -82964),\n",
       " <FrameData> CASSINI_MIMI_ECLIPJ2000 (id: -82963),\n",
       " <FrameData> CASSINI_COROT_ENCELADUS (id: -82962),\n",
       " <FrameData> CASSINI_MIMI_GSE (id: -82961),\n",
       " <FrameData> CASSINI_MIMI_PROF_TITAN (id: -82960),\n",
       " <FrameData> CASSINI_MIMI_LEMMS_AA (id: -82959),\n",
       " <FrameData> CASSINI_CRTN (id: -82958),\n",
       " <FrameData> CASSINI_SATURN_SKR_LOCK (id: -82955),\n",
       " <FrameData> CASSINI_PITCH_GYROPHASE (id: -82954),\n",
       " <FrameData> CASSINI_TITAN_CENTERED (id: -82953),\n",
       " <FrameData> CASSINI_SATURN_CENTERED (id: -82952),\n",
       " <FrameData> CASSINI_MIMI_INCA_BSIGHT (id: -82951),\n",
       " <FrameData> CASSINI_JUPITER_CENTERED (id: -82947),\n",
       " <FrameData> CASSINI_SUNJ2000 (id: -82946),\n",
       " <FrameData> CASSINI_SZM_MOON (id: -82945),\n",
       " <FrameData> CASSINI_SZM_IO (id: -82944),\n",
       " <FrameData> CASSINI_SZM_TELESTO (id: -82943),\n",
       " <FrameData> CASSINI_SZM_PROMETHEUS (id: -82942),\n",
       " <FrameData> CASSINI_SZM_PHOEBE (id: -82941),\n",
       " <FrameData> CASSINI_SZM_PANDORA (id: -82940),\n",
       " <FrameData> CASSINI_SZM_PAN (id: -82939),\n",
       " <FrameData> CASSINI_SZM_TETHYS (id: -82938),\n",
       " <FrameData> CASSINI_SZM_RHEA (id: -82937),\n",
       " <FrameData> CASSINI_SZM_MIMAS (id: -82936),\n",
       " <FrameData> CASSINI_SZM_IAPETUS (id: -82935),\n",
       " <FrameData> CASSINI_SZM_JANUS (id: -82934),\n",
       " <FrameData> CASSINI_SZM_HYPERION (id: -82933),\n",
       " <FrameData> CASSINI_SZM_HELENE (id: -82932),\n",
       " <FrameData> CASSINI_SZM_EPIMETHEUS (id: -82931),\n",
       " <FrameData> CASSINI_SZM_ENCELADUS (id: -82930),\n",
       " <FrameData> CASSINI_SZM_DIONE (id: -82929),\n",
       " <FrameData> CASSINI_SZM_CALYPSO (id: -82928),\n",
       " <FrameData> CASSINI_SZM_ATLAS (id: -82927),\n",
       " <FrameData> CASSINI_SZM_TITAN (id: -82926),\n",
       " <FrameData> CASSINI_SATURN_EQU_SOLAR (id: -82924),\n",
       " <FrameData> CASSINI_SATURN_SYSTEM_III (id: -82923),\n",
       " <FrameData> CASSINI_SATURN_SOL_ORBIT (id: -82922),\n",
       " <FrameData> CASSINI_KRTP (id: -82903),\n",
       " <FrameData> CASSINI_MIMI_INCA_LL (id: -82920),\n",
       " <FrameData> CASSINI_SKR_SLS3 (id: -82913),\n",
       " <FrameData> CASSINI_SKR_SLS2 (id: -82912),\n",
       " <FrameData> CASSINI_SKR_SLS1 (id: -82911),\n",
       " <FrameData> CASSINI_SATURN_KM_RAD (id: -82910),\n",
       " <FrameData> CASSINI_RINGS_SHA (id: -82907),\n",
       " <FrameData> CASSINI_RINGS_PLANNING (id: -82906),\n",
       " <FrameData> CASSINI_KSO (id: -82905),\n",
       " <FrameData> CASSINI_KSM (id: -82904),\n",
       " <FrameData> CASSINI_RTN (id: -82902),\n",
       " <FrameData> CASSINI_CIRS_RAD (id: -82898),\n",
       " <FrameData> CASSINI_CIRS_FPB (id: -82893),\n",
       " <FrameData> CASSINI_CIRS_FP4 (id: -82892),\n",
       " <FrameData> CASSINI_CIRS_FP3 (id: -82891),\n",
       " <FrameData> CASSINI_CIRS_FP1 (id: -82890),\n",
       " <FrameData> CASSINI_UVIS_SOL_OFF (id: -82849),\n",
       " <FrameData> CASSINI_UVIS_HDAC (id: -82845),\n",
       " <FrameData> CASSINI_UVIS_HSP (id: -82844),\n",
       " <FrameData> CASSINI_UVIS_SOLAR (id: -82843),\n",
       " <FrameData> CASSINI_UVIS_EUV (id: -82842),\n",
       " <FrameData> CASSINI_UVIS_FUV (id: -82840),\n",
       " <FrameData> CASSINI_CAPS_BASE (id: -82822),\n",
       " <FrameData> CASSINI_CAPS_ART (id: -82821),\n",
       " <FrameData> CASSINI_CAPS (id: -82820),\n",
       " <FrameData> CASSINI_RADAR_5 (id: -82814),\n",
       " <FrameData> CASSINI_RADAR_4 (id: -82813),\n",
       " <FrameData> CASSINI_RADAR_3 (id: -82812),\n",
       " <FrameData> CASSINI_RADAR_2 (id: -82811),\n",
       " <FrameData> CASSINI_RADAR_1 (id: -82810),\n",
       " <FrameData> CASSINI_CDA_BASE (id: -82792),\n",
       " <FrameData> CASSINI_CDA_ART (id: -82791),\n",
       " <FrameData> CASSINI_CDA (id: -82790),\n",
       " <FrameData> CASSINI_MIMI_LEMMS_BASE (id: -82765),\n",
       " <FrameData> CASSINI_MIMI_LEMMS_ART (id: -82764),\n",
       " <FrameData> CASSINI_MIMI_LEMMS2 (id: -82763),\n",
       " <FrameData> CASSINI_MIMI_LEMMS1 (id: -82762),\n",
       " <FrameData> CASSINI_MIMI_INCA (id: -82761),\n",
       " <FrameData> CASSINI_MIMI_CHEMS (id: -82760),\n",
       " <FrameData> CASSINI_INMS (id: -82740),\n",
       " <FrameData> CASSINI_RPWS_EDPZP (id: -82739),\n",
       " <FrameData> CASSINI_RPWS_EXMZP (id: -82738),\n",
       " <FrameData> CASSINI_RPWS_EXPZP (id: -82737),\n",
       " <FrameData> CASSINI_RPWS_EXZPLANE (id: -82736),\n",
       " <FrameData> CASSINI_RPWS_EDIPOLE (id: -82735),\n",
       " <FrameData> CASSINI_RPWS_LP (id: -82734),\n",
       " <FrameData> CASSINI_RPWS_EZPLUS (id: -82733),\n",
       " <FrameData> CASSINI_RPWS_EXMINUS (id: -82732),\n",
       " <FrameData> CASSINI_RPWS_EXPLUS (id: -82731),\n",
       " <FrameData> CASSINI_RPWS (id: -82730),\n",
       " <FrameData> CASSINI_VIMS_RAD (id: -82378),\n",
       " <FrameData> CASSINI_VIMS_IR_SOL (id: -82372),\n",
       " <FrameData> CASSINI_VIMS_IR (id: -82371),\n",
       " <FrameData> CASSINI_VIMS_V (id: -82370),\n",
       " <FrameData> CASSINI_ISS_WAC_RAD (id: -82369),\n",
       " <FrameData> CASSINI_ISS_NAC_RAD (id: -82368),\n",
       " <FrameData> CASSINI_ISS_WAC (id: -82361),\n",
       " <FrameData> CASSINI_ISS_NAC (id: -82360),\n",
       " <FrameData> CASSINI_MAG_MINUS (id: -82351),\n",
       " <FrameData> CASSINI_MAG_PLUS (id: -82350),\n",
       " <FrameData> CASSINI_XBAND_TRUE (id: -82108),\n",
       " <FrameData> CASSINI_SBAND (id: -82107),\n",
       " <FrameData> CASSINI_KUBAND (id: -82106),\n",
       " <FrameData> CASSINI_KABAND (id: -82105),\n",
       " <FrameData> CASSINI_XBAND (id: -82104),\n",
       " <FrameData> CASSINI_LGA2 (id: -82103),\n",
       " <FrameData> CASSINI_LGA1 (id: -82102),\n",
       " <FrameData> CASSINI_HGA (id: -82101),\n",
       " <FrameData> CASSINI_SRU-B_RAD (id: -82009),\n",
       " <FrameData> CASSINI_SRU-A_RAD (id: -82008),\n",
       " <FrameData> CASSINI_SRU-B (id: -82002),\n",
       " <FrameData> CASSINI_SRU-A (id: -82001),\n",
       " <FrameData> CASSINI_SC_COORD (id: -82000),\n",
       " <FrameData> IAU_YMIR (id: 619),\n",
       " <FrameData> IAU_PAALIAQ (id: 620),\n",
       " <FrameData> IAU_TARVOS (id: 621),\n",
       " <FrameData> IAU_IJIRAQ (id: 622),\n",
       " <FrameData> IAU_SUTTUNGR (id: 623),\n",
       " <FrameData> IAU_KIVIUQ (id: 624),\n",
       " <FrameData> IAU_MUNDILFARI (id: 625),\n",
       " <FrameData> IAU_ALBIORIX (id: 626),\n",
       " <FrameData> IAU_SKATHI (id: 627),\n",
       " <FrameData> IAU_ERRIAPUS (id: 628),\n",
       " <FrameData> IAU_SIARNAQ (id: 629),\n",
       " <FrameData> IAU_THRYMR (id: 630),\n",
       " <FrameData> IAU_NARVI (id: 631),\n",
       " <FrameData> IAU_METHONE (id: 632),\n",
       " <FrameData> IAU_PALLENE (id: 633),\n",
       " <FrameData> IAU_POLYDEUCES (id: 634),\n",
       " <FrameData> IAU_DAPHNIS (id: 635),\n",
       " <FrameData> IAU_AEGIR (id: 636),\n",
       " <FrameData> IAU_BEBHIONN (id: 637),\n",
       " <FrameData> IAU_BERGELMIR (id: 638),\n",
       " <FrameData> IAU_BESTLA (id: 639),\n",
       " <FrameData> IAU_FARBAUTI (id: 640),\n",
       " <FrameData> IAU_FENRIR (id: 641),\n",
       " <FrameData> IAU_FORNJOT (id: 642),\n",
       " <FrameData> IAU_HATI (id: 643),\n",
       " <FrameData> IAU_HYROKKIN (id: 644),\n",
       " <FrameData> IAU_KARI (id: 645),\n",
       " <FrameData> IAU_LOGE (id: 646),\n",
       " <FrameData> IAU_SKOLL (id: 647),\n",
       " <FrameData> IAU_SURTUR (id: 648),\n",
       " <FrameData> IAU_ANTHE (id: 649),\n",
       " <FrameData> IAU_JARNSAXA (id: 650),\n",
       " <FrameData> IAU_GREIP (id: 651),\n",
       " <FrameData> IAU_TARQEQ (id: 652),\n",
       " <FrameData> IAU_AEGAEON (id: 653),\n",
       " <FrameData> IAU_S7_2004 (id: 65035),\n",
       " <FrameData> IAU_S12_2004 (id: 65040),\n",
       " <FrameData> IAU_S13_2004 (id: 65041),\n",
       " <FrameData> IAU_S17_2004 (id: 65045),\n",
       " <FrameData> IAU_S01_2006 (id: 65048),\n",
       " <FrameData> IAU_S03_2006 (id: 65050),\n",
       " <FrameData> IAU_S02_2007 (id: 65055),\n",
       " <FrameData> IAU_S03_2007 (id: 65056),\n",
       " <FrameData> J2000 (id: 1),\n",
       " <FrameData> B1950 (id: 2),\n",
       " <FrameData> FK4 (id: 3),\n",
       " <FrameData> DE-118 (id: 4),\n",
       " <FrameData> DE-96 (id: 5),\n",
       " <FrameData> DE-102 (id: 6),\n",
       " <FrameData> DE-108 (id: 7),\n",
       " <FrameData> DE-111 (id: 8),\n",
       " <FrameData> DE-114 (id: 9),\n",
       " <FrameData> DE-122 (id: 10),\n",
       " <FrameData> DE-125 (id: 11),\n",
       " <FrameData> DE-130 (id: 12),\n",
       " <FrameData> GALACTIC (id: 13),\n",
       " <FrameData> DE-200 (id: 14),\n",
       " <FrameData> DE-202 (id: 15),\n",
       " <FrameData> MARSIAU (id: 16),\n",
       " <FrameData> ECLIPJ2000 (id: 17),\n",
       " <FrameData> ECLIPB1950 (id: 18),\n",
       " <FrameData> DE-140 (id: 19),\n",
       " <FrameData> DE-142 (id: 20),\n",
       " <FrameData> DE-143 (id: 21),\n",
       " <FrameData> IAU_SUN (id: 10010),\n",
       " <FrameData> IAU_MERCURY (id: 10011),\n",
       " <FrameData> IAU_VENUS (id: 10012),\n",
       " <FrameData> IAU_EARTH (id: 10013),\n",
       " <FrameData> IAU_MARS (id: 10014),\n",
       " <FrameData> IAU_JUPITER (id: 10015),\n",
       " <FrameData> IAU_SATURN (id: 10016),\n",
       " <FrameData> IAU_URANUS (id: 10017),\n",
       " <FrameData> IAU_NEPTUNE (id: 10018),\n",
       " <FrameData> IAU_PLUTO (id: 10019),\n",
       " <FrameData> IAU_MOON (id: 10020),\n",
       " <FrameData> IAU_PHOBOS (id: 10021),\n",
       " <FrameData> IAU_DEIMOS (id: 10022),\n",
       " <FrameData> IAU_IO (id: 10023),\n",
       " <FrameData> IAU_EUROPA (id: 10024),\n",
       " <FrameData> IAU_GANYMEDE (id: 10025),\n",
       " <FrameData> IAU_CALLISTO (id: 10026),\n",
       " <FrameData> IAU_AMALTHEA (id: 10027),\n",
       " <FrameData> IAU_HIMALIA (id: 10028),\n",
       " <FrameData> IAU_ELARA (id: 10029),\n",
       " <FrameData> IAU_PASIPHAE (id: 10030),\n",
       " <FrameData> IAU_SINOPE (id: 10031),\n",
       " <FrameData> IAU_LYSITHEA (id: 10032),\n",
       " <FrameData> IAU_CARME (id: 10033),\n",
       " <FrameData> IAU_ANANKE (id: 10034),\n",
       " <FrameData> IAU_LEDA (id: 10035),\n",
       " <FrameData> IAU_THEBE (id: 10036),\n",
       " <FrameData> IAU_ADRASTEA (id: 10037),\n",
       " <FrameData> IAU_METIS (id: 10038),\n",
       " <FrameData> IAU_MIMAS (id: 10039),\n",
       " <FrameData> IAU_ENCELADUS (id: 10040),\n",
       " <FrameData> IAU_TETHYS (id: 10041),\n",
       " <FrameData> IAU_DIONE (id: 10042),\n",
       " <FrameData> IAU_RHEA (id: 10043),\n",
       " <FrameData> IAU_TITAN (id: 10044),\n",
       " <FrameData> IAU_HYPERION (id: 10045),\n",
       " <FrameData> IAU_IAPETUS (id: 10046),\n",
       " <FrameData> IAU_PHOEBE (id: 10047),\n",
       " <FrameData> IAU_JANUS (id: 10048),\n",
       " <FrameData> IAU_EPIMETHEUS (id: 10049),\n",
       " <FrameData> IAU_HELENE (id: 10050),\n",
       " <FrameData> IAU_TELESTO (id: 10051),\n",
       " <FrameData> IAU_CALYPSO (id: 10052),\n",
       " <FrameData> IAU_ATLAS (id: 10053),\n",
       " <FrameData> IAU_PROMETHEUS (id: 10054),\n",
       " <FrameData> IAU_PANDORA (id: 10055),\n",
       " <FrameData> IAU_ARIEL (id: 10056),\n",
       " <FrameData> IAU_UMBRIEL (id: 10057),\n",
       " <FrameData> IAU_TITANIA (id: 10058),\n",
       " <FrameData> IAU_OBERON (id: 10059),\n",
       " <FrameData> IAU_MIRANDA (id: 10060),\n",
       " <FrameData> IAU_CORDELIA (id: 10061),\n",
       " <FrameData> IAU_OPHELIA (id: 10062),\n",
       " <FrameData> IAU_BIANCA (id: 10063),\n",
       " <FrameData> IAU_CRESSIDA (id: 10064),\n",
       " <FrameData> IAU_DESDEMONA (id: 10065),\n",
       " <FrameData> IAU_JULIET (id: 10066),\n",
       " <FrameData> IAU_PORTIA (id: 10067),\n",
       " <FrameData> IAU_ROSALIND (id: 10068),\n",
       " <FrameData> IAU_BELINDA (id: 10069),\n",
       " <FrameData> IAU_PUCK (id: 10070),\n",
       " <FrameData> IAU_TRITON (id: 10071),\n",
       " <FrameData> IAU_NEREID (id: 10072),\n",
       " <FrameData> IAU_NAIAD (id: 10073),\n",
       " <FrameData> IAU_THALASSA (id: 10074),\n",
       " <FrameData> IAU_DESPINA (id: 10075),\n",
       " <FrameData> IAU_GALATEA (id: 10076),\n",
       " <FrameData> IAU_LARISSA (id: 10077),\n",
       " <FrameData> IAU_PROTEUS (id: 10078),\n",
       " <FrameData> IAU_CHARON (id: 10079),\n",
       " <FrameData> EARTH_FIXED (id: 10081),\n",
       " <FrameData> IAU_PAN (id: 10082),\n",
       " <FrameData> IAU_GASPRA (id: 10083),\n",
       " <FrameData> IAU_IDA (id: 10084),\n",
       " <FrameData> IAU_EROS (id: 10085),\n",
       " <FrameData> IAU_CALLIRRHOE (id: 10086),\n",
       " <FrameData> IAU_THEMISTO (id: 10087),\n",
       " <FrameData> IAU_MAGACLITE (id: 10088),\n",
       " <FrameData> IAU_TAYGETE (id: 10089),\n",
       " <FrameData> IAU_CHALDENE (id: 10090),\n",
       " <FrameData> IAU_HARPALYKE (id: 10091),\n",
       " <FrameData> IAU_KALYKE (id: 10092),\n",
       " <FrameData> IAU_IOCASTE (id: 10093),\n",
       " <FrameData> IAU_ERINOME (id: 10094),\n",
       " <FrameData> IAU_ISONOE (id: 10095),\n",
       " <FrameData> IAU_PRAXIDIKE (id: 10096),\n",
       " <FrameData> IAU_BORRELLY (id: 10097),\n",
       " <FrameData> IAU_TEMPEL_1 (id: 10098),\n",
       " <FrameData> IAU_VESTA (id: 10099),\n",
       " <FrameData> IAU_ITOKAWA (id: 10100),\n",
       " <FrameData> ITRF93 (id: 13000)]"
      ]
     },
     "execution_count": 17,
     "metadata": {},
     "output_type": "execute_result"
    }
   ],
   "source": [
    "frames = API.frames(5) # /kernel-set/{kernelSetId}/frames\n",
    "# or\n",
    "API.frames('Cassini Huygens')"
   ]
  },
  {
   "cell_type": "code",
   "execution_count": 18,
   "metadata": {},
   "outputs": [
    {
     "data": {
      "text/plain": [
       "dict_items([('id', -82905), ('name', 'CASSINI_KSO'), ('centerBodyID', 699), ('frameClass', 5)])"
      ]
     },
     "execution_count": 18,
     "metadata": {},
     "output_type": "execute_result"
    }
   ],
   "source": [
    "frames[58].items()"
   ]
  },
  {
   "cell_type": "markdown",
   "metadata": {},
   "source": [
    "## Get Instruments"
   ]
  },
  {
   "cell_type": "code",
   "execution_count": 19,
   "metadata": {
    "scrolled": true
   },
   "outputs": [
    {
     "data": {
      "text/plain": [
       "[<InstrumentData> CASSINI_CIRS_RAD (id: -82898),\n",
       " <InstrumentData> CASSINI_CIRS_FPB (id: -82893),\n",
       " <InstrumentData> CASSINI_CIRS_FP4 (id: -82892),\n",
       " <InstrumentData> CASSINI_CIRS_FP3 (id: -82891),\n",
       " <InstrumentData> CASSINI_CIRS_FP1 (id: -82890),\n",
       " <InstrumentData> CASSINI_UVIS_SOL_OFF (id: -82849),\n",
       " <InstrumentData> CASSINI_UVIS_SOLAR (id: -82848),\n",
       " <InstrumentData> CASSINI_UVIS_HDAC (id: -82847),\n",
       " <InstrumentData> CASSINI_UVIS_HSP (id: -82846),\n",
       " <InstrumentData> CASSINI_UVIS_EUV_OCC (id: -82845),\n",
       " <InstrumentData> CASSINI_UVIS_EUV_LO (id: -82844),\n",
       " <InstrumentData> CASSINI_UVIS_EUV_HI (id: -82843),\n",
       " <InstrumentData> CASSINI_UVIS_FUV_OCC (id: -82842),\n",
       " <InstrumentData> CASSINI_UVIS_FUV_LO (id: -82841),\n",
       " <InstrumentData> CASSINI_UVIS_FUV_HI (id: -82840),\n",
       " <InstrumentData> CASSINI_CAPS_IBS_DT3 (id: -82824),\n",
       " <InstrumentData> CASSINI_CAPS_IBS_DT2 (id: -82823),\n",
       " <InstrumentData> CASSINI_CAPS_IBS_DT1 (id: -82822),\n",
       " <InstrumentData> CASSINI_CAPS_ELS (id: -82821),\n",
       " <InstrumentData> CASSINI_CAPS_IMS (id: -82820),\n",
       " <InstrumentData> CASSINI_RADAR_5 (id: -82814),\n",
       " <InstrumentData> CASSINI_RADAR_4 (id: -82813),\n",
       " <InstrumentData> CASSINI_RADAR_3 (id: -82812),\n",
       " <InstrumentData> CASSINI_RADAR_2 (id: -82811),\n",
       " <InstrumentData> CASSINI_RADAR_1 (id: -82810),\n",
       " <InstrumentData> CASSINI_CDA (id: -82790),\n",
       " <InstrumentData> CASSINI_MIMI_LEMMS2 (id: -82763),\n",
       " <InstrumentData> CASSINI_MIMI_LEMMS1 (id: -82762),\n",
       " <InstrumentData> CASSINI_MIMI_INCA (id: -82761),\n",
       " <InstrumentData> CASSINI_MIMI_CHEMS (id: -82760),\n",
       " <InstrumentData> CASSINI_INMS_CLOSED (id: -82741),\n",
       " <InstrumentData> CASSINI_INMS_OPEN (id: -82740),\n",
       " <InstrumentData> CASSINI_RPWS_LP (id: -82731),\n",
       " <InstrumentData> CASSINI_RPWS (id: -82730),\n",
       " <InstrumentData> CASSINI_VIMS_RAD (id: -82378),\n",
       " <InstrumentData> CASSINI_VIMS_IR_SOL (id: -82372),\n",
       " <InstrumentData> CASSINI_VIMS_V (id: -82371),\n",
       " <InstrumentData> CASSINI_VIMS_IR (id: -82370),\n",
       " <InstrumentData> CASSINI_ISS_WAC_RAD (id: -82369),\n",
       " <InstrumentData> CASSINI_ISS_NAC_RAD (id: -82368),\n",
       " <InstrumentData> CASSINI_ISS_WAC (id: -82361),\n",
       " <InstrumentData> CASSINI_ISS_NAC (id: -82360),\n",
       " <InstrumentData> CASSINI_MAG_60MX (id: -82353),\n",
       " <InstrumentData> CASSINI_MAG_60PX (id: -82352),\n",
       " <InstrumentData> CASSINI_MAG_45MX (id: -82351),\n",
       " <InstrumentData> CASSINI_MAG_45PX (id: -82350),\n",
       " <InstrumentData> CASSINI_RSS_HGA_X_TRUE (id: -82186),\n",
       " <InstrumentData> CASSINI_RSS_LGA2 (id: -82185),\n",
       " <InstrumentData> CASSINI_RSS_LGA1 (id: -82184),\n",
       " <InstrumentData> CASSINI_RSS_HGA_X (id: -82183),\n",
       " <InstrumentData> CASSINI_RSS_HGA_S (id: -82182),\n",
       " <InstrumentData> CASSINI_RSS_HGA_KU (id: -82181),\n",
       " <InstrumentData> CASSINI_RSS_HGA_KA (id: -82180),\n",
       " <InstrumentData> CASSINI_SRU-B_RAD (id: -82009),\n",
       " <InstrumentData> CASSINI_SRU-A_RAD (id: -82008),\n",
       " <InstrumentData> CASSINI_SRU-B (id: -82002),\n",
       " <InstrumentData> CASSINI_SRU-A (id: -82001)]"
      ]
     },
     "execution_count": 19,
     "metadata": {},
     "output_type": "execute_result"
    }
   ],
   "source": [
    "instruments = API.instruments(5) # /kernel-set/{kernelSetId}/intruments\n",
    "# or\n",
    "API.instruments('Cassini Huygens')"
   ]
  },
  {
   "cell_type": "code",
   "execution_count": 20,
   "metadata": {},
   "outputs": [
    {
     "name": "stdout",
     "output_type": "stream",
     "text": [
      "Body `id`: -82898 and `name`: CASSINI_CIRS_RAD\n"
     ]
    }
   ],
   "source": [
    "print(f\"Body `id`: {int(instruments[0])} and `name`: {str(instruments[0])}\")"
   ]
  },
  {
   "cell_type": "markdown",
   "metadata": {},
   "source": [
    "---\n",
    "**Next:** [Make a calculation](calculation.ipynb)"
   ]
  }
 ],
 "metadata": {
  "kernelspec": {
   "display_name": "Python 3",
   "language": "python",
   "name": "python3"
  },
  "language_info": {
   "codemirror_mode": {
    "name": "ipython",
    "version": 3
   },
   "file_extension": ".py",
   "mimetype": "text/x-python",
   "name": "python",
   "nbconvert_exporter": "python",
   "pygments_lexer": "ipython3",
   "version": "3.6.6"
  }
 },
 "nbformat": 4,
 "nbformat_minor": 2
}
