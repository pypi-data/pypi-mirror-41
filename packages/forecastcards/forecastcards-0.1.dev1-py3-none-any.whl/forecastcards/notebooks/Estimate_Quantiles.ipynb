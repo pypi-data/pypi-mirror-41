{
  "nbformat": 4,
  "nbformat_minor": 0,
  "metadata": {
    "colab": {
      "name": "Estimate Quantiles Overview",
      "version": "0.3.2",
      "provenance": [],
      "collapsed_sections": []
    },
    "kernelspec": {
      "name": "python3",
      "display_name": "Python 3"
    }
  },
  "cells": [
    {
      "metadata": {
        "id": "E3YM_oWDB36c",
        "colab_type": "code",
        "colab": {}
      },
      "cell_type": "code",
      "source": [
        "! pip install --upgrade git+https://github.com/e-lo/forecastcards#egg=forecastcards\n",
        "try:\n",
        "  import forecastcards\n",
        "except:\n",
        "  ! pip install --upgrade git+https://github.com/e-lo/forecastcards#egg=forecastcards\n",
        "  import forecastcards"
      ],
      "execution_count": 0,
      "outputs": []
    },
    {
      "metadata": {
        "id": "E5M7KewZSWLH",
        "colab_type": "text"
      },
      "cell_type": "markdown",
      "source": [
        "# Estimate Quantile Regression Models"
      ]
    },
    {
      "metadata": {
        "id": "OBX3rHtpKDQp",
        "colab_type": "text"
      },
      "cell_type": "markdown",
      "source": [
        "## Create estimation dataset\n",
        "- Finds\n",
        "- Combines\n",
        "- Cleans\n",
        "- Adds categorical variables\n",
        "- Scales"
      ]
    },
    {
      "metadata": {
        "id": "NazMlwNrB9xQ",
        "colab_type": "code",
        "colab": {}
      },
      "cell_type": "code",
      "source": [
        "github_data = {'username':'e-lo','repository':'forecastcards','branch':'master'}\n",
        "\n",
        "my_cards = forecastcards.Cardset(data_loc = github_data)\n",
        "my_data  = forecastcards.Dataset(card_locs=my_cards.card_locs)\n",
        "estimate_df = my_data.df"
      ],
      "execution_count": 0,
      "outputs": []
    },
    {
      "metadata": {
        "id": "9NNfufR7K_Qd",
        "colab_type": "code",
        "colab": {}
      },
      "cell_type": "code",
      "source": [
        "estimate_df.describe()\n",
        "estimate_df"
      ],
      "execution_count": 0,
      "outputs": []
    },
    {
      "metadata": {
        "id": "cPRV6E8FLl6I",
        "colab_type": "text"
      },
      "cell_type": "markdown",
      "source": [
        "## Models \n",
        "\n",
        "- Try a linear model first\n",
        "- Estimate quantiles and plot"
      ]
    },
    {
      "metadata": {
        "id": "GAvrDZAUJOYM",
        "colab_type": "code",
        "colab": {}
      },
      "cell_type": "code",
      "source": [
        "import statsmodels.api as sm\n",
        "import statsmodels.formula.api as smf\n",
        "from statsmodels.regression.quantile_regression import QuantReg\n",
        "import matplotlib.pyplot as plt\n",
        "import numpy as np\n",
        "import pandas as pd"
      ],
      "execution_count": 0,
      "outputs": []
    },
    {
      "metadata": {
        "id": "EbDeSE_dOfMK",
        "colab_type": "text"
      },
      "cell_type": "markdown",
      "source": [
        "#### Linear Model"
      ]
    },
    {
      "metadata": {
        "id": "ijE2wNtxKvAA",
        "colab_type": "code",
        "colab": {}
      },
      "cell_type": "code",
      "source": [
        "## Define variables\n",
        "X = estimate_df[\"obs_value\"]\n",
        "y = estimate_df[\"forecast_value\"]\n",
        "X = sm.add_constant(X)\n",
        "\n",
        "# Fit\n",
        "model = sm.OLS(y, X).fit() \n",
        "predictions = model.predict(X) # make the predictions by the model\n",
        "\n",
        "# Print out the statistics\n",
        "model.summary()"
      ],
      "execution_count": 0,
      "outputs": []
    },
    {
      "metadata": {
        "id": "Rp0c6_8fOiSW",
        "colab_type": "text"
      },
      "cell_type": "markdown",
      "source": [
        "#### Quantile Regression"
      ]
    },
    {
      "metadata": {
        "id": "gVXfFIpEO_Ad",
        "colab_type": "code",
        "colab": {}
      },
      "cell_type": "code",
      "source": [
        "quantiles = np.arange(.1, .90, .2)\n",
        "\n",
        "def fit_model(q):\n",
        "    res = mod.fit(q=q)\n",
        "    return [q, res.params['Intercept'], res.params['forecast_value']] + \\\n",
        "            res.conf_int().loc['forecast_value'].tolist()\n",
        "    \n",
        "models = [fit_model(x) for x in quantiles]\n",
        "models = pd.DataFrame(models, columns=['q', 'a', 'b','lb','ub'])\n",
        "\n",
        "ols = smf.ols('obs_value ~ forecast_value', estimate_df).fit()\n",
        "ols_ci = ols.conf_int().loc['forecast_value'].tolist()\n",
        "ols = dict(a = ols.params['Intercept'],\n",
        "           b = ols.params['forecast_value'],\n",
        "           lb = ols_ci[0],\n",
        "           ub = ols_ci[1])\n",
        "\n",
        "#print(models)\n",
        "#print(ols)"
      ],
      "execution_count": 0,
      "outputs": []
    },
    {
      "metadata": {
        "id": "jnasQDDEQqID",
        "colab_type": "code",
        "colab": {}
      },
      "cell_type": "code",
      "source": [
        "x = np.arange(estimate_df['forecast_value'].min(), estimate_df['forecast_value'].max(), 50)\n",
        "get_y = lambda a, b: a + b * x\n",
        "\n",
        "fig, ax = plt.subplots(figsize=(8, 6))\n",
        "\n",
        "for i in range(models.shape[0]):\n",
        "    y = get_y(models.a[i], models.b[i])\n",
        "    ax.plot(x, y, linestyle='dotted', color='grey')\n",
        "    \n",
        "y = get_y(ols['a'], ols['b'])\n",
        "\n",
        "ax.plot(x, y, color='red', label='OLS')\n",
        "ax.scatter(estimate_df['forecast_value'], estimate_df['obs_value'], alpha=.2)\n",
        "#ax.set_xlim((240, 3000))\n",
        "#ax.set_ylim((240, 2000))\n",
        "legend = ax.legend()\n",
        "ax.set_xlabel('Forecast Value', fontsize=16)\n",
        "ax.set_ylabel('Observed Value', fontsize=16);"
      ],
      "execution_count": 0,
      "outputs": []
    },
    {
      "metadata": {
        "id": "1QFVyujCMY18",
        "colab_type": "code",
        "colab": {}
      },
      "cell_type": "code",
      "source": [
        ""
      ],
      "execution_count": 0,
      "outputs": []
    }
  ]
}