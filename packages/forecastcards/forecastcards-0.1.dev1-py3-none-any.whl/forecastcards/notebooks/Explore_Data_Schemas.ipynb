{
  "nbformat": 4,
  "nbformat_minor": 0,
  "metadata": {
    "colab": {
      "name": "Explore Data Schemas",
      "version": "0.3.2",
      "provenance": [],
      "collapsed_sections": [],
      "toc_visible": true
    },
    "kernelspec": {
      "name": "python3",
      "display_name": "Python 3"
    }
  },
  "cells": [
    {
      "metadata": {
        "id": "MPKA5UGLlY7A",
        "colab_type": "code",
        "colab": {}
      },
      "cell_type": "code",
      "source": [
        "try:\n",
        "  import forecastcards\n",
        "except:\n",
        "  ! pip install --upgrade git+https://github.com/e-lo/forecastcards.git@dev#egg=forecastcards\n",
        "  import forecastcards"
      ],
      "execution_count": 0,
      "outputs": []
    },
    {
      "metadata": {
        "id": "9KaerLcWSs_d",
        "colab_type": "text"
      },
      "cell_type": "markdown",
      "source": [
        "# Explore Card Schemas\n",
        "\n",
        "- Identify schemas\n",
        "- Validate schemas\n",
        "- Plot entity relationship diagrams\n",
        "\n",
        "## Identify Schema\n",
        "\n",
        "Card schemas are a collection of json files that conform to the Frictionless Data [table schema](https://frictionlessdata.io/specs/table-schema/) format.\n",
        "\n",
        "Card schemas are identified by:  \n",
        "       `schema_dir`:  a directory where the schema files live, and  \n",
        "       `schema_parts`: a dictonary of schema part names referencing schema file names (i.e. \"project\":\"project-schema.json\")\n",
        "\n",
        "**`schema_dir`**\n",
        "for Github locations are defined by a dictionary with the following keys:\n",
        "\n",
        " - `username`: github user name  \n",
        " - `repository`: repository name under that user name  \n",
        " - `branch`: (optional; *default: master*) branch name . \n",
        " - `subdir`: (optional, *default: ''*) a subdirectory of the github repository where the schemas can be found.\n",
        " \n",
        " \n",
        " If no `schema_dir` is specified when creating a Card_schema object, the default is:\n",
        "\n",
        ">> `github_master_schema_loc = {`\n",
        ">> `'username':'e-lo',`\n",
        ">>`'repository':'forecastcards',` \n",
        ">> `'branch':'master',`\n",
        ">>` 'subdir':'spec/en/'`   \n",
        ">> `}`\n",
        "\n",
        "**`schema_parts`** has a default value of \n",
        "\n",
        ">>` master_schema_parts = {`  \n",
        ">>        `\"poi\"          : \"poi-schema.json\",`  \n",
        ">>       ` \"scenario\"     : \"scenario-schema.json\",`  \n",
        ">>        `\"project\"      : \"project-schema.json\",`  \n",
        ">>       ` \"observations\" : \"observations-schema.json\",`  \n",
        ">>        `\"forecast\"     : \"forecast-schema.json\",`  \n",
        ">>    `}`\n",
        "\n",
        "Instantiating the `Card_schema` will automatically validate the schemas unless you tell it not to.\n"
      ]
    },
    {
      "metadata": {
        "id": "hPf-uEO5oM5v",
        "colab_type": "code",
        "colab": {}
      },
      "cell_type": "code",
      "source": [
        "# instantiate schemas without validating yet\n",
        "my_schema = forecastcards.Card_schema(validate=False)\n",
        "\n",
        "# confirm what directory and parts it is using\n",
        "print(\"schema_dir:\", my_schema.schema_dir)\n",
        "print(\"schema_parts:\",my_schema.schema_parts)\n",
        "\n",
        "# it has put those together to infir the actual locations\n",
        "print(\"schema_locs:\",my_schema.schema_locs)\n",
        "\n",
        "# but it hasn't validated them yet\n",
        "print(\"valid? \", my_schema.valid)\n",
        "\n",
        "#...and it hasn't created frictionless data table-schema objects yet\n",
        "print(\"schemas:\", my_schema.schema_dict)"
      ],
      "execution_count": 0,
      "outputs": []
    },
    {
      "metadata": {
        "id": "F3-37cK3bWGY",
        "colab_type": "text"
      },
      "cell_type": "markdown",
      "source": [
        "## Validate schemas\n",
        "\n",
        "Once you have the schema locations, you can use the **`validate_schemas`** method to validate each schema using the  [Frictionless Data Table Schema Package](https://github.com/frictionlessdata/tableschema-py) \n",
        "\n",
        "\n",
        "**TIP: ** If schema doesn't validate, clean your JSON with https://jsonlint.com/"
      ]
    },
    {
      "metadata": {
        "id": "Ve5Bq2HEmrWV",
        "colab_type": "code",
        "colab": {}
      },
      "cell_type": "code",
      "source": [
        "my_schema.schema_dict = my_schema.validate_schemas(verbose=True)"
      ],
      "execution_count": 0,
      "outputs": []
    },
    {
      "metadata": {
        "id": "1CngNXjIq1VA",
        "colab_type": "text"
      },
      "cell_type": "markdown",
      "source": [
        "While you can instantiate and then validate the schemas, the default is that this is done in one step, as shown below.\n"
      ]
    },
    {
      "metadata": {
        "id": "Ob42JnZ2qgZU",
        "colab_type": "code",
        "colab": {}
      },
      "cell_type": "code",
      "source": [
        "# you can find and validate the schemas together:\n",
        "\n",
        "# instantiate schemas without validating yet\n",
        "my_schema = forecastcards.Card_schema()\n",
        "\n",
        "# but it hasn't validated them yet\n",
        "print(\"Valid? \", my_schema.valid)\n",
        "\n",
        "#...and it hasn't created frictionless data table-schema objects yet\n",
        "print(\"schemas:\", my_schema.schema_dict)"
      ],
      "execution_count": 0,
      "outputs": []
    },
    {
      "metadata": {
        "id": "EKRd9vdwdndK",
        "colab_type": "text"
      },
      "cell_type": "markdown",
      "source": [
        "## Display Schemas\n",
        "\n",
        "Uses [GraphViz](http://www.graphviz.org/) to show relationships between schemas.\n"
      ]
    },
    {
      "metadata": {
        "id": "DAOOxzo8eD0T",
        "colab_type": "code",
        "colab": {}
      },
      "cell_type": "code",
      "source": [
        "!apt-get -qq install -y graphviz && pip install -q pydot\n",
        "!apt-get install graphviz"
      ],
      "execution_count": 0,
      "outputs": []
    },
    {
      "metadata": {
        "id": "NrBuY-UFV1qJ",
        "colab_type": "code",
        "colab": {}
      },
      "cell_type": "code",
      "source": [
        "# https://pypi.python.org/pypi/pydot\n",
        "\n",
        "import pydot"
      ],
      "execution_count": 0,
      "outputs": []
    },
    {
      "metadata": {
        "id": "J3tBljTJDtTR",
        "colab_type": "code",
        "colab": {}
      },
      "cell_type": "code",
      "source": [
        "g = my_schema.make_erd_graph()"
      ],
      "execution_count": 0,
      "outputs": []
    },
    {
      "metadata": {
        "id": "3pynS71UT6HI",
        "colab_type": "code",
        "colab": {}
      },
      "cell_type": "code",
      "source": [
        "g"
      ],
      "execution_count": 0,
      "outputs": []
    },
    {
      "metadata": {
        "id": "DUluS9mhdmWm",
        "colab_type": "text"
      },
      "cell_type": "markdown",
      "source": [
        "## Show object relationships"
      ]
    },
    {
      "metadata": {
        "id": "nhevU0o6vhwe",
        "colab_type": "code",
        "colab": {}
      },
      "cell_type": "code",
      "source": [
        "rg=my_schema.relationship_graph()\n",
        "rg"
      ],
      "execution_count": 0,
      "outputs": []
    },
    {
      "metadata": {
        "id": "KrWZW_QOviWU",
        "colab_type": "text"
      },
      "cell_type": "markdown",
      "source": [
        "# Display Help for Forecast Cards\n",
        "\n",
        "Shows package structure and available functions"
      ]
    },
    {
      "metadata": {
        "id": "ouyXZrtTmMfR",
        "colab_type": "code",
        "colab": {}
      },
      "cell_type": "code",
      "source": [
        "help(forecastcards)\n"
      ],
      "execution_count": 0,
      "outputs": []
    },
    {
      "metadata": {
        "id": "6wSSvCk3siuH",
        "colab_type": "code",
        "colab": {}
      },
      "cell_type": "code",
      "source": [
        ""
      ],
      "execution_count": 0,
      "outputs": []
    }
  ]
}