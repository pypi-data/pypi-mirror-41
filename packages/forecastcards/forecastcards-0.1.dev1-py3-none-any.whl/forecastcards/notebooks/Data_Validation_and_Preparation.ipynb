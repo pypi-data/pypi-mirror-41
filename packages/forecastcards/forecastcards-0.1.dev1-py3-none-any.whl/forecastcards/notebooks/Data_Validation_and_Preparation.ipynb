{
 "cells": [
  {
   "cell_type": "code",
   "execution_count": 39,
   "metadata": {
    "colab": {},
    "colab_type": "code",
    "id": "s5S3Mi75wYV0"
   },
   "outputs": [
    {
     "data": {
      "text/plain": [
       "<module 'forecastcards' from '//anaconda/envs/forecastcards/lib/python3.6/site-packages/forecastcards/__init__.py'>"
      ]
     },
     "execution_count": 39,
     "metadata": {},
     "output_type": "execute_result"
    }
   ],
   "source": [
    "import importlib\n",
    "import os\n",
    "import pandas as pd\n",
    "import forecastcards\n",
    "importlib.reload(forecastcards)"
   ]
  },
  {
   "cell_type": "markdown",
   "metadata": {
    "colab_type": "text",
    "id": "YlHI1siswpNL"
   },
   "source": [
    "# Data Validation and Preparation\n",
    "\n",
    "There are two main classes for forecast card data:  \n",
    " - **`Cardset`**: organization of forecastcards csv data \n",
    " - **`Dataset`**: [pandas](https://pandas.pydata.org/) data created from a  validated `Cardset` that is cleaned for estimation\n",
    "\n",
    "1. Find and validate data as a Cardset\n",
    "2. Combine and format data for estimation\n",
    "\n"
   ]
  },
  {
   "cell_type": "markdown",
   "metadata": {
    "colab_type": "text",
    "id": "HWaDWr4CxGgI"
   },
   "source": [
    "## 1 - Get and validate cards\n",
    "\n",
    "Finds all the relevant cards and assigns them a type in order to compare to the data schema.\n",
    "\n",
    "Returns a dictionary of card locations by card type.\n",
    "\n",
    "\n",
    "\n",
    "data_loc = local_example_data_loc,\n",
    "                 select_projects = [],\n",
    "                 exclude_projects = [],\n",
    "                 schemas = {},\n",
    "                 schema_locs = github_master_schema_loc,\n"
   ]
  },
  {
   "cell_type": "code",
   "execution_count": 0,
   "metadata": {
    "colab": {},
    "colab_type": "code",
    "id": "hm2WFKh9woAD"
   },
   "outputs": [],
   "source": [
    "#example data repository\n",
    "github_example_data = {'username':'e-lo','repository':'forecastcards','branch':'master'}\n",
    "\n",
    "#instantiate a cardset with all the defaults\n",
    "my_cards = forecastcards.Cardset(data_loc = github_example_data)\n",
    "\n",
    "print(\"-- Card Locations by Type:\",my_cards.card_locs_by_type)\n",
    "print(\"-- Data schema Locations by Type:\",my_cards.schema_locs)\n",
    "print(\"-- Valid Projects\",my_cards.validated_projects)"
   ]
  },
  {
   "cell_type": "markdown",
   "metadata": {
    "colab_type": "text",
    "id": "PAVve_ZHx-FZ"
   },
   "source": [
    "You can also get data from your a local repository by feeding in a local directory:\n",
    "\n",
    "**NOTE** this will likely not work if you are running this in the cloud; or you will have to make modifications"
   ]
  },
  {
   "cell_type": "code",
   "execution_count": 40,
   "metadata": {},
   "outputs": [],
   "source": [
    "file=r\"/Users/elizabeth/Documents/urbanlabs/NCHRP 08-110/working/temp/forecastcardsdata/OhioDOT21927ROS-35-14-40/forecasts/forecast-21927.csv\"\n",
    "df=pd.read_csv(file,dtype={'obs_value':float},usecols=[\"start_time\", \"end_time\"])"
   ]
  },
  {
   "cell_type": "code",
   "execution_count": 41,
   "metadata": {},
   "outputs": [
    {
     "data": {
      "text/html": [
       "<div>\n",
       "<style scoped>\n",
       "    .dataframe tbody tr th:only-of-type {\n",
       "        vertical-align: middle;\n",
       "    }\n",
       "\n",
       "    .dataframe tbody tr th {\n",
       "        vertical-align: top;\n",
       "    }\n",
       "\n",
       "    .dataframe thead th {\n",
       "        text-align: right;\n",
       "    }\n",
       "</style>\n",
       "<table border=\"1\" class=\"dataframe\">\n",
       "  <thead>\n",
       "    <tr style=\"text-align: right;\">\n",
       "      <th></th>\n",
       "      <th>start_time</th>\n",
       "      <th>end_time</th>\n",
       "    </tr>\n",
       "  </thead>\n",
       "  <tbody>\n",
       "    <tr>\n",
       "      <th>0</th>\n",
       "      <td>00:00</td>\n",
       "      <td>24:00</td>\n",
       "    </tr>\n",
       "    <tr>\n",
       "      <th>1</th>\n",
       "      <td>00:00</td>\n",
       "      <td>24:00</td>\n",
       "    </tr>\n",
       "    <tr>\n",
       "      <th>2</th>\n",
       "      <td>00:00</td>\n",
       "      <td>24:00</td>\n",
       "    </tr>\n",
       "    <tr>\n",
       "      <th>3</th>\n",
       "      <td>00:00</td>\n",
       "      <td>24:00</td>\n",
       "    </tr>\n",
       "    <tr>\n",
       "      <th>4</th>\n",
       "      <td>00:00</td>\n",
       "      <td>24:00</td>\n",
       "    </tr>\n",
       "    <tr>\n",
       "      <th>5</th>\n",
       "      <td>00:00</td>\n",
       "      <td>24:00</td>\n",
       "    </tr>\n",
       "    <tr>\n",
       "      <th>6</th>\n",
       "      <td>00:00</td>\n",
       "      <td>24:00</td>\n",
       "    </tr>\n",
       "    <tr>\n",
       "      <th>7</th>\n",
       "      <td>00:00</td>\n",
       "      <td>24:00</td>\n",
       "    </tr>\n",
       "    <tr>\n",
       "      <th>8</th>\n",
       "      <td>00:00</td>\n",
       "      <td>24:00</td>\n",
       "    </tr>\n",
       "    <tr>\n",
       "      <th>9</th>\n",
       "      <td>00:00</td>\n",
       "      <td>24:00</td>\n",
       "    </tr>\n",
       "    <tr>\n",
       "      <th>10</th>\n",
       "      <td>00:00</td>\n",
       "      <td>24:00</td>\n",
       "    </tr>\n",
       "    <tr>\n",
       "      <th>11</th>\n",
       "      <td>00:00</td>\n",
       "      <td>24:00</td>\n",
       "    </tr>\n",
       "  </tbody>\n",
       "</table>\n",
       "</div>"
      ],
      "text/plain": [
       "   start_time end_time\n",
       "0       00:00    24:00\n",
       "1       00:00    24:00\n",
       "2       00:00    24:00\n",
       "3       00:00    24:00\n",
       "4       00:00    24:00\n",
       "5       00:00    24:00\n",
       "6       00:00    24:00\n",
       "7       00:00    24:00\n",
       "8       00:00    24:00\n",
       "9       00:00    24:00\n",
       "10      00:00    24:00\n",
       "11      00:00    24:00"
      ]
     },
     "execution_count": 41,
     "metadata": {},
     "output_type": "execute_result"
    }
   ],
   "source": [
    "df"
   ]
  },
  {
   "cell_type": "code",
   "execution_count": 48,
   "metadata": {},
   "outputs": [
    {
     "data": {
      "text/html": [
       "<div>\n",
       "<style scoped>\n",
       "    .dataframe tbody tr th:only-of-type {\n",
       "        vertical-align: middle;\n",
       "    }\n",
       "\n",
       "    .dataframe tbody tr th {\n",
       "        vertical-align: top;\n",
       "    }\n",
       "\n",
       "    .dataframe thead th {\n",
       "        text-align: right;\n",
       "    }\n",
       "</style>\n",
       "<table border=\"1\" class=\"dataframe\">\n",
       "  <thead>\n",
       "    <tr style=\"text-align: right;\">\n",
       "      <th></th>\n",
       "      <th>start_time</th>\n",
       "      <th>end_time</th>\n",
       "      <th>c</th>\n",
       "    </tr>\n",
       "  </thead>\n",
       "  <tbody>\n",
       "    <tr>\n",
       "      <th>0</th>\n",
       "      <td>00:00</td>\n",
       "      <td>23:59:59</td>\n",
       "      <td>23:59:59</td>\n",
       "    </tr>\n",
       "    <tr>\n",
       "      <th>1</th>\n",
       "      <td>00:00</td>\n",
       "      <td>23:59:59</td>\n",
       "      <td>23:59:59</td>\n",
       "    </tr>\n",
       "    <tr>\n",
       "      <th>2</th>\n",
       "      <td>00:00</td>\n",
       "      <td>23:59:59</td>\n",
       "      <td>23:59:59</td>\n",
       "    </tr>\n",
       "    <tr>\n",
       "      <th>3</th>\n",
       "      <td>00:00</td>\n",
       "      <td>23:59:59</td>\n",
       "      <td>23:59:59</td>\n",
       "    </tr>\n",
       "    <tr>\n",
       "      <th>4</th>\n",
       "      <td>00:00</td>\n",
       "      <td>23:59:59</td>\n",
       "      <td>23:59:59</td>\n",
       "    </tr>\n",
       "    <tr>\n",
       "      <th>5</th>\n",
       "      <td>00:00</td>\n",
       "      <td>23:59:59</td>\n",
       "      <td>23:59:59</td>\n",
       "    </tr>\n",
       "    <tr>\n",
       "      <th>6</th>\n",
       "      <td>00:00</td>\n",
       "      <td>23:59:59</td>\n",
       "      <td>23:59:59</td>\n",
       "    </tr>\n",
       "    <tr>\n",
       "      <th>7</th>\n",
       "      <td>00:00</td>\n",
       "      <td>23:59:59</td>\n",
       "      <td>23:59:59</td>\n",
       "    </tr>\n",
       "    <tr>\n",
       "      <th>8</th>\n",
       "      <td>00:00</td>\n",
       "      <td>23:59:59</td>\n",
       "      <td>23:59:59</td>\n",
       "    </tr>\n",
       "    <tr>\n",
       "      <th>9</th>\n",
       "      <td>00:00</td>\n",
       "      <td>23:59:59</td>\n",
       "      <td>23:59:59</td>\n",
       "    </tr>\n",
       "    <tr>\n",
       "      <th>10</th>\n",
       "      <td>00:00</td>\n",
       "      <td>23:59:59</td>\n",
       "      <td>23:59:59</td>\n",
       "    </tr>\n",
       "    <tr>\n",
       "      <th>11</th>\n",
       "      <td>00:00</td>\n",
       "      <td>23:59:59</td>\n",
       "      <td>23:59:59</td>\n",
       "    </tr>\n",
       "  </tbody>\n",
       "</table>\n",
       "</div>"
      ],
      "text/plain": [
       "   start_time  end_time         c\n",
       "0       00:00  23:59:59  23:59:59\n",
       "1       00:00  23:59:59  23:59:59\n",
       "2       00:00  23:59:59  23:59:59\n",
       "3       00:00  23:59:59  23:59:59\n",
       "4       00:00  23:59:59  23:59:59\n",
       "5       00:00  23:59:59  23:59:59\n",
       "6       00:00  23:59:59  23:59:59\n",
       "7       00:00  23:59:59  23:59:59\n",
       "8       00:00  23:59:59  23:59:59\n",
       "9       00:00  23:59:59  23:59:59\n",
       "10      00:00  23:59:59  23:59:59\n",
       "11      00:00  23:59:59  23:59:59"
      ]
     },
     "execution_count": 48,
     "metadata": {},
     "output_type": "execute_result"
    }
   ],
   "source": [
    "df['end_time']=df['end_time'].apply(lambda x: '23:59:59' if x in ['24:00:00','24:00'] else x)\n",
    "df"
   ]
  },
  {
   "cell_type": "code",
   "execution_count": 36,
   "metadata": {
    "colab": {},
    "colab_type": "code",
    "id": "wGl9EhrbyNdp"
   },
   "outputs": [
    {
     "name": "stdout",
     "output_type": "stream",
     "text": [
      "Validation Error: /Users/elizabeth/Documents/urbanlabs/NCHRP 08-110/working/temp/forecastcardsdata/OhioDOT21927ROS-35-14-40/poi-21927.csv\n",
      "Validation Error: /Users/elizabeth/Documents/urbanlabs/NCHRP 08-110/working/temp/forecastcardsdata/OhioDOT21927ROS-35-14-40/scenarios-21927.csv\n",
      "Validation Error: /Users/elizabeth/Documents/urbanlabs/NCHRP 08-110/working/temp/forecastcardsdata/OhioDOT21927ROS-35-14-40/forecasts/forecast-21927.csv\n"
     ]
    },
    {
     "ename": "TypeError",
     "evalue": "Cannot change data-type for object array.",
     "output_type": "error",
     "traceback": [
      "\u001b[0;31m---------------------------------------------------------------------------\u001b[0m",
      "\u001b[0;31mTypeError\u001b[0m                                 Traceback (most recent call last)",
      "\u001b[0;32m<ipython-input-36-5ed492ab43a5>\u001b[0m in \u001b[0;36m<module>\u001b[0;34m\u001b[0m\n\u001b[1;32m      4\u001b[0m \u001b[0;34m\u001b[0m\u001b[0m\n\u001b[1;32m      5\u001b[0m \u001b[0;34m\u001b[0m\u001b[0m\n\u001b[0;32m----> 6\u001b[0;31m \u001b[0mmy_cards\u001b[0m \u001b[0;34m=\u001b[0m \u001b[0mforecastcards\u001b[0m\u001b[0;34m.\u001b[0m\u001b[0mCardset\u001b[0m\u001b[0;34m(\u001b[0m\u001b[0mdata_loc\u001b[0m \u001b[0;34m=\u001b[0m \u001b[0mlocal_example_data\u001b[0m\u001b[0;34m)\u001b[0m\u001b[0;34m\u001b[0m\u001b[0;34m\u001b[0m\u001b[0m\n\u001b[0m\u001b[1;32m      7\u001b[0m \u001b[0;34m\u001b[0m\u001b[0m\n\u001b[1;32m      8\u001b[0m \u001b[0mprint\u001b[0m\u001b[0;34m(\u001b[0m\u001b[0mmy_cards\u001b[0m\u001b[0;34m.\u001b[0m\u001b[0mvalidated_projects\u001b[0m\u001b[0;34m)\u001b[0m\u001b[0;34m\u001b[0m\u001b[0;34m\u001b[0m\u001b[0m\n",
      "\u001b[0;32m//anaconda/envs/forecastcards/lib/python3.6/site-packages/forecastcards/cardset.py\u001b[0m in \u001b[0;36m__init__\u001b[0;34m(self, data_loc, select_projects, exclude_projects, schemas, schema_locs, validate)\u001b[0m\n\u001b[1;32m     65\u001b[0m \u001b[0;34m\u001b[0m\u001b[0m\n\u001b[1;32m     66\u001b[0m         \u001b[0;31m# add initial projects\u001b[0m\u001b[0;34m\u001b[0m\u001b[0;34m\u001b[0m\u001b[0;34m\u001b[0m\u001b[0m\n\u001b[0;32m---> 67\u001b[0;31m         \u001b[0mself\u001b[0m\u001b[0;34m.\u001b[0m\u001b[0madd_projects\u001b[0m\u001b[0;34m(\u001b[0m\u001b[0mdata_loc\u001b[0m\u001b[0;34m,\u001b[0m \u001b[0mselect_projects\u001b[0m\u001b[0;34m=\u001b[0m\u001b[0mselect_projects\u001b[0m\u001b[0;34m,\u001b[0m \u001b[0mexclude_projects\u001b[0m\u001b[0;34m=\u001b[0m\u001b[0mexclude_projects\u001b[0m\u001b[0;34m,\u001b[0m \u001b[0mvalidate\u001b[0m\u001b[0;34m=\u001b[0m\u001b[0mvalidate\u001b[0m\u001b[0;34m)\u001b[0m\u001b[0;34m\u001b[0m\u001b[0;34m\u001b[0m\u001b[0m\n\u001b[0m\u001b[1;32m     68\u001b[0m         \u001b[0;32mif\u001b[0m \u001b[0mself\u001b[0m\u001b[0;34m.\u001b[0m\u001b[0minvalid_projects\u001b[0m\u001b[0;34m:\u001b[0m\u001b[0;34m\u001b[0m\u001b[0;34m\u001b[0m\u001b[0m\n\u001b[1;32m     69\u001b[0m             \u001b[0mprint\u001b[0m\u001b[0;34m(\u001b[0m\u001b[0;34m\"PROJECTS FAILED VALIDATION:\"\u001b[0m\u001b[0;34m+\u001b[0m\u001b[0;34m\",\"\u001b[0m\u001b[0;34m.\u001b[0m\u001b[0mjoin\u001b[0m\u001b[0;34m(\u001b[0m\u001b[0mself\u001b[0m\u001b[0;34m.\u001b[0m\u001b[0minvalid_projects\u001b[0m\u001b[0;34m)\u001b[0m\u001b[0;34m+\u001b[0m\u001b[0;34m\"/n\"\u001b[0m\u001b[0;34m)\u001b[0m\u001b[0;34m\u001b[0m\u001b[0;34m\u001b[0m\u001b[0m\n",
      "\u001b[0;32m//anaconda/envs/forecastcards/lib/python3.6/site-packages/forecastcards/cardset.py\u001b[0m in \u001b[0;36madd_projects\u001b[0;34m(self, data_loc, select_projects, exclude_projects, subdirs, validate)\u001b[0m\n\u001b[1;32m    350\u001b[0m             \u001b[0mprint\u001b[0m\u001b[0;34m(\u001b[0m\u001b[0;34m\"!!!NOT VALIDATING PROJECTS\"\u001b[0m\u001b[0;34m)\u001b[0m\u001b[0;34m\u001b[0m\u001b[0;34m\u001b[0m\u001b[0m\n\u001b[1;32m    351\u001b[0m \u001b[0;34m\u001b[0m\u001b[0m\n\u001b[0;32m--> 352\u001b[0;31m         \u001b[0;32mif\u001b[0m \u001b[0mtype\u001b[0m\u001b[0;34m(\u001b[0m\u001b[0mdata_loc\u001b[0m\u001b[0;34m)\u001b[0m \u001b[0;32mis\u001b[0m \u001b[0mdict\u001b[0m\u001b[0;34m:\u001b[0m\u001b[0;34m\u001b[0m\u001b[0;34m\u001b[0m\u001b[0m\n\u001b[0m\u001b[1;32m    353\u001b[0m             \u001b[0mself\u001b[0m\u001b[0;34m.\u001b[0m\u001b[0mfailed_reports\u001b[0m \u001b[0;34m+=\u001b[0m \u001b[0mself\u001b[0m\u001b[0;34m.\u001b[0m\u001b[0madd_github_projects\u001b[0m\u001b[0;34m(\u001b[0m\u001b[0mdata_loc\u001b[0m\u001b[0;34m,\u001b[0m\u001b[0mselect_projects\u001b[0m\u001b[0;34m=\u001b[0m\u001b[0mselect_projects\u001b[0m\u001b[0;34m,\u001b[0m \u001b[0mexclude_projects\u001b[0m\u001b[0;34m=\u001b[0m\u001b[0mexclude_projects\u001b[0m\u001b[0;34m,\u001b[0m \u001b[0msubdirs\u001b[0m  \u001b[0;34m=\u001b[0m \u001b[0msubdirs\u001b[0m\u001b[0;34m,\u001b[0m \u001b[0mvalidate\u001b[0m\u001b[0;34m=\u001b[0m\u001b[0mvalidate\u001b[0m\u001b[0;34m)\u001b[0m\u001b[0;34m\u001b[0m\u001b[0;34m\u001b[0m\u001b[0m\n\u001b[1;32m    354\u001b[0m \u001b[0;34m\u001b[0m\u001b[0m\n",
      "\u001b[0;32m//anaconda/envs/forecastcards/lib/python3.6/site-packages/forecastcards/cardset.py\u001b[0m in \u001b[0;36madd_local_projects\u001b[0;34m(self, data_loc, select_projects, exclude_projects, validate)\u001b[0m\n\u001b[1;32m    317\u001b[0m                            'project'     : [filepath]}\n\u001b[1;32m    318\u001b[0m \u001b[0;34m\u001b[0m\u001b[0m\n\u001b[0;32m--> 319\u001b[0;31m             \u001b[0;31m#don't do this if we don't want to validate\u001b[0m\u001b[0;34m\u001b[0m\u001b[0;34m\u001b[0m\u001b[0;34m\u001b[0m\u001b[0m\n\u001b[0m\u001b[1;32m    320\u001b[0m             \u001b[0;32mif\u001b[0m \u001b[0;32mnot\u001b[0m \u001b[0mvalidate\u001b[0m\u001b[0;34m:\u001b[0m\u001b[0;34m\u001b[0m\u001b[0;34m\u001b[0m\u001b[0m\n\u001b[1;32m    321\u001b[0m                 \u001b[0;32mcontinue\u001b[0m\u001b[0;34m\u001b[0m\u001b[0;34m\u001b[0m\u001b[0m\n",
      "\u001b[0;32m//anaconda/envs/forecastcards/lib/python3.6/site-packages/forecastcards/cardset.py\u001b[0m in \u001b[0;36mvalidate_project\u001b[0;34m(self, p_card_locs, schema_locs, validity_requires)\u001b[0m\n\u001b[1;32m     99\u001b[0m                                    \u001b[0musecols\u001b[0m\u001b[0;34m=\u001b[0m\u001b[0;34m[\u001b[0m\u001b[0;34m\"start_time\"\u001b[0m\u001b[0;34m,\u001b[0m \u001b[0;34m\"end_time\"\u001b[0m\u001b[0;34m]\u001b[0m\u001b[0;34m,\u001b[0m\u001b[0;34m\u001b[0m\u001b[0;34m\u001b[0m\u001b[0m\n\u001b[1;32m    100\u001b[0m                                    parse_dates=[\"start_time\", \"end_time\"])\n\u001b[0;32m--> 101\u001b[0;31m                     \u001b[0mdf\u001b[0m\u001b[0;34m[\u001b[0m\u001b[0mdf\u001b[0m\u001b[0;34m[\u001b[0m\u001b[0;34m'end_time'\u001b[0m\u001b[0;34m]\u001b[0m\u001b[0;34m==\u001b[0m\u001b[0;34m'24:00:00'\u001b[0m\u001b[0;34m]\u001b[0m\u001b[0;34m[\u001b[0m\u001b[0;34m'end_time'\u001b[0m\u001b[0;34m]\u001b[0m \u001b[0;34m=\u001b[0m \u001b[0;34m'23:59:59'\u001b[0m  \u001b[0;31m#24 isn't a valid datetime\u001b[0m\u001b[0;34m\u001b[0m\u001b[0;34m\u001b[0m\u001b[0m\n\u001b[0m\u001b[1;32m    102\u001b[0m                     \u001b[0mdf\u001b[0m\u001b[0;34m[\u001b[0m\u001b[0;34m'start_time'\u001b[0m\u001b[0;34m]\u001b[0m\u001b[0;34m=\u001b[0m \u001b[0mpd\u001b[0m\u001b[0;34m.\u001b[0m\u001b[0mto_datetime\u001b[0m\u001b[0;34m(\u001b[0m\u001b[0mdf\u001b[0m\u001b[0;34m[\u001b[0m\u001b[0;34m'start_time'\u001b[0m\u001b[0;34m]\u001b[0m\u001b[0;34m,\u001b[0m \u001b[0minfer_datetime_format\u001b[0m\u001b[0;34m=\u001b[0m\u001b[0;32mTrue\u001b[0m\u001b[0;34m)\u001b[0m\u001b[0;34m\u001b[0m\u001b[0;34m\u001b[0m\u001b[0m\n\u001b[1;32m    103\u001b[0m                     \u001b[0mdf\u001b[0m\u001b[0;34m[\u001b[0m\u001b[0;34m'end_time'\u001b[0m\u001b[0;34m]\u001b[0m\u001b[0;34m=\u001b[0m \u001b[0mpd\u001b[0m\u001b[0;34m.\u001b[0m\u001b[0mto_datetime\u001b[0m\u001b[0;34m(\u001b[0m\u001b[0mdf\u001b[0m\u001b[0;34m[\u001b[0m\u001b[0;34m'end_time'\u001b[0m\u001b[0;34m]\u001b[0m\u001b[0;34m,\u001b[0m \u001b[0minfer_datetime_format\u001b[0m\u001b[0;34m=\u001b[0m\u001b[0;32mTrue\u001b[0m\u001b[0;34m)\u001b[0m\u001b[0;34m\u001b[0m\u001b[0;34m\u001b[0m\u001b[0m\n",
      "\u001b[0;32m//anaconda/envs/forecastcards/lib/python3.6/site-packages/pandas/core/ops.py\u001b[0m in \u001b[0;36mwrapper\u001b[0;34m(self, other, axis)\u001b[0m\n\u001b[1;32m    835\u001b[0m                 \u001b[0mmsg\u001b[0m \u001b[0;34m=\u001b[0m \u001b[0;34m'Can only compare identically-labeled Series objects'\u001b[0m\u001b[0;34m\u001b[0m\u001b[0;34m\u001b[0m\u001b[0m\n\u001b[1;32m    836\u001b[0m                 \u001b[0;32mraise\u001b[0m \u001b[0mValueError\u001b[0m\u001b[0;34m(\u001b[0m\u001b[0mmsg\u001b[0m\u001b[0;34m)\u001b[0m\u001b[0;34m\u001b[0m\u001b[0;34m\u001b[0m\u001b[0m\n\u001b[0;32m--> 837\u001b[0;31m             return self._constructor(na_op(self.values, other.values),\n\u001b[0m\u001b[1;32m    838\u001b[0m                                      index=self.index, name=name)\n\u001b[1;32m    839\u001b[0m         \u001b[0;32melif\u001b[0m \u001b[0misinstance\u001b[0m\u001b[0;34m(\u001b[0m\u001b[0mother\u001b[0m\u001b[0;34m,\u001b[0m \u001b[0mABCDataFrame\u001b[0m\u001b[0;34m)\u001b[0m\u001b[0;34m:\u001b[0m  \u001b[0;31m# pragma: no cover\u001b[0m\u001b[0;34m\u001b[0m\u001b[0;34m\u001b[0m\u001b[0m\n",
      "\u001b[0;32m//anaconda/envs/forecastcards/lib/python3.6/site-packages/pandas/core/ops.py\u001b[0m in \u001b[0;36mna_op\u001b[0;34m(x, y)\u001b[0m\n\u001b[1;32m    809\u001b[0m                 \u001b[0;32melse\u001b[0m\u001b[0;34m:\u001b[0m\u001b[0;34m\u001b[0m\u001b[0;34m\u001b[0m\u001b[0m\n\u001b[1;32m    810\u001b[0m                     \u001b[0mmask\u001b[0m \u001b[0;34m=\u001b[0m \u001b[0misna\u001b[0m\u001b[0;34m(\u001b[0m\u001b[0mx\u001b[0m\u001b[0;34m)\u001b[0m \u001b[0;34m|\u001b[0m \u001b[0misna\u001b[0m\u001b[0;34m(\u001b[0m\u001b[0my\u001b[0m\u001b[0;34m)\u001b[0m\u001b[0;34m\u001b[0m\u001b[0;34m\u001b[0m\u001b[0m\n\u001b[0;32m--> 811\u001b[0;31m                     \u001b[0my\u001b[0m \u001b[0;34m=\u001b[0m \u001b[0my\u001b[0m\u001b[0;34m.\u001b[0m\u001b[0mview\u001b[0m\u001b[0;34m(\u001b[0m\u001b[0;34m'i8'\u001b[0m\u001b[0;34m)\u001b[0m\u001b[0;34m\u001b[0m\u001b[0;34m\u001b[0m\u001b[0m\n\u001b[0m\u001b[1;32m    812\u001b[0m                 \u001b[0mx\u001b[0m \u001b[0;34m=\u001b[0m \u001b[0mx\u001b[0m\u001b[0;34m.\u001b[0m\u001b[0mview\u001b[0m\u001b[0;34m(\u001b[0m\u001b[0;34m'i8'\u001b[0m\u001b[0;34m)\u001b[0m\u001b[0;34m\u001b[0m\u001b[0;34m\u001b[0m\u001b[0m\n\u001b[1;32m    813\u001b[0m \u001b[0;34m\u001b[0m\u001b[0m\n",
      "\u001b[0;32m//anaconda/envs/forecastcards/lib/python3.6/site-packages/numpy/core/_internal.py\u001b[0m in \u001b[0;36m_view_is_safe\u001b[0;34m(oldtype, newtype)\u001b[0m\n\u001b[1;32m    387\u001b[0m \u001b[0;34m\u001b[0m\u001b[0m\n\u001b[1;32m    388\u001b[0m     \u001b[0;32mif\u001b[0m \u001b[0mnewtype\u001b[0m\u001b[0;34m.\u001b[0m\u001b[0mhasobject\u001b[0m \u001b[0;32mor\u001b[0m \u001b[0moldtype\u001b[0m\u001b[0;34m.\u001b[0m\u001b[0mhasobject\u001b[0m\u001b[0;34m:\u001b[0m\u001b[0;34m\u001b[0m\u001b[0;34m\u001b[0m\u001b[0m\n\u001b[0;32m--> 389\u001b[0;31m         \u001b[0;32mraise\u001b[0m \u001b[0mTypeError\u001b[0m\u001b[0;34m(\u001b[0m\u001b[0;34m\"Cannot change data-type for object array.\"\u001b[0m\u001b[0;34m)\u001b[0m\u001b[0;34m\u001b[0m\u001b[0;34m\u001b[0m\u001b[0m\n\u001b[0m\u001b[1;32m    390\u001b[0m     \u001b[0;32mreturn\u001b[0m\u001b[0;34m\u001b[0m\u001b[0;34m\u001b[0m\u001b[0m\n\u001b[1;32m    391\u001b[0m \u001b[0;34m\u001b[0m\u001b[0m\n",
      "\u001b[0;31mTypeError\u001b[0m: Cannot change data-type for object array."
     ]
    }
   ],
   "source": [
    "# this is assuming that you are running this file from a /notebooks directory which is at the same level as the /forecastcards module\n",
    "\n",
    "local_example_data = r\"/Users/elizabeth/Documents/urbanlabs/NCHRP 08-110/working/temp/forecastcardsdata\"\n",
    "\n",
    "\n",
    "my_cards = forecastcards.Cardset(data_loc = local_example_data)\n",
    "\n",
    "print(my_cards.validated_projects)\n"
   ]
  },
  {
   "cell_type": "markdown",
   "metadata": {
    "colab_type": "text",
    "id": "RNI0AujMzHN0"
   },
   "source": [
    "### Validating using a modified schema\n",
    "\n",
    "If you modified the schema for any reason (i.e. you wanted to expand the project types), then you can validate the data compared to an alternate schema location, which is easy to set up using the **`Card_schema`** class.\n",
    "\n",
    "It is good to use the class because it will also validate the schema for you."
   ]
  },
  {
   "cell_type": "code",
   "execution_count": 0,
   "metadata": {
    "colab": {},
    "colab_type": "code",
    "id": "Rt_4O_4dzFtf"
   },
   "outputs": [],
   "source": [
    "#example data repository\n",
    "github_example_data = {'username':'e-lo','repository':'forecastcards','branch':'master'}\n",
    "\n",
    "#alternate schema repository location\n",
    "my_new_schema_loc = {'username':'e-lo',\n",
    "                     'repository':'forecastcards',\n",
    "                     'branch':'master',\n",
    "                     'subdir':'spec/en/'}\n",
    "\n",
    "my_schemas = forecastcards.Card_schema(schema_dir = my_new_schema_loc)\n",
    "\n",
    "\n",
    "#instantiate a cardset with all the defaults\n",
    "my_cards = forecastcards.Cardset(data_loc = github_example_data, schema_locs = my_schemas.schema_locs)"
   ]
  },
  {
   "cell_type": "markdown",
   "metadata": {
    "colab_type": "text",
    "id": "N35s48TM0fsg"
   },
   "source": [
    "## 2 - Combine and Format Data for Estimation\n",
    "\n",
    "The **`Dataset`** class takes a cardset and turns it into a merged pandas dataframe.\n",
    "\n",
    "If you don't tell it not to, it will complete all the merging and a default set of cleaning and variable coding on instantiation including:\n",
    "\n",
    " 1. fix all missing values and clean records with required values . \n",
    " 2. code cateogrical variables as dummies  \n",
    " 3. scale the estimation dataset by the forecast value . \n",
    "\n",
    "\n",
    "  - **`recode_na_vars`** - list of variables to recode NA to \"missing\"\n",
    "  - **`no_na_vars`** - list of variables where having an NA isn't acceptable\n",
    "  - **`categorical_cols_list`** - list of columns that will be recoded   \n",
    " - **`required_vars`** - list of variables that will be kept  \n",
    "  - **`no_scale_cols`** - list of variables that won't be scaled\n",
    " "
   ]
  },
  {
   "cell_type": "code",
   "execution_count": 0,
   "metadata": {
    "colab": {},
    "colab_type": "code",
    "id": "LuUXrw320f5h"
   },
   "outputs": [],
   "source": [
    "cardset = forecastcards.Cardset(data_loc = github_example_data)\n",
    "\n",
    "dataset = forecastcards.Dataset(card_locs_by_type = cardset.card_locs_by_type, \n",
    "                                file_to_project_id = cardset.file_to_project_id\n",
    "                               )\n",
    "dataset.df"
   ]
  },
  {
   "cell_type": "markdown",
   "metadata": {
    "colab_type": "text",
    "id": "Fd1TqQ8oLGCo"
   },
   "source": [
    "# Combine data from multiple sources\n",
    "\n",
    "You can combine data from several github repositories as well as mix local and github data. This could be useful if you were using a shared, public data repository and you wanted to add your data in."
   ]
  },
  {
   "cell_type": "code",
   "execution_count": 0,
   "metadata": {
    "colab": {},
    "colab_type": "code",
    "id": "h--fqzwO0mpD"
   },
   "outputs": [],
   "source": [
    "combined_gh_repo_cardset = forecastcards.Cardset(data_loc = github_example_data, exclude_projects=['lu123'])\n",
    "\n",
    "combined_gh_repo_cardset.add_projects(data_loc=github_example_data, select_projects=['lu123'])\n",
    "\n",
    "combined_gh_repo_cardset.validated_projects"
   ]
  },
  {
   "cell_type": "code",
   "execution_count": 0,
   "metadata": {
    "colab": {},
    "colab_type": "code",
    "id": "Byrs7kG5L5Ze"
   },
   "outputs": [],
   "source": [
    "combined_gh_local_repo_cardset = forecastcards.Cardset(data_loc = github_example_data, exclude_projects=['lu123'])\n",
    "\n",
    "combined_gh_local_repo_cardset.add_projects(data_loc=local_example_data, select_projects=['lu123'])\n",
    "\n",
    "combined_gh_local_repo_cardset.card_locs_by_type\n"
   ]
  },
  {
   "cell_type": "markdown",
   "metadata": {
    "colab_type": "text",
    "id": "E5fC8ZzeKpsO"
   },
   "source": [
    "# Explore Estimation Dataset\n"
   ]
  },
  {
   "cell_type": "markdown",
   "metadata": {
    "colab_type": "text",
    "id": "WgxF85LYKvBg"
   },
   "source": []
  },
  {
   "cell_type": "code",
   "execution_count": 0,
   "metadata": {
    "colab": {},
    "colab_type": "code",
    "id": "8-Feu6_hLCDr"
   },
   "outputs": [],
   "source": [
    "dataset.df.dtypes"
   ]
  },
  {
   "cell_type": "code",
   "execution_count": 0,
   "metadata": {
    "colab": {},
    "colab_type": "code",
    "id": "4r9eEzo72kFG"
   },
   "outputs": [],
   "source": [
    "dataset.df.describe()\n",
    "dataset.df"
   ]
  },
  {
   "cell_type": "code",
   "execution_count": 0,
   "metadata": {
    "colab": {},
    "colab_type": "code",
    "id": "LftuXV7j2lpG"
   },
   "outputs": [],
   "source": [
    "dataset.df.plot.scatter(y='forecast_value',\n",
    "                         x='obs_value')\n"
   ]
  },
  {
   "cell_type": "code",
   "execution_count": 0,
   "metadata": {
    "colab": {},
    "colab_type": "code",
    "id": "-P5C0nDlC627"
   },
   "outputs": [],
   "source": []
  }
 ],
 "metadata": {
  "colab": {
   "collapsed_sections": [],
   "name": "Data Validation and Preparation",
   "provenance": [],
   "toc_visible": true,
   "version": "0.3.2"
  },
  "kernelspec": {
   "display_name": "Python 3",
   "language": "python",
   "name": "python3"
  },
  "language_info": {
   "codemirror_mode": {
    "name": "ipython",
    "version": 3
   },
   "file_extension": ".py",
   "mimetype": "text/x-python",
   "name": "python",
   "nbconvert_exporter": "python",
   "pygments_lexer": "ipython3",
   "version": "3.6.7"
  }
 },
 "nbformat": 4,
 "nbformat_minor": 1
}
