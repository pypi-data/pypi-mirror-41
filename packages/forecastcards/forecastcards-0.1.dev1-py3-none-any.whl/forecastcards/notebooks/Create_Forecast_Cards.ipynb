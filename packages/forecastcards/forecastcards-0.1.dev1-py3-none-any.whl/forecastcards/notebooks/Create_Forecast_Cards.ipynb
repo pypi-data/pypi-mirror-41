{
  "nbformat": 4,
  "nbformat_minor": 0,
  "metadata": {
    "colab": {
      "name": "Create Forecast Cards",
      "version": "0.3.2",
      "provenance": [],
      "collapsed_sections": [],
      "toc_visible": true
    },
    "kernelspec": {
      "name": "python3",
      "display_name": "Python 3"
    }
  },
  "cells": [
    {
      "metadata": {
        "id": "HWC78uAha3ee",
        "colab_type": "text"
      },
      "cell_type": "markdown",
      "source": [
        "This notebook is designed to be used within the [Google Colaboratory Environment](https://colab.research.google.com/notebooks/welcome.ipynb)\n",
        "\n",
        "[![Open In Colab](https://colab.research.google.com/assets/colab-badge.svg)](https://colab.research.google.com/github/e-lo/forecastcards/blob/master/forecastcards/notebooks/Create_Forecast_Cards.ipynb)"
      ]
    },
    {
      "metadata": {
        "id": "s5S3Mi75wYV0",
        "colab_type": "code",
        "colab": {}
      },
      "cell_type": "code",
      "source": [
        "\n",
        "import os\n",
        "import csv\n",
        "import pandas as pd\n",
        "from google.colab import files\n",
        "\n",
        "! pip install --upgrade git+https://github.com/e-lo/forecastcards.git@master#egg=forecastcards\n",
        "try:\n",
        "  import forecastcards\n",
        "except:\n",
        "  ! pip install --upgrade git+https://github.com/e-lo/forecastcards.git@master#egg=forecastcards\n",
        "  import forecastcards"
      ],
      "execution_count": 0,
      "outputs": []
    },
    {
      "metadata": {
        "id": "YlHI1siswpNL",
        "colab_type": "text"
      },
      "cell_type": "markdown",
      "source": [
        "# Create a Project\n",
        "\n",
        "\n"
      ]
    },
    {
      "metadata": {
        "id": "3ffxfm8kXkcj",
        "colab_type": "text"
      },
      "cell_type": "markdown",
      "source": [
        "## Create a project file\n"
      ]
    },
    {
      "metadata": {
        "id": "19rQfp-pXmYE",
        "colab_type": "code",
        "cellView": "form",
        "outputId": "aaa4f80e-c430-44ba-8274-d11be5bade7e",
        "colab": {
          "base_uri": "https://localhost:8080/",
          "height": 34
        }
      },
      "cell_type": "code",
      "source": [
        "#@markdown ### Specify a filename for a new Project file, starting with `project`\n",
        "project_filename = \"project.csv\" #@param {type:\"string\"}\n",
        "\n",
        "s = forecastcards.Card_schema()\n",
        "project_card_fields = s.schema_fields['project']\n",
        "\n",
        "with open(project_filename, 'w') as myfile:\n",
        "    wr = csv.writer(myfile)\n",
        "    wr.writerow(project_card_fields)\n",
        "    \n",
        "#for f in project_card_fields: print(f)"
      ],
      "execution_count": 0,
      "outputs": [
        {
          "output_type": "stream",
          "text": [
            "Schema valid\n"
          ],
          "name": "stdout"
        }
      ]
    },
    {
      "metadata": {
        "id": "PAVve_ZHx-FZ",
        "colab_type": "text"
      },
      "cell_type": "markdown",
      "source": [
        "## Create a project ID \n",
        "\n",
        "Project ID should be a unique value from any other cardsets that you might want to combine it with.  This checks to see if your proposed project id conflicts with a standard set of repositories, but feel free to add your own checks as well."
      ]
    },
    {
      "metadata": {
        "id": "wGl9EhrbyNdp",
        "colab_type": "code",
        "cellView": "form",
        "colab": {}
      },
      "cell_type": "code",
      "source": [
        "project_id   = \"abc123\" #@param {type:\"string\"}\n",
        "\n",
        "check_cardset_1 = \"https://github.com/e-lo/forecastcards/tree/master/forecastcards/examples\" #@param {type:\"string\"}\n",
        "check_cardset_2 = \"\" #@param {type:\"string\"}\n",
        "check_cardset_3 = \"\" #@param {type:\"string\"}\n",
        "check_cardset_4  = \"\" #@param {type:\"string\"}\n",
        "\n",
        "\n",
        "cardsets_to_check = [check_cardset_1,\n",
        "                     check_cardset_2,\n",
        "                     check_cardset_3,\n",
        "                     check_cardset_4]\n",
        "\n",
        "\n",
        "cs_with_project_id = []\n",
        "for cs_loc in cardsets_to_check:\n",
        "  if cs_loc: \n",
        "    \n",
        "    cs_loc_orig = cs_loc\n",
        "    \n",
        "    if cs_loc.find('github')>=0: \n",
        "      cs_loc = forecastcards.github_url_to_dict(cs_loc)\n",
        "    \n",
        "    cs = forecastcards.Cardset(data_loc=cs_loc,validate=False)\n",
        "    \n",
        "    if project_id in cs.projects: \n",
        "      cs_with_project_id.append(cs_loc_orig)\n",
        "\n",
        "if cs_with_project_id:\n",
        "  print(\"!!! Select a different project ID. Duplicate Project ID found in following cardsets:\",\"\\n\".join(cs_with_project_id))\n",
        "else:\n",
        "  print(\"Project ID good to go – not used in specified cardsets\")"
      ],
      "execution_count": 0,
      "outputs": []
    },
    {
      "metadata": {
        "id": "pIjn2wuiYKmy",
        "colab_type": "text"
      },
      "cell_type": "markdown",
      "source": [
        "## Add Project variables"
      ]
    },
    {
      "metadata": {
        "id": "-QehjZuv_hbz",
        "colab_type": "code",
        "cellView": "form",
        "colab": {}
      },
      "cell_type": "code",
      "source": [
        "agency      = \"None\" #@param {type:\"string\"}\n",
        "description = \"None\" #@param {type:\"string\"}\n",
        "project_type      = 'hov' #@param [\"hov\", \"road-capacity-expansion\", \"transit-priority\", \"road-diet\", \"bike-facility\", \"new-roadway\", \"land-use\", \"other\"]{allow-input: true}\n",
        "year_open_planned =  1900 #@param {type:\"slider\", min:1900, max:2100, step:1}\n",
        "date_open_actual  =  '1901-01-01' #@param {type:\"date\"}\n",
        "\n",
        "project_var_row = [project_id, agency, description, project_type, year_open_planned, year_horizon, date_open_actual]\n",
        "\n",
        "if year_open_planned == '1900':\n",
        "  year_open_planned = None\n",
        "if date_open_actual == '1901-01-01':\n",
        "  date_open_actual = None\n",
        "\n",
        "\n",
        "\n",
        "for var_name,var_value in zip(poi_card_fields,project_var_row):\n",
        "  print(var_name,\": \",var_value)"
      ],
      "execution_count": 0,
      "outputs": []
    },
    {
      "metadata": {
        "id": "KWVh6xA6WtUe",
        "colab_type": "text"
      },
      "cell_type": "markdown",
      "source": [
        "## Review Project values before writing to CSV"
      ]
    },
    {
      "metadata": {
        "id": "Osy_HCZVWzFe",
        "colab_type": "code",
        "colab": {}
      },
      "cell_type": "code",
      "source": [
        "pd.read_csv(project_filename)"
      ],
      "execution_count": 0,
      "outputs": []
    },
    {
      "metadata": {
        "id": "h_zHLXCSWzmN",
        "colab_type": "text"
      },
      "cell_type": "markdown",
      "source": [
        "## Write Project CSV"
      ]
    },
    {
      "metadata": {
        "id": "EMmb87C1OxQ2",
        "colab_type": "code",
        "colab": {}
      },
      "cell_type": "code",
      "source": [
        "with open(project_filename, 'a') as myfile:\n",
        "    wr = csv.writer(myfile)\n",
        "    wr.writerow(project_card_vars)"
      ],
      "execution_count": 0,
      "outputs": []
    },
    {
      "metadata": {
        "id": "RxEIZoyRXAnH",
        "colab_type": "text"
      },
      "cell_type": "markdown",
      "source": [
        "## Download Project CSV"
      ]
    },
    {
      "metadata": {
        "id": "kK7i86AdW9jr",
        "colab_type": "code",
        "colab": {}
      },
      "cell_type": "code",
      "source": [
        "files.download(project_filename)"
      ],
      "execution_count": 0,
      "outputs": []
    },
    {
      "metadata": {
        "id": "N35s48TM0fsg",
        "colab_type": "text"
      },
      "cell_type": "markdown",
      "source": [
        "# Points of Interest\n",
        " "
      ]
    },
    {
      "metadata": {
        "id": "unOQFTjwEl6a",
        "colab_type": "text"
      },
      "cell_type": "markdown",
      "source": [
        "## Create a Points of Interest File"
      ]
    },
    {
      "metadata": {
        "id": "ePt4Qx_N_jiY",
        "colab_type": "code",
        "cellView": "form",
        "colab": {}
      },
      "cell_type": "code",
      "source": [
        "#@markdown ### Specify a filename for a new Points of Interest File, starting with `poi`\n",
        "poi_filename = \"poi-101.csv\" #@param {type:\"string\"}\n",
        "\n",
        "s = forecastcards.Card_schema()\n",
        "poi_card_fields = s.schema_fields['poi']\n",
        "\n",
        "with open(poi_filename, 'w') as myfile:\n",
        "    wr = csv.writer(myfile)\n",
        "    wr.writerow(poi_card_fields)"
      ],
      "execution_count": 0,
      "outputs": []
    },
    {
      "metadata": {
        "id": "IpSBtsGr_8kK",
        "colab_type": "text"
      },
      "cell_type": "markdown",
      "source": [
        "## Add Point of Interests to File\n",
        "\n",
        "Append a point of interest to an existing file."
      ]
    },
    {
      "metadata": {
        "id": "FJAP9XCaGU4c",
        "colab_type": "text"
      },
      "cell_type": "markdown",
      "source": [
        "### Create a point of interest record"
      ]
    },
    {
      "metadata": {
        "id": "EFNsvQ_FTEGO",
        "colab_type": "code",
        "cellView": "form",
        "colab": {}
      },
      "cell_type": "code",
      "source": [
        "poi_filename = \"poi-101.csv\" #@param {type:\"string\"}\n",
        "poi_id = \"p126\" #@param {type:\"string\"}\n",
        "poi_short_name = \"45th St I-5 NB On Ramp\" #@param {type:\"string\"}\n",
        "facility_name = \"on ramp\" #@param {type:\"string\"}\n",
        "start = \"45th Street\" #@param {type:\"string\"}\n",
        "end = \"NB I-5\" #@param {type:\"string\"}\n",
        "area_type = 'urban' #@param [\"urban\",\"suburban\",\"exurban\",\"rural\",\"other\",\"unkown\"]\n",
        "facility_type  = 'highway' #@param [\"highway\",\"transit\"] {allow-input: true}\n",
        "functional_class = 'Ramp' #@param [\"Freeway\",\"Principal Arterial\",\"Minor Arterial\",\"Major Collector\",\"Minor Collector\",\"Local\",\"Ramp\"]\n",
        "features = []\n",
        "state = \"WA\" #@param {type:\"string\"}\n",
        "jurisdiction = \"WA DOT\" #@param {type:\"string\"}\n",
        "poi_description = \"on ramp from 45th St to NB I-5\" #@param {type:\"string\"}\n",
        "\n",
        "poi_var_row = [poi_id,poi_short_name,facility_name,start,end,area_type,facility_type,functional_class,features,state,jurisdiction,poi_description]\n",
        "\n",
        "for var_name,var_value in zip(poi_card_fields,poi_var_row):\n",
        "  print(var_name,\": \",var_value)"
      ],
      "execution_count": 0,
      "outputs": []
    },
    {
      "metadata": {
        "id": "rHSUjA4-EMRp",
        "colab_type": "text"
      },
      "cell_type": "markdown",
      "source": [
        "### Write values to POI CSV\n",
        "\n",
        "- If these values look good, write them to the CSV\n",
        "- If not, you can go back and change them before writing."
      ]
    },
    {
      "metadata": {
        "id": "LuUXrw320f5h",
        "colab_type": "code",
        "colab": {}
      },
      "cell_type": "code",
      "source": [
        "with open(poi_filename, 'a') as myfile:\n",
        "    wr = csv.writer(myfile)\n",
        "    wr.writerow(var_row)"
      ],
      "execution_count": 0,
      "outputs": []
    },
    {
      "metadata": {
        "id": "xk50u00ME8CS",
        "colab_type": "text"
      },
      "cell_type": "markdown",
      "source": [
        "### Add more POIs to POI CSV\n",
        "\n",
        " - Go back to \"Add a Point of Interest to File\" to add more POIs\n",
        " - Write the values and then review the whole CSV before downloading"
      ]
    },
    {
      "metadata": {
        "id": "_ZaMaaqQE5Qv",
        "colab_type": "code",
        "colab": {}
      },
      "cell_type": "code",
      "source": [
        "pd.read_csv(poi_filename)"
      ],
      "execution_count": 0,
      "outputs": []
    },
    {
      "metadata": {
        "id": "MinPxqXTEgUM",
        "colab_type": "text"
      },
      "cell_type": "markdown",
      "source": [
        "## Download POI CSV\n",
        "\n",
        "If the complete CSV looks good, download it"
      ]
    },
    {
      "metadata": {
        "id": "-Dh3gX_nGh4Z",
        "colab_type": "code",
        "colab": {}
      },
      "cell_type": "code",
      "source": [
        "pd.read_csv(poi_filename)"
      ],
      "execution_count": 0,
      "outputs": []
    },
    {
      "metadata": {
        "id": "7BBDNitUVkRQ",
        "colab_type": "code",
        "colab": {}
      },
      "cell_type": "code",
      "source": [
        "files.download(poi_filename)\n"
      ],
      "execution_count": 0,
      "outputs": []
    },
    {
      "metadata": {
        "id": "Fd1TqQ8oLGCo",
        "colab_type": "text"
      },
      "cell_type": "markdown",
      "source": [
        "# Observations\n"
      ]
    },
    {
      "metadata": {
        "id": "91N-ZPkLFlww",
        "colab_type": "text"
      },
      "cell_type": "markdown",
      "source": [
        "## Create an observations file"
      ]
    },
    {
      "metadata": {
        "id": "h--fqzwO0mpD",
        "colab_type": "code",
        "cellView": "form",
        "colab": {}
      },
      "cell_type": "code",
      "source": [
        "#@markdown ### Specify a filename for a new Observations File\n",
        "observations_filename = \"observations-101.csv\" #@param {type:\"string\"}\n",
        "\n",
        "s = forecastcards.Card_schema()\n",
        "observations_card_fields = s.schema_fields['observations']\n",
        "\n",
        "with open(observations_filename, 'w') as myfile:\n",
        "    wr = csv.writer(myfile)\n",
        "    wr.writerow(observations_card_fields)"
      ],
      "execution_count": 0,
      "outputs": []
    },
    {
      "metadata": {
        "id": "2Lz8gp5HFoOB",
        "colab_type": "text"
      },
      "cell_type": "markdown",
      "source": [
        "## Add observations to file"
      ]
    },
    {
      "metadata": {
        "id": "i_m2BkNgHfX8",
        "colab_type": "text"
      },
      "cell_type": "markdown",
      "source": [
        "### Reference POI file\n",
        "\n",
        "Identify the forecast cardset or POI file in this space to be used to find POI IDs in case you need them for reference"
      ]
    },
    {
      "metadata": {
        "id": "EMvJcP6yHnUp",
        "colab_type": "code",
        "cellView": "form",
        "colab": {}
      },
      "cell_type": "code",
      "source": [
        "poi_filename = \"poi101.csv\" #@param {type:\"string\"}\n",
        "avail_obs_ids = pd.read_csv(poi_filename)['poi_id'].tolist()\n",
        "for p in avail_obs_ids:\n",
        "  print (p)\n"
      ],
      "execution_count": 0,
      "outputs": []
    },
    {
      "metadata": {
        "id": "lrbMLDBAGKoG",
        "colab_type": "text"
      },
      "cell_type": "markdown",
      "source": [
        "### Create an observation"
      ]
    },
    {
      "metadata": {
        "id": "Byrs7kG5L5Ze",
        "colab_type": "code",
        "cellView": "form",
        "colab": {}
      },
      "cell_type": "code",
      "source": [
        "\n",
        "observations_filename = \"observations-101.csv\" #@param {type:\"string\"}\n",
        "\n",
        "obs_id = 'None' #@param {type:\"string\"}\n",
        "poi_id = \"None\" #@param {type:\"string\"}\n",
        "forecast_match_id = 'None' #@param {type:\"string\"}\n",
        "equip_id = 'None'  #@param {type:\"string\"}\n",
        "equip_type =  'video detection' #@param[\"hand\", \"tube\", \"loop-detector\", \"radar\", \"video detection\", \"video replay\", \"other\", \"unknown\"]\n",
        "obs_date = '2001-01-01' #@param {type:\"date\"}\n",
        "\n",
        "#@markdown **Times should be in HH:MM:SS format**\n",
        "#@markdown **Daily values should be left as None or set to: <br> -  `start`: 00:00:00 <br> - `end`: 24:00:00**\n",
        "time_start = None #@param {type:\"string\"}\n",
        "time_end = None #@param {type:\"string\"}\n",
        "\n",
        "obs_variable = \"volume\" #@param [\"volume\", \"ridership\", \"boardings\", \"alightings\", \"speed\", \"travel-time\", \"hov2-volume\", \"hov3-volume\"]\n",
        "obs_value= -1 #@param {type:\"number\"}\n",
        "\n",
        "if obs_date == '1901-01-01':\n",
        "  print(\"!!! NEED TO FILL IN OBSERVATION DATE\")\n",
        "if obs_id == 'None':\n",
        "  print(\"!!! NEED TO FILL IN OBSERVATION ID\")\n",
        "if poi_id == 'None':\n",
        "  print(\"!!! NEED TO FILL IN POI ID\")\n",
        "if obs_value == -1:\n",
        "  print(\"!!! NEED TO FILL IN OBSERVED VALUE\")\n",
        "\n",
        "observations_var_row = [obs_id,poi_id,forecast_match_id,equip_id,equip_type,obs_date,time_start,time_end,obs_variable,obs_value]\n",
        "\n",
        "for var_name,var_value in zip(observations_card_fields,observations_var_row):\n",
        "  print(var_name,\": \",var_value)"
      ],
      "execution_count": 0,
      "outputs": []
    },
    {
      "metadata": {
        "id": "c2rUUYvhFryW",
        "colab_type": "text"
      },
      "cell_type": "markdown",
      "source": [
        "### Write observation values to CSV\n",
        "\n",
        "- If these values look good, write them to the CSV\n",
        "- If not, you can go back and change them before writing."
      ]
    },
    {
      "metadata": {
        "id": "mjfNPDKIFuEd",
        "colab_type": "code",
        "colab": {}
      },
      "cell_type": "code",
      "source": [
        "with open(observations_filename, 'a') as myfile:\n",
        "    wr = csv.writer(myfile)\n",
        "    wr.writerow(observations_var_row)"
      ],
      "execution_count": 0,
      "outputs": []
    },
    {
      "metadata": {
        "id": "Bn7hvlRWFuuF",
        "colab_type": "text"
      },
      "cell_type": "markdown",
      "source": [
        "### Add more Observations to Observation CSV\n",
        "\n",
        " - Go back to \"Add an observation to file\" to add more POIs\n",
        " - Write the values and then review the whole CSV before downloading"
      ]
    },
    {
      "metadata": {
        "id": "g80vvrEeFxsn",
        "colab_type": "code",
        "colab": {}
      },
      "cell_type": "code",
      "source": [
        "pd.read_csv(observations_filename)"
      ],
      "execution_count": 0,
      "outputs": []
    },
    {
      "metadata": {
        "id": "sfpyVkSOFyN2",
        "colab_type": "text"
      },
      "cell_type": "markdown",
      "source": [
        "## Download Observations CSV\n",
        "\n",
        "If the complete CSV looks good, download it"
      ]
    },
    {
      "metadata": {
        "id": "UClfagyIGknf",
        "colab_type": "code",
        "colab": {}
      },
      "cell_type": "code",
      "source": [
        "pd.read_csv(observations_filename)"
      ],
      "execution_count": 0,
      "outputs": []
    },
    {
      "metadata": {
        "id": "4-ELMxjFF0wm",
        "colab_type": "code",
        "colab": {}
      },
      "cell_type": "code",
      "source": [
        "files.download(observations_filename)"
      ],
      "execution_count": 0,
      "outputs": []
    },
    {
      "metadata": {
        "id": "E5fC8ZzeKpsO",
        "colab_type": "text"
      },
      "cell_type": "markdown",
      "source": [
        "#  Add a Scenario\n"
      ]
    },
    {
      "metadata": {
        "colab_type": "text",
        "id": "YE9yQIL1NJo4"
      },
      "cell_type": "markdown",
      "source": [
        "## Create a scenario file"
      ]
    },
    {
      "metadata": {
        "colab_type": "code",
        "id": "L0FTCajINJo5",
        "cellView": "form",
        "colab": {}
      },
      "cell_type": "code",
      "source": [
        "#@markdown ### Specify a filename for a new Scenario File\n",
        "scenario_filename = \"scenario.csv\" #@param {type:\"string\"}\n",
        "\n",
        "s = forecastcards.Card_schema()\n",
        "scenario_card_fields = s.schema_fields['scenario']\n",
        "\n",
        "with open(scenario_filename, 'w') as myfile:\n",
        "    wr = csv.writer(myfile)\n",
        "    wr.writerow(scenario_card_fields)\n",
        "    \n",
        "#for f in scenario_card_fields: print(f)"
      ],
      "execution_count": 0,
      "outputs": []
    },
    {
      "metadata": {
        "colab_type": "text",
        "id": "gOcU-cm4NJpB"
      },
      "cell_type": "markdown",
      "source": [
        "## Add scenario to file"
      ]
    },
    {
      "metadata": {
        "colab_type": "text",
        "id": "1N2CEZ9XNJpG"
      },
      "cell_type": "markdown",
      "source": [
        "### Create a scenario record"
      ]
    },
    {
      "metadata": {
        "colab_type": "code",
        "id": "v5RIbUiuNJpG",
        "cellView": "form",
        "colab": {}
      },
      "cell_type": "code",
      "source": [
        "\n",
        "scenario_filename = \"scenarios.csv\" #@param {type:\"string\"}\n",
        "\n",
        "run_id = 'None' #@param {type:\"string\"}\n",
        "project_id = 'None' #@param {type:\"string\"}\n",
        "scenario_id = 'None' #@param {type:\"string\"}\n",
        "scenario_date = '1901-01-01' #@param {type:\"date\"}\n",
        "scenario_name = 'None' #@param {type:\"string\"}\n",
        "forecast_system = 'None' #@param {type:\"string\"}\n",
        "forecast_system_type = 'trendline' #@param [\"trendline\", \"pop-growth-rates\", \"travel-model\", \"professional-judgement\", \"unknown\", \"other\"]\n",
        "forecast_creation_date ='1901-01-01' #@param {type:\"date\"}\n",
        "forecaster_type = 'unknown' #@param [\"consultant\", \"state DOT\", \"MPO\", \"local\", \"other\", \"unknown\"]\n",
        "\n",
        "if scenario_date == '1901-01-01':\n",
        "  print(\"!!! NEED TO FILL IN SCENARIO DATE\")\n",
        "if forecast_creation_date == '1901-01-01':\n",
        "  print(\"!!! NEED TO FILL IN FORECAST CREATION DATE\")\n",
        "  \n",
        "scenario_var_row = [run_id,project_id,scenario_id,scenario_date,scenario_name,forecast_system,forecast_system_type,forecast_creation_date,forecaster_type]\n",
        "for var_name,var_value in zip(scenario_card_fields,scenario_var_row):\n",
        "  print(var_name,\": \",var_value)"
      ],
      "execution_count": 0,
      "outputs": []
    },
    {
      "metadata": {
        "colab_type": "text",
        "id": "uXBhtDNNNJpJ"
      },
      "cell_type": "markdown",
      "source": [
        "### Write scenario values to CSV\n",
        "\n",
        "- If these values look good, write them to the CSV\n",
        "- If not, you can go back and change them before writing."
      ]
    },
    {
      "metadata": {
        "colab_type": "code",
        "id": "6tF21QMeNJpL",
        "colab": {}
      },
      "cell_type": "code",
      "source": [
        "with open(scenario_filename, 'a') as myfile:\n",
        "    wr = csv.writer(myfile)\n",
        "    wr.writerow(scenario_var_row)"
      ],
      "execution_count": 0,
      "outputs": []
    },
    {
      "metadata": {
        "colab_type": "text",
        "id": "bKhKXq7aNJpN"
      },
      "cell_type": "markdown",
      "source": [
        "### Add more Scenarios to Scenario CSV\n",
        "\n",
        " - Go back to \"Add a scenario to file\" to add more scenarios\n",
        " - Write the values and then review the whole CSV before downloading"
      ]
    },
    {
      "metadata": {
        "colab_type": "code",
        "id": "NVhkQ0lDNJpO",
        "colab": {}
      },
      "cell_type": "code",
      "source": [
        "pd.read_csv(scenario_filename)"
      ],
      "execution_count": 0,
      "outputs": []
    },
    {
      "metadata": {
        "colab_type": "text",
        "id": "q9ObcPG4NJpR"
      },
      "cell_type": "markdown",
      "source": [
        "## Download Scenario CSV\n",
        "\n",
        "If the complete CSV looks good, download it"
      ]
    },
    {
      "metadata": {
        "colab_type": "code",
        "id": "GDWitVN_NJpS",
        "colab": {}
      },
      "cell_type": "code",
      "source": [
        "pd.read_csv(scenario_filename)"
      ],
      "execution_count": 0,
      "outputs": []
    },
    {
      "metadata": {
        "colab_type": "code",
        "id": "WUyzwNXlNJpW",
        "colab": {}
      },
      "cell_type": "code",
      "source": [
        "files.download(observations_filename)"
      ],
      "execution_count": 0,
      "outputs": []
    },
    {
      "metadata": {
        "id": "wQ8xj4oxYKFl",
        "colab_type": "text"
      },
      "cell_type": "markdown",
      "source": [
        "# Add a Forecast"
      ]
    },
    {
      "metadata": {
        "colab_type": "text",
        "id": "4g7thOfRUJZ3"
      },
      "cell_type": "markdown",
      "source": [
        "## Create a forecast"
      ]
    },
    {
      "metadata": {
        "colab_type": "code",
        "id": "Q65P45c-UJZ6",
        "cellView": "form",
        "colab": {}
      },
      "cell_type": "code",
      "source": [
        "#@markdown ### Specify a filename for a new Forecast File\n",
        "forecast_filename = \"forecast-.csv\" #@param {type:\"string\"}\n",
        "\n",
        "s = forecastcards.Card_schema()\n",
        "forecast_card_fields = s.schema_fields['forecast']\n",
        "\n",
        "with open(forecast_filename, 'w') as myfile:\n",
        "    wr = csv.writer(myfile)\n",
        "    wr.writerow(forecast_card_fields)\n",
        "    \n",
        "for f in forecast_card_fields: print(f)"
      ],
      "execution_count": 0,
      "outputs": []
    },
    {
      "metadata": {
        "colab_type": "text",
        "id": "-2ja5vpmUJaF"
      },
      "cell_type": "markdown",
      "source": [
        "## Add forecast to file"
      ]
    },
    {
      "metadata": {
        "colab_type": "text",
        "id": "-bbYzApKUJaH"
      },
      "cell_type": "markdown",
      "source": [
        "### Create a forecast record"
      ]
    },
    {
      "metadata": {
        "colab_type": "code",
        "id": "2oMBqwVVUJaH",
        "cellView": "form",
        "colab": {}
      },
      "cell_type": "code",
      "source": [
        "\n",
        "forecast_filename = \"forecast-.csv\" #@param {type:\"string\"}\n",
        "\n",
        "forecast_id = 'None' #@param {type:\"string\"}\n",
        "run_id = 'None' #@param {type:\"string\"}\n",
        "poi_id = 'None' #@param {type:\"string\"}\n",
        "forecast_match_id = 'None' #@param {type:\"string\"}\n",
        "\n",
        "#@markdown **Times should be in HH:MM:SS format**\n",
        "#@markdown **Daily values should be left as None or set to: <br> -  `start`: 00:00:00 <br> - `end`: 24:00:00**\n",
        "start_time = 'None' #@param {type:\"string\"}\n",
        "end_time   = 'None' #@param {type:\"string\"}\n",
        "\n",
        "forecast_variable = \"volume\" #@param [\"volume\", \"ridership\", \"boardings\", \"alightings\", \"speed\", \"travel-time\", \"hov2-volume\", \"hov3-volume\"]\n",
        "forecast_value = -1 #@param {type:\"number\"}\n",
        "\n",
        "\n",
        "if forecast_id == 'None':\n",
        "  print(\"!!! NEED TO FILL IN Forecast ID\")\n",
        "if run_id == 'None':\n",
        "  print(\"!!! NEED TO FILL IN Run ID\")\n",
        "if poi_id == 'None':\n",
        "  print(\"!!! NEED TO FILL IN POI ID\")\n",
        "if forecast_match_id == 'None':\n",
        "  print(\"!!! NEED TO FILL IN Forecast Match ID\")\n",
        "if forecast_value == -1:\n",
        "  print(\"!!! NEED TO FILL IN FORECAST VALUE\")  \n",
        "\n",
        "forecast_var_row = [forecast_id,run_id,poi_id,forecast_match_id,start_time,end_time,forecast_variable,forecast_value]\n",
        "for var_name,var_value in zip(forecast_card_fields,forecast_var_row):\n",
        "  print(var_name,\": \",var_value)"
      ],
      "execution_count": 0,
      "outputs": []
    },
    {
      "metadata": {
        "colab_type": "text",
        "id": "3qylZdTQUJaJ"
      },
      "cell_type": "markdown",
      "source": [
        "### Write forecast values to CSV\n",
        "\n",
        "- If these values look good, write them to the CSV\n",
        "- If not, you can go back and change them before writing."
      ]
    },
    {
      "metadata": {
        "colab_type": "code",
        "id": "S6qt4JfVUJaJ",
        "colab": {}
      },
      "cell_type": "code",
      "source": [
        "with open(forecast_filename, 'a') as myfile:\n",
        "    wr = csv.writer(myfile)\n",
        "    wr.writerow(forecast_var_row)"
      ],
      "execution_count": 0,
      "outputs": []
    },
    {
      "metadata": {
        "colab_type": "text",
        "id": "_LIZV8c2UJaM"
      },
      "cell_type": "markdown",
      "source": [
        "### Add more forecast to forecast CSV\n",
        "\n",
        " - Go back to \"Add a forecast to file\" to add more forecasts\n",
        " - Write the values and then review the whole CSV before downloading"
      ]
    },
    {
      "metadata": {
        "colab_type": "code",
        "id": "nFttdx9PUJaN",
        "colab": {}
      },
      "cell_type": "code",
      "source": [
        "pd.read_csv(forecast_filename)"
      ],
      "execution_count": 0,
      "outputs": []
    },
    {
      "metadata": {
        "colab_type": "text",
        "id": "S9GT4LmrUJaP"
      },
      "cell_type": "markdown",
      "source": [
        "## Download forecast CSV\n",
        "\n",
        "If the complete CSV looks good, download it"
      ]
    },
    {
      "metadata": {
        "colab_type": "code",
        "id": "hMfU6McYUJaQ",
        "colab": {}
      },
      "cell_type": "code",
      "source": [
        "pd.read_csv(forecast_filename)"
      ],
      "execution_count": 0,
      "outputs": []
    },
    {
      "metadata": {
        "colab_type": "code",
        "id": "9s4RwEmFUJaS",
        "colab": {}
      },
      "cell_type": "code",
      "source": [
        "files.download(forecast_filename)"
      ],
      "execution_count": 0,
      "outputs": []
    }
  ]
}