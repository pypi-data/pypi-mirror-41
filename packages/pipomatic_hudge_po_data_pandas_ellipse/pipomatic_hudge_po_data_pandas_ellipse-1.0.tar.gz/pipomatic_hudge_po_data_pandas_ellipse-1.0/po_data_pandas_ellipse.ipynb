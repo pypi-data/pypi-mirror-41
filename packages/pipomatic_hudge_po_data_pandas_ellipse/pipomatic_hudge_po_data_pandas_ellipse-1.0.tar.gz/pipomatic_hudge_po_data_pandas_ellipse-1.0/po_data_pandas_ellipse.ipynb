{
 "cells": [
  {
   "cell_type": "markdown",
   "metadata": {},
   "source": [
    "# PO Data Pandas\n",
    "\n",
    "Functions for working with PO data"
   ]
  },
  {
   "cell_type": "code",
   "execution_count": 1,
   "metadata": {},
   "outputs": [],
   "source": [
    "import pandas as pd\n",
    "from pathlib import Path"
   ]
  },
  {
   "cell_type": "markdown",
   "metadata": {},
   "source": [
    "## Set up test data"
   ]
  },
  {
   "cell_type": "code",
   "execution_count": 2,
   "metadata": {
    "tags": [
     "test"
    ]
   },
   "outputs": [],
   "source": [
    "od = Path('./data')\n",
    "od.mkdir(parents=True, exist_ok=True)"
   ]
  },
  {
   "cell_type": "markdown",
   "metadata": {},
   "source": [
    "## Set up structure\n",
    "\n",
    "This notebook helps create two datasets from a report generated from ABB's Ellipse system. The first dataset is a report of PO lines. The second dataset is a report of PO and supplier numbers, along with a column that indicates how many lines the PO has."
   ]
  },
  {
   "cell_type": "code",
   "execution_count": 3,
   "metadata": {
    "tags": [
     "test"
    ]
   },
   "outputs": [],
   "source": [
    "po_column_mapping = {'Purchase_Order_Number_Combined': 'po_number', \n",
    "           'Purchase_Order_Date': 'po_date',\n",
    "           'Supplier_Number': 'supplier_number',\n",
    "           'Supplier_Name': 'supplier_name',\n",
    "           'Stock_Code': 'stock_code',\n",
    "           'UOI_Current_Quantity1': 'qty',\n",
    "           'Item_Name_line': 'item_name_line',\n",
    "           'Stock_Description': 'stock_description'}\n",
    "\n",
    "po_line_column_names = list(po_column_mapping.values())\n",
    "po_line_column_names.insert(1, 'line_number')"
   ]
  },
  {
   "cell_type": "markdown",
   "metadata": {},
   "source": [
    "## Get last updated file"
   ]
  },
  {
   "cell_type": "code",
   "execution_count": 4,
   "metadata": {},
   "outputs": [],
   "source": [
    "def get_last_file(folder):\n",
    "    \n",
    "    \"\"\"helper function that finds the most recently updated file in a directory. \n",
    "    You use it to pull the most recent datafile dumped into a folder\"\"\"\n",
    "    \n",
    "    time, filepath = max((f.stat().st_mtime, f) for f in folder.iterdir())\n",
    "    return filepath"
   ]
  },
  {
   "cell_type": "code",
   "execution_count": 5,
   "metadata": {
    "tags": [
     "test"
    ]
   },
   "outputs": [
    {
     "data": {
      "text/plain": [
       "WindowsPath('data/Supplier Master Data/SP001.xls')"
      ]
     },
     "execution_count": 5,
     "metadata": {},
     "output_type": "execute_result"
    }
   ],
   "source": [
    "get_last_file(od / 'Supplier Master Data')"
   ]
  },
  {
   "cell_type": "markdown",
   "metadata": {},
   "source": [
    "## Transform Stock PO data\n",
    "\n",
    "The build_po_lines_dataframe function creates PO lines from stock POs"
   ]
  },
  {
   "cell_type": "code",
   "execution_count": 6,
   "metadata": {},
   "outputs": [],
   "source": [
    "def build_po_lines_dataframe(stock_pos, po_column_mapping, po_line_column_names):\n",
    "    stock_pos = stock_pos.rename(columns=po_column_mapping)\n",
    "    stock_pos['line_number'] = stock_pos.po_number.apply(lambda x: f'{x}'.split('-')[1])\n",
    "    stock_pos.line_number = pd.to_numeric(stock_pos.line_number)\n",
    "    stock_pos.po_number = stock_pos.po_number.apply(lambda x: f'{x}'.split('-')[0])\n",
    "    stock_pos.supplier_number = stock_pos.supplier_number.apply(lambda x: f'{x}'.zfill(6))\n",
    "    stock_pos.stock_description = stock_pos.stock_description.astype(str).apply(lambda x: ' '.join(x.split()))\n",
    "    stock_pos.stock_code = stock_pos.stock_code.apply(lambda x: '{0:.2f}'.format(x).rstrip('0').rstrip('.'))\n",
    "    stock_pos.stock_code = stock_pos.stock_code.astype('str')\n",
    "    stock_pos.po_date = pd.to_datetime(stock_pos.po_date, dayfirst=True)\n",
    "    stock_pos = stock_pos.sort_values(by=['po_date', 'po_number', 'line_number'], ascending=[True, True, False])\n",
    "    stock_pos = stock_pos[po_line_column_names]\n",
    "    return stock_pos"
   ]
  },
  {
   "cell_type": "code",
   "execution_count": 7,
   "metadata": {
    "tags": [
     "test"
    ]
   },
   "outputs": [
    {
     "data": {
      "text/html": [
       "<div>\n",
       "<style scoped>\n",
       "    .dataframe tbody tr th:only-of-type {\n",
       "        vertical-align: middle;\n",
       "    }\n",
       "\n",
       "    .dataframe tbody tr th {\n",
       "        vertical-align: top;\n",
       "    }\n",
       "\n",
       "    .dataframe thead th {\n",
       "        text-align: right;\n",
       "    }\n",
       "</style>\n",
       "<table border=\"1\" class=\"dataframe\">\n",
       "  <thead>\n",
       "    <tr style=\"text-align: right;\">\n",
       "      <th></th>\n",
       "      <th>po_number</th>\n",
       "      <th>line_number</th>\n",
       "      <th>po_date</th>\n",
       "      <th>supplier_number</th>\n",
       "      <th>supplier_name</th>\n",
       "      <th>stock_code</th>\n",
       "      <th>qty</th>\n",
       "      <th>item_name_line</th>\n",
       "      <th>stock_description</th>\n",
       "    </tr>\n",
       "  </thead>\n",
       "  <tbody>\n",
       "    <tr>\n",
       "      <th>52</th>\n",
       "      <td>random</td>\n",
       "      <td>53</td>\n",
       "      <td>2000-09-27</td>\n",
       "      <td>random text</td>\n",
       "      <td>random text</td>\n",
       "      <td>720158.47</td>\n",
       "      <td>537.996799</td>\n",
       "      <td>random text</td>\n",
       "      <td>random text</td>\n",
       "    </tr>\n",
       "    <tr>\n",
       "      <th>7</th>\n",
       "      <td>random</td>\n",
       "      <td>8</td>\n",
       "      <td>2001-02-03</td>\n",
       "      <td>random text</td>\n",
       "      <td>random text</td>\n",
       "      <td>2537624.99</td>\n",
       "      <td>165.049773</td>\n",
       "      <td>random text</td>\n",
       "      <td>random text</td>\n",
       "    </tr>\n",
       "    <tr>\n",
       "      <th>66</th>\n",
       "      <td>random</td>\n",
       "      <td>67</td>\n",
       "      <td>2001-02-14</td>\n",
       "      <td>random text</td>\n",
       "      <td>random text</td>\n",
       "      <td>3035602.95</td>\n",
       "      <td>96.544865</td>\n",
       "      <td>random text</td>\n",
       "      <td>random text</td>\n",
       "    </tr>\n",
       "    <tr>\n",
       "      <th>1</th>\n",
       "      <td>random</td>\n",
       "      <td>2</td>\n",
       "      <td>2001-05-05</td>\n",
       "      <td>random text</td>\n",
       "      <td>random text</td>\n",
       "      <td>479984.24</td>\n",
       "      <td>206.001962</td>\n",
       "      <td>random text</td>\n",
       "      <td>random text</td>\n",
       "    </tr>\n",
       "    <tr>\n",
       "      <th>76</th>\n",
       "      <td>random</td>\n",
       "      <td>77</td>\n",
       "      <td>2001-05-13</td>\n",
       "      <td>random text</td>\n",
       "      <td>random text</td>\n",
       "      <td>3118594.67</td>\n",
       "      <td>544.999058</td>\n",
       "      <td>random text</td>\n",
       "      <td>random text</td>\n",
       "    </tr>\n",
       "  </tbody>\n",
       "</table>\n",
       "</div>"
      ],
      "text/plain": [
       "   po_number  line_number    po_date supplier_number supplier_name  \\\n",
       "52    random           53 2000-09-27     random text   random text   \n",
       "7     random            8 2001-02-03     random text   random text   \n",
       "66    random           67 2001-02-14     random text   random text   \n",
       "1     random            2 2001-05-05     random text   random text   \n",
       "76    random           77 2001-05-13     random text   random text   \n",
       "\n",
       "    stock_code         qty item_name_line stock_description  \n",
       "52   720158.47  537.996799    random text       random text  \n",
       "7   2537624.99  165.049773    random text       random text  \n",
       "66  3035602.95   96.544865    random text       random text  \n",
       "1    479984.24  206.001962    random text       random text  \n",
       "76  3118594.67  544.999058    random text       random text  "
      ]
     },
     "execution_count": 7,
     "metadata": {},
     "output_type": "execute_result"
    }
   ],
   "source": [
    "stock_po_dir = od / 'Stock PO Master Data'\n",
    "stock_po_csv = get_last_file(stock_po_dir)\n",
    "stock_pos = pd.read_csv(stock_po_csv)\n",
    "stock_po_lines = build_po_lines_dataframe(stock_pos, po_column_mapping, po_line_column_names)\n",
    "stock_po_lines.head()"
   ]
  },
  {
   "cell_type": "markdown",
   "metadata": {},
   "source": [
    "Stock PO lines are tranformed into header level POs"
   ]
  },
  {
   "cell_type": "code",
   "execution_count": 8,
   "metadata": {},
   "outputs": [],
   "source": [
    "def build_po_header_dataframe(stock_po_lines):\n",
    "    stock_pos_header = stock_po_lines[['po_number', 'supplier_number', 'line_number']]\n",
    "    stock_pos_header = stock_pos_header.sort_values(by=['po_number', 'line_number'], ascending=[True, False])\n",
    "    stock_pos_header = stock_pos_header.drop_duplicates(subset=['po_number'])\n",
    "    stock_pos_header['line_count'] = stock_pos_header.line_number.apply(lambda x: 1 if x > 1 else 0)\n",
    "    stock_pos_header = stock_pos_header.drop(columns='line_number')\n",
    "    return stock_pos_header"
   ]
  },
  {
   "cell_type": "code",
   "execution_count": 9,
   "metadata": {
    "tags": [
     "test"
    ]
   },
   "outputs": [
    {
     "data": {
      "text/html": [
       "<div>\n",
       "<style scoped>\n",
       "    .dataframe tbody tr th:only-of-type {\n",
       "        vertical-align: middle;\n",
       "    }\n",
       "\n",
       "    .dataframe tbody tr th {\n",
       "        vertical-align: top;\n",
       "    }\n",
       "\n",
       "    .dataframe thead th {\n",
       "        text-align: right;\n",
       "    }\n",
       "</style>\n",
       "<table border=\"1\" class=\"dataframe\">\n",
       "  <thead>\n",
       "    <tr style=\"text-align: right;\">\n",
       "      <th></th>\n",
       "      <th>po_number</th>\n",
       "      <th>supplier_number</th>\n",
       "      <th>line_count</th>\n",
       "    </tr>\n",
       "  </thead>\n",
       "  <tbody>\n",
       "    <tr>\n",
       "      <th>99</th>\n",
       "      <td>random</td>\n",
       "      <td>random text</td>\n",
       "      <td>1</td>\n",
       "    </tr>\n",
       "  </tbody>\n",
       "</table>\n",
       "</div>"
      ],
      "text/plain": [
       "   po_number supplier_number  line_count\n",
       "99    random     random text           1"
      ]
     },
     "execution_count": 9,
     "metadata": {},
     "output_type": "execute_result"
    }
   ],
   "source": [
    "stock_po_headers = build_po_header_dataframe(stock_po_lines)\n",
    "stock_po_headers.head()"
   ]
  },
  {
   "cell_type": "markdown",
   "metadata": {},
   "source": [
    "Service POs are turned into header level POs and then combined with stock POs"
   ]
  },
  {
   "cell_type": "code",
   "execution_count": 10,
   "metadata": {},
   "outputs": [],
   "source": [
    "def build_service_po_header_dataframe(service_pos):\n",
    "    service_pos = service_pos[['Purchase Order Number', 'Supplier Number']]\n",
    "    service_pos = service_pos.rename(columns={'Purchase Order Number': 'po_number', 'Supplier Number': 'supplier_number'})\n",
    "    service_pos = service_pos.drop_duplicates(subset=['po_number'])\n",
    "    service_pos.supplier_number = service_pos.supplier_number.apply(lambda x: f'{x}'.zfill(6))\n",
    "    service_pos['line_count'] = 0\n",
    "    return service_pos"
   ]
  },
  {
   "cell_type": "code",
   "execution_count": 11,
   "metadata": {
    "tags": [
     "test"
    ]
   },
   "outputs": [
    {
     "data": {
      "text/html": [
       "<div>\n",
       "<style scoped>\n",
       "    .dataframe tbody tr th:only-of-type {\n",
       "        vertical-align: middle;\n",
       "    }\n",
       "\n",
       "    .dataframe tbody tr th {\n",
       "        vertical-align: top;\n",
       "    }\n",
       "\n",
       "    .dataframe thead th {\n",
       "        text-align: right;\n",
       "    }\n",
       "</style>\n",
       "<table border=\"1\" class=\"dataframe\">\n",
       "  <thead>\n",
       "    <tr style=\"text-align: right;\">\n",
       "      <th></th>\n",
       "      <th>po_number</th>\n",
       "      <th>supplier_number</th>\n",
       "      <th>line_count</th>\n",
       "    </tr>\n",
       "  </thead>\n",
       "  <tbody>\n",
       "    <tr>\n",
       "      <th>0</th>\n",
       "      <td>random text</td>\n",
       "      <td>random text</td>\n",
       "      <td>0</td>\n",
       "    </tr>\n",
       "  </tbody>\n",
       "</table>\n",
       "</div>"
      ],
      "text/plain": [
       "     po_number supplier_number  line_count\n",
       "0  random text     random text           0"
      ]
     },
     "execution_count": 11,
     "metadata": {},
     "output_type": "execute_result"
    }
   ],
   "source": [
    "po_dir = od / 'Purchase Order Master Data'\n",
    "service_po_excel = get_last_file(po_dir)\n",
    "service_pos_df = pd.read_excel(service_po_excel)\n",
    "service_pos = build_service_po_header_dataframe(service_pos_df)\n",
    "service_pos.head()"
   ]
  },
  {
   "cell_type": "markdown",
   "metadata": {},
   "source": [
    "Combine service and stock POs"
   ]
  },
  {
   "cell_type": "code",
   "execution_count": 12,
   "metadata": {},
   "outputs": [],
   "source": [
    "def combine_service_and_stock_pos(service_pos, stock_po_headers):\n",
    "    all_pos = service_pos.append(stock_po_headers)\n",
    "    all_pos.drop_duplicates(subset=['po_number'])\n",
    "    return all_pos"
   ]
  },
  {
   "cell_type": "code",
   "execution_count": 13,
   "metadata": {
    "tags": [
     "test"
    ]
   },
   "outputs": [
    {
     "data": {
      "text/html": [
       "<div>\n",
       "<style scoped>\n",
       "    .dataframe tbody tr th:only-of-type {\n",
       "        vertical-align: middle;\n",
       "    }\n",
       "\n",
       "    .dataframe tbody tr th {\n",
       "        vertical-align: top;\n",
       "    }\n",
       "\n",
       "    .dataframe thead th {\n",
       "        text-align: right;\n",
       "    }\n",
       "</style>\n",
       "<table border=\"1\" class=\"dataframe\">\n",
       "  <thead>\n",
       "    <tr style=\"text-align: right;\">\n",
       "      <th></th>\n",
       "      <th>po_number</th>\n",
       "      <th>supplier_number</th>\n",
       "      <th>line_count</th>\n",
       "    </tr>\n",
       "  </thead>\n",
       "  <tbody>\n",
       "    <tr>\n",
       "      <th>0</th>\n",
       "      <td>random text</td>\n",
       "      <td>random text</td>\n",
       "      <td>0</td>\n",
       "    </tr>\n",
       "    <tr>\n",
       "      <th>99</th>\n",
       "      <td>random</td>\n",
       "      <td>random text</td>\n",
       "      <td>1</td>\n",
       "    </tr>\n",
       "  </tbody>\n",
       "</table>\n",
       "</div>"
      ],
      "text/plain": [
       "      po_number supplier_number  line_count\n",
       "0   random text     random text           0\n",
       "99       random     random text           1"
      ]
     },
     "execution_count": 13,
     "metadata": {},
     "output_type": "execute_result"
    }
   ],
   "source": [
    "service_pos = build_service_po_header_dataframe(service_pos_df)\n",
    "all_pos = combine_service_and_stock_pos(service_pos, stock_po_headers)\n",
    "all_pos.head()"
   ]
  },
  {
   "cell_type": "markdown",
   "metadata": {},
   "source": [
    "## Build master data file"
   ]
  },
  {
   "cell_type": "code",
   "execution_count": 14,
   "metadata": {},
   "outputs": [],
   "source": [
    "def build_master_vendor_dataframe(supplier_master):\n",
    "    supplier_master = supplier_master[['Supplier Number','Supplier Company Name', 'ABN Number', \n",
    "                                       'Branch Code', 'Bank Account Number']]\n",
    "    supplier_master = supplier_master.rename(columns={'Supplier Number': 'supplier_number', \n",
    "                                                      'Supplier Company Name': 'supplier_name', \n",
    "                                                      'ABN Number': 'abn', 'Branch Code': 'bsb', \n",
    "                                                      'Bank Account Number': 'bank_account'})\n",
    "    supplier_master.supplier_number = supplier_master.supplier_number.apply(lambda x: f'{x}'.zfill(6))\n",
    "    supplier_master.abn = supplier_master.abn.apply(lambda x: f'{x}'.replace(' ',''))\n",
    "    supplier_master.bsb = supplier_master.bsb.apply(lambda x: f'{x}'.replace('-',''))\n",
    "    return supplier_master"
   ]
  },
  {
   "cell_type": "code",
   "execution_count": 15,
   "metadata": {
    "tags": [
     "test"
    ]
   },
   "outputs": [
    {
     "data": {
      "text/html": [
       "<div>\n",
       "<style scoped>\n",
       "    .dataframe tbody tr th:only-of-type {\n",
       "        vertical-align: middle;\n",
       "    }\n",
       "\n",
       "    .dataframe tbody tr th {\n",
       "        vertical-align: top;\n",
       "    }\n",
       "\n",
       "    .dataframe thead th {\n",
       "        text-align: right;\n",
       "    }\n",
       "</style>\n",
       "<table border=\"1\" class=\"dataframe\">\n",
       "  <thead>\n",
       "    <tr style=\"text-align: right;\">\n",
       "      <th></th>\n",
       "      <th>supplier_number</th>\n",
       "      <th>supplier_name</th>\n",
       "      <th>abn</th>\n",
       "      <th>bsb</th>\n",
       "      <th>bank_account</th>\n",
       "    </tr>\n",
       "  </thead>\n",
       "  <tbody>\n",
       "    <tr>\n",
       "      <th>0</th>\n",
       "      <td>009122</td>\n",
       "      <td>random text</td>\n",
       "      <td>randomtext</td>\n",
       "      <td>random text</td>\n",
       "      <td>5.188683e+08</td>\n",
       "    </tr>\n",
       "    <tr>\n",
       "      <th>1</th>\n",
       "      <td>003912</td>\n",
       "      <td>random text</td>\n",
       "      <td>randomtext</td>\n",
       "      <td>random text</td>\n",
       "      <td>4.871164e+08</td>\n",
       "    </tr>\n",
       "    <tr>\n",
       "      <th>2</th>\n",
       "      <td>009589</td>\n",
       "      <td>random text</td>\n",
       "      <td>randomtext</td>\n",
       "      <td>random text</td>\n",
       "      <td>1.004975e+08</td>\n",
       "    </tr>\n",
       "    <tr>\n",
       "      <th>3</th>\n",
       "      <td>004960</td>\n",
       "      <td>random text</td>\n",
       "      <td>randomtext</td>\n",
       "      <td>random text</td>\n",
       "      <td>5.884282e+08</td>\n",
       "    </tr>\n",
       "    <tr>\n",
       "      <th>4</th>\n",
       "      <td>005666</td>\n",
       "      <td>random text</td>\n",
       "      <td>randomtext</td>\n",
       "      <td>random text</td>\n",
       "      <td>1.805070e+08</td>\n",
       "    </tr>\n",
       "  </tbody>\n",
       "</table>\n",
       "</div>"
      ],
      "text/plain": [
       "  supplier_number supplier_name         abn          bsb  bank_account\n",
       "0          009122   random text  randomtext  random text  5.188683e+08\n",
       "1          003912   random text  randomtext  random text  4.871164e+08\n",
       "2          009589   random text  randomtext  random text  1.004975e+08\n",
       "3          004960   random text  randomtext  random text  5.884282e+08\n",
       "4          005666   random text  randomtext  random text  1.805070e+08"
      ]
     },
     "execution_count": 15,
     "metadata": {},
     "output_type": "execute_result"
    }
   ],
   "source": [
    "supplier_master_dir = od / 'Supplier Master Data'\n",
    "supplier_master_excel = get_last_file(supplier_master_dir)\n",
    "supplier_master = pd.read_excel(supplier_master_excel)\n",
    "supplier_master = build_master_vendor_dataframe(supplier_master)\n",
    "supplier_master.head()"
   ]
  },
  {
   "cell_type": "code",
   "execution_count": 16,
   "metadata": {
    "tags": [
     "build"
    ]
   },
   "outputs": [
    {
     "name": "stderr",
     "output_type": "stream",
     "text": [
      "[NbConvertApp] Converting notebook po_data_pandas_ellipse.ipynb to python\n",
      "[NbConvertApp] Writing 4272 bytes to po_data_pandas_ellipse.py\n"
     ]
    },
    {
     "data": {
      "text/plain": [
       "'pipomatic_hudge_po_data_pandas_ellipse.py'"
      ]
     },
     "execution_count": 16,
     "metadata": {},
     "output_type": "execute_result"
    }
   ],
   "source": [
    "!jupyter nbconvert \\\n",
    "    --TagRemovePreprocessor.enabled=True \\\n",
    "    --TagRemovePreprocessor.remove_cell_tags=\"['build', 'test']\" \\\n",
    "    --TemplateExporter.exclude_output=True \\\n",
    "    --to python \"po_data_pandas_ellipse.ipynb\"\n",
    "\n",
    "first_line = \"\"\"'Helper functions for working with Ellipse PO reports'\n",
    "\n",
    "__version__ = '1.0'\n",
    "\n",
    "\"\"\"\n",
    "script_file = Path.cwd() / 'po_data_pandas_ellipse.py'\n",
    "script = script_file.read_text()\n",
    "script_file.write_text(first_line + script)\n",
    "username = script_file.parent.parent.name\n",
    "system_name = script_file.parent.name\n",
    "standardised_script_name = f'pipomatic_{username}_{system_name}.py'\n",
    "script_file.replace(script_file.parent / standardised_script_name)\n",
    "standardised_script_name"
   ]
  },
  {
   "cell_type": "code",
   "execution_count": 17,
   "metadata": {
    "tags": [
     "build"
    ]
   },
   "outputs": [
    {
     "name": "stderr",
     "output_type": "stream",
     "text": [
      "reformatted pipomatic_hudge_po_data_pandas_ellipse.py\n",
      "All done! \\u2728 \\U0001f370 \\u2728\n",
      "1 file reformatted.\n"
     ]
    }
   ],
   "source": [
    "!black \"pipomatic_hudge_po_data_pandas_ellipse.py\""
   ]
  },
  {
   "cell_type": "code",
   "execution_count": null,
   "metadata": {},
   "outputs": [],
   "source": []
  }
 ],
 "metadata": {
  "celltoolbar": "Tags",
  "kernelspec": {
   "display_name": "Python 3",
   "language": "python",
   "name": "python3"
  },
  "language_info": {
   "codemirror_mode": {
    "name": "ipython",
    "version": 3
   },
   "file_extension": ".py",
   "mimetype": "text/x-python",
   "name": "python",
   "nbconvert_exporter": "python",
   "pygments_lexer": "ipython3",
   "version": "3.7.1"
  }
 },
 "nbformat": 4,
 "nbformat_minor": 2
}
