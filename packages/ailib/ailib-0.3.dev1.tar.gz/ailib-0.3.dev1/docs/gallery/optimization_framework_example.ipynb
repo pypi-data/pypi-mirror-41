{
  "cells": [
    {
      "cell_type": "code",
      "execution_count": null,
      "metadata": {
        "collapsed": false
      },
      "outputs": [],
      "source": [
        "%matplotlib inline"
      ]
    },
    {
      "cell_type": "markdown",
      "metadata": {},
      "source": [
        "\nA PyAI (optimization framework) demo.\n\n"
      ]
    },
    {
      "cell_type": "code",
      "execution_count": null,
      "metadata": {
        "collapsed": false
      },
      "outputs": [],
      "source": [
        "import math\nimport numpy as np\n\n# CONFIG ######################################################################\n\nobjective_func = \"sphere\"\noptimizer_choice = \"saes\"\n\n# MAIN ########################################################################\n\ndef main():\n    \"\"\"\n    A PyAI (optimization framework) demo.\n    \"\"\"\n\n    # SETUP OBJECTIVE FUNCTION ############################\n\n    if objective_func == \"sphere\":\n        # Sphere ##########################\n        from ailib.optimization.function.sphere import Function\n        #f = Function(1)\n        f = Function(2)\n        #f = Function(10)\n\n    elif objective_func == \"noised_sphere\":\n        # Noised sphere ###################\n        from ailib.optimization.function.noised_sphere import Function\n        #f = Function(1)\n        f = Function(2)\n\n    elif objective_func == \"sin1\":\n        # Sinusoid functions ##############\n        from ailib.optimization.function.sin1 import Function\n        f = Function()\n\n    elif objective_func == \"sin2\":\n        # Sinusoid functions ##############\n        from ailib.optimization.function.sin2 import Function\n        f = Function()\n\n    elif objective_func == \"sin3\":\n        # Sinusoid functions ##############\n        from ailib.optimization.function.sin3 import Function\n        f = Function()\n\n    elif objective_func == \"yahoo\":\n        # Yahoo function ##################\n        from ailib.optimization.function.yahoo import Function\n        f = Function()\n\n    elif objective_func == \"deg_2_poly\":\n        # Degree 2 polynomial function ####\n        from ailib.optimization.function.degree_2_polynomial import Function\n        f = Function(np.array([6.,2.]), np.array([1.,2.]), 1., 2)\n\n    else:\n        raise Exception(\"Wrong objective_func value.\")\n\n    # Plot ########\n    #f.plot()\n\n\n    # OPTIMIZER ###########################################\n\n    if optimizer_choice == \"naive\":\n        # Naive Minimizer #################\n        from ailib.optimization.optimizer.naive import Optimizer\n        optimizer = Optimizer()\n        best_x = optimizer.optimize(f, num_samples=300)\n\n    elif optimizer_choice == \"gradient\":\n        # Gradient descent ################\n        from ailib.optimization.optimizer.gradient import Optimizer\n        optimizer = Optimizer()\n        f.delta = 0.01\n        best_x = optimizer.optimize(f, num_iterations=30)\n\n    elif optimizer_choice == \"saes\":\n        # SAES ############################\n        from ailib.optimization.optimizer.saes_hgb import Optimizer\n        optimizer = Optimizer(x_init=np.ones(f.ndim), num_evals_func=lambda gen_index: math.floor(10. * pow(gen_index, 0.5)))\n        optimizer = Optimizer(x_init=np.ones(f.ndim))\n        best_x = optimizer.optimize(f, num_gen=50)\n\n    elif optimizer_choice == \"cutting_plane\":\n        # Cutting plane ###################\n        from ailib.optimization.optimizer.cutting_plane import Optimizer\n        optimizer = Optimizer()\n\n        #best_x = optimizer.optimize(f, num_iterations=7)   # sphere with 1 dimension\n        #best_x = optimizer.optimize(f, num_iterations=15) # sphere with 2 dimensions\n        #best_x = optimizer.optimize(f, num_iterations=100) # sphere with 10 dimensions\n\n        #best_x = optimizer.optimize(f, parallel=\"linear\", num_iterations=7)   # sphere with 1 dimension\n        #best_x = optimizer.optimize(f, parallel=\"linear\", num_iterations=100)   # sphere with 10 dimension\n\n        #best_x = optimizer.optimize(f, parallel=\"gaussian\", num_iterations=7)   # sphere with 1 dimension\n        #best_x = optimizer.optimize(f, parallel=\"gaussian\", num_iterations=100)   # sphere with 10 dimension\n\n        best_x = optimizer.optimize(f, num_iterations=15) # sphere with 2 dimensions\n\n    elif optimizer_choice == \"eda\":\n        # EDA #############################\n        #from ailib.optimization.optimizer.eda import Optimizer\n        pass\n\n    else:\n        raise Exception(\"Wrong optimizer_choice value.\")\n\n    print(\"Best sample: f(\", best_x, \") = \", f(best_x))\n\nif __name__ == '__main__':\n    main()"
      ]
    }
  ],
  "metadata": {
    "kernelspec": {
      "display_name": "Python 3",
      "language": "python",
      "name": "python3"
    },
    "language_info": {
      "codemirror_mode": {
        "name": "ipython",
        "version": 3
      },
      "file_extension": ".py",
      "mimetype": "text/x-python",
      "name": "python",
      "nbconvert_exporter": "python",
      "pygments_lexer": "ipython3",
      "version": "3.6.8"
    }
  },
  "nbformat": 4,
  "nbformat_minor": 0
}