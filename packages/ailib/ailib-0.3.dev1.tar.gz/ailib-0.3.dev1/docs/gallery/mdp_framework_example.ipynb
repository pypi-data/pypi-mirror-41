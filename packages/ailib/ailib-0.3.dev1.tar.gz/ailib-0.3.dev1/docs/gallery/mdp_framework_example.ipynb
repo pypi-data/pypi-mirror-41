{
  "cells": [
    {
      "cell_type": "code",
      "execution_count": null,
      "metadata": {
        "collapsed": false
      },
      "outputs": [],
      "source": [
        "%matplotlib inline"
      ]
    },
    {
      "cell_type": "markdown",
      "metadata": {},
      "source": [
        "\nA PyAI (Markov Decision Processes framework) demo.\n\n"
      ]
    },
    {
      "cell_type": "code",
      "execution_count": null,
      "metadata": {
        "collapsed": false
      },
      "outputs": [],
      "source": [
        "from ailib.mdp.environment.maze import Environment\n#from ailib.mdp.environment.graph import Environment\n#from ailib.mdp.environment.maze import Agent\n#from ailib.mdp.agent.brute_force import Agent\n#from ailib.mdp.agent.value_iteration import Agent\n#from ailib.mdp.agent.value_iteration_gauss_seidel import Agent\n#from ailib.mdp.agent.value_iteration_error_rate import Agent\nfrom ailib.mdp.agent.policy_iteration import Agent\n#from ailib.mdp.agent.direct_utility_estimation import Agent\n\ndef main():\n    \"\"\"Main function\"\"\"\n\n    #initial_state = (0,0)\n    #environment = Environment(initial_state = initial_state)\n\n    #environment = Environment()\n    environment = Environment(discount_factor=0.999)\n    agent = Agent(environment)\n\n    environment.displayReward()\n    environment.displayPolicy(agent)\n\n    # Do the simulation\n    (state_list, action_list, reward_list) = environment.simulate(agent)\n\n    # Display states\n    print(\"States:\", state_list)\n    print(\"Actions:\", action_list)\n    print(\"Rewards:\", reward_list)\n\n    for iteration, (state, action) in enumerate(zip(state_list, action_list)):\n        environment.displayStateAction(current_state=state, current_action=action, iteration=iteration)\n        print(\"{0}: {1} {2} {3}\".format(iteration, state, action, state_list[iteration+1]))\n\n    environment.displayStateAction(current_state=state_list[-1], iteration=len(state_list)-1)\n\n    print(\"Global reward =\", sum(reward_list))\n\nif __name__ == '__main__':\n    main()"
      ]
    }
  ],
  "metadata": {
    "kernelspec": {
      "display_name": "Python 3",
      "language": "python",
      "name": "python3"
    },
    "language_info": {
      "codemirror_mode": {
        "name": "ipython",
        "version": 3
      },
      "file_extension": ".py",
      "mimetype": "text/x-python",
      "name": "python",
      "nbconvert_exporter": "python",
      "pygments_lexer": "ipython3",
      "version": "3.6.8"
    }
  },
  "nbformat": 4,
  "nbformat_minor": 0
}