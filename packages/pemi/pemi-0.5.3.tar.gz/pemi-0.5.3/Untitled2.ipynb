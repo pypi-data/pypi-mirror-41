{
 "cells": [
  {
   "cell_type": "code",
   "execution_count": 1,
   "metadata": {},
   "outputs": [
    {
     "data": {
      "text/plain": [
       "{'id': 'stu0', 'tid': 'Tstu0'}"
      ]
     },
     "execution_count": 1,
     "metadata": {},
     "output_type": "execute_result"
    }
   ],
   "source": [
    "import factory\n",
    "\n",
    "class StudentFactory(factory.Factory):\n",
    "    class Meta:\n",
    "        model = dict\n",
    "    id = factory.Sequence(lambda n: 'stu{}'.format(n))\n",
    "    tid = factory.Sequence(lambda n: 'Tstu{}'.format(n))\n",
    "\n",
    "StudentFactory()"
   ]
  },
  {
   "cell_type": "code",
   "execution_count": 2,
   "metadata": {},
   "outputs": [
    {
     "data": {
      "text/plain": [
       "{'id': 'stu1', 'tid': 'Tstu1'}"
      ]
     },
     "execution_count": 2,
     "metadata": {},
     "output_type": "execute_result"
    }
   ],
   "source": [
    "StudentFactory()"
   ]
  },
  {
   "cell_type": "code",
   "execution_count": 3,
   "metadata": {},
   "outputs": [],
   "source": [
    "class KeyFactoryField:\n",
    "    def __init__(self, keyfactory, field):\n",
    "        self.keyfactory = keyfactory\n",
    "        self.field = field\n",
    "\n",
    "    def __getitem__(self, key=None):\n",
    "        instance = self.keyfactory.instance(key)\n",
    "        if self.field in instance:\n",
    "            return instance[self.field]\n",
    "        else:\n",
    "            raise KeyFactoryFieldError('Key field \"{}\" not defined for factory {}'.format(self.field, self.keyfactory.factory))\n",
    "\n",
    "class KeyFactory:\n",
    "    def __init__(self, factory):\n",
    "        self.factory = factory\n",
    "        self.case = None\n",
    "        self.cached = {}\n",
    "        self.next_case(None)\n",
    "\n",
    "    def next_case(self, case):\n",
    "        self.case = case\n",
    "        self.cached[self.case] = {}\n",
    "\n",
    "    def __getitem__(self, field):\n",
    "        return KeyFactoryField(self, field)\n",
    "\n",
    "    def instance(self, key=None):\n",
    "        key = os.urandom(32) if key is None else key\n",
    "        if key not in self.cached[self.case]:\n",
    "            self.cached[self.case][key] = self.factory()\n",
    "\n",
    "        return self.cached[self.case][key]\n",
    "\n",
    "    def case_lookup(self, field):\n",
    "        lkp = {}\n",
    "        for case_id, cached_keys in self.cached.items():\n",
    "            for keys in cached_keys.values():\n",
    "                lkp[keys['id']] = case_id\n",
    "        return lkp\n",
    "        \n",
    "kf = KeyFactory(StudentFactory)\n",
    "    "
   ]
  },
  {
   "cell_type": "code",
   "execution_count": 4,
   "metadata": {},
   "outputs": [
    {
     "name": "stdout",
     "output_type": "stream",
     "text": [
      "stu2\n",
      "stu3\n",
      "stu4\n",
      "stu5\n",
      "stu6\n",
      "stu7\n"
     ]
    }
   ],
   "source": [
    "for c in range(3):\n",
    "    kf.next_case(c)\n",
    "    for i in range(2):\n",
    "        print(kf['id'][i])"
   ]
  },
  {
   "cell_type": "code",
   "execution_count": 7,
   "metadata": {},
   "outputs": [
    {
     "data": {
      "text/plain": [
       "2"
      ]
     },
     "execution_count": 7,
     "metadata": {},
     "output_type": "execute_result"
    }
   ],
   "source": [
    "kf.case_lookup('id')['stu6']"
   ]
  },
  {
   "cell_type": "code",
   "execution_count": 111,
   "metadata": {},
   "outputs": [
    {
     "data": {
      "text/plain": [
       "{139769633356048: {},\n",
       " 139769633660032: {0: {'id': 'stu13', 'tid': 'Tstu13'},\n",
       "  1: {'id': 'stu14', 'tid': 'Tstu14'}},\n",
       " 139769633660064: {0: {'id': 'stu15', 'tid': 'Tstu15'},\n",
       "  1: {'id': 'stu16', 'tid': 'Tstu16'}},\n",
       " 139769633660096: {0: {'id': 'stu17', 'tid': 'Tstu17'},\n",
       "  1: {'id': 'stu18', 'tid': 'Tstu18'}}}"
      ]
     },
     "execution_count": 111,
     "metadata": {},
     "output_type": "execute_result"
    }
   ],
   "source": [
    "kf.cached"
   ]
  },
  {
   "cell_type": "code",
   "execution_count": 114,
   "metadata": {},
   "outputs": [
    {
     "name": "stdout",
     "output_type": "stream",
     "text": [
      "139769633660096 {'id': 'stu13', 'tid': 'Tstu13'}\n",
      "139769633660096 {'id': 'stu14', 'tid': 'Tstu14'}\n",
      "139769633660096 {'id': 'stu15', 'tid': 'Tstu15'}\n",
      "139769633660096 {'id': 'stu16', 'tid': 'Tstu16'}\n",
      "139769633660096 {'id': 'stu17', 'tid': 'Tstu17'}\n",
      "139769633660096 {'id': 'stu18', 'tid': 'Tstu18'}\n"
     ]
    },
    {
     "data": {
      "text/plain": [
       "{'stu13': 139769633660032,\n",
       " 'stu14': 139769633660032,\n",
       " 'stu15': 139769633660064,\n",
       " 'stu16': 139769633660064,\n",
       " 'stu17': 139769633660096,\n",
       " 'stu18': 139769633660096}"
      ]
     },
     "execution_count": 114,
     "metadata": {},
     "output_type": "execute_result"
    }
   ],
   "source": [
    "inverted = {}\n",
    "for case_id, cached_keys in kf.cached.items():\n",
    "    for keys in cached_keys.values():\n",
    "        print(c, keys)\n",
    "        inverted[keys['id']] = case_id\n",
    "inverted"
   ]
  },
  {
   "cell_type": "code",
   "execution_count": null,
   "metadata": {},
   "outputs": [],
   "source": []
  },
  {
   "cell_type": "code",
   "execution_count": 87,
   "metadata": {},
   "outputs": [
    {
     "data": {
      "text/plain": [
       "'stu20'"
      ]
     },
     "execution_count": 87,
     "metadata": {},
     "output_type": "execute_result"
    }
   ],
   "source": [
    "kf['id'][1]"
   ]
  },
  {
   "cell_type": "code",
   "execution_count": 86,
   "metadata": {},
   "outputs": [],
   "source": [
    "kf.next_case(1)"
   ]
  },
  {
   "cell_type": "code",
   "execution_count": 88,
   "metadata": {},
   "outputs": [
    {
     "ename": "KeyFactoryFieldError",
     "evalue": "Key field \"fid\" not defined for factory <StudentFactory for <class 'dict'>>",
     "output_type": "error",
     "traceback": [
      "\u001b[0;31m---------------------------------------------------------------------------\u001b[0m",
      "\u001b[0;31mKeyFactoryFieldError\u001b[0m                      Traceback (most recent call last)",
      "\u001b[0;32m<ipython-input-88-daf0b373597c>\u001b[0m in \u001b[0;36m<module>\u001b[0;34m()\u001b[0m\n\u001b[0;32m----> 1\u001b[0;31m \u001b[0mkf\u001b[0m\u001b[0;34m[\u001b[0m\u001b[0;34m'fid'\u001b[0m\u001b[0;34m]\u001b[0m\u001b[0;34m[\u001b[0m\u001b[0;36m1\u001b[0m\u001b[0;34m]\u001b[0m\u001b[0;34m\u001b[0m\u001b[0m\n\u001b[0m",
      "\u001b[0;32m<ipython-input-83-b4cab738e5f3>\u001b[0m in \u001b[0;36m__getitem__\u001b[0;34m(self, key)\u001b[0m\n\u001b[1;32m     11\u001b[0m             \u001b[0;32mreturn\u001b[0m \u001b[0minstance\u001b[0m\u001b[0;34m[\u001b[0m\u001b[0mself\u001b[0m\u001b[0;34m.\u001b[0m\u001b[0mfield\u001b[0m\u001b[0;34m]\u001b[0m\u001b[0;34m\u001b[0m\u001b[0m\n\u001b[1;32m     12\u001b[0m         \u001b[0;32melse\u001b[0m\u001b[0;34m:\u001b[0m\u001b[0;34m\u001b[0m\u001b[0m\n\u001b[0;32m---> 13\u001b[0;31m             \u001b[0;32mraise\u001b[0m \u001b[0mKeyFactoryFieldError\u001b[0m\u001b[0;34m(\u001b[0m\u001b[0;34m'Key field \"{}\" not defined for factory {}'\u001b[0m\u001b[0;34m.\u001b[0m\u001b[0mformat\u001b[0m\u001b[0;34m(\u001b[0m\u001b[0mself\u001b[0m\u001b[0;34m.\u001b[0m\u001b[0mfield\u001b[0m\u001b[0;34m,\u001b[0m \u001b[0mself\u001b[0m\u001b[0;34m.\u001b[0m\u001b[0mkeyfactory\u001b[0m\u001b[0;34m.\u001b[0m\u001b[0mfactory\u001b[0m\u001b[0;34m)\u001b[0m\u001b[0;34m)\u001b[0m\u001b[0;34m\u001b[0m\u001b[0m\n\u001b[0m\u001b[1;32m     14\u001b[0m \u001b[0;34m\u001b[0m\u001b[0m\n\u001b[1;32m     15\u001b[0m \u001b[0;32mclass\u001b[0m \u001b[0mKeyFactory\u001b[0m\u001b[0;34m:\u001b[0m\u001b[0;34m\u001b[0m\u001b[0m\n",
      "\u001b[0;31mKeyFactoryFieldError\u001b[0m: Key field \"fid\" not defined for factory <StudentFactory for <class 'dict'>>"
     ]
    }
   ],
   "source": [
    "kf['fid'][1]"
   ]
  },
  {
   "cell_type": "code",
   "execution_count": 125,
   "metadata": {},
   "outputs": [
    {
     "data": {
      "text/plain": [
       "<__main__.Blerbo at 0x7f1e94f45940>"
      ]
     },
     "execution_count": 125,
     "metadata": {},
     "output_type": "execute_result"
    }
   ],
   "source": [
    "class Blerbo:\n",
    "    def __init__(self, arg):\n",
    "        self.arg = arg\n",
    "        \n",
    "b = Blerbo('hi')\n",
    "d = {}\n",
    "d[b] = 'hola'\n",
    "b.arg = 'smerf'\n",
    "d[b]\n",
    "b"
   ]
  }
 ],
 "metadata": {
  "kernelspec": {
   "display_name": "Python 3",
   "language": "python",
   "name": "python3"
  },
  "language_info": {
   "codemirror_mode": {
    "name": "ipython",
    "version": 3
   },
   "file_extension": ".py",
   "mimetype": "text/x-python",
   "name": "python",
   "nbconvert_exporter": "python",
   "pygments_lexer": "ipython3",
   "version": "3.6.5"
  }
 },
 "nbformat": 4,
 "nbformat_minor": 2
}
