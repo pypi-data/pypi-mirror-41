{
 "cells": [
  {
   "cell_type": "code",
   "execution_count": 3,
   "metadata": {},
   "outputs": [
    {
     "data": {
      "text/plain": [
       "'stu0'"
      ]
     },
     "execution_count": 3,
     "metadata": {},
     "output_type": "execute_result"
    }
   ],
   "source": [
    "import factory\n",
    "\n",
    "import pemi\n",
    "import pemi.testing as pt\n",
    "\n",
    "class StudentFactory(factory.Factory):\n",
    "    class Meta:\n",
    "        model = dict\n",
    "    id = factory.Sequence(lambda n: 'stu{}'.format(n))\n",
    "    tid = factory.Sequence(lambda n: 'Tstu{}'.format(n))\n",
    "\n",
    "kf = pt.KeyFactory(StudentFactory)\n",
    "kff = pt.KeyFactoryField(kf, 'id')\n",
    "kff[1]"
   ]
  },
  {
   "cell_type": "code",
   "execution_count": 4,
   "metadata": {},
   "outputs": [
    {
     "data": {
      "text/plain": [
       "'stu1'"
      ]
     },
     "execution_count": 4,
     "metadata": {},
     "output_type": "execute_result"
    }
   ],
   "source": [
    "kff['a']"
   ]
  },
  {
   "cell_type": "code",
   "execution_count": 25,
   "metadata": {},
   "outputs": [
    {
     "data": {
      "text/plain": [
       "'/b'"
      ]
     },
     "execution_count": 25,
     "metadata": {},
     "output_type": "execute_result"
    }
   ],
   "source": [
    "import os\n",
    "os.path.join('a', '/b')"
   ]
  },
  {
   "cell_type": "code",
   "execution_count": null,
   "metadata": {},
   "outputs": [],
   "source": []
  },
  {
   "cell_type": "code",
   "execution_count": 6,
   "metadata": {},
   "outputs": [
    {
     "data": {
      "text/plain": [
       "{1, 5}"
      ]
     },
     "execution_count": 6,
     "metadata": {},
     "output_type": "execute_result"
    }
   ],
   "source": [
    "{1,5,3} - {3, 8}"
   ]
  },
  {
   "cell_type": "code",
   "execution_count": 9,
   "metadata": {},
   "outputs": [],
   "source": [
    "import pemi\n",
    "from pemi.fields import *\n",
    "\n",
    "class ChildPipe(pemi.Pipe):\n",
    "    def __init__(self, **kwargs):\n",
    "        super().__init__(**kwargs)\n",
    "\n",
    "        self.source(\n",
    "            pemi.PdDataSubject,\n",
    "            name='child_source',\n",
    "            schema=pemi.Schema(\n",
    "                cs1=StringField(),\n",
    "                cs2=StringField()\n",
    "            )\n",
    "        )\n",
    "\n",
    "        self.target(\n",
    "            pemi.PdDataSubject,\n",
    "            name='child_target',\n",
    "            schema=pemi.Schema(\n",
    "                ct1=StringField(),\n",
    "                ct2=StringField()\n",
    "            )\n",
    "        )\n",
    "\n",
    "    def flow(self):\n",
    "        pass\n",
    "\n",
    "class ParentPipe(pemi.Pipe):\n",
    "    def __init__(self, **kwargs):\n",
    "        super().__init__(**kwargs)\n",
    "\n",
    "        self.source(\n",
    "            pemi.PdDataSubject,\n",
    "            name='parent_source',\n",
    "            schema=pemi.Schema(\n",
    "                ps1=StringField(),\n",
    "                ps2=StringField()\n",
    "            )\n",
    "        )\n",
    "\n",
    "        self.target(\n",
    "            pemi.PdDataSubject,\n",
    "            name='parent_target',\n",
    "            schema=pemi.Schema(\n",
    "                pt1=StringField(),\n",
    "                pt2=StringField()\n",
    "            )\n",
    "        )\n",
    "\n",
    "        self.pipe(\n",
    "            name='child',\n",
    "            pipe=ChildPipe()\n",
    "        )\n",
    "\n",
    "    def flow(self):\n",
    "        pass\n",
    "\n",
    "\n",
    "\n",
    "\n",
    "\n",
    "class GrandPipe(pemi.Pipe):\n",
    "    def __init__(self, **kwargs):\n",
    "        super().__init__(**kwargs)\n",
    "\n",
    "        self.pipe(\n",
    "            name='parent',\n",
    "            pipe=ParentPipe()\n",
    "        )\n",
    "\n",
    "    def flow(self):\n",
    "        pass\n"
   ]
  },
  {
   "cell_type": "code",
   "execution_count": 15,
   "metadata": {},
   "outputs": [
    {
     "data": {
      "text/plain": [
       "['__class__',\n",
       " '__delattr__',\n",
       " '__dict__',\n",
       " '__dir__',\n",
       " '__doc__',\n",
       " '__eq__',\n",
       " '__format__',\n",
       " '__ge__',\n",
       " '__getattribute__',\n",
       " '__gt__',\n",
       " '__hash__',\n",
       " '__init__',\n",
       " '__init_subclass__',\n",
       " '__le__',\n",
       " '__lt__',\n",
       " '__module__',\n",
       " '__ne__',\n",
       " '__new__',\n",
       " '__reduce__',\n",
       " '__reduce_ex__',\n",
       " '__repr__',\n",
       " '__setattr__',\n",
       " '__sizeof__',\n",
       " '__str__',\n",
       " '__subclasshook__',\n",
       " '__weakref__',\n",
       " 'connect',\n",
       " 'connections',\n",
       " 'flow',\n",
       " 'from_pickle',\n",
       " 'name',\n",
       " 'params',\n",
       " 'pipe',\n",
       " 'pipes',\n",
       " 'source',\n",
       " 'sources',\n",
       " 'target',\n",
       " 'targets',\n",
       " 'to_pickle']"
      ]
     },
     "execution_count": 15,
     "metadata": {},
     "output_type": "execute_result"
    }
   ],
   "source": [
    "p = GrandPipe()\n",
    "dir(p.pipes['parent'])\n"
   ]
  }
 ],
 "metadata": {
  "kernelspec": {
   "display_name": "Python 3",
   "language": "python",
   "name": "python3"
  },
  "language_info": {
   "codemirror_mode": {
    "name": "ipython",
    "version": 3
   },
   "file_extension": ".py",
   "mimetype": "text/x-python",
   "name": "python",
   "nbconvert_exporter": "python",
   "pygments_lexer": "ipython3",
   "version": "3.6.5"
  }
 },
 "nbformat": 4,
 "nbformat_minor": 2
}
