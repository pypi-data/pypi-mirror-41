{
 "cells": [
  {
   "cell_type": "code",
   "execution_count": 6,
   "metadata": {},
   "outputs": [],
   "source": [
    "import factory\n",
    "import uuid\n",
    "\n",
    "class StudentFactory(factory.Factory):\n",
    "    class Meta:\n",
    "        model = dict\n",
    "\n",
    "    external_id = factory.Sequence(lambda n: 'stu{}'.format(n))\n",
    "    uuid = factory.LazyFunction(uuid.uuid4)\n",
    "    a = factory.LazyAttribute(lambda obj: '{}{}'.format(obj.external_id, obj.uuid))\n",
    "    \n",
    "    \n"
   ]
  },
  {
   "cell_type": "code",
   "execution_count": 7,
   "metadata": {},
   "outputs": [
    {
     "data": {
      "text/plain": [
       "{'external_id': 'stu0',\n",
       " 'uuid': UUID('4cf7f3d3-66f9-4c23-9b17-8abe98a38767'),\n",
       " 'a': 'stu04cf7f3d3-66f9-4c23-9b17-8abe98a38767'}"
      ]
     },
     "execution_count": 7,
     "metadata": {},
     "output_type": "execute_result"
    }
   ],
   "source": [
    "StudentFactory()"
   ]
  },
  {
   "cell_type": "code",
   "execution_count": 8,
   "metadata": {},
   "outputs": [
    {
     "data": {
      "text/plain": [
       "{'external_id': 'stu1',\n",
       " 'uuid': UUID('a0967b4d-014e-4600-982b-00e7cd40a95c'),\n",
       " 'a': 'stu1a0967b4d-014e-4600-982b-00e7cd40a95c'}"
      ]
     },
     "execution_count": 8,
     "metadata": {},
     "output_type": "execute_result"
    }
   ],
   "source": [
    "StudentFactory()"
   ]
  },
  {
   "cell_type": "code",
   "execution_count": 9,
   "metadata": {},
   "outputs": [
    {
     "data": {
      "text/plain": [
       "{'external_id': 'stu2',\n",
       " 'uuid': UUID('100613aa-2e5b-44ad-b897-a658de19d020'),\n",
       " 'a': 'stu2100613aa-2e5b-44ad-b897-a658de19d020'}"
      ]
     },
     "execution_count": 9,
     "metadata": {},
     "output_type": "execute_result"
    }
   ],
   "source": [
    "StudentFactory()"
   ]
  }
 ],
 "metadata": {
  "kernelspec": {
   "display_name": "Python 3",
   "language": "python",
   "name": "python3"
  },
  "language_info": {
   "codemirror_mode": {
    "name": "ipython",
    "version": 3
   },
   "file_extension": ".py",
   "mimetype": "text/x-python",
   "name": "python",
   "nbconvert_exporter": "python",
   "pygments_lexer": "ipython3",
   "version": "3.6.5"
  }
 },
 "nbformat": 4,
 "nbformat_minor": 2
}
