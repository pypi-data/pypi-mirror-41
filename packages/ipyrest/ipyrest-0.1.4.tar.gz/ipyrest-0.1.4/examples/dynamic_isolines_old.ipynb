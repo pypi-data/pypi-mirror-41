{
 "cells": [
  {
   "cell_type": "markdown",
   "metadata": {},
   "source": [
    "# Dynamic Isolines\n",
    "\n",
    "Some experiments in drawing very dynamic isolines on maps using the [Routing API](https://developer.here.com/documentation/routing/topics/resource-calculate-isoline.html) by [HERE.com](https://developer.here.com). The goal is to mimick and extend the functionality available on [mapnificent.net](http://mapnificent.net), but with data for cars and pedestrians worldwide. Mapnificent uses public transport data for selected cities."
   ]
  },
  {
   "cell_type": "markdown",
   "metadata": {},
   "source": [
    "## Playing with diameters"
   ]
  },
  {
   "cell_type": "code",
   "execution_count": null,
   "metadata": {},
   "outputs": [],
   "source": [
    "# https://docs.scipy.org/doc/scipy/reference/generated/scipy.spatial.ConvexHull.html\n",
    "# https://stackoverflow.com/questions/9678624/convex-hull-of-longitude-latitude-points-on-the-surface-of-a-sphere\n",
    "# https://github.com/VictorDavis/GeoConvexHull/blob/master/GeoConvexHull.py\n",
    "\n",
    "import numpy as np\n",
    "from scipy.spatial import ConvexHull\n",
    "points = np.random.rand(30, 2)   # 30 random points in 2-D\n",
    "hull = ConvexHull(points)"
   ]
  },
  {
   "cell_type": "code",
   "execution_count": null,
   "metadata": {},
   "outputs": [],
   "source": [
    "%matplotlib inline\n",
    "import matplotlib.pyplot as plt\n",
    "plt.plot(points[:,0], points[:,1], 'o')\n",
    "for simplex in hull.simplices:\n",
    "    plt.plot(points[simplex, 0], points[simplex, 1], 'k-')"
   ]
  },
  {
   "cell_type": "code",
   "execution_count": null,
   "metadata": {},
   "outputs": [],
   "source": [
    ">>> plt.plot(points[hull.vertices,0], points[hull.vertices,1], 'r--', lw=2)\n",
    ">>> plt.plot(points[hull.vertices[0],0], points[hull.vertices[0],1], 'ro')\n",
    ">>> plt.show()"
   ]
  },
  {
   "cell_type": "code",
   "execution_count": null,
   "metadata": {
    "scrolled": true
   },
   "outputs": [],
   "source": [
    "hull.points"
   ]
  },
  {
   "cell_type": "code",
   "execution_count": null,
   "metadata": {},
   "outputs": [],
   "source": [
    "%matplotlib inline\n",
    "import numpy as np\n",
    "import matplotlib.pyplot as plt\n",
    "from matplotlib.path import Path\n",
    "\n",
    "# Fixing random state for reproducibility\n",
    "np.random.seed(19680801)\n",
    "\n",
    "fig, ax = plt.subplots()\n",
    "\n",
    "for i in range(12):\n",
    "    vertices = (np.random.random((2, 2)) - 0.5) * 6.0\n",
    "    # path = Path(vertices)\n",
    "    ax.plot(vertices[:, 0], vertices[:, 1], color='b')\n",
    "\n",
    "plt.show()"
   ]
  },
  {
   "cell_type": "code",
   "execution_count": null,
   "metadata": {},
   "outputs": [],
   "source": [
    "(np.random.random((5, 2)))"
   ]
  },
  {
   "cell_type": "code",
   "execution_count": null,
   "metadata": {},
   "outputs": [],
   "source": [
    "import itertools\n",
    "list(itertools.combinations([1, 2, 3, 4, 5], 2))"
   ]
  },
  {
   "cell_type": "code",
   "execution_count": null,
   "metadata": {},
   "outputs": [],
   "source": [
    "import numpy as np\n",
    "import matplotlib.pyplot as plt\n",
    "from matplotlib.transforms import Bbox\n",
    "from matplotlib.path import Path\n",
    "\n",
    "# Fixing random state for reproducibility\n",
    "np.random.seed(19680801)\n",
    "\n",
    "left, bottom, width, height = (-1, -1, 2, 2)\n",
    "rect = plt.Rectangle((left, bottom), width, height, facecolor=\"#aaaaaa\")\n",
    "\n",
    "fig, ax = plt.subplots()\n",
    "ax.add_patch(rect)\n",
    "\n",
    "bbox = Bbox.from_bounds(left, bottom, width, height)\n",
    "\n",
    "for i in range(12):\n",
    "    vertices = (np.random.random((2, 2)) - 0.5) * 6.0\n",
    "    path = Path(vertices)\n",
    "    if path.intersects_bbox(bbox):\n",
    "        color = 'r'\n",
    "    else:\n",
    "        color = 'b'\n",
    "    ax.plot(vertices[:, 0], vertices[:, 1], color=color)\n",
    "\n",
    "plt.show()"
   ]
  },
  {
   "cell_type": "markdown",
   "metadata": {},
   "source": [
    "## Real stuff"
   ]
  },
  {
   "cell_type": "code",
   "execution_count": null,
   "metadata": {},
   "outputs": [],
   "source": [
    "# ! conda install -y -c anaconda shapely "
   ]
  },
  {
   "cell_type": "code",
   "execution_count": 1,
   "metadata": {},
   "outputs": [],
   "source": [
    "import os\n",
    "import time\n",
    "from math import log, fabs\n",
    "from functools import partial\n",
    "\n",
    "import requests\n",
    "from ipywidgets import IntSlider, VBox, HBox, Dropdown, Button, HTML, Layout\n",
    "from ipyleaflet import Marker, Polyline\n",
    "from geographiclib.geodesic import Geodesic\n",
    "from shapely.geometry import Point\n",
    "from shapely.geometry.polygon import Polygon"
   ]
  },
  {
   "cell_type": "code",
   "execution_count": 2,
   "metadata": {},
   "outputs": [],
   "source": [
    "geod = Geodesic.WGS84\n",
    "\n",
    "def calc_perim_area(path):\n",
    "    \"Calculate and return geodesic perimeter and area of some path.\"\n",
    "    p = geod.Polygon()\n",
    "    for lat, lon in path:\n",
    "        p.AddPoint(lat, lon)\n",
    "    num, perim, area = p.Compute()\n",
    "    return num, perim, area"
   ]
  },
  {
   "cell_type": "code",
   "execution_count": 3,
   "metadata": {},
   "outputs": [],
   "source": [
    "def zoom_for_bbox(lon_min: float,\n",
    "                  lat_min: float,\n",
    "                  lon_max: float,\n",
    "                  lat_max: float) -> int:\n",
    "    \"\"\"\n",
    "    Return zoom level for some bounding box.\n",
    "    \"\"\"\n",
    "    lat_diff = fabs(lat_max - lat_min)\n",
    "    lon_diff = fabs(lon_max - lon_min)\n",
    "    max_diff = max(lon_diff, lat_diff)\n",
    "\n",
    "    if max_diff < 360 / 2**20:\n",
    "        zoom_level = 21\n",
    "    else:\n",
    "        zoom_level = int(-1 * ((log(max_diff) / log(2)) - (log(360) / log(2))))\n",
    "        if zoom_level < 1:\n",
    "            zoom_level = 1\n",
    "    return zoom_level"
   ]
  },
  {
   "cell_type": "code",
   "execution_count": 4,
   "metadata": {},
   "outputs": [
    {
     "data": {
      "application/vnd.jupyter.widget-view+json": {
       "model_id": "09099344c2f34203923fe65a6037f53e",
       "version_major": 2,
       "version_minor": 0
      },
      "text/plain": [
       "Button(icon='trash', layout=Layout(width='30px'), style=ButtonStyle())"
      ]
     },
     "metadata": {},
     "output_type": "display_data"
    }
   ],
   "source": [
    "# maybe use this for toggeling rangetype and mode\n",
    "# (but would need newer font-awesome version in ipywidgets)\n",
    "\n",
    "def do_toggle(sender):\n",
    "    # print(sender)\n",
    "    # sender.description = '111' if sender.description == '000' else '000'\n",
    "    sender.icon = 'trash' if sender.icon == 'ban' else 'ban'\n",
    "\n",
    "tgl = Button(icon='trash', layout=Layout(width='30px'))\n",
    "tgl.on_click(do_toggle)\n",
    "tgl"
   ]
  },
  {
   "cell_type": "code",
   "execution_count": 53,
   "metadata": {},
   "outputs": [],
   "source": [
    "class DynamicIsolines(object):\n",
    "    \"\"\"\n",
    "    A class to draw isolines dynamically around some center on a map.\n",
    "\n",
    "    The markers at the center have a popup with some UI to see and change\n",
    "    the isoline type (time/distance) range (secods/meters), resolution\n",
    "    (meters) and mode (car/pedestrian). Modifying these will update the\n",
    "    isoline on the map.\n",
    "\n",
    "    Isolines are cached for (lat, lon, range) keys and shown with red\n",
    "    outlines when newly fetched via the API, or green ones when reused\n",
    "    from previously cached API calls.\n",
    "    \n",
    "    Done:\n",
    "\n",
    "    - add delete button\n",
    "    - add slider for range\n",
    "    - add slider for resolution\n",
    "    - start with empty map at zoom 1\n",
    "    - add initial isolines to map\n",
    "    - use rangetype (time/distance)\n",
    "    - use mode (car/pedestrian)\n",
    "    - make isoline border dashed if center lies outside\n",
    "\n",
    "    TODO:\n",
    "\n",
    "    - use fontawesome icons car-side/walking icons for mode\n",
    "    - use fontawesome icons ruler/clock icons for rangetype\n",
    "    - add auto-resize toggle icon for isoline *class*\n",
    "    - add HERE appcode/appid to some config for `__init__`\n",
    "    - add key modifier like Shift to `self.map_click`\n",
    "    - add diameter (The diameter of a polygon is the largest distance between \n",
    "      any pair of vertices. In other words, it is the length of the longest\n",
    "      polygon diagonal (e.g., straight line segment joining two vertices).\n",
    "      https://unicode-table.com/en/2300/  - ⌀\n",
    "    \n",
    "    NOTES:\n",
    "    \n",
    "    - sliders don't have a name attribute, but polylines and markers do\n",
    "    - callbacks registered with marker.on_move() don't get a marker/owner argument \n",
    "    - callbacks registered with map.on_interaction() don't get modifier keys pressed on the keyboard\n",
    "    - marker popups don't show/work nicely in Jupyter Lab (with or without Sidecar)\n",
    "    \"\"\"\n",
    "    \n",
    "    default_iso = dict(\n",
    "        range=300,\n",
    "        rangetype='time',\n",
    "        resolution=50,\n",
    "        mode='car',\n",
    "        from_cache=False\n",
    "    )\n",
    "    \n",
    "    stats_format = 'L:&nbsp;{:.0f}&nbsp;pts, P:&nbsp;{:.0f}&nbsp;m, A:&nbsp;{:.0f}&nbsp;m<sup>2</sup>'\n",
    "    \n",
    "    def __init__(self, a_map, isolines=None):\n",
    "        self.m = a_map\n",
    "        self.m.on_interaction(self.map_click)\n",
    "\n",
    "        self.isolines = isolines or []\n",
    "        self.cache = {}\n",
    "        self.auto_resize = False\n",
    "\n",
    "        self.app_id = os.getenv('HEREMAPS_APP_ID', 'rextLVOZWwI3G7bulbb3')\n",
    "        self.app_code = os.getenv('HEREMAPS_APP_CODE', 'CexmP6l-DmHVYw0e8VXnhQ')\n",
    "\n",
    "        for i, iso0 in enumerate(self.isolines):\n",
    "            iso = self.default_iso.copy()\n",
    "            iso.update(iso0)\n",
    "            self.isolines[i] = iso\n",
    "            self.make_iso_interactive(iso)            \n",
    "            obj = iso.get('obj', self.get_isoline_cached(iso))\n",
    "            iso['obj'] = obj\n",
    "            self.render_on_map(iso)\n",
    "\n",
    "        self.resize()\n",
    "\n",
    "    # callbacks\n",
    "\n",
    "    def rangetype_changed(self, change, iso):\n",
    "        \"Callback for events when a `rangetype` dropdown was changed.\"\n",
    "        if change['type'] == 'change' and change['name'] == 'value':\n",
    "            self.clean(iso, incl_slider=False)\n",
    "            iso['rangetype'] = change['new'].lower()\n",
    "            desc = 'Time (s)' if iso['rangetype']=='time' else 'Dist. (m)'\n",
    "            iso['range_slider'].description = desc\n",
    "            iso['obj'] = self.get_isoline_cached(iso)\n",
    "            self.render_on_map(iso, add_marker=False)\n",
    "            if self.auto_resize:\n",
    "                self.resize()\n",
    "\n",
    "    def mode_changed(self, change, iso):\n",
    "        \"Callback for events when a `mode` dropdown was changed.\"\n",
    "        if change['type'] == 'change' and change['name'] == 'value':\n",
    "            self.clean(iso, incl_slider=False)\n",
    "            iso['mode'] = change['new'].lower()\n",
    "            iso['obj'] = self.get_isoline_cached(iso)\n",
    "            self.render_on_map(iso, add_marker=False)\n",
    "            num, perim, area = map(fabs, calc_perim_area(iso['path']))\n",
    "            iso['stats'].value = self.stats_format.format(num, perim, area)\n",
    "            if self.auto_resize:\n",
    "                self.resize()\n",
    "\n",
    "    def obs_range_slider(self, change, iso):\n",
    "        \"Callback for events when a range slider was moved.\"\n",
    "        self.clean(iso, incl_slider=False)\n",
    "        iso['range'] = change.owner.value\n",
    "        iso['obj'] = self.get_isoline_cached(iso)\n",
    "        self.render_on_map(iso, add_marker=False)\n",
    "        if self.auto_resize:\n",
    "            self.resize()\n",
    "\n",
    "    def obs_reso_slider(self, change, iso):\n",
    "        \"Callback for events when a resolution slider was moved.\"\n",
    "        self.clean(iso, incl_slider=False)\n",
    "        iso['resolution'] = change.owner.value\n",
    "        iso['obj'] = self.get_isoline_cached(iso)\n",
    "        self.render_on_map(iso, add_marker=False)\n",
    "        if self.auto_resize:\n",
    "            self.resize()\n",
    "\n",
    "    def move_marker(self, event, location, iso) -> None:\n",
    "        \"Callback for events when marker was moved.\"\n",
    "        self.clean(iso)\n",
    "        iso['loc'] = tuple(location)\n",
    "        iso['obj'] = self.get_isoline_cached(iso)\n",
    "        self.render_on_map(iso)\n",
    "        if self.auto_resize:\n",
    "            self.resize()\n",
    "    \n",
    "    def click_delete(self, event, iso) -> None:\n",
    "        \"Callback for events when button was clicked.\"\n",
    "        self.clean(iso)\n",
    "        self.isolines.remove(iso)\n",
    "\n",
    "    def add_isoline(self, **kwargs):\n",
    "        \"Callback for events when map was clicked.\"\n",
    "        iso = self.default_iso.copy()\n",
    "        iso['loc'] = kwargs['loc']\n",
    "        self.make_iso_interactive(iso)            \n",
    "        obj = iso.get('obj', self.get_isoline_cached(iso))\n",
    "        iso['obj'] = obj\n",
    "        self.isolines.append(iso)\n",
    "        self.render_on_map(iso)\n",
    "        if self.auto_resize:\n",
    "            self.resize()\n",
    "\n",
    "    def map_click(self, **kwargs):\n",
    "        \"Callback for events when map was clicked.\"\n",
    "        if kwargs.get('type') == 'click':\n",
    "            kwargs['loc'] = tuple(kwargs.get('coordinates'))\n",
    "            del kwargs['coordinates']\n",
    "            self.add_isoline(**kwargs)\n",
    "            \n",
    "    # normal methods\n",
    "    \n",
    "    def clean(self, iso, incl_slider=True):\n",
    "        \"Remove current marker and/or isoline from map.\"\n",
    "        if incl_slider:\n",
    "            self.m -= iso['marker']\n",
    "        self.m -= iso['polyline']\n",
    "    \n",
    "    def make_iso_interactive(self, iso):\n",
    "        \"Make an iso object respond to UI.\"\n",
    "        range_slider = IntSlider(\n",
    "            value=iso['range'],\n",
    "            min=60, max=600, step=10,\n",
    "            description='Time (s)' if iso['rangetype']=='time' else 'Dist. (m)')\n",
    "        obs_range_slider = partial(self.obs_range_slider, iso=iso)\n",
    "        range_slider.observe(obs_range_slider, names='value')\n",
    "        iso['range_slider'] = range_slider\n",
    "\n",
    "        reso_slider = IntSlider(\n",
    "            value=iso['resolution'],\n",
    "            min=10, max=200, step=10,\n",
    "            description='Resol. (m)')\n",
    "        obs_reso_slider = partial(self.obs_reso_slider, iso=iso)\n",
    "        reso_slider.observe(obs_reso_slider, names='value')\n",
    "        iso['reso_slider'] = reso_slider\n",
    "\n",
    "        iso['stats'] = HTML('')\n",
    "\n",
    "    def get_isoline_cached(self, iso):\n",
    "        \"Get isoline data from cache or by executing an API call if needed.\"\n",
    "        fields = 'loc range rangetype resolution mode'.split()\n",
    "        key = tuple(iso[f] for f in fields)\n",
    "        if key not in self.cache:\n",
    "            obj = self.get_isoline(iso)\n",
    "            self.cache[key] = obj\n",
    "            iso['from_cache'] = False\n",
    "        else:\n",
    "            obj = self.cache[key]\n",
    "            iso['from_cache'] = True\n",
    "        iso['obj'] = obj\n",
    "        return obj\n",
    "\n",
    "    def get_isoline(self, iso):\n",
    "        \"Execute API call to get path data for isoline object.\"\n",
    "        url = 'https://isoline.route.api.here.com' \\\n",
    "              '/routing/7.2/calculateisoline.json'\n",
    "        params = dict(\n",
    "            app_id=self.app_id, \n",
    "            app_code=self.app_code,\n",
    "            start='geo!{lat},{lon}'.format(lat=iso['loc'][0], lon=iso['loc'][1]),\n",
    "            mode='fastest;{mode};traffic:disabled'.format(mode=iso['mode'].lower()),\n",
    "            rangetype=iso['rangetype'], # time/distance\n",
    "            range=str(iso['range']),  # seconds/meters\n",
    "            resolution=str(iso['resolution']),  # meters\n",
    "            #departure='now', # 2018-07-04T17:00:00+02\n",
    "        )\n",
    "        t0 = time.time()\n",
    "        return requests.get(url, params=params).json()\n",
    "\n",
    "    def make_marker(self, iso):\n",
    "        \"Return a merker with popup to be put on a map.\"\n",
    "        del_btn = Button(icon='trash', layout=Layout(width='30px'))\n",
    "        click_delete = partial(self.click_delete, iso=iso)\n",
    "        del_btn.on_click(click_delete)\n",
    "        \n",
    "        rangetype_dd = Dropdown(\n",
    "            options=['Time', 'Distance'],\n",
    "            value=iso['rangetype'].capitalize(),\n",
    "            description='',\n",
    "            disabled=False,\n",
    "            layout=Layout(width='180px')\n",
    "        )\n",
    "        rangetype_changed = partial(self.rangetype_changed, iso=iso)\n",
    "        rangetype_dd.observe(rangetype_changed)\n",
    "\n",
    "        mode_dd = Dropdown(\n",
    "            options=['Car', 'Pedestrian'],\n",
    "            value=iso['mode'].capitalize(),\n",
    "            description='',\n",
    "            disabled=False,\n",
    "            layout=Layout(width='180px')\n",
    "        )\n",
    "        mode_changed = partial(self.mode_changed, iso=iso)\n",
    "        mode_dd.observe(mode_changed)\n",
    "        \n",
    "        here_url = 'https://developer.here.com'\n",
    "        isoline_url = 'https://developer.here.com/documentation/routing/topics/resource-calculate-isoline.html'\n",
    "        popup = VBox([\n",
    "            HBox([HTML('<b>Isoline</b>'), \n",
    "                  rangetype_dd,\n",
    "                  mode_dd, \n",
    "                  del_btn\n",
    "            ]), \n",
    "            iso['range_slider'], \n",
    "            iso['reso_slider'],\n",
    "            iso['stats'],\n",
    "            HTML(f'Using the <a href=\"{isoline_url}\">Routing&nbsp;API</a> by <a href=\"{here_url}\">HERE.com</a>.')\n",
    "        ])\n",
    "        # popup = iso['range_slider']\n",
    "        lat, lon = iso['loc']\n",
    "        marker = Marker(location=(lat, lon), popup=popup, name='isoline_marker')\n",
    "        iso['marker'] = marker\n",
    "        move_marker = partial(self.move_marker, iso=iso)\n",
    "        marker.on_move(move_marker)\n",
    "        return marker\n",
    "        \n",
    "    def render_on_map(self, iso, add_marker=True):\n",
    "        \"Render isoline object on map.\"\n",
    "        obj = iso['obj']\n",
    "        center = obj['response']['center']\n",
    "        lat, lon = center['latitude'], center['longitude']\n",
    "        if add_marker:\n",
    "            self.m += self.make_marker(iso)\n",
    "        for isoline in obj['response']['isoline']:\n",
    "            shape = isoline['component'][0]['shape']\n",
    "            path = [tuple(map(float, pos.split(','))) for pos in shape]\n",
    "            color = 'green' if iso['from_cache'] else 'red'\n",
    "            dash_array = '5,5' if not Polygon(path).contains(Point(iso['loc'])) else None\n",
    "            polyline = Polyline(locations=path, color=color, weight=2, fill=True, dash_array=dash_array, name='isoline')\n",
    "            iso['polyline'] = polyline\n",
    "            iso['path'] = path\n",
    "            num, perim, area = map(fabs, calc_perim_area(path))\n",
    "            iso['stats'].value = self.stats_format.format(num, perim, area)\n",
    "            self.m += polyline\n",
    "\n",
    "    def resize(self):\n",
    "        \"Resize map, resetting map center and zoom level to show all isolines.\"\n",
    "        # reset center\n",
    "        locs = [iso['loc'] for iso in self.isolines]\n",
    "        len_locs = len(locs)\n",
    "        if len_locs == 0:\n",
    "            return\n",
    "        self.m.center = sum(loc[0] for loc in locs) / len_locs, sum(loc[1] for loc in locs) / len_locs\n",
    "\n",
    "        # reset zoom level\n",
    "        mins, maxs = [], []\n",
    "        for iso in self.isolines:\n",
    "            path = iso.get('path', None)\n",
    "            if path:\n",
    "                mins.append(min(path))\n",
    "                maxs.append(max(path))\n",
    "        self.m.zoom = zoom_for_bbox(*min(mins), *max(maxs))"
   ]
  },
  {
   "cell_type": "code",
   "execution_count": 47,
   "metadata": {
    "collapsed": true
   },
   "outputs": [
    {
     "data": {
      "application/vnd.jupyter.widget-view+json": {
       "model_id": "dc5d0ce4ccb243d2a5a1dd8c99750e00",
       "version_major": 2,
       "version_minor": 0
      },
      "text/plain": [
       "Map(basemap={'url': 'https://{s}.tile.openstreetmap.org/{z}/{x}/{y}.png', 'max_zoom': 19, 'attribution': 'Map …"
      ]
     },
     "metadata": {},
     "output_type": "display_data"
    }
   ],
   "source": [
    "# test for https://github.com/jupyter-widgets/ipyleaflet/issues/259\n",
    "from ipyleaflet import Map, Polyline\n",
    "Map(center=(52.5, 13.4), zoom=11)\n",
    "_ += Polyline(locations=[(52.45, 13.35), (52.55, 13.45), (52.55, 13.35), (52.45, 13.35)], fill=True)\n",
    "_"
   ]
  },
  {
   "cell_type": "markdown",
   "metadata": {},
   "source": [
    "## Create a map"
   ]
  },
  {
   "cell_type": "code",
   "execution_count": 16,
   "metadata": {},
   "outputs": [],
   "source": [
    "from ipyleaflet import Map, basemaps, basemap_to_tiles"
   ]
  },
  {
   "cell_type": "code",
   "execution_count": 17,
   "metadata": {},
   "outputs": [],
   "source": [
    "APP_ID = os.getenv('HEREMAPS_APP_ID', 'rextLVOZWwI3G7bulbb3')\n",
    "APP_CODE = os.getenv('HEREMAPS_APP_CODE', 'CexmP6l-DmHVYw0e8VXnhQ')"
   ]
  },
  {
   "cell_type": "code",
   "execution_count": 23,
   "metadata": {},
   "outputs": [],
   "source": [
    "attribution = '<a href=\"http://here.com\">HERE</a>'\n",
    "url_pat = (\"https://1.{maptype}.maps.api.here.com\"\n",
    "           \"/maptile/2.1/{tiletype}/newest/{scheme}/{{z}}/{{x}}/{{y}}/{tilesize}/{format}\"\n",
    "           f\"?app_id={APP_ID}&app_code={APP_CODE}\")\n",
    "params = dict(\n",
    "    maptype  = 'traffic',\n",
    "    tiletype = 'traffictile',\n",
    "    scheme   = 'normal.day',\n",
    "    tilesize = '256',\n",
    "    format   = 'png8',\n",
    "    app_id   = APP_ID,\n",
    "    app_code = APP_CODE\n",
    ")\n",
    "basemap = dict(url=url_pat.format(**params), attribution=attribution)"
   ]
  },
  {
   "cell_type": "markdown",
   "metadata": {},
   "source": [
    "## Add Isolines\n",
    "\n",
    "**Warning:** The marker popups will show best inside classic Jupyter notebooks. Experiments with Jupyter Lab showed a couple of issues, quite likely related to styling: some elements are not shown when using Jupyter Lab's Dark theme, sliders don't seem to work as expected."
   ]
  },
  {
   "cell_type": "code",
   "execution_count": 54,
   "metadata": {},
   "outputs": [
    {
     "data": {
      "application/vnd.jupyter.widget-view+json": {
       "model_id": "6d54a574f58044c3b489b1801f9add60",
       "version_major": 2,
       "version_minor": 0
      },
      "text/plain": [
       "Map(basemap={'url': 'https://1.traffic.maps.api.here.com/maptile/2.1/traffictile/newest/normal.day/{z}/{x}/{y}…"
      ]
     },
     "metadata": {},
     "output_type": "display_data"
    }
   ],
   "source": [
    "m = Map(center=(52.5, 13.4), zoom=13, basemap=basemap)\n",
    "\n",
    "# from sidecar import Sidecar\n",
    "iso0 = dict(loc=(52.5, 13.4), range=300, rangetype='time', resolution=20, mode='car')\n",
    "# iso1 = dict(loc=(52.51, 13.41), range=600, rangetype='time', resolution=100, mode='car')\n",
    "dyniso = DynamicIsolines(m, isolines=[iso0])\n",
    "# with Sidecar(title='Isolines'):\n",
    "#     display(dyniso.m)\n",
    "dyniso.m"
   ]
  },
  {
   "cell_type": "code",
   "execution_count": null,
   "metadata": {},
   "outputs": [],
   "source": [
    "dyniso.add_isoline(loc=(52.52, 13.42), range=300, rangetype='time', resolution=100)"
   ]
  },
  {
   "cell_type": "code",
   "execution_count": null,
   "metadata": {},
   "outputs": [],
   "source": [
    "dyniso.resize()"
   ]
  },
  {
   "cell_type": "code",
   "execution_count": null,
   "metadata": {},
   "outputs": [],
   "source": [
    "dyniso.auto_resize = True"
   ]
  }
 ],
 "metadata": {
  "kernelspec": {
   "display_name": "Python 3",
   "language": "python",
   "name": "python3"
  },
  "language_info": {
   "codemirror_mode": {
    "name": "ipython",
    "version": 3
   },
   "file_extension": ".py",
   "mimetype": "text/x-python",
   "name": "python",
   "nbconvert_exporter": "python",
   "pygments_lexer": "ipython3",
   "version": "3.7.1"
  },
  "toc": {
   "base_numbering": 1,
   "nav_menu": {},
   "number_sections": false,
   "sideBar": false,
   "skip_h1_title": false,
   "title_cell": "Table of Contents",
   "title_sidebar": "Contents",
   "toc_cell": false,
   "toc_position": {},
   "toc_section_display": false,
   "toc_window_display": false
  }
 },
 "nbformat": 4,
 "nbformat_minor": 2
}
