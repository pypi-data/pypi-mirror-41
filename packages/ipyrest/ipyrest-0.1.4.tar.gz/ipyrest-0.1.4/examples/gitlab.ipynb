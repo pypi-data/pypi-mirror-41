{
 "cells": [
  {
   "cell_type": "markdown",
   "metadata": {},
   "source": [
    "# Ipyrest, GitLab Examples\n",
    "\n",
    "These examples require an API token for GitLab, which is assumed to be stored as an environment variable named `GITLAB_TOKEN`. More about the GitLab API can be found here: https://docs.gitlab.com/ee/api/"
   ]
  },
  {
   "cell_type": "code",
   "execution_count": null,
   "metadata": {},
   "outputs": [],
   "source": [
    "import os"
   ]
  },
  {
   "cell_type": "code",
   "execution_count": null,
   "metadata": {},
   "outputs": [],
   "source": [
    "from ipyrest import Api"
   ]
  },
  {
   "cell_type": "code",
   "execution_count": null,
   "metadata": {},
   "outputs": [],
   "source": [
    "TOKEN = os.environ['GITLAB_TOKEN']\n",
    "server = 'https://gitlab.com/api/v4'"
   ]
  },
  {
   "cell_type": "markdown",
   "metadata": {},
   "source": [
    "## Prerequisites\n",
    "\n",
    "Check GitLab version and our snippets, and maybe create some if we we want to."
   ]
  },
  {
   "cell_type": "code",
   "execution_count": null,
   "metadata": {},
   "outputs": [],
   "source": [
    "! curl --header \"PRIVATE-TOKEN: $TOKEN\" https://gitlab.com/api/v4/version"
   ]
  },
  {
   "cell_type": "code",
   "execution_count": null,
   "metadata": {},
   "outputs": [],
   "source": [
    "! curl --header \"PRIVATE-TOKEN: $TOKEN\" https://gitlab.com/api/v4/snippets"
   ]
  },
  {
   "cell_type": "code",
   "execution_count": null,
   "metadata": {},
   "outputs": [],
   "source": [
    "! curl --request POST \\\n",
    "     --data '{\"title\": \"This is yet another snippet\", \"content\": \"Hello world\", \"description\": \"Hello World snippet\", \"file_name\": \"test.txt\", \"visibility\": \"internal\" }' \\\n",
    "     --header 'Content-Type: application/json' \\\n",
    "     --header \"PRIVATE-TOKEN: $TOKEN\" \\\n",
    "     https://gitlab.com/api/v4/snippets"
   ]
  },
  {
   "cell_type": "markdown",
   "metadata": {},
   "source": [
    "## Version"
   ]
  },
  {
   "cell_type": "code",
   "execution_count": null,
   "metadata": {},
   "outputs": [],
   "source": [
    "Api(f'{server}/version', headers={'PRIVATE-TOKEN': TOKEN})"
   ]
  },
  {
   "cell_type": "markdown",
   "metadata": {},
   "source": [
    "## Snippets\n",
    "\n",
    "https://docs.gitlab.com/ee/api/snippets.html"
   ]
  },
  {
   "cell_type": "markdown",
   "metadata": {},
   "source": [
    "### Get Private Snippets (Slow & Cached)"
   ]
  },
  {
   "cell_type": "code",
   "execution_count": null,
   "metadata": {},
   "outputs": [],
   "source": [
    "Api(f'{server}/snippets', timeout=20, headers={'PRIVATE-TOKEN': TOKEN})"
   ]
  },
  {
   "cell_type": "code",
   "execution_count": null,
   "metadata": {},
   "outputs": [],
   "source": [
    "Api(f'{server}/snippets', timeout=20, headers={'PRIVATE-TOKEN': TOKEN}, cassette_path='snippets.yaml')"
   ]
  },
  {
   "cell_type": "markdown",
   "metadata": {},
   "source": [
    "### Get Snippets with Simple Custom View"
   ]
  },
  {
   "cell_type": "code",
   "execution_count": null,
   "metadata": {},
   "outputs": [],
   "source": [
    "from ipywidgets import Textarea, Layout\n",
    "from ipyrest import Api\n",
    "from ipyrest.responseviews import ResponseView\n",
    "\n",
    "class IdsView(ResponseView):\n",
    "    \"ResponseView showing IDs from a list of JSON objects.\"\n",
    "    name = 'IDs'\n",
    "    mimetype_pats = ['application/json']\n",
    "    def render(self, resp):\n",
    "        self.data = [snippet['id'] for snippet in resp.json()]\n",
    "        return Textarea(value=str(self.data), layout=Layout(width='100%', height='100px'))\n",
    "\n",
    "api = Api(f'{server}/snippets',\n",
    "          additional_views=[IdsView], timeout=20,\n",
    "          headers={'PRIVATE-TOKEN': TOKEN},\n",
    "          cassette_path='snippets.yaml')\n",
    "api"
   ]
  },
  {
   "cell_type": "markdown",
   "metadata": {},
   "source": [
    "### Get Snippets with Advanced Custom View"
   ]
  },
  {
   "cell_type": "code",
   "execution_count": null,
   "metadata": {},
   "outputs": [],
   "source": [
    "from ipywidgets import HBox, VBox, Text, Button, Layout\n",
    "from ipyrest import Api\n",
    "from ipyrest.responseviews import ResponseView\n",
    "\n",
    "class ActionableIdsView(ResponseView):\n",
    "    \"ResponseView showing IDs with some 'UI'.\"\n",
    "    name = 'ActionableIDs'\n",
    "    mimetype_pats = ['application/json']\n",
    "    def render(self, resp):\n",
    "        return VBox([\n",
    "                    HBox([Text(str(snippet['id'])), \n",
    "                          Text(snippet['title']), \n",
    "                          Button(description='Delete (dummy)')]\n",
    "                        ) \n",
    "            for snippet in resp.json()])\n",
    "\n",
    "api = Api(f'{server}/snippets', headers={'PRIVATE-TOKEN': TOKEN},\n",
    "          cassette_path='snippets.yaml',\n",
    "          additional_views=[ActionableIdsView], timeout=20)\n",
    "api"
   ]
  },
  {
   "cell_type": "markdown",
   "metadata": {},
   "source": [
    "### Access Response Data"
   ]
  },
  {
   "cell_type": "code",
   "execution_count": null,
   "metadata": {},
   "outputs": [],
   "source": [
    "from ipyrest import Api\n",
    "api = Api(f'{server}/snippets', method='post', headers={'PRIVATE-TOKEN': TOKEN},\n",
    "   data={\"title\": \"This is a NEW snippet\", \n",
    "         \"content\": \"Hello world\", \n",
    "         \"description\": \"Hello World snippet\", \n",
    "         \"file_name\": \"test.txt\",\n",
    "         \"visibility\": \"internal\" })\n",
    "api"
   ]
  },
  {
   "cell_type": "code",
   "execution_count": null,
   "metadata": {},
   "outputs": [],
   "source": [
    "id = api.resp.json()['id']\n",
    "id"
   ]
  },
  {
   "cell_type": "code",
   "execution_count": null,
   "metadata": {},
   "outputs": [],
   "source": [
    "from ipyrest import Api\n",
    "Api(f'{server}/snippets/{id}/user_agent_detail', headers={'PRIVATE-TOKEN': TOKEN})"
   ]
  },
  {
   "cell_type": "markdown",
   "metadata": {},
   "source": [
    "### Get Public Snippets, Failing with Error 500 (?)"
   ]
  },
  {
   "cell_type": "code",
   "execution_count": null,
   "metadata": {
    "scrolled": true
   },
   "outputs": [],
   "source": [
    "Api(f'{server}/snippets/public', timeout=60, headers={'PRIVATE-TOKEN': TOKEN})"
   ]
  }
 ],
 "metadata": {
  "kernelspec": {
   "display_name": "Python 3",
   "language": "python",
   "name": "python3"
  },
  "language_info": {
   "codemirror_mode": {
    "name": "ipython",
    "version": 3
   },
   "file_extension": ".py",
   "mimetype": "text/x-python",
   "name": "python",
   "nbconvert_exporter": "python",
   "pygments_lexer": "ipython3",
   "version": "3.6.3"
  },
  "toc": {
   "nav_menu": {},
   "number_sections": false,
   "sideBar": true,
   "skip_h1_title": true,
   "title_cell": "Table of Contents",
   "title_sidebar": "Contents",
   "toc_cell": false,
   "toc_position": {},
   "toc_section_display": true,
   "toc_window_display": true
  }
 },
 "nbformat": 4,
 "nbformat_minor": 2
}
