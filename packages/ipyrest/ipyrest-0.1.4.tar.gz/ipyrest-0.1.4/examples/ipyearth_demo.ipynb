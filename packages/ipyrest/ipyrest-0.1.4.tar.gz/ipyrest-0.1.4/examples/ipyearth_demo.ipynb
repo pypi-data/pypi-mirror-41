{
 "cells": [
  {
   "cell_type": "markdown",
   "metadata": {},
   "source": [
    "# IPyEarth: Earth in an IPython widget"
   ]
  },
  {
   "cell_type": "markdown",
   "metadata": {},
   "source": [
    "[Earth](https://earth.nullschool.net) is a great geovisualization tool. It can be used to visualize current and past weather conditions, as well as forecasts, for a lot of data types. But wouldn't it be nice if you could use it and plug your own data? This is what IPyEarth is about: bringing the visualization capabilities of Earth to the Python ecosystem."
   ]
  },
  {
   "cell_type": "code",
   "execution_count": null,
   "metadata": {},
   "outputs": [],
   "source": [
    "# It is a good idea to launch this notebook with:\n",
    "# jupyter notebook demo.ipynb --NotebookApp.iopub_data_rate_limit=10000000000\n",
    "\n",
    "from ipyearth import Earth\n",
    "from ipywidgets import interact\n",
    "import ipywidgets as widgets\n",
    "import numpy as np\n",
    "import matplotlib.pyplot as plt"
   ]
  },
  {
   "cell_type": "code",
   "execution_count": null,
   "metadata": {
    "scrolled": false
   },
   "outputs": [],
   "source": [
    "# Start with an instance of a globe\n",
    "\n",
    "w = Earth()\n",
    "w"
   ]
  },
  {
   "cell_type": "markdown",
   "metadata": {},
   "source": [
    "## Choose the projection"
   ]
  },
  {
   "cell_type": "code",
   "execution_count": null,
   "metadata": {},
   "outputs": [],
   "source": [
    "# atlantis\n",
    "# azimuthal_equidistant\n",
    "# conic_equidistant\n",
    "# equirectangular\n",
    "# orthographic\n",
    "# stereographic\n",
    "# waterman\n",
    "# winkel3\n",
    "\n",
    "w.projection = 'orthographic'"
   ]
  },
  {
   "cell_type": "markdown",
   "metadata": {},
   "source": [
    "## Show topology from a TopoJSON file\n",
    "A simplified version of the topology is automatically computed for fast rendering when dragging the map or zooming. "
   ]
  },
  {
   "cell_type": "code",
   "execution_count": null,
   "metadata": {},
   "outputs": [],
   "source": [
    "# USA\n",
    "w.show_topology(file_name='./data/us-topo.json', object_name='state')"
   ]
  },
  {
   "cell_type": "code",
   "execution_count": null,
   "metadata": {},
   "outputs": [],
   "source": [
    "# Earth\n",
    "w.show_topology(file_name='./data/earth-topo.json', object_name='topo')"
   ]
  },
  {
   "cell_type": "markdown",
   "metadata": {},
   "source": [
    "## Overlay some toy data\n",
    "We create a dictionary consisting of the resolution of the data (_dx_, _dy_), the upper-left corner coordinates (_ullat_, _ullon_), the number of points (_nx_, _ny_), and the data itself (_data_)."
   ]
  },
  {
   "cell_type": "code",
   "execution_count": null,
   "metadata": {},
   "outputs": [],
   "source": [
    "# Here we create a grid with ones every 10 degrees, zeros elsewhere\n",
    "\n",
    "dx, dy = 2, 2 # in degrees\n",
    "ullat, ullon = 80, 0 # in degrees\n",
    "nx, ny = 180, 81\n",
    "\n",
    "data = np.zeros((ny, nx))\n",
    "data[::5, ::5] = 1\n",
    "overlay = {'dx': dx, 'dy': dy, 'nx': nx, 'ny': ny, 'ullat': ullat, 'ullon': ullon, 'data': data}"
   ]
  },
  {
   "cell_type": "code",
   "execution_count": null,
   "metadata": {},
   "outputs": [],
   "source": [
    "# Choose a colormap and min/max values, and display the data\n",
    "\n",
    "w.color_map = '7'\n",
    "w.color_vmin = 0\n",
    "w.color_vmax = 1\n",
    "\n",
    "w.show(overlay=overlay)"
   ]
  },
  {
   "cell_type": "markdown",
   "metadata": {},
   "source": [
    "## Add an animation\n",
    "The two components of a vector field must be provided: _u_ along the _x_ axis, and _v_ along the _y_ axis."
   ]
  },
  {
   "cell_type": "code",
   "execution_count": null,
   "metadata": {},
   "outputs": [],
   "source": [
    "w.particleVelocityScale = 1 / 10000\n",
    "w.particleMaxIntensity = 1\n",
    "\n",
    "u = np.ones((ny, nx)) # this will go East\n",
    "v = np.ones((ny, nx)) # this will go North\n",
    "\n",
    "animate = {'dx': dx, 'dy': dy, 'nx': nx, 'ny': ny, 'ullat': ullat, 'ullon': ullon, 'u': u, 'v': v}\n",
    "\n",
    "w.show(animate=animate, overlay=overlay)"
   ]
  },
  {
   "cell_type": "markdown",
   "metadata": {},
   "source": [
    "## Show wind at surface level"
   ]
  },
  {
   "cell_type": "code",
   "execution_count": null,
   "metadata": {},
   "outputs": [],
   "source": [
    "data = np.load('./data/current-wind-surface-level-gfs-1.0.npz')\n",
    "u = data['u']\n",
    "v = data['v']\n",
    "\n",
    "fig, ax = plt.subplots(1, 2, figsize=(15, 5))\n",
    "ax[0].imshow(u)\n",
    "ax[1].imshow(v)\n",
    "ax[0].set_title('u')\n",
    "ax[1].set_title('v')\n",
    "plt.show()"
   ]
  },
  {
   "cell_type": "code",
   "execution_count": null,
   "metadata": {},
   "outputs": [],
   "source": [
    "w.particleVelocityScale = 1 / 60000\n",
    "w.particleMaxIntensity = 17\n",
    "\n",
    "animate = {'dx': 1, 'dy': 1, 'nx': 360, 'ny': 181, 'ullat': 90, 'ullon': 0, 'u': u, 'v': v}\n",
    "\n",
    "w.show(animate=animate)"
   ]
  },
  {
   "cell_type": "code",
   "execution_count": null,
   "metadata": {},
   "outputs": [],
   "source": [
    "# Overlay the module of the vector field\n",
    "\n",
    "w.color_map = '0'\n",
    "w.color_vmin = 0\n",
    "w.color_vmax = 100\n",
    "\n",
    "w.show(animate=animate, overlay='fromAnim')"
   ]
  },
  {
   "cell_type": "markdown",
   "metadata": {},
   "source": [
    "## Show ocean surface currents"
   ]
  },
  {
   "cell_type": "code",
   "execution_count": null,
   "metadata": {},
   "outputs": [],
   "source": [
    "data = np.load('./data/20140131-surface-currents-oscar-0.33.npz')\n",
    "u = data['u']\n",
    "v = data['v']\n",
    "\n",
    "fig, ax = plt.subplots(1, 2, figsize=(15, 5))\n",
    "ax[0].imshow(u)\n",
    "ax[1].imshow(v)\n",
    "ax[0].set_title('u')\n",
    "ax[1].set_title('v')\n",
    "plt.show()"
   ]
  },
  {
   "cell_type": "code",
   "execution_count": null,
   "metadata": {},
   "outputs": [],
   "source": [
    "w.particleVelocityScale = 1 / 4400\n",
    "w.particleMaxIntensity = 0.7\n",
    "\n",
    "animate = {'dx': 1 / 3, 'dy': 1 / 3, 'nx': 1080, 'ny': 481, 'ullat': 80, 'ullon': 20, 'u': u, 'v': v}\n",
    "\n",
    "w.show(animate=animate)"
   ]
  },
  {
   "cell_type": "code",
   "execution_count": null,
   "metadata": {},
   "outputs": [],
   "source": [
    "# Overlay the module of the vector field\n",
    "\n",
    "w.color_map = '7'\n",
    "w.color_vmin = 0\n",
    "w.color_vmax = 1.5\n",
    "\n",
    "w.show(animate=animate, overlay='fromAnim')"
   ]
  },
  {
   "cell_type": "markdown",
   "metadata": {},
   "source": [
    "## Show wind animation and overlay ocean currents"
   ]
  },
  {
   "cell_type": "code",
   "execution_count": null,
   "metadata": {},
   "outputs": [],
   "source": [
    "# Compute the ocean current intensity based on the vector field\n",
    "\n",
    "data = np.load('./data/20140131-surface-currents-oscar-0.33.npz')\n",
    "u = data['u']\n",
    "v = data['v']\n",
    "\n",
    "intensity = np.sqrt(u ** 2 + v ** 2)\n",
    "overlay = {'dx': 1 / 3, 'dy': 1 / 3, 'nx': 1080, 'ny': 481, 'ullat': 80, 'ullon': 20, 'data': intensity}\n",
    "\n",
    "plt.figure(figsize=(15, 5))\n",
    "plt.imshow(intensity)\n",
    "plt.title('Ocean surface current intensity')\n",
    "plt.show()"
   ]
  },
  {
   "cell_type": "code",
   "execution_count": null,
   "metadata": {},
   "outputs": [],
   "source": [
    "# Animate wind and overlay ocean current intensity\n",
    "\n",
    "w.color_map = '7'\n",
    "w.color_vmin = 0\n",
    "w.color_vmax = 1.5\n",
    "\n",
    "w.particleVelocityScale = 1 / 60000\n",
    "w.particleMaxIntensity = 17\n",
    "\n",
    "data = np.load('./data/current-wind-surface-level-gfs-1.0.npz')\n",
    "u = data['u']\n",
    "v = data['v']\n",
    "\n",
    "animate = {'dx': 1, 'dy': 1, 'nx': 360, 'ny': 181, 'ullat': 90, 'ullon': 0, 'u': u, 'v': v}\n",
    "\n",
    "w.show(animate=animate, overlay=overlay)"
   ]
  },
  {
   "cell_type": "code",
   "execution_count": null,
   "metadata": {},
   "outputs": [],
   "source": [
    "# A slider for the particle velocity scale\n",
    "\n",
    "@interact(particleVelocityScale=(0.0, 1/10000, 1/100000))\n",
    "def set_particleVelocityScale(particleVelocityScale=1/60000):\n",
    "    w.particleVelocityScale = particleVelocityScale\n",
    "    w.show(animate=animate, overlay=overlay)"
   ]
  },
  {
   "cell_type": "markdown",
   "metadata": {},
   "source": [
    "## Get coordinates\n",
    "Clicking on the map displays a circular marker, which coordinates are given as a lat/lon list:"
   ]
  },
  {
   "cell_type": "code",
   "execution_count": null,
   "metadata": {},
   "outputs": [],
   "source": [
    "w.coord"
   ]
  },
  {
   "cell_type": "markdown",
   "metadata": {},
   "source": [
    "## Colormaps"
   ]
  },
  {
   "cell_type": "code",
   "execution_count": null,
   "metadata": {},
   "outputs": [],
   "source": [
    "w.color_map = '0'\n",
    "w.color_vmin = 0\n",
    "w.color_vmax = 100\n",
    "\n",
    "w.particleVelocityScale = 1 / 60000\n",
    "w.particleMaxIntensity = 17"
   ]
  },
  {
   "cell_type": "code",
   "execution_count": null,
   "metadata": {
    "collapsed": true
   },
   "outputs": [],
   "source": [
    "w.color_map = '1'\n",
    "w.color_vmin = 193\n",
    "w.color_vmax = 328"
   ]
  },
  {
   "cell_type": "code",
   "execution_count": null,
   "metadata": {
    "collapsed": true
   },
   "outputs": [],
   "source": [
    "w.color_map = '2'\n",
    "w.color_vmin = 0\n",
    "w.color_vmax = 100"
   ]
  },
  {
   "cell_type": "code",
   "execution_count": null,
   "metadata": {
    "collapsed": true
   },
   "outputs": [],
   "source": [
    "w.color_map = '2'\n",
    "w.color_vmin = 0\n",
    "w.color_vmax = 1.5"
   ]
  },
  {
   "cell_type": "code",
   "execution_count": null,
   "metadata": {
    "collapsed": true
   },
   "outputs": [],
   "source": [
    "w.color_map = '3'\n",
    "w.color_vmin = 0\n",
    "w.color_vmax = 80000"
   ]
  },
  {
   "cell_type": "code",
   "execution_count": null,
   "metadata": {
    "collapsed": true
   },
   "outputs": [],
   "source": [
    "w.color_map = '4'\n",
    "w.color_vmin = 0\n",
    "w.color_vmax = 1"
   ]
  },
  {
   "cell_type": "code",
   "execution_count": null,
   "metadata": {
    "collapsed": true
   },
   "outputs": [],
   "source": [
    "w.color_map = '5'\n",
    "w.color_vmin = 0\n",
    "w.color_vmax = 70"
   ]
  },
  {
   "cell_type": "code",
   "execution_count": null,
   "metadata": {
    "collapsed": true
   },
   "outputs": [],
   "source": [
    "w.color_map = '6'\n",
    "w.color_vmin = 92000\n",
    "w.color_vmax = 105000"
   ]
  },
  {
   "cell_type": "code",
   "execution_count": null,
   "metadata": {
    "collapsed": true
   },
   "outputs": [],
   "source": [
    "w.color_map = '7'\n",
    "w.color_vmin = 0\n",
    "w.color_vmax = 1.5\n",
    "\n",
    "w.particleVelocityScale = 1 / 4400\n",
    "w.particleMaxIntensity = 0.7"
   ]
  }
 ],
 "metadata": {
  "kernelspec": {
   "display_name": "Python 3",
   "language": "python",
   "name": "python3"
  },
  "language_info": {
   "codemirror_mode": {
    "name": "ipython",
    "version": 3
   },
   "file_extension": ".py",
   "mimetype": "text/x-python",
   "name": "python",
   "nbconvert_exporter": "python",
   "pygments_lexer": "ipython3",
   "version": "3.6.3"
  }
 },
 "nbformat": 4,
 "nbformat_minor": 2
}
