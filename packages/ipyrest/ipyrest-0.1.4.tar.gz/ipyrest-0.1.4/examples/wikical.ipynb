{
 "cells": [
  {
   "cell_type": "markdown",
   "metadata": {},
   "source": [
    "# Ipyrest, Wikical Examples\n",
    "\n",
    "This notebook contain examples using [Wikical.com](http://wikical.com), a public calendar service."
   ]
  },
  {
   "cell_type": "code",
   "execution_count": 1,
   "metadata": {},
   "outputs": [
    {
     "data": {
      "text/plain": [
       "3"
      ]
     },
     "execution_count": 1,
     "metadata": {},
     "output_type": "execute_result"
    }
   ],
   "source": [
    "import requests\n",
    "\n",
    "url = \"https://wikical.com/events/\"\n",
    "j = requests.get(url, params={'query': '#conference', 'view': 'json'}).json()\n",
    "len(j)"
   ]
  },
  {
   "cell_type": "code",
   "execution_count": 2,
   "metadata": {},
   "outputs": [
    {
     "data": {
      "text/plain": [
       "[{'upcoming': '2019-02-23',\n",
       "  'tags': '#community #micro #pizza #berlin #conference #python',\n",
       "  'date_indicator': 'next month',\n",
       "  'upcoming_name': 'start',\n",
       "  'id': 22391,\n",
       "  'color': '8BB757',\n",
       "  'city': 'Berlin',\n",
       "  'title': 'Python Pizza Berlin 2018',\n",
       "  'url': 'https://wikical.com/2019-02-23/22391/Python-Pizza-Berlin-2018/',\n",
       "  'country': 'DE',\n",
       "  'venue': 'Wooga, Saarbrücker Str. 38, 10405 Berlin',\n",
       "  'longitude': 13.4162,\n",
       "  'start': '2019-02-23',\n",
       "  'location': 'Berlin, DE',\n",
       "  'latitude': 52.5287,\n",
       "  'pk': 22391,\n",
       "  'distance': None},\n",
       " {'upcoming': '2019-04-15',\n",
       "  'tags': '#physics2019 #physics #conference',\n",
       "  'date_indicator': 'later this year',\n",
       "  'upcoming_name': 'start',\n",
       "  'id': 19381,\n",
       "  'color': '8BB757',\n",
       "  'city': 'Frankfurt am Main',\n",
       "  'title': '4th International Conference on Applied Physics',\n",
       "  'url': 'https://wikical.com/2019-04-15/19381/4th-International-Conference-on-Applied-Physics/',\n",
       "  'country': 'DE',\n",
       "  'venue': None,\n",
       "  'longitude': None,\n",
       "  'start': '2019-04-15',\n",
       "  'location': 'Frankfurt am Main, DE',\n",
       "  'latitude': None,\n",
       "  'pk': 19381,\n",
       "  'distance': None},\n",
       " {'upcoming': '2019-10-18',\n",
       "  'tags': '#auto #conference',\n",
       "  'date_indicator': 'later this year',\n",
       "  'upcoming_name': 'start',\n",
       "  'id': 22094,\n",
       "  'color': '8BB757',\n",
       "  'city': 'Beijing',\n",
       "  'title': '2019 China International + New Energy Automobile Industry Development Summit',\n",
       "  'url': 'https://wikical.com/2019-10-18/22094/2019-China-International-New-Energy-Automobile-I/',\n",
       "  'country': 'CN',\n",
       "  'venue': None,\n",
       "  'longitude': None,\n",
       "  'start': '2019-10-18',\n",
       "  'location': 'Beijing, CN',\n",
       "  'latitude': None,\n",
       "  'pk': 22094,\n",
       "  'distance': None}]"
      ]
     },
     "execution_count": 2,
     "metadata": {},
     "output_type": "execute_result"
    }
   ],
   "source": [
    "j"
   ]
  },
  {
   "cell_type": "code",
   "execution_count": 3,
   "metadata": {},
   "outputs": [
    {
     "data": {
      "application/vnd.jupyter.widget-view+json": {
       "model_id": "b6132027d199406c8eb69b21f8fbc992",
       "version_major": 2,
       "version_minor": 0
      },
      "text/plain": [
       "Api(children=(HBox(children=(Dropdown(layout=Layout(width='100%px'), options=('GET', 'POST', 'PUT', 'PATCH', '…"
      ]
     },
     "metadata": {},
     "output_type": "display_data"
    }
   ],
   "source": [
    "from ipyrest import Api\n",
    "\n",
    "url = \"https://wikical.com/events/\"\n",
    "Api(url, params={'query': '@berlin', 'view': 'json'})"
   ]
  },
  {
   "cell_type": "code",
   "execution_count": 4,
   "metadata": {},
   "outputs": [
    {
     "data": {
      "text/plain": [
       "[{'upcoming': '2019-02-23',\n",
       "  'tags': '#community #micro #pizza #berlin #conference #python',\n",
       "  'date_indicator': 'next month',\n",
       "  'upcoming_name': 'start',\n",
       "  'id': 22391,\n",
       "  'color': '8BB757',\n",
       "  'city': 'Berlin',\n",
       "  'title': 'Python Pizza Berlin 2018',\n",
       "  'url': 'https://wikical.com/2019-02-23/22391/Python-Pizza-Berlin-2018/',\n",
       "  'country': 'DE',\n",
       "  'venue': 'Wooga, Saarbrücker Str. 38, 10405 Berlin',\n",
       "  'longitude': 13.4162,\n",
       "  'start': '2019-02-23',\n",
       "  'location': 'Berlin, DE',\n",
       "  'latitude': 52.5287,\n",
       "  'pk': 22391,\n",
       "  'distance': None},\n",
       " {'upcoming': '2019-04-15',\n",
       "  'tags': '#physics2019 #physics #conference',\n",
       "  'date_indicator': 'later this year',\n",
       "  'upcoming_name': 'start',\n",
       "  'id': 19381,\n",
       "  'color': '8BB757',\n",
       "  'city': 'Frankfurt am Main',\n",
       "  'title': '4th International Conference on Applied Physics',\n",
       "  'url': 'https://wikical.com/2019-04-15/19381/4th-International-Conference-on-Applied-Physics/',\n",
       "  'country': 'DE',\n",
       "  'venue': None,\n",
       "  'longitude': None,\n",
       "  'start': '2019-04-15',\n",
       "  'location': 'Frankfurt am Main, DE',\n",
       "  'latitude': None,\n",
       "  'pk': 19381,\n",
       "  'distance': None},\n",
       " {'upcoming': '2019-10-18',\n",
       "  'tags': '#auto #conference',\n",
       "  'date_indicator': 'later this year',\n",
       "  'upcoming_name': 'start',\n",
       "  'id': 22094,\n",
       "  'color': '8BB757',\n",
       "  'city': 'Beijing',\n",
       "  'title': '2019 China International + New Energy Automobile Industry Development Summit',\n",
       "  'url': 'https://wikical.com/2019-10-18/22094/2019-China-International-New-Energy-Automobile-I/',\n",
       "  'country': 'CN',\n",
       "  'venue': None,\n",
       "  'longitude': None,\n",
       "  'start': '2019-10-18',\n",
       "  'location': 'Beijing, CN',\n",
       "  'latitude': None,\n",
       "  'pk': 22094,\n",
       "  'distance': None}]"
      ]
     },
     "execution_count": 4,
     "metadata": {},
     "output_type": "execute_result"
    }
   ],
   "source": [
    "from ipyleaflet import Map, Marker\n",
    "\n",
    "url = \"https://wikical.com/events/\"\n",
    "j = requests.get(url, params={'query': '#conference', 'view': 'json'}).json()\n",
    "j"
   ]
  },
  {
   "cell_type": "code",
   "execution_count": 5,
   "metadata": {},
   "outputs": [
    {
     "data": {
      "application/vnd.jupyter.widget-view+json": {
       "model_id": "e00755136bfc482fb489b8a5db2d966e",
       "version_major": 2,
       "version_minor": 0
      },
      "text/plain": [
       "Map(basemap={'url': 'https://{s}.tile.openstreetmap.org/{z}/{x}/{y}.png', 'max_zoom': 19, 'attribution': 'Map …"
      ]
     },
     "metadata": {},
     "output_type": "display_data"
    }
   ],
   "source": [
    "m = Map()\n",
    "for res in j:\n",
    "    lat, lon = res['latitude'], res['longitude']\n",
    "    m += Marker(location=(lat, lon), title=res['title'])\n",
    "m"
   ]
  },
  {
   "cell_type": "code",
   "execution_count": null,
   "metadata": {},
   "outputs": [],
   "source": []
  }
 ],
 "metadata": {
  "kernelspec": {
   "display_name": "Python 3",
   "language": "python",
   "name": "python3"
  },
  "language_info": {
   "codemirror_mode": {
    "name": "ipython",
    "version": 3
   },
   "file_extension": ".py",
   "mimetype": "text/x-python",
   "name": "python",
   "nbconvert_exporter": "python",
   "pygments_lexer": "ipython3",
   "version": "3.6.3"
  },
  "toc": {
   "base_numbering": 1,
   "nav_menu": {},
   "number_sections": false,
   "sideBar": false,
   "skip_h1_title": false,
   "title_cell": "Table of Contents",
   "title_sidebar": "Contents",
   "toc_cell": false,
   "toc_position": {},
   "toc_section_display": false,
   "toc_window_display": false
  }
 },
 "nbformat": 4,
 "nbformat_minor": 2
}
