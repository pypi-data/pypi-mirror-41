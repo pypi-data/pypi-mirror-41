{
 "cells": [
  {
   "cell_type": "markdown",
   "metadata": {},
   "source": [
    "# Point Clouds with Ipyvolume and PPTK\n",
    "\n",
    "This contains some crude examples rendered with [ipyvolume](https://github.com/maartenbreddels/ipyvolume) (Maarten Breddels et al.) and [pptk](https://github.com/heremaps/pptk) (Point Processing ToolKit, HERE).\n",
    "\n",
    "This is actually unrelated to [ipyrest](https://github.com/deeplook/ipyrest), but was presented in that context during a [PyData-Berlin meetup](https://www.meetup.com/PyData-Berlin/events/255361308/)."
   ]
  },
  {
   "cell_type": "markdown",
   "metadata": {},
   "source": [
    "## Random Dots\n",
    "\n",
    "### ipyvolume"
   ]
  },
  {
   "cell_type": "code",
   "execution_count": null,
   "metadata": {},
   "outputs": [],
   "source": [
    "import numpy as np\n",
    "import ipyvolume # pip install ipyvolume\n",
    "\n",
    "xyz_arr = np.random.random((3, 10**4))\n",
    "ipyvolume.quickscatter(*xyz_arr, size=.2, marker=\"sphere\")"
   ]
  },
  {
   "cell_type": "markdown",
   "metadata": {},
   "source": [
    "### pptk"
   ]
  },
  {
   "cell_type": "code",
   "execution_count": null,
   "metadata": {},
   "outputs": [],
   "source": [
    "import numpy as np\n",
    "import pptk # pip install pptk\n",
    "\n",
    "xyz_arr = np.random.random((3, 10**6))\n",
    "v = pptk.viewer(xyz_arr)"
   ]
  },
  {
   "cell_type": "markdown",
   "metadata": {},
   "source": [
    "## Bildstein Station Example Data\n",
    "\n",
    "One of the examples available on http://semantic3d.net, namely http://semantic3d.net/data/point-clouds/training1/bildstein_station1_xyz_intensity_rgb.7z (ca. 30M points)."
   ]
  },
  {
   "cell_type": "code",
   "execution_count": null,
   "metadata": {},
   "outputs": [],
   "source": [
    "import pandas as pd\n",
    "import numpy as np"
   ]
  },
  {
   "cell_type": "code",
   "execution_count": null,
   "metadata": {},
   "outputs": [],
   "source": [
    "def read_points(path):\n",
    "    # Read Semantic3D .txt file path into a pandas dataframe.\n",
    "    col_names = ['x', 'y', 'z', 'i', 'r', 'g', 'b']\n",
    "    col_dtype = {'x': np.float32, 'y': np.float32, 'z': np.float32, 'i': np.int32,\n",
    "                 'r': np.uint8, 'g': np.uint8, 'b': np.uint8}\n",
    "    return pd.read_csv(path, names=col_names, dtype=col_dtype, delim_whitespace=True)"
   ]
  },
  {
   "cell_type": "code",
   "execution_count": null,
   "metadata": {},
   "outputs": [],
   "source": [
    "%%time\n",
    "all_points = read_points('bildstein_station1_xyz_intensity_rgb.txt')\n",
    "print('loaded {} points'.format(len(all_points)))"
   ]
  },
  {
   "cell_type": "code",
   "execution_count": null,
   "metadata": {},
   "outputs": [],
   "source": [
    "points = all_points[:: 300]\n",
    "print('using {} points'.format(len(points)))"
   ]
  },
  {
   "cell_type": "markdown",
   "metadata": {},
   "source": [
    "### ipyvolume"
   ]
  },
  {
   "cell_type": "code",
   "execution_count": null,
   "metadata": {},
   "outputs": [],
   "source": [
    "import ipyvolume\n",
    "\n",
    "x, y, z = points.x.values, points.y.values, points.z.values\n",
    "col = points.r.values / 255, points.g.values / 255, points.b.values / 255\n",
    "ipyvolume.quickscatter(x, y, z, size=.1, marker=\"sphere\", color=col)"
   ]
  },
  {
   "cell_type": "markdown",
   "metadata": {},
   "source": [
    "### pptk"
   ]
  },
  {
   "cell_type": "code",
   "execution_count": null,
   "metadata": {},
   "outputs": [],
   "source": [
    "import pptk\n",
    "\n",
    "v = pptk.viewer(all_points[['x', 'y', 'z']])\n",
    "v.attributes(all_points[['r', 'g', 'b']] / 255., all_points['i'])\n",
    "v.set(point_size=0.001)"
   ]
  }
 ],
 "metadata": {
  "kernelspec": {
   "display_name": "Python 3",
   "language": "python",
   "name": "python3"
  },
  "language_info": {
   "codemirror_mode": {
    "name": "ipython",
    "version": 3
   },
   "file_extension": ".py",
   "mimetype": "text/x-python",
   "name": "python",
   "nbconvert_exporter": "python",
   "pygments_lexer": "ipython3",
   "version": "3.6.3"
  }
 },
 "nbformat": 4,
 "nbformat_minor": 2
}
