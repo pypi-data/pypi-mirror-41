{
 "cells": [
  {
   "cell_type": "markdown",
   "metadata": {},
   "source": [
    "# Ipyrest, HERE Transit Isochrones\n",
    "\n",
    "These examples require two tokens, an `API_ID` and `APP_CODE`, which are assumed to be stored as environment variables named `HEREMAPS_APP_ID` and `HEREMAPS_APP_CODE`, respectively. There are available after a free registration on https://developer.here.com. API documentation can be found here: https://developer.here.com/documentation.\n",
    "\n",
    "More to come…"
   ]
  },
  {
   "cell_type": "code",
   "execution_count": 32,
   "metadata": {},
   "outputs": [],
   "source": [
    "import os\n",
    "\n",
    "from ipyleaflet import Map, Marker, CircleMarker"
   ]
  },
  {
   "cell_type": "markdown",
   "metadata": {},
   "source": [
    "## Example"
   ]
  },
  {
   "cell_type": "code",
   "execution_count": 3,
   "metadata": {},
   "outputs": [],
   "source": [
    "from ipyrest import Api"
   ]
  },
  {
   "cell_type": "code",
   "execution_count": 11,
   "metadata": {},
   "outputs": [
    {
     "data": {
      "application/vnd.jupyter.widget-view+json": {
       "model_id": "fccce2cdd46f4b6cab0775fc1b927a8c",
       "version_major": 2,
       "version_minor": 0
      },
      "text/plain": [
       "Api(children=(HBox(children=(Dropdown(layout=Layout(width='100%px'), options=('GET', 'POST', 'PUT', 'PATCH', '…"
      ]
     },
     "metadata": {},
     "output_type": "display_data"
    }
   ],
   "source": [
    "# https://developer.here.com/documentation/transit/topics/resource-type-isochrone.html\n",
    "\n",
    "url = 'https://transit.api.here.com/' \\\n",
    "      'v3/isochrone.{format}'\n",
    "args = dict(\n",
    "    format='json',\n",
    ")\n",
    "params = dict(\n",
    "    app_id=os.getenv('HEREMAPS_APP_ID'), \n",
    "    app_code=os.getenv('HEREMAPS_APP_CODE'),\n",
    "    time='2019-06-24T01:23:45',\n",
    "    center='41.876465,-87.621887',\n",
    ")\n",
    "api = Api(url, args=args, params=params)\n",
    "api"
   ]
  },
  {
   "cell_type": "code",
   "execution_count": 19,
   "metadata": {},
   "outputs": [],
   "source": [
    "j = api.resp.json()\n",
    "ichr = j['Res']['Isochrone']"
   ]
  },
  {
   "cell_type": "code",
   "execution_count": 23,
   "metadata": {},
   "outputs": [
    {
     "data": {
      "text/plain": [
       "dict_keys(['y', 'x', 'time', 'max_dur', 'max_change', 'timespan', 'IsoDest'])"
      ]
     },
     "execution_count": 23,
     "metadata": {},
     "output_type": "execute_result"
    }
   ],
   "source": [
    "ichr.keys()"
   ]
  },
  {
   "cell_type": "code",
   "execution_count": 27,
   "metadata": {},
   "outputs": [],
   "source": [
    "dests = ichr['IsoDest']\n",
    "stations = [d['Stn'][0] for d in dests]"
   ]
  },
  {
   "cell_type": "code",
   "execution_count": 30,
   "metadata": {
    "collapsed": true
   },
   "outputs": [
    {
     "data": {
      "application/vnd.jupyter.widget-view+json": {
       "model_id": "f9c02c8fac9e4bc28094c9d5cf3548f9",
       "version_major": 2,
       "version_minor": 0
      },
      "text/plain": [
       "Map(basemap={'url': 'https://{s}.tile.openstreetmap.org/{z}/{x}/{y}.png', 'max_zoom': 19, 'attribution': 'Map …"
      ]
     },
     "metadata": {},
     "output_type": "display_data"
    }
   ],
   "source": [
    "m = Map(center=[ichr['y'], ichr['x']], zoom=14)\n",
    "m"
   ]
  },
  {
   "cell_type": "code",
   "execution_count": 33,
   "metadata": {},
   "outputs": [],
   "source": [
    "m += CircleMarker(location=(ichr['y'], ichr['x']))"
   ]
  },
  {
   "cell_type": "code",
   "execution_count": 31,
   "metadata": {},
   "outputs": [],
   "source": [
    "for s in stations:\n",
    "    m += Marker(location=(s['y'], s['x']), title=s['name'])"
   ]
  },
  {
   "cell_type": "code",
   "execution_count": 34,
   "metadata": {},
   "outputs": [
    {
     "data": {
      "text/plain": [
       "[{'y': 41.87554,\n",
       "  'x': -87.624126,\n",
       "  'name': 'Michigan & Ida B Wells Drive',\n",
       "  'id': '418809403'},\n",
       " {'y': 41.875841,\n",
       "  'x': -87.624024,\n",
       "  'name': 'Ida B Wells Drive & Michigan',\n",
       "  'id': '418803345'}]"
      ]
     },
     "execution_count": 34,
     "metadata": {},
     "output_type": "execute_result"
    }
   ],
   "source": [
    "stations[:2]"
   ]
  },
  {
   "cell_type": "code",
   "execution_count": null,
   "metadata": {},
   "outputs": [],
   "source": []
  }
 ],
 "metadata": {
  "kernelspec": {
   "display_name": "Python 3",
   "language": "python",
   "name": "python3"
  },
  "language_info": {
   "codemirror_mode": {
    "name": "ipython",
    "version": 3
   },
   "file_extension": ".py",
   "mimetype": "text/x-python",
   "name": "python",
   "nbconvert_exporter": "python",
   "pygments_lexer": "ipython3",
   "version": "3.6.3"
  },
  "toc": {
   "base_numbering": 1,
   "nav_menu": {},
   "number_sections": false,
   "sideBar": true,
   "skip_h1_title": true,
   "title_cell": "Table of Contents",
   "title_sidebar": "Contents",
   "toc_cell": false,
   "toc_position": {},
   "toc_section_display": true,
   "toc_window_display": true
  }
 },
 "nbformat": 4,
 "nbformat_minor": 2
}
