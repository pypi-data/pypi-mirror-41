{
 "cells": [
  {
   "cell_type": "markdown",
   "metadata": {},
   "source": [
    "# New Horizons launch and trajectory\n",
    "\n",
    "Main data source: Guo & Farquhar \"New Horizons Mission Design\" http://www.boulder.swri.edu/pkb/ssr/ssr-mission-design.pdf"
   ]
  },
  {
   "cell_type": "code",
   "execution_count": 1,
   "metadata": {},
   "outputs": [],
   "source": [
    "from astropy import time\n",
    "from astropy import units as u\n",
    "\n",
    "from poliastro.bodies import Sun, Earth, Jupiter\n",
    "from poliastro.twobody import Orbit\n",
    "from poliastro.plotting import OrbitPlotter2D\n",
    "from poliastro import iod\n",
    "from poliastro.util import norm"
   ]
  },
  {
   "cell_type": "markdown",
   "metadata": {},
   "source": [
    "## Parking orbit\n",
    "\n",
    "Quoting from \"New Horizons Mission Design\":\n",
    "\n",
    "> It was first inserted into an elliptical Earth parking orbit\n",
    "of **perigee altitude 165 km** and **apogee altitude 215 km**. [Emphasis mine]"
   ]
  },
  {
   "cell_type": "code",
   "execution_count": 2,
   "metadata": {
    "scrolled": false
   },
   "outputs": [
    {
     "name": "stdout",
     "output_type": "stream",
     "text": [
      "[0.         7.81989358 0.        ] km / s\n"
     ]
    },
    {
     "data": {
      "application/vnd.jupyter.widget-view+json": {
       "model_id": "c88afb920e80405a8625b0ef2467f844",
       "version_major": 2,
       "version_minor": 0
      },
      "text/plain": [
       "FigureWidget({\n",
       "    'data': [{'hoverinfo': 'none',\n",
       "              'line': {'color': 'rgb(31, 119, 180)', 'dash':…"
      ]
     },
     "metadata": {},
     "output_type": "display_data"
    }
   ],
   "source": [
    "r_p = Earth.R + 165 * u.km\n",
    "r_a = Earth.R + 215 * u.km\n",
    "\n",
    "a_parking = (r_p + r_a) / 2\n",
    "ecc_parking = 1 - r_p / a_parking\n",
    "\n",
    "parking = Orbit.from_classical(\n",
    "    Earth,\n",
    "    a_parking,\n",
    "    ecc_parking,\n",
    "    0 * u.deg,\n",
    "    0 * u.deg,\n",
    "    0 * u.deg,\n",
    "    0 * u.deg,  # We don't mind\n",
    "    time.Time(\"2006-01-19\", scale=\"utc\"),\n",
    ")\n",
    "\n",
    "print(parking.v)\n",
    "parking.plot()"
   ]
  },
  {
   "cell_type": "markdown",
   "metadata": {},
   "source": [
    "## Hyperbolic exit\n",
    "\n",
    "Hyperbolic excess velocity:\n",
    "\n",
    "$$ v_{\\infty}^2 = \\frac{\\mu}{-a} = 2 \\varepsilon = C_3 $$\n",
    "\n",
    "Relation between orbital velocity $v$, local escape velocity $v_e$ and hyperbolic excess velocity $v_{\\infty}$:\n",
    "\n",
    "$$ v^2 = v_e^2 + v_{\\infty}^2 $$\n",
    "\n",
    "### Option a): Insert $C_3$ from report, check $v_e$ at parking perigee"
   ]
  },
  {
   "cell_type": "code",
   "execution_count": 3,
   "metadata": {},
   "outputs": [
    {
     "data": {
      "text/latex": [
       "$16.718069 \\; \\mathrm{\\frac{km}{s}}$"
      ],
      "text/plain": [
       "<Quantity 16.71806884 km / s>"
      ]
     },
     "execution_count": 3,
     "metadata": {},
     "output_type": "execute_result"
    }
   ],
   "source": [
    "C_3_A = 157.6561 * u.km ** 2 / u.s ** 2  # Designed\n",
    "\n",
    "a_exit = -(Earth.k / C_3_A).to(u.km)\n",
    "ecc_exit = 1 - r_p / a_exit\n",
    "\n",
    "exit = Orbit.from_classical(\n",
    "    Earth,\n",
    "    a_exit,\n",
    "    ecc_exit,\n",
    "    0 * u.deg,\n",
    "    0 * u.deg,\n",
    "    0 * u.deg,\n",
    "    0 * u.deg,  # We don't mind\n",
    "    time.Time(\"2006-01-19\", scale=\"utc\"),\n",
    ")\n",
    "\n",
    "norm(exit.v).to(u.km / u.s)"
   ]
  },
  {
   "cell_type": "markdown",
   "metadata": {},
   "source": [
    "Quoting \"New Horizons Mission Design\":\n",
    "\n",
    "> After a short coast in the parking orbit, the spacecraft was then injected into\n",
    "the desired heliocentric orbit by the Centaur second stage and Star 48B third\n",
    "stage. At the Star 48B burnout, the New Horizons spacecraft reached the highest\n",
    "Earth departure speed, **estimated at 16.2 km/s**, becoming the fastest spacecraft\n",
    "ever launched from Earth.  [Emphasis mine]"
   ]
  },
  {
   "cell_type": "code",
   "execution_count": 4,
   "metadata": {},
   "outputs": [
    {
     "name": "stdout",
     "output_type": "stream",
     "text": [
      "Relative error of 3.20 %\n"
     ]
    }
   ],
   "source": [
    "v_estimated = 16.2 * u.km / u.s\n",
    "\n",
    "print(\n",
    "    \"Relative error of {:.2f} %\".format(\n",
    "        (norm(exit.v) - v_estimated) / v_estimated * 100\n",
    "    )\n",
    ")"
   ]
  },
  {
   "cell_type": "markdown",
   "metadata": {},
   "source": [
    "So it stays within the same order of magnitude. Which is reasonable, because real life burns are not instantaneous."
   ]
  },
  {
   "cell_type": "code",
   "execution_count": 5,
   "metadata": {},
   "outputs": [],
   "source": [
    "from plotly.graph_objs import FigureWidget"
   ]
  },
  {
   "cell_type": "code",
   "execution_count": 6,
   "metadata": {},
   "outputs": [
    {
     "data": {
      "application/vnd.jupyter.widget-view+json": {
       "model_id": "b112fe97228f4362974e2ed64169091f",
       "version_major": 2,
       "version_minor": 0
      },
      "text/plain": [
       "FigureWidget({\n",
       "    'data': [{'hoverinfo': 'none',\n",
       "              'line': {'color': 'rgb(31, 119, 180)', 'dash':…"
      ]
     },
     "metadata": {},
     "output_type": "display_data"
    }
   ],
   "source": [
    "fig = FigureWidget()\n",
    "op = OrbitPlotter2D(figure=fig)\n",
    "\n",
    "op.plot(parking)\n",
    "op.plot(exit)\n",
    "\n",
    "fig.layout.xaxis.range = -8000, 8000\n",
    "fig.layout.yaxis.range = -20000, 20000\n",
    "\n",
    "fig"
   ]
  },
  {
   "cell_type": "markdown",
   "metadata": {
    "collapsed": true
   },
   "source": [
    "### Option b): Compute $v_{\\infty}$ using the Jupyter flyby\n",
    "\n",
    "According to Wikipedia, the closest approach occurred at 05:43:40 UTC. We can use this data to compute the solution of the Lambert problem between the Earth and Jupiter."
   ]
  },
  {
   "cell_type": "code",
   "execution_count": 7,
   "metadata": {},
   "outputs": [
    {
     "name": "stderr",
     "output_type": "stream",
     "text": [
      "/home/juanlu/Development/poliastro/poliastro-library/src/poliastro/twobody/orbit.py:375: TimeScaleWarning:\n",
      "\n",
      "Input time was converted to scale='tdb' with value 2006-01-19 19:01:05.184. Use Time(..., scale='tdb') instead.\n",
      "\n",
      "/home/juanlu/Development/poliastro/poliastro-library/src/poliastro/twobody/orbit.py:375: TimeScaleWarning:\n",
      "\n",
      "Input time was converted to scale='tdb' with value 2007-02-28 05:44:45.185. Use Time(..., scale='tdb') instead.\n",
      "\n"
     ]
    }
   ],
   "source": [
    "nh_date = time.Time(\"2006-01-19 19:00\", scale=\"utc\")\n",
    "nh_flyby_date = time.Time(\"2007-02-28 05:43:40\", scale=\"utc\")\n",
    "nh_tof = nh_flyby_date - nh_date\n",
    "\n",
    "nh_earth = Orbit.from_body_ephem(Earth, nh_date)\n",
    "nh_r_0, v_earth = nh_earth.rv()\n",
    "\n",
    "nh_jup = Orbit.from_body_ephem(Jupiter, nh_flyby_date)\n",
    "nh_r_f, v_jup = nh_jup.rv()\n",
    "\n",
    "(nh_v_0, nh_v_f), = iod.lambert(Sun.k, nh_r_0, nh_r_f, nh_tof)"
   ]
  },
  {
   "cell_type": "markdown",
   "metadata": {},
   "source": [
    "The hyperbolic excess velocity is measured with respect to the Earth:"
   ]
  },
  {
   "cell_type": "code",
   "execution_count": 8,
   "metadata": {},
   "outputs": [
    {
     "data": {
      "text/latex": [
       "$158.45628 \\; \\mathrm{\\frac{km^{2}}{s^{2}}}$"
      ],
      "text/plain": [
       "<Quantity 158.45628219 km2 / s2>"
      ]
     },
     "execution_count": 8,
     "metadata": {},
     "output_type": "execute_result"
    }
   ],
   "source": [
    "C_3_lambert = (norm(nh_v_0 - v_earth)).to(u.km / u.s) ** 2\n",
    "C_3_lambert"
   ]
  },
  {
   "cell_type": "code",
   "execution_count": 9,
   "metadata": {},
   "outputs": [
    {
     "name": "stdout",
     "output_type": "stream",
     "text": [
      "Relative error of 0.51 %\n"
     ]
    }
   ],
   "source": [
    "print(\"Relative error of {:.2f} %\".format((C_3_lambert - C_3_A) / C_3_A * 100))"
   ]
  },
  {
   "cell_type": "markdown",
   "metadata": {},
   "source": [
    "Which again, stays within the same order of magnitude of the figure given to the Guo & Farquhar report."
   ]
  },
  {
   "cell_type": "markdown",
   "metadata": {},
   "source": [
    "## From Earth to Jupiter"
   ]
  },
  {
   "cell_type": "code",
   "execution_count": 10,
   "metadata": {},
   "outputs": [
    {
     "name": "stderr",
     "output_type": "stream",
     "text": [
      "/home/juanlu/Development/poliastro/poliastro-library/src/poliastro/twobody/propagation.py:230: UserWarning:\n",
      "\n",
      "Frame <class 'astropy.coordinates.builtin_frames.icrs.ICRS'> does not support 'obstime', time values were not returned\n",
      "\n"
     ]
    },
    {
     "data": {
      "application/vnd.jupyter.widget-view+json": {
       "model_id": "3661d6d8c94845b98ac3cfe94cfa3056",
       "version_major": 2,
       "version_minor": 0
      },
      "text/plain": [
       "FigureWidget({\n",
       "    'data': [{'hoverinfo': 'none',\n",
       "              'line': {'color': 'rgb(31, 119, 180)', 'dash':…"
      ]
     },
     "metadata": {},
     "output_type": "display_data"
    }
   ],
   "source": [
    "nh = Orbit.from_vectors(Sun, nh_r_0.to(u.km), nh_v_0.to(u.km / u.s), nh_date)\n",
    "\n",
    "op = OrbitPlotter2D()\n",
    "\n",
    "op.plot(nh_jup, label=Jupiter)\n",
    "op.plot(nh_earth, label=Earth)\n",
    "op.plot(nh, label=\"New Horizons\")"
   ]
  }
 ],
 "metadata": {
  "kernelspec": {
   "display_name": "Python 3",
   "language": "python",
   "name": "python3"
  },
  "language_info": {
   "codemirror_mode": {
    "name": "ipython",
    "version": 3
   },
   "file_extension": ".py",
   "mimetype": "text/x-python",
   "name": "python",
   "nbconvert_exporter": "python",
   "pygments_lexer": "ipython3",
   "version": "3.7.1"
  },
  "widgets": {
   "application/vnd.jupyter.widget-state+json": {
    "state": {
     "2cc455c86b1e4294b7008bc8f6ddff76": {
      "buffers": [
       {
        "data": "B7Q3+CKPuUAB/k+u6YG5QA/ZOXJLWrlAWA3LGnEYuUDuG/WJnry4QHWvy2YyR7hA+bDyu6W4t0DflNh6ixG3QAV+PeSPUrZAP1uj1nd8tUD2B14DIJC0QAuhFAt8jrNA1Y+egpV4skCGKz/hik+xQIElWlmOFLBArEyiOcmRrUAy8J8cx9uqQHGFwMHhCahAXUdgTgEfpUDobg+oJx6iQKfG47XaFJ5AyjuL0fzNl0Br0rMHLm6RQFhEWeUA+IVAZ2AKcmT4cUC267rTtiZgwD6SK0MyDIHAoOI2RvL9jcDDhrftymiVwDM1GxXyvJvADd9HQXT6oMC+YEOXIgWkwFgKG15h+6bAIbQ3+CLaqcDL8YT+cZ6swIJRME10Ra/A4R0n+jbmsMC1Tq4EYhiywNTNXav/N7PAt9Qrc+dDtMCjInMyBTu1wLamny1aHLbAVAHEHf7mtsCKMAkgIJq3wLOVAY0HNbjA1F4BtxS3uMA6HbiOwR+5wADdYS2ibrnAD0oBRGWjucDWOjBv1L25wNY6MG/UvbnAD0oBRGWjucAA3WEtom65wDoduI7BH7nA1F4BtxS3uMCzlQGNBzW4wIowCSAgmrfAVgHEHf7mtsC2pp8tWhy2wKciczIFO7XAs9Qrc+dDtMDWzV2r/zezwLNOrgRiGLLA4R0n+jbmsMCCUTBNdEWvwMvxhP5xnqzAFrQ3+CLaqcBSChteYfumwL5gQ5ciBaTAEN9HQXT6oMAmNRsV8rybwMOGt+3KaJXAoOI2RvL9jcBkkitDMgyBwLbrutO2JmDAZ2AKcmT4cUBBRFnlAPiFQGTSswcubpFAyjuL0fzNl0CnxuO12hSeQOhuD6gnHqJAX0dgTgEfpUBxhcDB4QmoQDLwnxzH26pArEyiOcmRrUCDJVpZjhSwQIcrP+GKT7FA1Y+egpV4skAJoRQLfI6zQPcHXgMgkLRAQFuj1nd8tUAFfj3kj1K2QN2U2HqLEbdA+rDyu6W4t0B1r8tmMke4QO0b9YmevLhAWQ3LGnEYuUAP2TlyS1q5QAH+T67pgblAB7Q3+CKPuUA=",
        "encoding": "base64",
        "path": [
         "_data",
         0,
         "x",
         "value"
        ]
       },
       {
        "data": "AAAAAAAAAAB49J7mLgl6QNp94pfD+4lAT4gWehNsk0C27WDVP8aZQCGWMkntAqBANa98ZDkSo0APy/fL3A2mQDV/3lLE8qhAKcesO/S9q0CKtGdLi2yuQOO0yODifbBAyv/cGIC0sUCro94d3diyQMjb74/M6bNAQQYRFjXmtECFkSWAEs21QLIRKdN2nbZAYQSAPotWt0CZYmf5kPe3QCO+ngfif7hAXzCC5PHuuECHuuMTTkS5QEjHDpief7lA0SZ8TKaguUDMBdkkQ6e5QP/mH1Buk7lAjnGfPzxluUDM1eeR3By5QEmBtOGZurhA6LsEedk+uEAOdLLoGqq3QP7a8oT3/LZATl5IxyE4tkC164iWZFy1QFIktnWiarRA0Rl/mtRjs0DTRVzsCUmyQLaKTu1lG7FA0zPCGj+4r0DkAkjU/xitQFOM0/bBW6pAaIZLXViDp0D22bXksZKkQCsLNmbWjKFAKsKULsfpnECyaQCnE5yWQAUb3qURN5BAmvB3Q7GCg0BeA3BgigxqQMUDcGCKDGrAmvB3Q7GCg8AFG96lETeQwLJpAKcTnJbAKsKULsfpnMArCzZm1oyhwPbZteSxkqTAYoZLXViDp8BTjNP2wVuqwNoCSNT/GK3A3TPCGj+4r8C0ik7tZRuxwNVFXOwJSbLA0Rl/mtRjs8BSJLZ1omq0wLXriJZkXLXAUl5IxyE4tsAA2/KE9/y2wA50sugaqrfA57sEedk+uMBJgbThmbq4wMzV55HcHLnAjnGfPzxlucD+5h9QbpO5wMwF2SRDp7nA0SZ8TKagucBKxw6Ynn+5wIe64xNORLnAXzCC5PHuuMAjvp4H4n+4wJliZ/mQ97fAYQSAPotWt8CyESnTdp22wIWRJYASzbXAQQYRFjXmtMDG2++PzOmzwKqj3h3d2LLAyv/cGIC0scDntMjg4n2wwIW0Z0uLbK7AJ8esO/S9q8A1f95SxPKowBTL98vcDabAMa98ZDkSo8AgljJJ7QKgwL7tYNU/xpnAQIgWehNsk8DNfeKXw/uJwHj0nuYuCXrAF+lQZAVNfL0=",
        "encoding": "base64",
        "path": [
         "_data",
         0,
         "y",
         "value"
        ]
       },
       {
        "data": "CbQ3+CKPuUA=",
        "encoding": "base64",
        "path": [
         "_data",
         1,
         "x",
         "value"
        ]
       },
       {
        "data": "AAAAAAAAAAA=",
        "encoding": "base64",
        "path": [
         "_data",
         1,
         "y",
         "value"
        ]
       },
       {
        "data": "6Ks3d2JX0MBUT9WkdkTDwBi/sNYbK7fAzNyvlOpxqsB/YhbU+hCZwBQxcne2JXLAEbkuhgVvhkC9LyGRaKyXQCisZKAW4aBApw6UkVMKpUDvrjxARYeoQKnrx5GtfatAYsUG6gQJrkD+y+Or4B6wQKx4Xgu4FbFA2S/bYQzvsUDxUrVEl6+yQLUai+cbW7NA+5j1oqL0s0BcemYDpH60QDVHs3Qo+7RAzg2r599rtUBoffy3M9K1QAN+YGNUL7ZAjfjOKkSEtkCxjmRl39G2QGo88xTjGLdAKkZrJfJZt0DexN2kmZW3QGSHNy5UzLdA1g2Ysoz+t0DSXrrCoCy4QI/lK3LiVrhAFVxG6Jl9uEBIH4WuBqG4QATwe8hgwbhA4jQon9neuEDiflzHnPm4QA8IfKnQEblAoVmGD5cnuUC1XH6dDTu5QDrpdDdOTLlAbzLiV29buUDjqHpYhGi5QAJ8RK+dc7lAKL1dIcl8uUBNSZzsEYS5QMbq9OiAiblASRhkohyNuUBXR+Zr6Y65QFdH5mvpjrlASRhkohyNuUDG6vTogIm5QE1JnOwRhLlAKL1dIcl8uUACfESvnXO5QOOoeliEaLlAcDLiV29buUA66XQ3Tky5QLZcfp0NO7lAoVmGD5cnuUAPCHyp0BG5QOR+XMec+bhA4zQon9neuEAD8HvIYMG4QEgfha4GobhAFVxG6Jl9uECP5Sty4la4QNNeusKgLLhA1w2Ysoz+t0BkhzcuVMy3QN3E3aSZlbdAK0ZrJfJZt0BqPPMU4xi3QLCOZGXf0bZAjfjOKkSEtkADfmBjVC+2QGh9/Lcz0rVAzw2r599rtUA1R7N0KPu0QF96ZgOkfrRA/Jj1oqL0s0CzGovnG1uzQPJStUSXr7JA2S/bYQzvsUCreF4LuBWxQADM46vgHrBAXMUG6gQJrkCp68eRrX2rQPSuPEBFh6hArg6UkVMKpUAwrGSgFuGgQL0vIZForJdAEbkuhgVvhkAUMXJ3tiVywFZiFtT6EJnAWdyvlOpxqsDYvrDWGyu3wCBP1aR2RMPA+Ks3d2JX0MA=",
        "encoding": "base64",
        "path": [
         "_data",
         2,
         "x",
         "value"
        ]
       },
       {
        "data": "8ExOza2a9cDAHtMmVJPvwHBVyDWK4ejAHFEWm5eF5MD93wBadnPhwGc3RO8IVd7AdRwi26XK2sA6Tz5UNfbXwJBDEGerpNXAP3bxGHK008AcQ6JZiA7SwJmsZ7ikotDA38sERNjJzsBiIYjREJnMwN/bP3iBpcrAuyYUTMHkyMCV0p9LoE7HwHc+TeWW3MXAweC2YF+JxMBdXWanq1DDwKh0OKzuLsLAnLtPpTMhwcDKS1ct/yTAwBvudjJvcL7Axi8aPSWyvMBwIw3lDQy7wE9BKdOBe7nAM305xDL+t8ChvvDoHJK2wH0B3gd7NbXAoFP3ybzms8DgDEG+fqSywM4psLuDbbHABitKXK9AsMBQyAy3AjquwEZlv1ojA6zAeLyOWBrbqcB0stuFZcCnwNeLMvihsaXAbC/AzYeto8CnNbiB5rKhwD696mlDgZ/AGtthrlyrm8CUvthAIOKXwAp8gJmuI5TA/K2oHT1ukMB4BK27JICJwISO4zYFL4LANNQFGrLLdcBopxBYYgtdwEimEFhiC11A7dMFGrLLdUCDjuM2BS+CQHkErbskgIlAAq6oHT1ukEACfICZriOUQJG+2EAg4pdAFtthrlyrm0A6veppQ4GfQKQ1uIHmsqFAaS/AzYeto0DYizL4obGlQGqy24VlwKdAdLyOWBrbqUBBZb9aIwOsQErIDLcCOq5ABStKXK9AsEDMKbC7g22xQN0MQb5+pLJAmlP3ybzms0B9Ad4HezW1QJy+8OgckrZAMX05xDL+t0BRQSnTgXu5QHQjDeUNDLtAxC8aPSWyvEAY7nYyb3C+QMlLVy3/JMBAnLtPpTMhwUCodDis7i7CQFddZqerUMNAwOC2YF+JxEB4Pk3lltzFQJLSn0ugTsdAuyYUTMHkyEDi2z94gaXKQF8hiNEQmcxA48sERNjJzkCZrGe4pKLQQBlDolmIDtJAPHbxGHK000CMQxBnq6TVQDpPPlQ19tdAdRwi26XK2kBnN0TvCFXeQPnfAFp2c+FAAlEWm5eF5EBVVcg1iuHoQJIe0yZUk+9A/0xOza2a9UA=",
        "encoding": "base64",
        "path": [
         "_data",
         2,
         "y",
         "value"
        ]
       },
       {
        "data": "CrQ3+CKPuUA=",
        "encoding": "base64",
        "path": [
         "_data",
         3,
         "x",
         "value"
        ]
       },
       {
        "data": "AAAAAAAAAAA=",
        "encoding": "base64",
        "path": [
         "_data",
         3,
         "y",
         "value"
        ]
       }
      ],
      "model_module": "plotlywidget",
      "model_module_version": "^0.6.0",
      "model_name": "FigureModel",
      "state": {
       "_config": {
        "plotlyServerURL": "https://plot.ly"
       },
       "_data": [
        {
         "hoverinfo": "none",
         "line": {
          "color": "rgb(31, 119, 180)",
          "dash": "dash",
          "width": 2
         },
         "mode": "lines",
         "name": "2006-01-19 00:00",
         "type": "scatter",
         "uid": "c0da4385-6a26-4df2-ab80-965988ef7c2f",
         "x": {
          "dtype": "float64",
          "shape": [
           100
          ]
         },
         "y": {
          "dtype": "float64",
          "shape": [
           100
          ]
         }
        },
        {
         "marker": {
          "color": "rgb(31, 119, 180)",
          "size": 10
         },
         "mode": "markers",
         "name": "2006-01-19 00:00",
         "type": "scatter",
         "uid": "197bc35c-f6df-43a2-99cf-ed2435eb9179",
         "x": {
          "dtype": "float64",
          "shape": [
           1
          ]
         },
         "y": {
          "dtype": "float64",
          "shape": [
           1
          ]
         }
        },
        {
         "hoverinfo": "none",
         "line": {
          "color": "rgb(255, 127, 14)",
          "dash": "dash",
          "width": 2
         },
         "mode": "lines",
         "name": "2006-01-19 00:00",
         "type": "scatter",
         "uid": "b2847f68-c046-4349-aa87-9bdc899156e0",
         "x": {
          "dtype": "float64",
          "shape": [
           100
          ]
         },
         "y": {
          "dtype": "float64",
          "shape": [
           100
          ]
         }
        },
        {
         "marker": {
          "color": "rgb(255, 127, 14)",
          "size": 10
         },
         "mode": "markers",
         "name": "2006-01-19 00:00",
         "type": "scatter",
         "uid": "10e91199-c55a-4adf-9590-ef35ebd11030",
         "x": {
          "dtype": "float64",
          "shape": [
           1
          ]
         },
         "y": {
          "dtype": "float64",
          "shape": [
           1
          ]
         }
        }
       ],
       "_js2py_pointsCallback": {},
       "_js2py_relayout": {},
       "_js2py_restyle": {},
       "_js2py_update": {},
       "_last_layout_edit_id": 7,
       "_last_trace_edit_id": 5,
       "_layout": {
        "autosize": true,
        "shapes": [
         {
          "fillcolor": "#204a87",
          "line": {
           "color": "#204a87"
          },
          "opacity": 1,
          "type": "circle",
          "x0": -6378.1366,
          "x1": 6378.1366,
          "xref": "x",
          "y0": -6378.1366,
          "y1": 6378.1366,
          "yref": "y"
         }
        ],
        "template": {},
        "xaxis": {
         "constrain": "domain",
         "range": [
          -8000,
          8000
         ],
         "title": "x (km)"
        },
        "yaxis": {
         "range": [
          -20000,
          20000
         ],
         "scaleanchor": "x",
         "title": "y (km)"
        }
       },
       "_py2js_animate": {},
       "_py2js_deleteTraces": {},
       "_py2js_moveTraces": {},
       "_py2js_removeLayoutProps": {},
       "_py2js_removeTraceProps": {},
       "_py2js_restyle": {},
       "_view_count": 1
      }
     },
     "3661d6d8c94845b98ac3cfe94cfa3056": {
      "buffers": [
       {
        "data": "GEarvTT/xUHLpA7xRvPFQW7iJNeJz8VBJ3EFRyKUxUHbTfl8TUHFQdWLW9tg18RB+EOVkslWxEFpoY8wDMDDQVsSEBjEE8NBiXaL4KJSwkETaBWfb33BQR5UKBkGlcBBCNwzxKs0v0FACUvIwhy9QamWFax55LpBEV2nPBqOuEGDZ81KDRy2QcFDOi/YkLNBfU5JMRrvsEEmcw2mE3OsQc0wiwrk5aZBC9hLjV48oUFIhgnCsviWQSTMgKYHr4ZB4JWq9a+0N8FpJn5tfDyIwWY+cHSi2pfBM8p/PfPDocH7XAlyAI2nwYWanySCQq3B1U3j40pvscHnQFyCuS20wdxOrti42bbB5gWK0odwucFoeiwze++7wZ0Dq1UAVL7BEory6c9NwMEUJ7AIAGLBwXH0t9NzZcLBQhEU2B9Xw8F2WeD2CjbEwdXvFmZPAcXBGGFvnRu4xcGvNFwus1nGwb9ESIZv5cbB4qNLmsBax8GoEKd7LbnHwfbnbNRUAMjBlBXXS+0vyMFxleLRxUfIwW+V4tHFR8jBjRXXS+0vyMHo52zUVADIwZYQp3stucfByaNLmsBax8GiREiGb+XGwYs0XC6zWcbB8WBvnRu4xcGn7xZmTwHFwUdZ4PYKNsTBDhEU2B9Xw8E59LfTc2XCwdUmsAgAYsHB1Yny6c9NwMEWA6tVAFS+wdh5LDN777vBUwWK0odwucE/Tq7YuNm2wTpAXIK5LbTBOE3j40pvscEomZ8kgkKtwapbCXIAjafB88h/PfPDocGvO3B0otqXwbYgfm18PIjBIOup9a+0N8Eu0YCmB6+GQfCICcKy+JZBVtlLjV48oUEBMosK5OWmQVV0DaYTc6xBGE9JMRrvsEFMRDov2JCzQR1ozUoNHLZBlF2nPBqOuEE3lxWseeS6Qb4JS8jCHL1BetwzxKs0v0FQVCgZBpXAQURoFZ9vfcFBuHaL4KJSwkGEEhAYxBPDQY2hjzAMwMNBF0SVkslWxEHvi1vbYNfEQe9N+XxNQcVBN3EFRyKUxUF44iTXic/FQdGkDvFG88VBGEarvTT/xUE=",
        "encoding": "base64",
        "path": [
         "_data",
         0,
         "x",
         "value"
        ]
       },
       {
        "data": "AAAAAACc1D7ygZhELHWHQaF8ByMVaZdBvPKTK7l/oUHUnOz53TinQahPQ68S2qxBPrSj1cQusUGCPAb7yd6zQS4z7Y1TerZBpJmscbH+uEFUnBpsS2m7QWm3QtKjt71B8hW4GVrnv0FNy/ClFvvAQYFqXCz/8MFBe5FLI2nUwkE+smceaqTDQRoMfbMrYMRBEa6AV+wGxUG/oBImAJjFQeKPrpLREsZBo0zUAuJ2xkGoP4lQysPGQdVDrDQ7+cZBAU+umP0Wx0HyqlvP8hzHQZU1e7QUC8dBcA8js3XhxkHpMbyyQKDGQWp/yOq4R8ZBcOSYnTnYxUHl9Tq6NVLFQagF/2U3tsRB0M0Qbt8ExEGufbWh5D7DQXYG2hUTZcJB3uezUkt4wUFFWE1sgXnAQRq81g14075BsGqikCaUvEG0LvBtXze6QawiyhCSv7dBUASwv0kvtUE86z39KomyQXSPn53hn69BVQbh19MMqkHpEfey616kQf6wsc0HOJ1BbuOooRmUkUEvNquiMnh3QcRBq6IyeHfBSOaooRmUkcHXs7HNBzidwVsT97LrXqTBtgfh19MMqsHEkJ+d4Z+vweTrPf0qibLB7gSwv0kvtcFKI8oQkr+3wUYv8G1fN7rBRGuikCaUvMGivNYNeNO+wYhYTWyBecDBF+izUkt4wcGtBtoVE2XCweJ9taHkPsPBAM4Qbt8ExMHVBf9lN7bEwQz2Oro1UsXBkOSYnTnYxcGIf8jquEfGwf8xvLJAoMbBgA8js3XhxsGgNXu0FAvHwfmqW8/yHMfBAU+umP0Wx8HQQ6w0O/nGwZ0/iVDKw8bBlEzUAuJ2xsHOj66S0RLGwaSgEiYAmMXB8q2AV+wGxcH6C32zK2DEwRCyZx5qpMPBT5FLI2nUwsFKalws//DBwRbL8KUW+8DBgxW4GVrnv8H9tkLSo7e9wdybGmxLabvBHJmscbH+uMGoMu2NU3q2wfE7BvvJ3rPBp7Oj1cQuscGKTkOvEtqswaab7PndOKfBg/GTK7l/ocHoeQcjFWmXwVx8mEQsdYfBAAAAAAAA1D4=",
        "encoding": "base64",
        "path": [
         "_data",
         0,
         "y",
         "value"
        ]
       },
       {
        "data": "ZEubY7/RvcE=",
        "encoding": "base64",
        "path": [
         "_data",
         1,
         "x",
         "value"
        ]
       },
       {
        "data": "tHNwOOCVwsE=",
        "encoding": "base64",
        "path": [
         "_data",
         1,
         "y",
         "value"
        ]
       },
       {
        "data": "YC9L/zEOecFLxQrve/OAwSQN498wToXB3cLSwbqSicFkSHdes7yNwfXRKfHn45DBAg3BpPLXksFEmM1VdriUwZUmMrGDg5bB4j9/g0E3mMEoaLyg7tGZwUs2bLPjUZvBUBHu8JS1nMEiv3uxk/udwQQ0HuqPIp/B3wOKw6wUoMFlPqLScIegwbb+vdQd6aDBVhspGk85ocF1M9/4sXehwdnywSEGpKHBz5vj4h2+ocGYgaFW3sWhwQ/lXX8/u6HBC5+8T0yeocG4GlqfIm+hwRlCCAzzLaHBNhKxxwDboMFOgBJToXagwR4WmyU8AaDBAEGEhZT2nsEgw5J6q8qdwdS50VHyf5zBjuru9b0Xm8FAOGm1gZOZwepn0MPN9JfBKNc7nU09lsGZZKFNxm6UwZzI0p0Ui5LBhsUCKCuUkMHDoJmrIBiNwZ0DopO46YjBHlcWbm2hhMEJiT1QqUOAwSWZh+PYqXfBXCn+IyJnbcEe42yp4LZWwRzRA0gm80pBcqdokOTOaEEFg/r6H2R1QWSofEoqS35BOqgB97GJg0FvqlOw39mHQRJjIhusEYxBNzSEEV8WkEH961cobROSQchLV5Pz/ZNBUUqurfjTlUE2aqT1l5OXQcFeDQAEO5lBePjsU4jImkEgDGQsizqcQdKJFh+Pj51BXFhXpTTGnkHDq4SGO92fQTynDxHCaaBBHE0kTAjUoEFav7rnAi2hQSZpJCtWdKFBMw5WkLipoUFO9rEP88yhQTC/wVjh3aFBK1ul93HcoUE7phBnpsihQRcGxQ6ToqFBoaeILl9qoUE+CLG1RCChQS6AageQxKBBJF36q59XoEEkcZnex7OfQU35ZNq8l55BodaNF0NcnUHRvwzJnwKcQSK3Yzk3jJpBaUZYW4v6mEGGdRs8Ok+XQfaXeVj8i5VBN+fJ1qKyk0EE+3GnFcWRQVPE1hujio9BIq+jKMxqi0ESXi3X5i6HQXwSFHVQ24JBID/wd/3ofEEaYR9x9v1zQS4yNHV6/WVB/BbzrIBJP0HfTbCWnlxcwVvDGrcuG3DBWS9L/zEOecE=",
        "encoding": "base64",
        "path": [
         "_data",
         2,
         "x",
         "value"
        ]
       },
       {
        "data": "qk+Z6YVEoUGr/zXrywehQfT9tAc7uaBB1VrjOyRZoEGTnXMp1c+fQRpthJIFzJ5B2jqPhOWnnUEwtpkgomScQdUesKCIA5tBxPJlAAWGmUENaKKFoO2XQZR2OysAPJZBcVUB7+JylEFhwPkEIJSSQcb9pfGkoZBBSq+QGuc6jUFr4GrkPxOJQWHoprCc0IRBeCb5v2F3gEFsHS06FRh4QUbWLfeVTG5Bir6fhnSKWEGKyiwrTE1HwXSFap1q6mfBdM0KULP2dMGm90X82uR9wQi1l9o7W4PBbLpcJDmxh8GFPfYn7e+LwSyMddl7CZDB0wE/iwoLksHMCYFGkfqTwc87oT4R1pXBCDnMS6Cbl8Eh/jjkakmZwZC1G/613ZrBejxX2OBWnMGIlRaoZrOdwfZxkyng8Z7BYVg2iYIIoMFfiQey1oegwZemaU5p9qDBgnpLY8hTocF0qdywk5+hwYLyxBV92aHBOgGu30gBosHNyswIzhaiwdcHK2L2GaLBnDOFqr4KosFJfqWRNumhwcY8OKiAtaHBZYEqPNJvocHBl7chcxihwQIIXmm9r6DBvXQIAx02oMEoDpSdHlifwQU1QjdFJJ7BMMOKKevRnMFpdTE8bWKbwYOdxkBG15nBzo8ojA0ymMHkyKBSdXSWweKeTehIoJTB2eCl52q3ksEGeP4/07uQwXa2JVwaX43BzZtPQWopicGg0egW7dqEwfNbH1UTeIDBU4PD4sQKeMEAffPUwB1uwREsJiPwFljBMsmBk746SEF9p59RDR5oQfEah4sBCHVBcmq+swjpfUFyBquFelSDQa4NGs5gn4dBzIoybsrQi0Ev27zmZOSPQUWqbjn+6pFB8KeALsDQk0G6JNSXg6GVQcSd215pW5dB5AcX/6n8mEGGgKJbl4OaQZntlHqe7ptB9oVlJEk8nUHeDKxlP2ueQRcervFIep9BeAcmMic0oEHcxQAxLZqgQTKIaErN7qBBscKKQrAxoUECQK0mkWKhQbjhQJQ9gaFBh73R7JWNoUEbDZ92jYehQbRXuWkqb6FBq0+Z6YVEoUE=",
        "encoding": "base64",
        "path": [
         "_data",
         2,
         "y",
         "value"
        ]
       },
       {
        "data": "IBYIvvpDgME=",
        "encoding": "base64",
        "path": [
         "_data",
         3,
         "x",
         "value"
        ]
       },
       {
        "data": "DEbkC3ISoUE=",
        "encoding": "base64",
        "path": [
         "_data",
         3,
         "y",
         "value"
        ]
       },
       {
        "data": "Zno8PjoTyEEKTY5yiCHGQfhv2KFtbsRBMndd9WbuwkE0gk0FmpjBQTcVVQUbZsBB9gQpZtmivkFNCU04TKy8QUjloJhj4bpBhUz81Dw8uUG1+xYQ97e3Qf0sSz5+ULZBlQm3smICtUFnovTkucqzQRQOWxIGp7JBfEq7CCOVsUF9cQbfNpOwQYfNK2dLP69B0Q1Ohg9yrUE9rdisQryrQfoIqka4G6pBqTxwrIOOqEGL6noQ7xKnQa3/kepzp6VBFoX1mrRKpEHQEqoLd/uiQVEFxiKguKFBSjFv4S+BoEGq2H4kfKieQdalnN7uYZxBEeMAWTYtmkHuwnOs8QiYQY5mve7c85VB6QOZ983sk0F1bZeMsfKRQb0Z5uSIBJBBDbK58M5CjEGZQWQe4pCIQcKJsxKw8YRBfKvaq7djgUHobHZQHst7QUzvcmDD63RB8lXIebRNbEG00oXw/+ddQfBaSQjuXSxBi8f5sgiCVsE5AoeM0CRowXGLSL3BdHLBk5QThHvJeMFyyusMcxJ/wcFqT0m8qILB8qF8oCjEhcHSlmehXNyIwSQ+Yt0y8ovBW6vWVYMGj8G7SEc1Eg2RwY7tIuL1lpLBgdfWnlchlMFyxH/moqyVwXpzIThEOZfB2cc5j6nHmMH5feXfQliawdutxpeC65vBAILxJN6BncGgRT2EzhufwZAHPGzoXKDBNkwRhjMuocELssQ/DAKiwZa/pGK52KLB3cvJN4Wyo8Gu72j4vY+kwXpcW0m2cKXBllWXw8VVpsEdq52LST+nwfoEMvqkLajBgIgYWUIhqcFpLQy3kxqqwTo1s9YTGqvB26IIPUcgrMGZA4pkvS2twVsighsSQ67BzyQQFe9gr8Fg0w/bBkSwwXK/v5Sc3LDBq2JfZKh6scGikkx1pR6ywRhJ3BUcybLBmjzZpaN6s8GpAWbf5DO0waMF446c9bTBVDE91J7AtcEcMMYP25W2wS2NO6dgdrfBpRwm3mRjuMEo3RwRSl65wQY6ocCoaLrB0c3vAluEu8G4TQM0i7O8wcvAZx3H+L3BsNnMaxlXv8E=",
        "encoding": "base64",
        "path": [
         "_data",
         4,
         "x",
         "value"
        ]
       },
       {
        "data": "jN7Cs656t8E4rMuMkh+zwWr7WAev8a7BiMeJb/rDqMH3jNFEyn6jwXApizRN753BjWugjOQalsGnl0K1H5iOwZBK3XcbsoLB5if0h76AcMGAKUPdgX0+QcCHQ3iXL3JB31wa2H1QgEGX1+LMCL2GQRQC7Nxvd4xBII1M29HKkEEFSS3fHxWTQUKd8h2QIpVB4MGlNe35lkHKqheWDqGYQYAuOLH/HJpBgaTK8h9ym0GfBDf7PKScQc5uU0Ootp1BUR08DkmsnkEOJBBdq4efQUvHVjmGJaBB9i40rDJ8oEGWYgvfucigQdXyDL/gC6FBfCQOgFVGoUGMGxxVsnihQbsvuMN/o6FBbgevoTbHoUE+JajKQeShQSEKQpj/+qFBjRSzJcMLokELbmJm1RaiQSgerRV2HKJBTe4DhdwcokG/R7RMOBiiQQbv9+KxDqJBsIdOHGsAokFqi6KXf+2hQepUTRgF1qFB6Vevzwu6oUErlb+XnpmhQadErR/DdKFBInFuC3pLoUErB9wGvx2hQe4NxsyI66BBuPo3Ism0oEHGAfTFbHmgQbS1+1NbOaBBTPuVOe7on0HuXW7fOVWfQSA8W69Ht55BhsGjkrkOnkHTW3WCJFudQTn9haEPnJxB2H8jL/PQm0GmFzVPN/maQaQ21aEyFJpBTLslpCghmUG4I83SRx+YQRAfH4WnDZdBMR1AdkXrlUFWG4rvAreUQcl0BIWhb5NB9lrHUb8TkkEGVoWe0qGQQYFqEbBJMI5BIR8HbJnpikGlwrbXTmuHQbSCjGmhsINBWAi3CGZof0G1pRoZ9N92QYnZDCOedGtBUI2kdIdAT0FIEkCb9aBawSE+lWp7CnLBkGi/7VlVfsFCrH7ubNGFwUbUpCFzCI3BfHGwH4RwksF7qivtnbeWwbCgq9g5ZZvBPuoOmIdDoMHTVYf9pBajwd7BaqaMNabB4mIopLKrqcEqhngY3YatwUoAe8/e67DB8aao8F1Zs8FjK19Bghi2wbUbkkT8OLnBQp+JsZPOvMF2sBL6RHnAwRDOzEHK4sLBcsRJ91+5xcE=",
        "encoding": "base64",
        "path": [
         "_data",
         4,
         "y",
         "value"
        ]
       },
       {
        "data": "IBYIvvpDgME=",
        "encoding": "base64",
        "path": [
         "_data",
         5,
         "x",
         "value"
        ]
       },
       {
        "data": "DEbkC3ISoUE=",
        "encoding": "base64",
        "path": [
         "_data",
         5,
         "y",
         "value"
        ]
       }
      ],
      "model_module": "plotlywidget",
      "model_module_version": "^0.6.0",
      "model_name": "FigureModel",
      "state": {
       "_config": {
        "plotlyServerURL": "https://plot.ly"
       },
       "_data": [
        {
         "hoverinfo": "none",
         "line": {
          "color": "rgb(31, 119, 180)",
          "dash": "dash",
          "width": 2
         },
         "mode": "lines",
         "name": "2007-02-28 05:44 (Jupiter (♃))",
         "type": "scatter",
         "uid": "bd5fd53b-4570-4aa4-abf5-ce627baff17e",
         "x": {
          "dtype": "float64",
          "shape": [
           100
          ]
         },
         "y": {
          "dtype": "float64",
          "shape": [
           100
          ]
         }
        },
        {
         "marker": {
          "color": "rgb(31, 119, 180)",
          "size": 10
         },
         "mode": "markers",
         "name": "2007-02-28 05:44 (Jupiter (♃))",
         "type": "scatter",
         "uid": "fd26a0a2-938d-4b99-b567-a9fcf192751a",
         "x": {
          "dtype": "float64",
          "shape": [
           1
          ]
         },
         "y": {
          "dtype": "float64",
          "shape": [
           1
          ]
         }
        },
        {
         "hoverinfo": "none",
         "line": {
          "color": "rgb(255, 127, 14)",
          "dash": "dash",
          "width": 2
         },
         "mode": "lines",
         "name": "2006-01-19 19:01 (Earth (♁))",
         "type": "scatter",
         "uid": "6c06f4bb-a3e4-46f6-9a39-88be623fcfc8",
         "x": {
          "dtype": "float64",
          "shape": [
           100
          ]
         },
         "y": {
          "dtype": "float64",
          "shape": [
           100
          ]
         }
        },
        {
         "marker": {
          "color": "rgb(255, 127, 14)",
          "size": 10
         },
         "mode": "markers",
         "name": "2006-01-19 19:01 (Earth (♁))",
         "type": "scatter",
         "uid": "dd90bf12-8b38-4c4b-845a-41651bc99f77",
         "x": {
          "dtype": "float64",
          "shape": [
           1
          ]
         },
         "y": {
          "dtype": "float64",
          "shape": [
           1
          ]
         }
        },
        {
         "hoverinfo": "none",
         "line": {
          "color": "rgb(44, 160, 44)",
          "dash": "dash",
          "width": 2
         },
         "mode": "lines",
         "name": "2006-01-19 19:00 (New Horizons)",
         "type": "scatter",
         "uid": "c56106a5-49ee-43f8-860f-573362a7e66b",
         "x": {
          "dtype": "float64",
          "shape": [
           100
          ]
         },
         "y": {
          "dtype": "float64",
          "shape": [
           100
          ]
         }
        },
        {
         "marker": {
          "color": "rgb(44, 160, 44)",
          "size": 10
         },
         "mode": "markers",
         "name": "2006-01-19 19:00 (New Horizons)",
         "type": "scatter",
         "uid": "72b53629-7346-4772-8878-6c6eabfac072",
         "x": {
          "dtype": "float64",
          "shape": [
           1
          ]
         },
         "y": {
          "dtype": "float64",
          "shape": [
           1
          ]
         }
        }
       ],
       "_js2py_pointsCallback": {},
       "_js2py_relayout": {},
       "_js2py_restyle": {},
       "_js2py_update": {},
       "_last_layout_edit_id": 7,
       "_last_trace_edit_id": 7,
       "_layout": {
        "autosize": true,
        "shapes": [
         {
          "fillcolor": "#ffcc00",
          "line": {
           "color": "#ffcc00"
          },
          "opacity": 1,
          "type": "circle",
          "x0": -110714015.30071202,
          "x1": 110714015.30071202,
          "xref": "x",
          "y0": -110714015.30071202,
          "y1": 110714015.30071202,
          "yref": "y"
         }
        ],
        "template": {},
        "xaxis": {
         "constrain": "domain",
         "title": {
          "text": "x (km)"
         }
        },
        "yaxis": {
         "scaleanchor": "x",
         "title": {
          "text": "y (km)"
         }
        }
       },
       "_py2js_animate": {},
       "_py2js_deleteTraces": {},
       "_py2js_moveTraces": {},
       "_py2js_removeLayoutProps": {},
       "_py2js_removeTraceProps": {},
       "_py2js_restyle": {},
       "_view_count": 1
      }
     },
     "b112fe97228f4362974e2ed64169091f": {
      "buffers": [
       {
        "data": "B7Q3+CKPuUAB/k+u6YG5QA/ZOXJLWrlAWA3LGnEYuUDuG/WJnry4QHWvy2YyR7hA+bDyu6W4t0DflNh6ixG3QAV+PeSPUrZAQFuj1nd8tUD2B14DIJC0QAuhFAt8jrNA14+egpV4skCHKz/hik+xQIElWlmOFLBAsUyiOcmRrUA18J8cx9uqQHGFwMHhCahAXUdgTgEfpUDrbg+oJx6iQLTG47XaFJ5AyjuL0fzNl0Bx0rMHLm6RQEtEWeUA+IVAZ2AKcmT4cUDp67rTtiZgwD6SK0MyDIHAoOI2RvL9jcDJhrftymiVwDM1GxXyvJvADd9HQXT6oMDBYEOXIgWkwFIKG15h+6bAIbQ3+CLaqcDL8YT+cZ6swH1RME10Ra/A3x0n+jbmsMCzTq4EYhiywNTNXav/N7PAs9Qrc+dDtMCjInMyBTu1wLamny1aHLbAVAHEHf7mtsCKMAkgIJq3wLOVAY0HNbjA1F4BtxS3uMA6HbiOwR+5wADdYS2ibrnAD0oBRGWjucDWOjBv1L25wNU6MG/UvbnADEoBRGWjucD53GEtom65wDIduI7BH7nAzF4BtxS3uMColQGNBzW4wHswCSAgmrfASgHEHf7mtsCkpp8tWhy2wJIiczIFO7XAodQrc+dDtMC/zV2r/zezwJ1OrgRiGLLAyx0n+jbmsMBXUTBNdEWvwI7xhP5xnqzA1rM3+CLaqcAdChteYfumwIZgQ5ciBaTA1N5HQXT6oMCSNBsV8rybwC2Gt+3KaJXApOE2RvL9jcBZkStDMgyBwB/nutO2JmDAl2IKcmT4cUA9RVnlAPiFQOjSswcubpFASzyL0fzNl0Ajx+O12hSeQCdvD6gnHqJAnEdgTgEfpUCjhcDB4QmoQGjwnxzH26pA60yiOcmRrUCaJVpZjhSwQKgrP+GKT7FA6Y+egpV4skAeoRQLfI6zQA4IXgMgkLRAWVuj1nd8tUASfj3kj1K2QOqU2HqLEbdAB7Hyu6W4t0B/r8tmMke4QPYb9YmevLhAXw3LGnEYuUAT2TlyS1q5QAP+T67pgblAB7Q3+CKPuUA=",
        "encoding": "base64",
        "path": [
         "_data",
         0,
         "x",
         "value"
        ]
       },
       {
        "data": "AAAAAAAAAAB19J7mLgl6QNd94pfD+4lATogWehNsk0C27WDVP8aZQCCWMkntAqBANa98ZDkSo0APy/fL3A2mQDF/3lLE8qhAJsesO/S9q0CItGdLi2yuQOO0yODifbBAyP/cGIC0sUCqo94d3diyQMjb74/M6bNAQAYRFjXmtECFkSWAEs21QLIRKdN2nbZAYQSAPotWt0CYYmf5kPe3QCK+ngfif7hAXzCC5PHuuECHuuMTTkS5QEjHDpief7lA0SZ8TKaguUDMBdkkQ6e5QP/mH1Buk7lAjnGfPzxluUDM1eeR3By5QEmBtOGZurhA6LsEedk+uEANdLLoGqq3QADb8oT3/LZATl5IxyE4tkC164iWZFy1QFQktnWiarRA1Bl/mtRjs0DVRVzsCUmyQLaKTu1lG7FA3TPCGj+4r0DkAkjU/xitQFOM0/bBW6pAaIZLXViDp0D22bXksZKkQCsLNmbWjKFAKsKULsfpnECyaQCnE5yWQAUb3qURN5BAmvB3Q7GCg0BeA3BgigxqQJEHcGCKDGrAc/F3Q7GCg8CXG96lETeQwDRqAKcTnJbAksKULsfpnMBlCzZm1oyhwDnateSxkqTAkoZLXViDp8CSjNP2wVuqwBUDSNT/GK3ADTTCGj+4r8DMik7tZRuxwOtFXOwJSbLA5Rl/mtRjs8BiJLZ1omq0wMrriJZkXLXAY15IxyE4tsAO2/KE9/y2wBp0sugaqrfA8rsEedk+uMBUgbThmbq4wNTV55HcHLnAk3GfPzxlucAB5x9QbpO5wM0F2SRDp7nAzyZ8TKagucBFxw6Ynn+5wIK64xNORLnAVTCC5PHuuMAavp4H4n+4wI1iZ/mQ97fAUgSAPotWt8ClESnTdp22wHWRJYASzbXAKwYRFjXmtMC02++PzOmzwIyj3h3d2LLAtP/cGIC0scDOtMjg4n2wwEm0Z0uLbK7A2sasO/S9q8AFf95SxPKowN/K98vcDabA8q58ZDkSo8DjlTJJ7QKgwDXtYNU/xpnAu4cWehNsk8DUfOKXw/uJwFjynuYuCXrAyDzEwtMvvj0=",
        "encoding": "base64",
        "path": [
         "_data",
         0,
         "y",
         "value"
        ]
       },
       {
        "data": "CbQ3+CKPuUA=",
        "encoding": "base64",
        "path": [
         "_data",
         1,
         "x",
         "value"
        ]
       },
       {
        "data": "AAAAAAAAAAA=",
        "encoding": "base64",
        "path": [
         "_data",
         1,
         "y",
         "value"
        ]
       },
       {
        "data": "6Ks3d2JX0MBUT9WkdkTDwBi/sNYbK7fAzNyvlOpxqsB/YhbU+hCZwBQxcne2JXLAEbkuhgVvhkC9LyGRaKyXQCisZKAW4aBApw6UkVMKpUDvrjxARYeoQKnrx5GtfatAYsUG6gQJrkD+y+Or4B6wQKx4Xgu4FbFA2S/bYQzvsUDxUrVEl6+yQLMai+cbW7NA+5j1oqL0s0BcemYDpH60QDVHs3Qo+7RAzg2r599rtUBoffy3M9K1QAN+YGNUL7ZAjfjOKkSEtkCxjmRl39G2QGo88xTjGLdAKkZrJfJZt0DexN2kmZW3QGSHNy5UzLdA1g2Ysoz+t0DSXrrCoCy4QI/lK3LiVrhAFVxG6Jl9uEBIH4WuBqG4QATwe8hgwbhA4jQon9neuEDiflzHnPm4QA8IfKnQEblAoVmGD5cnuUC1XH6dDTu5QDrpdDdOTLlAbzLiV29buUDjqHpYhGi5QAJ8RK+dc7lAKL1dIcl8uUBNSZzsEYS5QMbq9OiAiblASRhkohyNuUBXR+Zr6Y65QFdH5mvpjrlASRhkohyNuUDG6vTogIm5QE1JnOwRhLlAKL1dIcl8uUACfESvnXO5QOOoeliEaLlAcDLiV29buUA66XQ3Tky5QLZcfp0NO7lAoVmGD5cnuUAPCHyp0BG5QON+XMec+bhA4zQon9neuEAD8HvIYMG4QEgfha4GobhAFVxG6Jl9uECP5Sty4la4QNNeusKgLLhA1w2Ysoz+t0BkhzcuVMy3QN3E3aSZlbdAK0ZrJfJZt0BqPPMU4xi3QLCOZGXf0bZAjfjOKkSEtkADfmBjVC+2QGh9/Lcz0rVAzw2r599rtUA1R7N0KPu0QF96ZgOkfrRA/Jj1oqL0s0CyGovnG1uzQPJStUSXr7JA2S/bYQzvsUCreF4LuBWxQADM46vgHrBAXMUG6gQJrkCp68eRrX2rQPSuPEBFh6hArg6UkVMKpUAwrGSgFuGgQL0vIZForJdAEbkuhgVvhkAUMXJ3tiVywFZiFtT6EJnAWdyvlOpxqsDYvrDWGyu3wCBP1aR2RMPA+Ks3d2JX0MA=",
        "encoding": "base64",
        "path": [
         "_data",
         2,
         "x",
         "value"
        ]
       },
       {
        "data": "8ExOza2a9cDAHtMmVJPvwHBVyDWK4ejAHFEWm5eF5MD93wBadnPhwGc3RO8IVd7AdRwi26XK2sA6Tz5UNfbXwJBDEGerpNXAP3bxGHK008AcQ6JZiA7SwJmsZ7ikotDA38sERNjJzsBiIYjREJnMwN/bP3iBpcrAuyYUTMHkyMCV0p9LoE7HwHg+TeWW3MXAweC2YF+JxMBdXWanq1DDwKh0OKzuLsLAnLtPpTMhwcDKS1ct/yTAwBvudjJvcL7AxC8aPSWyvMBwIw3lDQy7wE9BKdOBe7nAM305xDL+t8ChvvDoHJK2wH0B3gd7NbXAoFP3ybzms8DgDEG+fqSywM4psLuDbbHABitKXK9AsMBQyAy3AjquwEZlv1ojA6zAeLyOWBrbqcB0stuFZcCnwNeLMvihsaXAbC/AzYeto8CnNbiB5rKhwD696mlDgZ/AGtthrlyrm8CUvthAIOKXwAp8gJmuI5TA/K2oHT1ukMB4BK27JICJwISO4zYFL4LANNQFGrLLdcBopxBYYgtdwEimEFhiC11A7dMFGrLLdUCDjuM2BS+CQHkErbskgIlAAq6oHT1ukEACfICZriOUQJG+2EAg4pdAFtthrlyrm0A6veppQ4GfQKQ1uIHmsqFAaS/AzYeto0DYizL4obGlQG+y24VlwKdAdLyOWBrbqUBBZb9aIwOsQErIDLcCOq5ABStKXK9AsEDMKbC7g22xQN0MQb5+pLJAmlP3ybzms0B9Ad4HezW1QJy+8OgckrZAMX05xDL+t0BRQSnTgXu5QHQjDeUNDLtAxC8aPSWyvEAY7nYyb3C+QMlLVy3/JMBAnLtPpTMhwUCodDis7i7CQFddZqerUMNAwOC2YF+JxEB7Pk3lltzFQJLSn0ugTsdAuyYUTMHkyEDi2z94gaXKQF8hiNEQmcxA48sERNjJzkCZrGe4pKLQQBlDolmIDtJAPHbxGHK000CMQxBnq6TVQDpPPlQ19tdAdRwi26XK2kBnN0TvCFXeQPnfAFp2c+FAAlEWm5eF5EBVVcg1iuHoQJIe0yZUk+9A/0xOza2a9UA=",
        "encoding": "base64",
        "path": [
         "_data",
         2,
         "y",
         "value"
        ]
       },
       {
        "data": "CrQ3+CKPuUA=",
        "encoding": "base64",
        "path": [
         "_data",
         3,
         "x",
         "value"
        ]
       },
       {
        "data": "AAAAAAAAAAA=",
        "encoding": "base64",
        "path": [
         "_data",
         3,
         "y",
         "value"
        ]
       }
      ],
      "model_module": "plotlywidget",
      "model_module_version": "^0.6.0",
      "model_name": "FigureModel",
      "state": {
       "_config": {
        "plotlyServerURL": "https://plot.ly"
       },
       "_data": [
        {
         "hoverinfo": "none",
         "line": {
          "color": "rgb(31, 119, 180)",
          "dash": "dash",
          "width": 2
         },
         "mode": "lines",
         "name": "2006-01-19 00:00",
         "type": "scatter",
         "uid": "a5740843-d335-433a-8f36-353f433febd5",
         "x": {
          "dtype": "float64",
          "shape": [
           100
          ]
         },
         "y": {
          "dtype": "float64",
          "shape": [
           100
          ]
         }
        },
        {
         "marker": {
          "color": "rgb(31, 119, 180)",
          "size": 10
         },
         "mode": "markers",
         "name": "2006-01-19 00:00",
         "type": "scatter",
         "uid": "4b644282-e3b3-4bf8-9e45-228b0b031aec",
         "x": {
          "dtype": "float64",
          "shape": [
           1
          ]
         },
         "y": {
          "dtype": "float64",
          "shape": [
           1
          ]
         }
        },
        {
         "hoverinfo": "none",
         "line": {
          "color": "rgb(255, 127, 14)",
          "dash": "dash",
          "width": 2
         },
         "mode": "lines",
         "name": "2006-01-19 00:00",
         "type": "scatter",
         "uid": "1f5a47d9-fa07-4cb5-9196-22ddb3b8ad28",
         "x": {
          "dtype": "float64",
          "shape": [
           100
          ]
         },
         "y": {
          "dtype": "float64",
          "shape": [
           100
          ]
         }
        },
        {
         "marker": {
          "color": "rgb(255, 127, 14)",
          "size": 10
         },
         "mode": "markers",
         "name": "2006-01-19 00:00",
         "type": "scatter",
         "uid": "474ef7d3-c169-4b4c-b32c-d22bbbe14fdb",
         "x": {
          "dtype": "float64",
          "shape": [
           1
          ]
         },
         "y": {
          "dtype": "float64",
          "shape": [
           1
          ]
         }
        }
       ],
       "_js2py_pointsCallback": {},
       "_js2py_relayout": {},
       "_js2py_restyle": {},
       "_js2py_update": {},
       "_last_layout_edit_id": 7,
       "_last_trace_edit_id": 5,
       "_layout": {
        "autosize": true,
        "shapes": [
         {
          "fillcolor": "#204a87",
          "line": {
           "color": "#204a87"
          },
          "opacity": 1,
          "type": "circle",
          "x0": -6378.1366,
          "x1": 6378.1366,
          "xref": "x",
          "y0": -6378.1366,
          "y1": 6378.1366,
          "yref": "y"
         }
        ],
        "template": {},
        "xaxis": {
         "constrain": "domain",
         "range": [
          -8000,
          8000
         ],
         "title": {
          "text": "x (km)"
         }
        },
        "yaxis": {
         "range": [
          -20000,
          20000
         ],
         "scaleanchor": "x",
         "title": {
          "text": "y (km)"
         }
        }
       },
       "_py2js_animate": {},
       "_py2js_deleteTraces": {},
       "_py2js_moveTraces": {},
       "_py2js_removeLayoutProps": {},
       "_py2js_removeTraceProps": {},
       "_py2js_restyle": {},
       "_view_count": 1
      }
     },
     "c88afb920e80405a8625b0ef2467f844": {
      "buffers": [
       {
        "data": "B7Q3+CKPuUAB/k+u6YG5QA/ZOXJLWrlAWA3LGnEYuUDuG/WJnry4QHWvy2YyR7hA+bDyu6W4t0DflNh6ixG3QAV+PeSPUrZAQFuj1nd8tUD2B14DIJC0QAuhFAt8jrNA14+egpV4skCHKz/hik+xQIElWlmOFLBAsUyiOcmRrUA18J8cx9uqQHGFwMHhCahAXUdgTgEfpUDrbg+oJx6iQLTG47XaFJ5AyjuL0fzNl0Bx0rMHLm6RQEtEWeUA+IVAZ2AKcmT4cUDp67rTtiZgwD6SK0MyDIHAoOI2RvL9jcDJhrftymiVwDM1GxXyvJvADd9HQXT6oMDBYEOXIgWkwFIKG15h+6bAIbQ3+CLaqcDL8YT+cZ6swH1RME10Ra/A3x0n+jbmsMCzTq4EYhiywNTNXav/N7PAs9Qrc+dDtMCjInMyBTu1wLamny1aHLbAVAHEHf7mtsCKMAkgIJq3wLOVAY0HNbjA1F4BtxS3uMA6HbiOwR+5wADdYS2ibrnAD0oBRGWjucDWOjBv1L25wNU6MG/UvbnADEoBRGWjucD53GEtom65wDIduI7BH7nAzF4BtxS3uMColQGNBzW4wHswCSAgmrfASgHEHf7mtsCkpp8tWhy2wJIiczIFO7XAodQrc+dDtMC/zV2r/zezwJ1OrgRiGLLAyx0n+jbmsMBXUTBNdEWvwI7xhP5xnqzA1rM3+CLaqcAdChteYfumwIZgQ5ciBaTA1N5HQXT6oMCSNBsV8rybwC2Gt+3KaJXApOE2RvL9jcBZkStDMgyBwB/nutO2JmDAl2IKcmT4cUA9RVnlAPiFQOjSswcubpFASzyL0fzNl0Ajx+O12hSeQCdvD6gnHqJAnEdgTgEfpUCjhcDB4QmoQGjwnxzH26pA60yiOcmRrUCaJVpZjhSwQKgrP+GKT7FA6Y+egpV4skAeoRQLfI6zQA4IXgMgkLRAWVuj1nd8tUASfj3kj1K2QOqU2HqLEbdAB7Hyu6W4t0B/r8tmMke4QPYb9YmevLhAXw3LGnEYuUAT2TlyS1q5QAP+T67pgblAB7Q3+CKPuUA=",
        "encoding": "base64",
        "path": [
         "_data",
         0,
         "x",
         "value"
        ]
       },
       {
        "data": "AAAAAAAAAAB19J7mLgl6QNd94pfD+4lATogWehNsk0C27WDVP8aZQCCWMkntAqBANa98ZDkSo0APy/fL3A2mQDF/3lLE8qhAJsesO/S9q0CItGdLi2yuQOO0yODifbBAyP/cGIC0sUCqo94d3diyQMjb74/M6bNAQAYRFjXmtECFkSWAEs21QLIRKdN2nbZAYQSAPotWt0CYYmf5kPe3QCK+ngfif7hAXzCC5PHuuECHuuMTTkS5QEjHDpief7lA0SZ8TKaguUDMBdkkQ6e5QP/mH1Buk7lAjnGfPzxluUDM1eeR3By5QEmBtOGZurhA6LsEedk+uEANdLLoGqq3QADb8oT3/LZATl5IxyE4tkC164iWZFy1QFQktnWiarRA1Bl/mtRjs0DVRVzsCUmyQLaKTu1lG7FA3TPCGj+4r0DkAkjU/xitQFOM0/bBW6pAaIZLXViDp0D22bXksZKkQCsLNmbWjKFAKsKULsfpnECyaQCnE5yWQAUb3qURN5BAmvB3Q7GCg0BeA3BgigxqQJEHcGCKDGrAc/F3Q7GCg8CXG96lETeQwDRqAKcTnJbAksKULsfpnMBlCzZm1oyhwDnateSxkqTAkoZLXViDp8CSjNP2wVuqwBUDSNT/GK3ADTTCGj+4r8DMik7tZRuxwOtFXOwJSbLA5Rl/mtRjs8BiJLZ1omq0wMrriJZkXLXAY15IxyE4tsAO2/KE9/y2wBp0sugaqrfA8rsEedk+uMBUgbThmbq4wNTV55HcHLnAk3GfPzxlucAB5x9QbpO5wM0F2SRDp7nAzyZ8TKagucBFxw6Ynn+5wIK64xNORLnAVTCC5PHuuMAavp4H4n+4wI1iZ/mQ97fAUgSAPotWt8ClESnTdp22wHWRJYASzbXAKwYRFjXmtMC02++PzOmzwIyj3h3d2LLAtP/cGIC0scDOtMjg4n2wwEm0Z0uLbK7A2sasO/S9q8AFf95SxPKowN/K98vcDabA8q58ZDkSo8DjlTJJ7QKgwDXtYNU/xpnAu4cWehNsk8DUfOKXw/uJwFjynuYuCXrAyDzEwtMvvj0=",
        "encoding": "base64",
        "path": [
         "_data",
         0,
         "y",
         "value"
        ]
       },
       {
        "data": "CbQ3+CKPuUA=",
        "encoding": "base64",
        "path": [
         "_data",
         1,
         "x",
         "value"
        ]
       },
       {
        "data": "AAAAAAAAAAA=",
        "encoding": "base64",
        "path": [
         "_data",
         1,
         "y",
         "value"
        ]
       }
      ],
      "model_module": "plotlywidget",
      "model_module_version": "^0.6.0",
      "model_name": "FigureModel",
      "state": {
       "_config": {
        "plotlyServerURL": "https://plot.ly"
       },
       "_data": [
        {
         "hoverinfo": "none",
         "line": {
          "color": "rgb(31, 119, 180)",
          "dash": "dash",
          "width": 2
         },
         "mode": "lines",
         "name": "2006-01-19 00:00",
         "type": "scatter",
         "uid": "b9f6b01e-74e5-4e1c-9b61-3a691a6b73ff",
         "x": {
          "dtype": "float64",
          "shape": [
           100
          ]
         },
         "y": {
          "dtype": "float64",
          "shape": [
           100
          ]
         }
        },
        {
         "marker": {
          "color": "rgb(31, 119, 180)",
          "size": 10
         },
         "mode": "markers",
         "name": "2006-01-19 00:00",
         "type": "scatter",
         "uid": "a2363e80-b43e-44d1-abc7-071150d56b1a",
         "x": {
          "dtype": "float64",
          "shape": [
           1
          ]
         },
         "y": {
          "dtype": "float64",
          "shape": [
           1
          ]
         }
        }
       ],
       "_js2py_pointsCallback": {},
       "_js2py_relayout": {},
       "_js2py_restyle": {},
       "_js2py_update": {},
       "_last_layout_edit_id": 3,
       "_last_trace_edit_id": 3,
       "_layout": {
        "autosize": true,
        "shapes": [
         {
          "fillcolor": "#204a87",
          "line": {
           "color": "#204a87"
          },
          "opacity": 1,
          "type": "circle",
          "x0": -6378.1366,
          "x1": 6378.1366,
          "xref": "x",
          "y0": -6378.1366,
          "y1": 6378.1366,
          "yref": "y"
         }
        ],
        "template": {},
        "xaxis": {
         "constrain": "domain",
         "title": {
          "text": "x (km)"
         }
        },
        "yaxis": {
         "scaleanchor": "x",
         "title": {
          "text": "y (km)"
         }
        }
       },
       "_py2js_animate": {},
       "_py2js_deleteTraces": {},
       "_py2js_moveTraces": {},
       "_py2js_removeLayoutProps": {},
       "_py2js_removeTraceProps": {},
       "_py2js_restyle": {},
       "_view_count": 1
      }
     },
     "daac441e964440589e0a6ec515457421": {
      "buffers": [
       {
        "data": "GEarvTT/xUHNpA7xRvPFQW/iJNeJz8VBJ3EFRyKUxUHbTfl8TUHFQdaLW9tg18RB90OVkslWxEFpoY8wDMDDQVoSEBjEE8NBh3aL4KJSwkETaBWfb33BQRtUKBkGlcBBCNwzxKs0v0FECUvIwhy9QauWFax55LpBCl2nPBqOuEGDZ81KDRy2QcFDOi/YkLNBfU5JMRrvsEEucw2mE3OsQcIwiwrk5aZBC9hLjV48oUFIhgnCsviWQfjLgKYHr4ZB4Juq9a+0N8EkJn5tfDyIwWY+cHSi2pfBRcp/PfPDocHyXAlyAI2nwXianySCQq3B1U3j40pvscHhQFyCuS20wdxOrti42bbB5gWK0odwucFbeiwze++7wZ8Dq1UAVL7BEory6c9NwMETJ7AIAGLBwXP0t9NzZcLBQREU2B9Xw8F1WeD2CjbEwdLvFmZPAcXBGWFvnRu4xcGuNFwus1nGwb5ESIZv5cbB4qNLmsBax8GoEKd7LbnHwffnbNRUAMjBlBXXS+0vyMFxleLRxUfIwW6V4tHFR8jBjRXXS+0vyMHp52zUVADIwZYQp3stucfByaNLmsBax8GhREiGb+XGwYw0XC6zWcbB8mBvnRu4xcGn7xZmTwHFwUdZ4PYKNsTBCxEU2B9Xw8E49LfTc2XCwdcmsAgAYsHB04ny6c9NwMEZA6tVAFS+wd15LDN777vBUQWK0odwucFBTq7YuNm2wUhAXIK5LbTBNk3j40pvscEtmZ8kgkKtwaNbCXIAjafB8sh/PfPDocHIO3B0otqXwbIgfm18PIjBoO2p9a+0N8Eu0YCmB6+GQbyICcKy+JZBXtlLjV48oUENMosK5OWmQWt0DaYTc6xBGE9JMRrvsEFcRDov2JCzQRRozUoNHLZBlF2nPBqOuEE0lxWseeS6QcAJS8jCHL1BgNwzxKs0v0FQVCgZBpXAQUhoFZ9vfcFBuHaL4KJSwkGDEhAYxBPDQYqhjzAMwMNBGkSVkslWxEHxi1vbYNfEQe9N+XxNQcVBOXEFRyKUxUF44iTXic/FQdGkDvFG88VBGUarvTT/xUE=",
        "encoding": "base64",
        "path": [
         "_data",
         0,
         "x",
         "value"
        ]
       },
       {
        "data": "AAAAAACc1D66gZhELHWHQYh8ByMVaZdBvPKTK7l/oUHnnOz53TinQbBPQ68S2qxBP7Sj1cQusUGCPAb7yd6zQTMz7Y1TerZBqpmscbH+uEFanBpsS2m7QXS3QtKjt71B8hW4GVrnv0FLy/ClFvvAQX5qXCz/8MFBfZFLI2nUwkE+smceaqTDQRoMfbMrYMRBEa6AV+wGxUG+oBImAJjFQeOPrpLREsZBo0zUAuJ2xkGoP4lQysPGQdZDrDQ7+cZBAk+umP0Wx0HzqlvP8hzHQZU1e7QUC8dBbw8js3XhxkHpMbyyQKDGQWp/yOq4R8ZBcOSYnTnYxUHn9Tq6NVLFQagF/2U3tsRB0M0Qbt8ExEGxfbWh5D7DQXMG2hUTZcJB3uezUkt4wUFHWE1sgXnAQRW81g14075BtmqikCaUvEG5LvBtXze6QbIiyhCSv7dBSgSwv0kvtUFC6z39KomyQX6Pn53hn69BVQbh19MMqkENEvey616kQeiwsc0HOJ1BbuOooRmUkUHINauiMnh3QehBq6IyeHfBPOaooRmUkcHMs7HNBzidwVUT97LrXqTBsQfh19MMqsHKkJ+d4Z+vweLrPf0qibLB7ASwv0kvtcFII8oQkr+3wUov8G1fN7rBRWuikCaUvMGjvNYNeNO+wYZYTWyBecDBG+izUkt4wcGsBtoVE2XCweF9taHkPsPBAM4Qbt8ExMHUBf9lN7bEwQr2Oro1UsXBkeSYnTnYxcGIf8jquEfGwf4xvLJAoMbBgA8js3XhxsGfNXu0FAvHwfmqW8/yHMfBAE+umP0Wx8HQQ6w0O/nGwaA/iVDKw8bBlEzUAuJ2xsHMj66S0RLGwaKgEiYAmMXB8q2AV+wGxcH0C32zK2DEwRSyZx5qpMPBT5FLI2nUwsFMalws//DBwRXL8KUW+8DBfhW4GVrnv8H9tkLSo7e9wdSbGmxLabvBHJmscbH+uMGmMu2NU3q2wfY7BvvJ3rPBorOj1cQuscF1TkOvEtqswamb7PndOKfBZPGTK7l/ocHieQcjFWmXwZJ8mEQsdYfBAAAAAADg0j4=",
        "encoding": "base64",
        "path": [
         "_data",
         0,
         "y",
         "value"
        ]
       },
       {
        "data": "ZEubY7/RvcE=",
        "encoding": "base64",
        "path": [
         "_data",
         1,
         "x",
         "value"
        ]
       },
       {
        "data": "tHNwOOCVwsE=",
        "encoding": "base64",
        "path": [
         "_data",
         1,
         "y",
         "value"
        ]
       },
       {
        "data": "YC9L/zEOecFLxQrve/OAwSYN498wToXB38LSwbqSicFkSHdes7yNwfXRKfHn45DBAg3BpPLXksFFmM1VdriUwZUmMrGDg5bB4z9/g0E3mMEoaLyg7tGZwUw2bLPjUZvBUBHu8JS1nMEiv3uxk/udwQU0HuqPIp/B3wOKw6wUoMFlPqLScIegwbb+vdQd6aDBVhspGk85ocF1M9/4sXehwdnywSEGpKHBz5vj4h2+ocGYgaFW3sWhwQ/lXX8/u6HBC5+8T0yeocG4GlqfIm+hwRlCCAzzLaHBNhKxxwDboMFOgBJToXagwR4WmyU8AaDBAEGEhZT2nsEgw5J6q8qdwc+50VHyf5zBjuru9b0Xm8FAOGm1gZOZwepn0MPN9JfBKNc7nU09lsGZZKFNxm6UwZzI0p0Ui5LBhsUCKCuUkMG7oJmrIBiNwZUDopO46YjBHlcWbm2hhMEJiT1QqUOAwSWZh+PYqXfBXCn+IyJnbcEe42yp4LZWwRzRA0gm80pBcqdokOTOaEEVg/r6H2R1QUyofEoqS35BN6gB97GJg0FqqlOw39mHQRhjIhusEYxBNTSEEV8WkEH761cobROSQcJLV5Pz/ZNBTEqurfjTlUE0aqT1l5OXQcBeDQAEO5lBd/jsU4jImkEgDGQsizqcQdKJFh+Pj51BXFhXpTTGnkHDq4SGO92fQT2nDxHCaaBBHE0kTAjUoEFZv7rnAi2hQSdpJCtWdKFBMw5WkLipoUFN9rEP88yhQTC/wVjh3aFBK1ul93HcoUE8phBnpsihQRcGxQ6ToqFBoaeILl9qoUE/CLG1RCChQS+AageQxKBBJF36q59XoEEkcZnex7OfQU35ZNq8l55BntaNF0NcnUHRvwzJnwKcQSm3Yzk3jJpBXkZYW4v6mEGDdRs8Ok+XQfWXeVj8i5VBOufJ1qKyk0EG+3GnFcWRQUnE1hujio9BJK+jKMxqi0EaXi3X5i6HQXsSFHVQ24JBDD/wd/3ofEEiYR9x9v1zQdIxNHV6/WVBRBrzrIBJP0GaTbCWnlxcwVvDGrcuG3DBWS9L/zEOecE=",
        "encoding": "base64",
        "path": [
         "_data",
         2,
         "x",
         "value"
        ]
       },
       {
        "data": "qk+Z6YVEoUGr/zXrywehQfT9tAc7uaBB1VrjOyRZoEGTnXMp1c+fQRpthJIFzJ5B2jqPhOWnnUEwtpkgomScQdUesKCIA5tBwvJlAAWGmUEMaKKFoO2XQZN2OysAPJZBcFUB7+JylEFhwPkEIJSSQcT9pfGkoZBBSq+QGuc6jUFq4GrkPxOJQWHoprCc0IRBeCb5v2F3gEFaHS06FRh4QTLWLfeVTG5Bir6fhnSKWEHUyiwrTE1HwXSFap1q6mfBdM0KULP2dMGm90X82uR9wQi1l9o7W4PBcLpcJDmxh8GFPfYn7e+LwSyMddl7CZDB0wE/iwoLksHMCYFGkfqTwdQ7oT4R1pXBCDnMS6Cbl8Eh/jjkakmZwZC1G/613ZrBejxX2OBWnMGIlRaoZrOdwfZxkyng8Z7BYVg2iYIIoMFhiQey1oegwZimaU5p9qDBgnpLY8hTocF0qdywk5+hwYLyxBV92aHBOgGu30gBosHNyswIzhaiwdcHK2L2GaLBnDOFqr4KosFJfqWRNumhwcY8OKiAtaHBZYEqPNJvocHBl7chcxihwQEIXmm9r6DBvXQIAx02oMEnDpSdHlifwQo1QjdFJJ7BNMOKKevRnMFsdTE8bWKbwYSdxkBG15nB0I8ojA0ymMHlyKBSdXSWweSeTehIoJTB2OCl52q3ksEIeP4/07uQwXK2JVwaX43B0ptPQWopicGw0egW7dqEwepbH1UTeIDBNYPD4sQKeMFTffPUwB1uwU4sJiPwFljBsMiBk746SEFrp59RDR5oQQYbh4sBCHVBhWq+swjpfUFuBquFelSDQZYNGs5gn4dByYoybsrQi0Ev27zmZOSPQUOqbjn+6pFB96eALsDQk0G7JNSXg6GVQbud215pW5dB7gcX/6n8mEGKgKJbl4OaQZztlHqe7ptB84VlJEk8nUHeDKxlP2ueQRkervFIep9BeAcmMic0oEHcxQAxLZqgQTKIaErN7qBBssKKQrAxoUECQK0mkWKhQbjhQJQ9gaFBh73R7JWNoUEcDZ92jYehQbRXuWkqb6FBq0+Z6YVEoUE=",
        "encoding": "base64",
        "path": [
         "_data",
         2,
         "y",
         "value"
        ]
       },
       {
        "data": "IBYIvvpDgME=",
        "encoding": "base64",
        "path": [
         "_data",
         3,
         "x",
         "value"
        ]
       },
       {
        "data": "DEbkC3ISoUE=",
        "encoding": "base64",
        "path": [
         "_data",
         3,
         "y",
         "value"
        ]
       },
       {
        "data": "Zno8PjoTyEEKTY5yiCHGQfhv2KFtbsRBMndd9WbuwkE0gk0FmpjBQTcVVQUbZsBB9gQpZtmivkFNCU04TKy8QUjloJhj4bpBhUz81Dw8uUG1+xYQ97e3QfMsSz5+ULZBlQm3smICtUFnovTkucqzQRQOWxIGp7JBfEq7CCOVsUF9cQbfNpOwQYfNK2dLP69B0Q1Ohg9yrUFGrdisQryrQfoIqka4G6pBqTxwrIOOqEGL6noQ7xKnQaX/kepzp6VBFoX1mrRKpEHQEqoLd/uiQVEFxiKguKFBSjFv4S+BoEG22H4kfKieQdalnN7uYZxBEeMAWTYtmkHTwnOs8QiYQY5mve7c85VB6QOZ983sk0F1bZeMsfKRQb0Z5uSIBJBBDbK58M5CjEGZQWQe4pCIQcKJsxKw8YRBfKvaq7djgUHobHZQHst7QUzvcmDD63RB8lXIebRNbEG00oXw/+ddQfBaSQjuXSxBi8f5sgiCVsE5AoeM0CRowXGLSL3BdHLBk5QThHvJeMFyyusMcxJ/wcFqT0m8qILB8qF8oCjEhcHSlmehXNyIwSQ+Yt0y8ovBW6vWVYMGj8G7SEc1Eg2RwY7tIuL1lpLBgdfWnlchlMFyxH/moqyVwXpzIThEOZfB2cc5j6nHmMH5feXfQliawdutxpeC65vBAILxJN6BncGgRT2EzhufwZAHPGzoXKDBNkwRhjMuocELssQ/DAKiwZa/pGK52KLB3cvJN4Wyo8G272j4vY+kwXpcW0m2cKXBllWXw8VVpsEdq52LST+nwfoEMvqkLajBgIgYWUIhqcFpLQy3kxqqwTo1s9YTGqvB26IIPUcgrMGZA4pkvS2twVsighsSQ67BzyQQFe9gr8Fg0w/bBkSwwXK/v5Sc3LDBq2JfZKh6scGikkx1pR6ywRhJ3BUcybLBmjzZpaN6s8GpAWbf5DO0waMF446c9bTBVDE91J7AtcEcMMYP25W2wS2NO6dgdrfBpRwm3mRjuMEo3RwRSl65wQY6ocCoaLrB0c3vAluEu8G4TQM0i7O8wcvAZx3H+L3BsNnMaxlXv8E=",
        "encoding": "base64",
        "path": [
         "_data",
         4,
         "x",
         "value"
        ]
       },
       {
        "data": "jN7Cs656t8E4rMuMkh+zwWr7WAev8a7BiMeJb/rDqMH3jNFEyn6jwXApizRN753BjWugjOQalsGnl0K1H5iOwZBK3XcbsoLB5if0h76AcMGAKUPdgX0+QR6IQ3iXL3JB31wa2H1QgEGX1+LMCL2GQRQC7Nxvd4xBII1M29HKkEEFSS3fHxWTQUKd8h2QIpVB4MGlNe35lkHCqheWDqGYQYAuOLH/HJpBgaTK8h9ym0GfBDf7PKScQdRuU0Ootp1BUR08DkmsnkEOJBBdq4efQUvHVjmGJaBB9i40rDJ8oEGSYgvfucigQdXyDL/gC6FBfCQOgFVGoUGOGxxVsnihQbsvuMN/o6FBbgevoTbHoUE+JajKQeShQSEKQpj/+qFBjRSzJcMLokELbmJm1RaiQSgerRV2HKJBTe4DhdwcokG/R7RMOBiiQQbv9+KxDqJBsIdOHGsAokFqi6KXf+2hQepUTRgF1qFB6Vevzwu6oUErlb+XnpmhQadErR/DdKFBInFuC3pLoUErB9wGvx2hQe4NxsyI66BBuPo3Ism0oEHGAfTFbHmgQbS1+1NbOaBBTPuVOe7on0HuXW7fOVWfQSA8W69Ht55BhsGjkrkOnkHTW3WCJFudQTn9haEPnJxB2H8jL/PQm0GmFzVPN/maQaQ21aEyFJpBTLslpCghmUG4I83SRx+YQRAfH4WnDZdBMR1AdkXrlUFWG4rvAreUQcl0BIWhb5NB9lrHUb8TkkH6VYWe0qGQQYFqEbBJMI5BIR8HbJnpikGlwrbXTmuHQbSCjGmhsINBWAi3CGZof0G1pRoZ9N92QYnZDCOedGtBUI2kdIdAT0FIEkCb9aBawSE+lWp7CnLBkGi/7VlVfsFCrH7ubNGFwUbUpCFzCI3BfHGwH4RwksF7qivtnbeWwbCgq9g5ZZvBPuoOmIdDoMHTVYf9pBajwd7BaqaMNabB4mIopLKrqcEqhngY3YatwUoAe8/e67DB8aao8F1Zs8FjK19Bghi2wbUbkkT8OLnBQp+JsZPOvMF2sBL6RHnAwRDOzEHK4sLBcsRJ91+5xcE=",
        "encoding": "base64",
        "path": [
         "_data",
         4,
         "y",
         "value"
        ]
       },
       {
        "data": "IBYIvvpDgME=",
        "encoding": "base64",
        "path": [
         "_data",
         5,
         "x",
         "value"
        ]
       },
       {
        "data": "DEbkC3ISoUE=",
        "encoding": "base64",
        "path": [
         "_data",
         5,
         "y",
         "value"
        ]
       }
      ],
      "model_module": "plotlywidget",
      "model_module_version": "^0.6.0",
      "model_name": "FigureModel",
      "state": {
       "_config": {
        "plotlyServerURL": "https://plot.ly"
       },
       "_data": [
        {
         "hoverinfo": "none",
         "line": {
          "color": "rgb(31, 119, 180)",
          "dash": "dash",
          "width": 2
         },
         "mode": "lines",
         "name": "2007-02-28 05:44 (Jupiter (♃))",
         "type": "scatter",
         "uid": "981cf49c-25a4-4ef4-afe3-b8318184013d",
         "x": {
          "dtype": "float64",
          "shape": [
           100
          ]
         },
         "y": {
          "dtype": "float64",
          "shape": [
           100
          ]
         }
        },
        {
         "marker": {
          "color": "rgb(31, 119, 180)",
          "size": 10
         },
         "mode": "markers",
         "name": "2007-02-28 05:44 (Jupiter (♃))",
         "type": "scatter",
         "uid": "17e88e29-52c9-4769-acf7-ae7937d999a5",
         "x": {
          "dtype": "float64",
          "shape": [
           1
          ]
         },
         "y": {
          "dtype": "float64",
          "shape": [
           1
          ]
         }
        },
        {
         "hoverinfo": "none",
         "line": {
          "color": "rgb(255, 127, 14)",
          "dash": "dash",
          "width": 2
         },
         "mode": "lines",
         "name": "2006-01-19 19:01 (Earth (♁))",
         "type": "scatter",
         "uid": "1ef9e8eb-08b6-4463-82d9-3012105ba0ef",
         "x": {
          "dtype": "float64",
          "shape": [
           100
          ]
         },
         "y": {
          "dtype": "float64",
          "shape": [
           100
          ]
         }
        },
        {
         "marker": {
          "color": "rgb(255, 127, 14)",
          "size": 10
         },
         "mode": "markers",
         "name": "2006-01-19 19:01 (Earth (♁))",
         "type": "scatter",
         "uid": "c16ace95-1db2-4443-9e7e-c37f95a23353",
         "x": {
          "dtype": "float64",
          "shape": [
           1
          ]
         },
         "y": {
          "dtype": "float64",
          "shape": [
           1
          ]
         }
        },
        {
         "hoverinfo": "none",
         "line": {
          "color": "rgb(44, 160, 44)",
          "dash": "dash",
          "width": 2
         },
         "mode": "lines",
         "name": "2006-01-19 19:00 (New Horizons)",
         "type": "scatter",
         "uid": "363d5c49-1dd3-48ef-9896-845aac5a92d9",
         "x": {
          "dtype": "float64",
          "shape": [
           100
          ]
         },
         "y": {
          "dtype": "float64",
          "shape": [
           100
          ]
         }
        },
        {
         "marker": {
          "color": "rgb(44, 160, 44)",
          "size": 10
         },
         "mode": "markers",
         "name": "2006-01-19 19:00 (New Horizons)",
         "type": "scatter",
         "uid": "756ff9df-44bd-49e4-bbba-002bf713650a",
         "x": {
          "dtype": "float64",
          "shape": [
           1
          ]
         },
         "y": {
          "dtype": "float64",
          "shape": [
           1
          ]
         }
        }
       ],
       "_js2py_pointsCallback": {},
       "_js2py_relayout": {},
       "_js2py_restyle": {},
       "_js2py_update": {},
       "_last_layout_edit_id": 7,
       "_last_trace_edit_id": 7,
       "_layout": {
        "autosize": true,
        "shapes": [
         {
          "fillcolor": "#ffcc00",
          "line": {
           "color": "#ffcc00"
          },
          "opacity": 1,
          "type": "circle",
          "x0": -110714015.30071202,
          "x1": 110714015.30071202,
          "xref": "x",
          "y0": -110714015.30071202,
          "y1": 110714015.30071202,
          "yref": "y"
         }
        ],
        "template": {},
        "xaxis": {
         "constrain": "domain",
         "title": "x (km)"
        },
        "yaxis": {
         "scaleanchor": "x",
         "title": "y (km)"
        }
       },
       "_py2js_animate": {},
       "_py2js_deleteTraces": {},
       "_py2js_moveTraces": {},
       "_py2js_removeLayoutProps": {},
       "_py2js_removeTraceProps": {},
       "_py2js_restyle": {},
       "_view_count": 1
      }
     },
     "eb854d1107064f3cb01160b15e96683a": {
      "buffers": [
       {
        "data": "B7Q3+CKPuUAB/k+u6YG5QA/ZOXJLWrlAWA3LGnEYuUDuG/WJnry4QHWvy2YyR7hA+bDyu6W4t0DflNh6ixG3QAV+PeSPUrZAP1uj1nd8tUD2B14DIJC0QAuhFAt8jrNA1Y+egpV4skCGKz/hik+xQIElWlmOFLBArEyiOcmRrUAy8J8cx9uqQHGFwMHhCahAXUdgTgEfpUDobg+oJx6iQKfG47XaFJ5AyjuL0fzNl0Br0rMHLm6RQFhEWeUA+IVAZ2AKcmT4cUC267rTtiZgwD6SK0MyDIHAoOI2RvL9jcDDhrftymiVwDM1GxXyvJvADd9HQXT6oMC+YEOXIgWkwFgKG15h+6bAIbQ3+CLaqcDL8YT+cZ6swIJRME10Ra/A4R0n+jbmsMC1Tq4EYhiywNTNXav/N7PAt9Qrc+dDtMCjInMyBTu1wLamny1aHLbAVAHEHf7mtsCKMAkgIJq3wLOVAY0HNbjA1F4BtxS3uMA6HbiOwR+5wADdYS2ibrnAD0oBRGWjucDWOjBv1L25wNY6MG/UvbnAD0oBRGWjucAA3WEtom65wDoduI7BH7nA1F4BtxS3uMCzlQGNBzW4wIowCSAgmrfAVgHEHf7mtsC2pp8tWhy2wKciczIFO7XAs9Qrc+dDtMDWzV2r/zezwLNOrgRiGLLA4R0n+jbmsMCCUTBNdEWvwMvxhP5xnqzAFrQ3+CLaqcBSChteYfumwL5gQ5ciBaTAEN9HQXT6oMAmNRsV8rybwMOGt+3KaJXAoOI2RvL9jcBkkitDMgyBwLbrutO2JmDAZ2AKcmT4cUBBRFnlAPiFQGTSswcubpFAyjuL0fzNl0CnxuO12hSeQOhuD6gnHqJAX0dgTgEfpUBxhcDB4QmoQDLwnxzH26pArEyiOcmRrUCDJVpZjhSwQIcrP+GKT7FA1Y+egpV4skAJoRQLfI6zQPcHXgMgkLRAQFuj1nd8tUAFfj3kj1K2QN2U2HqLEbdA+rDyu6W4t0B1r8tmMke4QO0b9YmevLhAWQ3LGnEYuUAP2TlyS1q5QAH+T67pgblAB7Q3+CKPuUA=",
        "encoding": "base64",
        "path": [
         "_data",
         0,
         "x",
         "value"
        ]
       },
       {
        "data": "AAAAAAAAAAB49J7mLgl6QNp94pfD+4lAT4gWehNsk0C27WDVP8aZQCGWMkntAqBANa98ZDkSo0APy/fL3A2mQDV/3lLE8qhAKcesO/S9q0CKtGdLi2yuQOO0yODifbBAyv/cGIC0sUCro94d3diyQMjb74/M6bNAQQYRFjXmtECFkSWAEs21QLIRKdN2nbZAYQSAPotWt0CZYmf5kPe3QCO+ngfif7hAXzCC5PHuuECHuuMTTkS5QEjHDpief7lA0SZ8TKaguUDMBdkkQ6e5QP/mH1Buk7lAjnGfPzxluUDM1eeR3By5QEmBtOGZurhA6LsEedk+uEAOdLLoGqq3QP7a8oT3/LZATl5IxyE4tkC164iWZFy1QFIktnWiarRA0Rl/mtRjs0DTRVzsCUmyQLaKTu1lG7FA0zPCGj+4r0DkAkjU/xitQFOM0/bBW6pAaIZLXViDp0D22bXksZKkQCsLNmbWjKFAKsKULsfpnECyaQCnE5yWQAUb3qURN5BAmvB3Q7GCg0BeA3BgigxqQMUDcGCKDGrAmvB3Q7GCg8AFG96lETeQwLJpAKcTnJbAKsKULsfpnMArCzZm1oyhwPbZteSxkqTAYoZLXViDp8BTjNP2wVuqwNoCSNT/GK3A3TPCGj+4r8C0ik7tZRuxwNVFXOwJSbLA0Rl/mtRjs8BSJLZ1omq0wLXriJZkXLXAUl5IxyE4tsAA2/KE9/y2wA50sugaqrfA57sEedk+uMBJgbThmbq4wMzV55HcHLnAjnGfPzxlucD+5h9QbpO5wMwF2SRDp7nA0SZ8TKagucBKxw6Ynn+5wIe64xNORLnAXzCC5PHuuMAjvp4H4n+4wJliZ/mQ97fAYQSAPotWt8CyESnTdp22wIWRJYASzbXAQQYRFjXmtMDG2++PzOmzwKqj3h3d2LLAyv/cGIC0scDntMjg4n2wwIW0Z0uLbK7AJ8esO/S9q8A1f95SxPKowBTL98vcDabAMa98ZDkSo8AgljJJ7QKgwL7tYNU/xpnAQIgWehNsk8DNfeKXw/uJwHj0nuYuCXrAF+lQZAVNfL0=",
        "encoding": "base64",
        "path": [
         "_data",
         0,
         "y",
         "value"
        ]
       },
       {
        "data": "CbQ3+CKPuUA=",
        "encoding": "base64",
        "path": [
         "_data",
         1,
         "x",
         "value"
        ]
       },
       {
        "data": "AAAAAAAAAAA=",
        "encoding": "base64",
        "path": [
         "_data",
         1,
         "y",
         "value"
        ]
       }
      ],
      "model_module": "plotlywidget",
      "model_module_version": "^0.6.0",
      "model_name": "FigureModel",
      "state": {
       "_config": {
        "plotlyServerURL": "https://plot.ly"
       },
       "_data": [
        {
         "hoverinfo": "none",
         "line": {
          "color": "rgb(31, 119, 180)",
          "dash": "dash",
          "width": 2
         },
         "mode": "lines",
         "name": "2006-01-19 00:00",
         "type": "scatter",
         "uid": "761bda29-ee31-4ab2-bdda-4dc1edd346a0",
         "x": {
          "dtype": "float64",
          "shape": [
           100
          ]
         },
         "y": {
          "dtype": "float64",
          "shape": [
           100
          ]
         }
        },
        {
         "marker": {
          "color": "rgb(31, 119, 180)",
          "size": 10
         },
         "mode": "markers",
         "name": "2006-01-19 00:00",
         "type": "scatter",
         "uid": "f9624dec-5576-4722-a8b7-cf5435d0bf8a",
         "x": {
          "dtype": "float64",
          "shape": [
           1
          ]
         },
         "y": {
          "dtype": "float64",
          "shape": [
           1
          ]
         }
        }
       ],
       "_js2py_pointsCallback": {},
       "_js2py_relayout": {},
       "_js2py_restyle": {},
       "_js2py_update": {},
       "_last_layout_edit_id": 3,
       "_last_trace_edit_id": 3,
       "_layout": {
        "autosize": true,
        "shapes": [
         {
          "fillcolor": "#204a87",
          "line": {
           "color": "#204a87"
          },
          "opacity": 1,
          "type": "circle",
          "x0": -6378.1366,
          "x1": 6378.1366,
          "xref": "x",
          "y0": -6378.1366,
          "y1": 6378.1366,
          "yref": "y"
         }
        ],
        "template": {},
        "xaxis": {
         "constrain": "domain",
         "title": "x (km)"
        },
        "yaxis": {
         "scaleanchor": "x",
         "title": "y (km)"
        }
       },
       "_py2js_animate": {},
       "_py2js_deleteTraces": {},
       "_py2js_moveTraces": {},
       "_py2js_removeLayoutProps": {},
       "_py2js_removeTraceProps": {},
       "_py2js_restyle": {},
       "_view_count": 1
      }
     }
    },
    "version_major": 2,
    "version_minor": 0
   }
  }
 },
 "nbformat": 4,
 "nbformat_minor": 1
}
