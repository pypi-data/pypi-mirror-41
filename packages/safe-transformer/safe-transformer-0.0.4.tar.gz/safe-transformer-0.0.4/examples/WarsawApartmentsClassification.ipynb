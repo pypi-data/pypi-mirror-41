{
 "cells": [
  {
   "cell_type": "code",
   "execution_count": 34,
   "metadata": {},
   "outputs": [],
   "source": [
    "from SafeTransformer import SafeTransformer\n",
    "from sklearn.ensemble import GradientBoostingRegressor\n",
    "from sklearn.linear_model import LinearRegression\n",
    "import numpy as np\n",
    "import pandas as pd\n",
    "from sklearn.model_selection import train_test_split\n",
    "from sklearn.metrics import mean_squared_error\n",
    "from sklearn.pipeline import Pipeline"
   ]
  },
  {
   "cell_type": "code",
   "execution_count": 35,
   "metadata": {},
   "outputs": [],
   "source": [
    "apartments = pd.read_csv('apartments.csv', index_col=0)"
   ]
  },
  {
   "cell_type": "code",
   "execution_count": 36,
   "metadata": {},
   "outputs": [],
   "source": [
    "X_ap = apartments.drop(columns='m2.price')"
   ]
  },
  {
   "cell_type": "code",
   "execution_count": 37,
   "metadata": {},
   "outputs": [],
   "source": [
    "y = apartments['m2.price']"
   ]
  },
  {
   "cell_type": "code",
   "execution_count": 38,
   "metadata": {},
   "outputs": [],
   "source": [
    "X = X_ap.copy()\n",
    "colnames = list(X)\n",
    "for idx, name in enumerate(colnames):\n",
    "    if str(X.loc[:, name].dtype) in ['category', 'object']:\n",
    "        dummies = pd.get_dummies(X.loc[:, name], prefix=name, drop_first=True)\n",
    "        dummy_index  = X.columns.get_loc(name)\n",
    "        X = pd.concat([X.iloc[:,range(dummy_index)], dummies, X.iloc[:, range(dummy_index+1, len(X.columns))]], axis=1)"
   ]
  },
  {
   "cell_type": "code",
   "execution_count": 73,
   "metadata": {},
   "outputs": [],
   "source": [
    "X_train, X_test, X_lin_train, X_lin_test, y_train, y_test = train_test_split(X_ap, X, y)"
   ]
  },
  {
   "cell_type": "code",
   "execution_count": 74,
   "metadata": {},
   "outputs": [
    {
     "data": {
      "text/plain": [
       "76490.426068932211"
      ]
     },
     "execution_count": 74,
     "metadata": {},
     "output_type": "execute_result"
    }
   ],
   "source": [
    "linear_model = LinearRegression()\n",
    "\n",
    "linear_model = linear_model.fit(X_lin_train, y_train)\n",
    "standard_predictions = linear_model.predict(X_lin_test)\n",
    "standard_predictions_error = mean_squared_error(y_test, standard_predictions)\n",
    "standard_predictions_error"
   ]
  },
  {
   "cell_type": "code",
   "execution_count": 84,
   "metadata": {},
   "outputs": [
    {
     "name": "stdout",
     "output_type": "stream",
     "text": [
      "1529.19661499\n",
      "1505.64185638\n",
      "1560.95831645\n",
      "1533.266815\n",
      "1572.24222811\n",
      "1469.17453314\n",
      "1462.62747531\n",
      "1514.59302992\n",
      "1533.80277857\n",
      "1538.91244001\n"
     ]
    }
   ],
   "source": [
    "pens = [1, 2, 5, 10, 12, 20, 30, 50, 100, 200]\n",
    "best_score = float('Inf')\n",
    "best_pen = 0\n",
    "\n",
    "for pen in pens:\n",
    "    surrogate_model = GradientBoostingRegressor(n_estimators=100,\n",
    "        max_depth=4,\n",
    "        learning_rate=0.1,\n",
    "        loss='huber')\n",
    "    linear_model_simple = LinearRegression()\n",
    "    safe_transformer = SafeTransformer(surrogate_model, penalty = pen)\n",
    "    pipe = Pipeline(steps=[('safe', safe_transformer), ('linear', linear_model_simple)])\n",
    "    pipe = pipe.fit(X_train, y_train)\n",
    "    predictions = pipe.predict(X_test)\n",
    "    error = mean_squared_error(y_test, predictions)\n",
    "    print(error)\n",
    "    if error < best_score:\n",
    "        best_score = error\n",
    "        best_pen = pen"
   ]
  },
  {
   "cell_type": "code",
   "execution_count": 82,
   "metadata": {},
   "outputs": [
    {
     "data": {
      "text/plain": [
       "9665.2767186140045"
      ]
     },
     "execution_count": 82,
     "metadata": {},
     "output_type": "execute_result"
    }
   ],
   "source": [
    "surrogate_model = GradientBoostingRegressor(n_estimators=100,\n",
    "        max_depth=4,\n",
    "        learning_rate=0.1,\n",
    "        loss='huber')\n",
    "surrogate_model = surrogate_model.fit(X_lin_train, y_train)\n",
    "surrogate_model_predictions = surrogate_model.predict(X_lin_test)\n",
    "surrogate_model_predictions_error = mean_squared_error(y_test, surrogate_model_predictions)\n",
    "surrogate_model_predictions_error"
   ]
  },
  {
   "cell_type": "code",
   "execution_count": null,
   "metadata": {},
   "outputs": [],
   "source": []
  },
  {
   "cell_type": "code",
   "execution_count": 83,
   "metadata": {},
   "outputs": [
    {
     "name": "stdout",
     "output_type": "stream",
     "text": [
      "Numerical Variable construction.year\n",
      "Selected intervals:\n",
      "\t[-Inf, 1930.36)\n",
      "\t[1930.36, 1934.41)\n",
      "\t[1934.41, 1934.86)\n",
      "\t[1934.86, 1935.32)\n",
      "\t[1935.32, 1935.77)\n",
      "\t[1935.77, 1936.22)\n",
      "\t[1936.22, 1937.57)\n",
      "\t[1937.57, 1938.47)\n",
      "\t[1938.47, 1939.82)\n",
      "\t[1939.82, 1942.52)\n",
      "\t[1942.52, 1943.87)\n",
      "\t[1943.87, 1978.56)\n",
      "\t[1978.56, 1988.47)\n",
      "\t[1988.47, 1993.42)\n",
      "\t[1993.42, 1994.32)\n",
      "\t[1994.32, 1994.77)\n",
      "\t[1994.77, 1995.23)\n",
      "\t[1995.23, 1995.68)\n",
      "\t[1995.68, 1996.58)\n",
      "\t[1996.58, 1998.38)\n",
      "\t[1998.38, 2008.29)\n",
      "\t[2008.29, Inf)\n",
      "Numerical Variable surface\n",
      "Selected intervals:\n",
      "\t[-Inf, 22.60)\n",
      "\t[22.60, 25.21)\n",
      "\t[25.21, 27.16)\n",
      "\t[27.16, 29.11)\n",
      "\t[29.11, 30.41)\n",
      "\t[30.41, 31.71)\n",
      "\t[31.71, 33.66)\n",
      "\t[33.66, 36.27)\n",
      "\t[36.27, 37.57)\n",
      "\t[37.57, 38.22)\n",
      "\t[38.22, 38.87)\n",
      "\t[38.87, 39.52)\n",
      "\t[39.52, 40.82)\n",
      "\t[40.82, 42.12)\n",
      "\t[42.12, 44.72)\n",
      "\t[44.72, 46.68)\n",
      "\t[46.68, 47.33)\n",
      "\t[47.33, 50.58)\n",
      "\t[50.58, 56.44)\n",
      "\t[56.44, 57.09)\n",
      "\t[57.09, 59.69)\n",
      "\t[59.69, 61.64)\n",
      "\t[61.64, 62.29)\n",
      "\t[62.29, 62.94)\n",
      "\t[62.94, 64.24)\n",
      "\t[64.24, 68.80)\n",
      "\t[68.80, 71.40)\n",
      "\t[71.40, 76.61)\n",
      "\t[76.61, 78.56)\n",
      "\t[78.56, 88.32)\n",
      "\t[88.32, 88.97)\n",
      "\t[88.97, 92.22)\n",
      "\t[92.22, 94.82)\n",
      "\t[94.82, 100.03)\n",
      "\t[100.03, 103.28)\n",
      "\t[103.28, 104.58)\n",
      "\t[104.58, 106.54)\n",
      "\t[106.54, 110.44)\n",
      "\t[110.44, 111.09)\n",
      "\t[111.09, 111.74)\n",
      "\t[111.74, 119.55)\n",
      "\t[119.55, 120.20)\n",
      "\t[120.20, 120.85)\n",
      "\t[120.85, 122.80)\n",
      "\t[122.80, 128.01)\n",
      "\t[128.01, 128.66)\n",
      "\t[128.66, 129.96)\n",
      "\t[129.96, 133.21)\n",
      "\t[133.21, 134.51)\n",
      "\t[134.51, 136.47)\n",
      "\t[136.47, 137.12)\n",
      "\t[137.12, 142.32)\n",
      "\t[142.32, 142.97)\n",
      "\t[142.97, 148.18)\n",
      "\t[148.18, Inf)\n",
      "Numerical Variable floor\n",
      "Selected intervals:\n",
      "\t[-Inf, 1.50)\n",
      "\t[1.50, 1.54)\n",
      "\t[1.54, 2.49)\n",
      "\t[2.49, 2.53)\n",
      "\t[2.53, 3.48)\n",
      "\t[3.48, 3.52)\n",
      "\t[3.52, 4.47)\n",
      "\t[4.47, 4.51)\n",
      "\t[4.51, 5.50)\n",
      "\t[5.50, 6.50)\n",
      "\t[6.50, 6.54)\n",
      "\t[6.54, 7.49)\n",
      "\t[7.49, 7.53)\n",
      "\t[7.53, 8.03)\n",
      "\t[8.03, 8.48)\n",
      "\t[8.48, 8.52)\n",
      "\t[8.52, 9.47)\n",
      "\t[9.47, 9.51)\n",
      "\t[9.51, Inf)\n",
      "Numerical Variable no.rooms\n",
      "Selected intervals:\n",
      "\t[-Inf, 1.50)\n",
      "\t[1.50, 2.50)\n",
      "\t[2.50, 3.50)\n",
      "\t[3.50, 4.50)\n",
      "\t[4.50, 5.50)\n",
      "\t[5.50, Inf)\n",
      "Categorical Variable district\n",
      "Created variable levels:\n",
      "\tBemowo, Bielany, Praga, Ursus, Ursynow, Wola -> Bemowo_Bielany_Praga_Ursus_Ursynow_Wola\n",
      "\tMokotow, Ochota, Zoliborz -> Mokotow_Ochota_Zoliborz\n",
      "\tSrodmiescie -> Srodmiescie\n",
      "\n"
     ]
    }
   ],
   "source": [
    "safe_transformer.summary()"
   ]
  },
  {
   "cell_type": "code",
   "execution_count": null,
   "metadata": {},
   "outputs": [],
   "source": []
  }
 ],
 "metadata": {
  "kernelspec": {
   "display_name": "Python 3",
   "language": "python",
   "name": "python3"
  },
  "language_info": {
   "codemirror_mode": {
    "name": "ipython",
    "version": 3
   },
   "file_extension": ".py",
   "mimetype": "text/x-python",
   "name": "python",
   "nbconvert_exporter": "python",
   "pygments_lexer": "ipython3",
   "version": "3.6.3"
  }
 },
 "nbformat": 4,
 "nbformat_minor": 2
}
