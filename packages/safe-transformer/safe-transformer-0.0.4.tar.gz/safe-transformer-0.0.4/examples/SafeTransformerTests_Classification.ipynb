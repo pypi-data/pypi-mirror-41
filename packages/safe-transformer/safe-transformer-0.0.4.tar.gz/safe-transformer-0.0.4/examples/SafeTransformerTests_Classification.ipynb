{
 "cells": [
  {
   "cell_type": "code",
   "execution_count": 20,
   "metadata": {},
   "outputs": [],
   "source": [
    "from SafeTransformer import SafeTransformer\n",
    "from sklearn.datasets import load_digits, load_iris, load_wine\n",
    "import numpy as np\n",
    "from sklearn.model_selection import train_test_split\n",
    "from sklearn.discriminant_analysis import LinearDiscriminantAnalysis\n",
    "data = load_iris()"
   ]
  },
  {
   "cell_type": "code",
   "execution_count": 21,
   "metadata": {},
   "outputs": [],
   "source": [
    "import pandas as pd\n",
    "X = pd.DataFrame(data.data)\n",
    "y = pd.Series(data.target)"
   ]
  },
  {
   "cell_type": "code",
   "execution_count": 50,
   "metadata": {},
   "outputs": [],
   "source": [
    "from sklearn.naive_bayes import GaussianNB"
   ]
  },
  {
   "cell_type": "code",
   "execution_count": 95,
   "metadata": {},
   "outputs": [],
   "source": [
    "X_train, X_test, y_train, y_test = train_test_split(X, y)"
   ]
  },
  {
   "cell_type": "code",
   "execution_count": 96,
   "metadata": {},
   "outputs": [],
   "source": [
    "from xgboost import XGBClassifier\n",
    "surrogate_model = XGBClassifier().fit(X_train, y_train)"
   ]
  },
  {
   "cell_type": "code",
   "execution_count": 97,
   "metadata": {},
   "outputs": [],
   "source": [
    "from sklearn.linear_model import LogisticRegression\n",
    "from sklearn.metrics import accuracy_score\n",
    "base_model = LogisticRegression().fit(X_train, y_train)\n",
    "base_predictions = base_model.predict(X_test)"
   ]
  },
  {
   "cell_type": "code",
   "execution_count": 98,
   "metadata": {},
   "outputs": [
    {
     "name": "stdout",
     "output_type": "stream",
     "text": [
      "Fitting variable:0\n",
      "Fitting variable:1\n",
      "Fitting variable:2\n",
      "Fitting variable:3\n",
      "Transforming variable:0\n",
      "Transforming variable:1\n",
      "Transforming variable:2\n",
      "Transforming variable:3\n",
      "Transforming variable:0\n",
      "Transforming variable:1\n",
      "Transforming variable:2\n",
      "Transforming variable:3\n"
     ]
    }
   ],
   "source": [
    "pen=1\n",
    "safe_transformer = SafeTransformer(model=surrogate_model, penalty=pen)\n",
    "\n",
    "safe_transformer = safe_transformer.fit(X_train)\n",
    "\n",
    "X_train_transformed = safe_transformer.transform(X_train)\n",
    "\n",
    "X_test_transformed = safe_transformer.transform(X_test)"
   ]
  },
  {
   "cell_type": "code",
   "execution_count": 99,
   "metadata": {},
   "outputs": [],
   "source": [
    "model_transformed = LogisticRegression()\n",
    "\n",
    "model_transformed = model_transformed.fit(X_train_transformed, y_train)\n",
    "\n",
    "surrogate_predictions = model_transformed.predict(X_test_transformed)"
   ]
  },
  {
   "cell_type": "code",
   "execution_count": 100,
   "metadata": {},
   "outputs": [
    {
     "name": "stdout",
     "output_type": "stream",
     "text": [
      "0.894736842105\n",
      "0.815789473684\n",
      "0.947368421053\n"
     ]
    }
   ],
   "source": [
    "print(accuracy_score(y_test, surrogate_predictions))\n",
    "print(accuracy_score(y_test, base_predictions))\n",
    "print(accuracy_score(y_test, surrogate_model.predict(X_test)))"
   ]
  },
  {
   "cell_type": "code",
   "execution_count": null,
   "metadata": {},
   "outputs": [],
   "source": []
  }
 ],
 "metadata": {
  "kernelspec": {
   "display_name": "Python 3",
   "language": "python",
   "name": "python3"
  },
  "language_info": {
   "codemirror_mode": {
    "name": "ipython",
    "version": 3
   },
   "file_extension": ".py",
   "mimetype": "text/x-python",
   "name": "python",
   "nbconvert_exporter": "python",
   "pygments_lexer": "ipython3",
   "version": "3.5.2"
  }
 },
 "nbformat": 4,
 "nbformat_minor": 2
}
